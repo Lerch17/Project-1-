{
 "cells": [
  {
   "cell_type": "code",
<<<<<<< HEAD
   "execution_count": 6,
=======
   "execution_count": 16,
>>>>>>> 33e35f241d23f05510413d5e7dfe539dcfe0fe49
   "metadata": {},
   "outputs": [
    {
     "data": {
<<<<<<< HEAD
      "application/javascript": [
       "(function(root) {\n",
       "  function now() {\n",
       "    return new Date();\n",
       "  }\n",
       "\n",
       "  var force = true;\n",
       "  var py_version = '3.4.1'.replace('rc', '-rc.').replace('.dev', '-dev.');\n",
       "  var reloading = false;\n",
       "  var Bokeh = root.Bokeh;\n",
       "\n",
       "  if (typeof (root._bokeh_timeout) === \"undefined\" || force) {\n",
       "    root._bokeh_timeout = Date.now() + 5000;\n",
       "    root._bokeh_failed_load = false;\n",
       "  }\n",
       "\n",
       "  function run_callbacks() {\n",
       "    try {\n",
       "      root._bokeh_onload_callbacks.forEach(function(callback) {\n",
       "        if (callback != null)\n",
       "          callback();\n",
       "      });\n",
       "    } finally {\n",
       "      delete root._bokeh_onload_callbacks;\n",
       "    }\n",
       "    console.debug(\"Bokeh: all callbacks have finished\");\n",
       "  }\n",
       "\n",
       "  function load_libs(css_urls, js_urls, js_modules, js_exports, callback) {\n",
       "    if (css_urls == null) css_urls = [];\n",
       "    if (js_urls == null) js_urls = [];\n",
       "    if (js_modules == null) js_modules = [];\n",
       "    if (js_exports == null) js_exports = {};\n",
       "\n",
       "    root._bokeh_onload_callbacks.push(callback);\n",
       "\n",
       "    if (root._bokeh_is_loading > 0) {\n",
       "      console.debug(\"Bokeh: BokehJS is being loaded, scheduling callback at\", now());\n",
       "      return null;\n",
       "    }\n",
       "    if (js_urls.length === 0 && js_modules.length === 0 && Object.keys(js_exports).length === 0) {\n",
       "      run_callbacks();\n",
       "      return null;\n",
       "    }\n",
       "    if (!reloading) {\n",
       "      console.debug(\"Bokeh: BokehJS not loaded, scheduling load and callback at\", now());\n",
       "    }\n",
       "\n",
       "    function on_load() {\n",
       "      root._bokeh_is_loading--;\n",
       "      if (root._bokeh_is_loading === 0) {\n",
       "        console.debug(\"Bokeh: all BokehJS libraries/stylesheets loaded\");\n",
       "        run_callbacks()\n",
       "      }\n",
       "    }\n",
       "    window._bokeh_on_load = on_load\n",
       "\n",
       "    function on_error() {\n",
       "      console.error(\"failed to load \" + url);\n",
       "    }\n",
       "\n",
       "    var skip = [];\n",
       "    if (window.requirejs) {\n",
       "      window.requirejs.config({'packages': {}, 'paths': {}, 'shim': {}});\n",
       "      root._bokeh_is_loading = css_urls.length + 0;\n",
       "    } else {\n",
       "      root._bokeh_is_loading = css_urls.length + js_urls.length + js_modules.length + Object.keys(js_exports).length;\n",
       "    }\n",
       "\n",
       "    var existing_stylesheets = []\n",
       "    var links = document.getElementsByTagName('link')\n",
       "    for (var i = 0; i < links.length; i++) {\n",
       "      var link = links[i]\n",
       "      if (link.href != null) {\n",
       "\texisting_stylesheets.push(link.href)\n",
       "      }\n",
       "    }\n",
       "    for (var i = 0; i < css_urls.length; i++) {\n",
       "      var url = css_urls[i];\n",
       "      if (existing_stylesheets.indexOf(url) !== -1) {\n",
       "\ton_load()\n",
       "\tcontinue;\n",
       "      }\n",
       "      const element = document.createElement(\"link\");\n",
       "      element.onload = on_load;\n",
       "      element.onerror = on_error;\n",
       "      element.rel = \"stylesheet\";\n",
       "      element.type = \"text/css\";\n",
       "      element.href = url;\n",
       "      console.debug(\"Bokeh: injecting link tag for BokehJS stylesheet: \", url);\n",
       "      document.body.appendChild(element);\n",
       "    }    var existing_scripts = []\n",
       "    var scripts = document.getElementsByTagName('script')\n",
       "    for (var i = 0; i < scripts.length; i++) {\n",
       "      var script = scripts[i]\n",
       "      if (script.src != null) {\n",
       "\texisting_scripts.push(script.src)\n",
       "      }\n",
       "    }\n",
       "    for (var i = 0; i < js_urls.length; i++) {\n",
       "      var url = js_urls[i];\n",
       "      if (skip.indexOf(url) !== -1 || existing_scripts.indexOf(url) !== -1) {\n",
       "\tif (!window.requirejs) {\n",
       "\t  on_load();\n",
       "\t}\n",
       "\tcontinue;\n",
       "      }\n",
       "      var element = document.createElement('script');\n",
       "      element.onload = on_load;\n",
       "      element.onerror = on_error;\n",
       "      element.async = false;\n",
       "      element.src = url;\n",
       "      console.debug(\"Bokeh: injecting script tag for BokehJS library: \", url);\n",
       "      document.head.appendChild(element);\n",
       "    }\n",
       "    for (var i = 0; i < js_modules.length; i++) {\n",
       "      var url = js_modules[i];\n",
       "      if (skip.indexOf(url) !== -1 || existing_scripts.indexOf(url) !== -1) {\n",
       "\tif (!window.requirejs) {\n",
       "\t  on_load();\n",
       "\t}\n",
       "\tcontinue;\n",
       "      }\n",
       "      var element = document.createElement('script');\n",
       "      element.onload = on_load;\n",
       "      element.onerror = on_error;\n",
       "      element.async = false;\n",
       "      element.src = url;\n",
       "      element.type = \"module\";\n",
       "      console.debug(\"Bokeh: injecting script tag for BokehJS library: \", url);\n",
       "      document.head.appendChild(element);\n",
       "    }\n",
       "    for (const name in js_exports) {\n",
       "      var url = js_exports[name];\n",
       "      if (skip.indexOf(url) >= 0 || root[name] != null) {\n",
       "\tif (!window.requirejs) {\n",
       "\t  on_load();\n",
       "\t}\n",
       "\tcontinue;\n",
       "      }\n",
       "      var element = document.createElement('script');\n",
       "      element.onerror = on_error;\n",
       "      element.async = false;\n",
       "      element.type = \"module\";\n",
       "      console.debug(\"Bokeh: injecting script tag for BokehJS library: \", url);\n",
       "      element.textContent = `\n",
       "      import ${name} from \"${url}\"\n",
       "      window.${name} = ${name}\n",
       "      window._bokeh_on_load()\n",
       "      `\n",
       "      document.head.appendChild(element);\n",
       "    }\n",
       "    if (!js_urls.length && !js_modules.length) {\n",
       "      on_load()\n",
       "    }\n",
       "  };\n",
       "\n",
       "  function inject_raw_css(css) {\n",
       "    const element = document.createElement(\"style\");\n",
       "    element.appendChild(document.createTextNode(css));\n",
       "    document.body.appendChild(element);\n",
       "  }\n",
       "\n",
       "  var js_urls = [\"https://cdn.bokeh.org/bokeh/release/bokeh-3.4.1.min.js\", \"https://cdn.bokeh.org/bokeh/release/bokeh-gl-3.4.1.min.js\", \"https://cdn.bokeh.org/bokeh/release/bokeh-widgets-3.4.1.min.js\", \"https://cdn.bokeh.org/bokeh/release/bokeh-tables-3.4.1.min.js\", \"https://cdn.holoviz.org/panel/1.4.4/dist/panel.min.js\"];\n",
       "  var js_modules = [];\n",
       "  var js_exports = {};\n",
       "  var css_urls = [];\n",
       "  var inline_js = [    function(Bokeh) {\n",
       "      Bokeh.set_log_level(\"info\");\n",
       "    },\n",
       "function(Bokeh) {} // ensure no trailing comma for IE\n",
       "  ];\n",
       "\n",
       "  function run_inline_js() {\n",
       "    if ((root.Bokeh !== undefined) || (force === true)) {\n",
       "      for (var i = 0; i < inline_js.length; i++) {\n",
       "\ttry {\n",
       "          inline_js[i].call(root, root.Bokeh);\n",
       "\t} catch(e) {\n",
       "\t  if (!reloading) {\n",
       "\t    throw e;\n",
       "\t  }\n",
       "\t}\n",
       "      }\n",
       "      // Cache old bokeh versions\n",
       "      if (Bokeh != undefined && !reloading) {\n",
       "\tvar NewBokeh = root.Bokeh;\n",
       "\tif (Bokeh.versions === undefined) {\n",
       "\t  Bokeh.versions = new Map();\n",
       "\t}\n",
       "\tif (NewBokeh.version !== Bokeh.version) {\n",
       "\t  Bokeh.versions.set(NewBokeh.version, NewBokeh)\n",
       "\t}\n",
       "\troot.Bokeh = Bokeh;\n",
       "      }} else if (Date.now() < root._bokeh_timeout) {\n",
       "      setTimeout(run_inline_js, 100);\n",
       "    } else if (!root._bokeh_failed_load) {\n",
       "      console.log(\"Bokeh: BokehJS failed to load within specified timeout.\");\n",
       "      root._bokeh_failed_load = true;\n",
       "    }\n",
       "    root._bokeh_is_initializing = false\n",
       "  }\n",
       "\n",
       "  function load_or_wait() {\n",
       "    // Implement a backoff loop that tries to ensure we do not load multiple\n",
       "    // versions of Bokeh and its dependencies at the same time.\n",
       "    // In recent versions we use the root._bokeh_is_initializing flag\n",
       "    // to determine whether there is an ongoing attempt to initialize\n",
       "    // bokeh, however for backward compatibility we also try to ensure\n",
       "    // that we do not start loading a newer (Panel>=1.0 and Bokeh>3) version\n",
       "    // before older versions are fully initialized.\n",
       "    if (root._bokeh_is_initializing && Date.now() > root._bokeh_timeout) {\n",
       "      root._bokeh_is_initializing = false;\n",
       "      root._bokeh_onload_callbacks = undefined;\n",
       "      console.log(\"Bokeh: BokehJS was loaded multiple times but one version failed to initialize.\");\n",
       "      load_or_wait();\n",
       "    } else if (root._bokeh_is_initializing || (typeof root._bokeh_is_initializing === \"undefined\" && root._bokeh_onload_callbacks !== undefined)) {\n",
       "      setTimeout(load_or_wait, 100);\n",
       "    } else {\n",
       "      root._bokeh_is_initializing = true\n",
       "      root._bokeh_onload_callbacks = []\n",
       "      var bokeh_loaded = Bokeh != null && (Bokeh.version === py_version || (Bokeh.versions !== undefined && Bokeh.versions.has(py_version)));\n",
       "      if (!reloading && !bokeh_loaded) {\n",
       "\troot.Bokeh = undefined;\n",
       "      }\n",
       "      load_libs(css_urls, js_urls, js_modules, js_exports, function() {\n",
       "\tconsole.debug(\"Bokeh: BokehJS plotting callback run at\", now());\n",
       "\trun_inline_js();\n",
       "      });\n",
       "    }\n",
       "  }\n",
       "  // Give older versions of the autoload script a head-start to ensure\n",
       "  // they initialize before we start loading newer version.\n",
       "  setTimeout(load_or_wait, 100)\n",
       "}(window));"
      ],
      "application/vnd.holoviews_load.v0+json": "(function(root) {\n  function now() {\n    return new Date();\n  }\n\n  var force = true;\n  var py_version = '3.4.1'.replace('rc', '-rc.').replace('.dev', '-dev.');\n  var reloading = false;\n  var Bokeh = root.Bokeh;\n\n  if (typeof (root._bokeh_timeout) === \"undefined\" || force) {\n    root._bokeh_timeout = Date.now() + 5000;\n    root._bokeh_failed_load = false;\n  }\n\n  function run_callbacks() {\n    try {\n      root._bokeh_onload_callbacks.forEach(function(callback) {\n        if (callback != null)\n          callback();\n      });\n    } finally {\n      delete root._bokeh_onload_callbacks;\n    }\n    console.debug(\"Bokeh: all callbacks have finished\");\n  }\n\n  function load_libs(css_urls, js_urls, js_modules, js_exports, callback) {\n    if (css_urls == null) css_urls = [];\n    if (js_urls == null) js_urls = [];\n    if (js_modules == null) js_modules = [];\n    if (js_exports == null) js_exports = {};\n\n    root._bokeh_onload_callbacks.push(callback);\n\n    if (root._bokeh_is_loading > 0) {\n      console.debug(\"Bokeh: BokehJS is being loaded, scheduling callback at\", now());\n      return null;\n    }\n    if (js_urls.length === 0 && js_modules.length === 0 && Object.keys(js_exports).length === 0) {\n      run_callbacks();\n      return null;\n    }\n    if (!reloading) {\n      console.debug(\"Bokeh: BokehJS not loaded, scheduling load and callback at\", now());\n    }\n\n    function on_load() {\n      root._bokeh_is_loading--;\n      if (root._bokeh_is_loading === 0) {\n        console.debug(\"Bokeh: all BokehJS libraries/stylesheets loaded\");\n        run_callbacks()\n      }\n    }\n    window._bokeh_on_load = on_load\n\n    function on_error() {\n      console.error(\"failed to load \" + url);\n    }\n\n    var skip = [];\n    if (window.requirejs) {\n      window.requirejs.config({'packages': {}, 'paths': {}, 'shim': {}});\n      root._bokeh_is_loading = css_urls.length + 0;\n    } else {\n      root._bokeh_is_loading = css_urls.length + js_urls.length + js_modules.length + Object.keys(js_exports).length;\n    }\n\n    var existing_stylesheets = []\n    var links = document.getElementsByTagName('link')\n    for (var i = 0; i < links.length; i++) {\n      var link = links[i]\n      if (link.href != null) {\n\texisting_stylesheets.push(link.href)\n      }\n    }\n    for (var i = 0; i < css_urls.length; i++) {\n      var url = css_urls[i];\n      if (existing_stylesheets.indexOf(url) !== -1) {\n\ton_load()\n\tcontinue;\n      }\n      const element = document.createElement(\"link\");\n      element.onload = on_load;\n      element.onerror = on_error;\n      element.rel = \"stylesheet\";\n      element.type = \"text/css\";\n      element.href = url;\n      console.debug(\"Bokeh: injecting link tag for BokehJS stylesheet: \", url);\n      document.body.appendChild(element);\n    }    var existing_scripts = []\n    var scripts = document.getElementsByTagName('script')\n    for (var i = 0; i < scripts.length; i++) {\n      var script = scripts[i]\n      if (script.src != null) {\n\texisting_scripts.push(script.src)\n      }\n    }\n    for (var i = 0; i < js_urls.length; i++) {\n      var url = js_urls[i];\n      if (skip.indexOf(url) !== -1 || existing_scripts.indexOf(url) !== -1) {\n\tif (!window.requirejs) {\n\t  on_load();\n\t}\n\tcontinue;\n      }\n      var element = document.createElement('script');\n      element.onload = on_load;\n      element.onerror = on_error;\n      element.async = false;\n      element.src = url;\n      console.debug(\"Bokeh: injecting script tag for BokehJS library: \", url);\n      document.head.appendChild(element);\n    }\n    for (var i = 0; i < js_modules.length; i++) {\n      var url = js_modules[i];\n      if (skip.indexOf(url) !== -1 || existing_scripts.indexOf(url) !== -1) {\n\tif (!window.requirejs) {\n\t  on_load();\n\t}\n\tcontinue;\n      }\n      var element = document.createElement('script');\n      element.onload = on_load;\n      element.onerror = on_error;\n      element.async = false;\n      element.src = url;\n      element.type = \"module\";\n      console.debug(\"Bokeh: injecting script tag for BokehJS library: \", url);\n      document.head.appendChild(element);\n    }\n    for (const name in js_exports) {\n      var url = js_exports[name];\n      if (skip.indexOf(url) >= 0 || root[name] != null) {\n\tif (!window.requirejs) {\n\t  on_load();\n\t}\n\tcontinue;\n      }\n      var element = document.createElement('script');\n      element.onerror = on_error;\n      element.async = false;\n      element.type = \"module\";\n      console.debug(\"Bokeh: injecting script tag for BokehJS library: \", url);\n      element.textContent = `\n      import ${name} from \"${url}\"\n      window.${name} = ${name}\n      window._bokeh_on_load()\n      `\n      document.head.appendChild(element);\n    }\n    if (!js_urls.length && !js_modules.length) {\n      on_load()\n    }\n  };\n\n  function inject_raw_css(css) {\n    const element = document.createElement(\"style\");\n    element.appendChild(document.createTextNode(css));\n    document.body.appendChild(element);\n  }\n\n  var js_urls = [\"https://cdn.bokeh.org/bokeh/release/bokeh-3.4.1.min.js\", \"https://cdn.bokeh.org/bokeh/release/bokeh-gl-3.4.1.min.js\", \"https://cdn.bokeh.org/bokeh/release/bokeh-widgets-3.4.1.min.js\", \"https://cdn.bokeh.org/bokeh/release/bokeh-tables-3.4.1.min.js\", \"https://cdn.holoviz.org/panel/1.4.4/dist/panel.min.js\"];\n  var js_modules = [];\n  var js_exports = {};\n  var css_urls = [];\n  var inline_js = [    function(Bokeh) {\n      Bokeh.set_log_level(\"info\");\n    },\nfunction(Bokeh) {} // ensure no trailing comma for IE\n  ];\n\n  function run_inline_js() {\n    if ((root.Bokeh !== undefined) || (force === true)) {\n      for (var i = 0; i < inline_js.length; i++) {\n\ttry {\n          inline_js[i].call(root, root.Bokeh);\n\t} catch(e) {\n\t  if (!reloading) {\n\t    throw e;\n\t  }\n\t}\n      }\n      // Cache old bokeh versions\n      if (Bokeh != undefined && !reloading) {\n\tvar NewBokeh = root.Bokeh;\n\tif (Bokeh.versions === undefined) {\n\t  Bokeh.versions = new Map();\n\t}\n\tif (NewBokeh.version !== Bokeh.version) {\n\t  Bokeh.versions.set(NewBokeh.version, NewBokeh)\n\t}\n\troot.Bokeh = Bokeh;\n      }} else if (Date.now() < root._bokeh_timeout) {\n      setTimeout(run_inline_js, 100);\n    } else if (!root._bokeh_failed_load) {\n      console.log(\"Bokeh: BokehJS failed to load within specified timeout.\");\n      root._bokeh_failed_load = true;\n    }\n    root._bokeh_is_initializing = false\n  }\n\n  function load_or_wait() {\n    // Implement a backoff loop that tries to ensure we do not load multiple\n    // versions of Bokeh and its dependencies at the same time.\n    // In recent versions we use the root._bokeh_is_initializing flag\n    // to determine whether there is an ongoing attempt to initialize\n    // bokeh, however for backward compatibility we also try to ensure\n    // that we do not start loading a newer (Panel>=1.0 and Bokeh>3) version\n    // before older versions are fully initialized.\n    if (root._bokeh_is_initializing && Date.now() > root._bokeh_timeout) {\n      root._bokeh_is_initializing = false;\n      root._bokeh_onload_callbacks = undefined;\n      console.log(\"Bokeh: BokehJS was loaded multiple times but one version failed to initialize.\");\n      load_or_wait();\n    } else if (root._bokeh_is_initializing || (typeof root._bokeh_is_initializing === \"undefined\" && root._bokeh_onload_callbacks !== undefined)) {\n      setTimeout(load_or_wait, 100);\n    } else {\n      root._bokeh_is_initializing = true\n      root._bokeh_onload_callbacks = []\n      var bokeh_loaded = Bokeh != null && (Bokeh.version === py_version || (Bokeh.versions !== undefined && Bokeh.versions.has(py_version)));\n      if (!reloading && !bokeh_loaded) {\n\troot.Bokeh = undefined;\n      }\n      load_libs(css_urls, js_urls, js_modules, js_exports, function() {\n\tconsole.debug(\"Bokeh: BokehJS plotting callback run at\", now());\n\trun_inline_js();\n      });\n    }\n  }\n  // Give older versions of the autoload script a head-start to ensure\n  // they initialize before we start loading newer version.\n  setTimeout(load_or_wait, 100)\n}(window));"
=======
      "application/javascript": "(function(root) {\n  function now() {\n    return new Date();\n  }\n\n  var force = true;\n  var py_version = '3.4.1'.replace('rc', '-rc.').replace('.dev', '-dev.');\n  var reloading = false;\n  var Bokeh = root.Bokeh;\n\n  if (typeof (root._bokeh_timeout) === \"undefined\" || force) {\n    root._bokeh_timeout = Date.now() + 5000;\n    root._bokeh_failed_load = false;\n  }\n\n  function run_callbacks() {\n    try {\n      root._bokeh_onload_callbacks.forEach(function(callback) {\n        if (callback != null)\n          callback();\n      });\n    } finally {\n      delete root._bokeh_onload_callbacks;\n    }\n    console.debug(\"Bokeh: all callbacks have finished\");\n  }\n\n  function load_libs(css_urls, js_urls, js_modules, js_exports, callback) {\n    if (css_urls == null) css_urls = [];\n    if (js_urls == null) js_urls = [];\n    if (js_modules == null) js_modules = [];\n    if (js_exports == null) js_exports = {};\n\n    root._bokeh_onload_callbacks.push(callback);\n\n    if (root._bokeh_is_loading > 0) {\n      console.debug(\"Bokeh: BokehJS is being loaded, scheduling callback at\", now());\n      return null;\n    }\n    if (js_urls.length === 0 && js_modules.length === 0 && Object.keys(js_exports).length === 0) {\n      run_callbacks();\n      return null;\n    }\n    if (!reloading) {\n      console.debug(\"Bokeh: BokehJS not loaded, scheduling load and callback at\", now());\n    }\n\n    function on_load() {\n      root._bokeh_is_loading--;\n      if (root._bokeh_is_loading === 0) {\n        console.debug(\"Bokeh: all BokehJS libraries/stylesheets loaded\");\n        run_callbacks()\n      }\n    }\n    window._bokeh_on_load = on_load\n\n    function on_error() {\n      console.error(\"failed to load \" + url);\n    }\n\n    var skip = [];\n    if (window.requirejs) {\n      window.requirejs.config({'packages': {}, 'paths': {}, 'shim': {}});\n      root._bokeh_is_loading = css_urls.length + 0;\n    } else {\n      root._bokeh_is_loading = css_urls.length + js_urls.length + js_modules.length + Object.keys(js_exports).length;\n    }\n\n    var existing_stylesheets = []\n    var links = document.getElementsByTagName('link')\n    for (var i = 0; i < links.length; i++) {\n      var link = links[i]\n      if (link.href != null) {\n\texisting_stylesheets.push(link.href)\n      }\n    }\n    for (var i = 0; i < css_urls.length; i++) {\n      var url = css_urls[i];\n      if (existing_stylesheets.indexOf(url) !== -1) {\n\ton_load()\n\tcontinue;\n      }\n      const element = document.createElement(\"link\");\n      element.onload = on_load;\n      element.onerror = on_error;\n      element.rel = \"stylesheet\";\n      element.type = \"text/css\";\n      element.href = url;\n      console.debug(\"Bokeh: injecting link tag for BokehJS stylesheet: \", url);\n      document.body.appendChild(element);\n    }    var existing_scripts = []\n    var scripts = document.getElementsByTagName('script')\n    for (var i = 0; i < scripts.length; i++) {\n      var script = scripts[i]\n      if (script.src != null) {\n\texisting_scripts.push(script.src)\n      }\n    }\n    for (var i = 0; i < js_urls.length; i++) {\n      var url = js_urls[i];\n      if (skip.indexOf(url) !== -1 || existing_scripts.indexOf(url) !== -1) {\n\tif (!window.requirejs) {\n\t  on_load();\n\t}\n\tcontinue;\n      }\n      var element = document.createElement('script');\n      element.onload = on_load;\n      element.onerror = on_error;\n      element.async = false;\n      element.src = url;\n      console.debug(\"Bokeh: injecting script tag for BokehJS library: \", url);\n      document.head.appendChild(element);\n    }\n    for (var i = 0; i < js_modules.length; i++) {\n      var url = js_modules[i];\n      if (skip.indexOf(url) !== -1 || existing_scripts.indexOf(url) !== -1) {\n\tif (!window.requirejs) {\n\t  on_load();\n\t}\n\tcontinue;\n      }\n      var element = document.createElement('script');\n      element.onload = on_load;\n      element.onerror = on_error;\n      element.async = false;\n      element.src = url;\n      element.type = \"module\";\n      console.debug(\"Bokeh: injecting script tag for BokehJS library: \", url);\n      document.head.appendChild(element);\n    }\n    for (const name in js_exports) {\n      var url = js_exports[name];\n      if (skip.indexOf(url) >= 0 || root[name] != null) {\n\tif (!window.requirejs) {\n\t  on_load();\n\t}\n\tcontinue;\n      }\n      var element = document.createElement('script');\n      element.onerror = on_error;\n      element.async = false;\n      element.type = \"module\";\n      console.debug(\"Bokeh: injecting script tag for BokehJS library: \", url);\n      element.textContent = `\n      import ${name} from \"${url}\"\n      window.${name} = ${name}\n      window._bokeh_on_load()\n      `\n      document.head.appendChild(element);\n    }\n    if (!js_urls.length && !js_modules.length) {\n      on_load()\n    }\n  };\n\n  function inject_raw_css(css) {\n    const element = document.createElement(\"style\");\n    element.appendChild(document.createTextNode(css));\n    document.body.appendChild(element);\n  }\n\n  var js_urls = [\"https://cdn.bokeh.org/bokeh/release/bokeh-3.4.1.min.js\", \"https://cdn.bokeh.org/bokeh/release/bokeh-gl-3.4.1.min.js\", \"https://cdn.bokeh.org/bokeh/release/bokeh-widgets-3.4.1.min.js\", \"https://cdn.bokeh.org/bokeh/release/bokeh-tables-3.4.1.min.js\", \"https://cdn.holoviz.org/panel/1.4.4/dist/panel.min.js\"];\n  var js_modules = [];\n  var js_exports = {};\n  var css_urls = [];\n  var inline_js = [    function(Bokeh) {\n      Bokeh.set_log_level(\"info\");\n    },\nfunction(Bokeh) {} // ensure no trailing comma for IE\n  ];\n\n  function run_inline_js() {\n    if ((root.Bokeh !== undefined) || (force === true)) {\n      for (var i = 0; i < inline_js.length; i++) {\n\ttry {\n          inline_js[i].call(root, root.Bokeh);\n\t} catch(e) {\n\t  if (!reloading) {\n\t    throw e;\n\t  }\n\t}\n      }\n      // Cache old bokeh versions\n      if (Bokeh != undefined && !reloading) {\n\tvar NewBokeh = root.Bokeh;\n\tif (Bokeh.versions === undefined) {\n\t  Bokeh.versions = new Map();\n\t}\n\tif (NewBokeh.version !== Bokeh.version) {\n\t  Bokeh.versions.set(NewBokeh.version, NewBokeh)\n\t}\n\troot.Bokeh = Bokeh;\n      }} else if (Date.now() < root._bokeh_timeout) {\n      setTimeout(run_inline_js, 100);\n    } else if (!root._bokeh_failed_load) {\n      console.log(\"Bokeh: BokehJS failed to load within specified timeout.\");\n      root._bokeh_failed_load = true;\n    }\n    root._bokeh_is_initializing = false\n  }\n\n  function load_or_wait() {\n    // Implement a backoff loop that tries to ensure we do not load multiple\n    // versions of Bokeh and its dependencies at the same time.\n    // In recent versions we use the root._bokeh_is_initializing flag\n    // to determine whether there is an ongoing attempt to initialize\n    // bokeh, however for backward compatibility we also try to ensure\n    // that we do not start loading a newer (Panel>=1.0 and Bokeh>3) version\n    // before older versions are fully initialized.\n    if (root._bokeh_is_initializing && Date.now() > root._bokeh_timeout) {\n      root._bokeh_is_initializing = false;\n      root._bokeh_onload_callbacks = undefined;\n      console.log(\"Bokeh: BokehJS was loaded multiple times but one version failed to initialize.\");\n      load_or_wait();\n    } else if (root._bokeh_is_initializing || (typeof root._bokeh_is_initializing === \"undefined\" && root._bokeh_onload_callbacks !== undefined)) {\n      setTimeout(load_or_wait, 100);\n    } else {\n      root._bokeh_is_initializing = true\n      root._bokeh_onload_callbacks = []\n      var bokeh_loaded = Bokeh != null && (Bokeh.version === py_version || (Bokeh.versions !== undefined && Bokeh.versions.has(py_version)));\n      if (!reloading && !bokeh_loaded) {\n\troot.Bokeh = undefined;\n      }\n      load_libs(css_urls, js_urls, js_modules, js_exports, function() {\n\tconsole.debug(\"Bokeh: BokehJS plotting callback run at\", now());\n\trun_inline_js();\n      });\n    }\n  }\n  // Give older versions of the autoload script a head-start to ensure\n  // they initialize before we start loading newer version.\n  setTimeout(load_or_wait, 100)\n}(window));",
      "application/vnd.holoviews_load.v0+json": ""
>>>>>>> 35eb337 (Adding in the work cody did on histograms)
     },
     "metadata": {},
     "output_type": "display_data"
    },
    {
     "data": {
<<<<<<< HEAD
      "application/javascript": [
       "\n",
       "if ((window.PyViz === undefined) || (window.PyViz instanceof HTMLElement)) {\n",
       "  window.PyViz = {comms: {}, comm_status:{}, kernels:{}, receivers: {}, plot_index: []}\n",
       "}\n",
       "\n",
       "\n",
       "    function JupyterCommManager() {\n",
       "    }\n",
       "\n",
       "    JupyterCommManager.prototype.register_target = function(plot_id, comm_id, msg_handler) {\n",
       "      if (window.comm_manager || ((window.Jupyter !== undefined) && (Jupyter.notebook.kernel != null))) {\n",
       "        var comm_manager = window.comm_manager || Jupyter.notebook.kernel.comm_manager;\n",
       "        comm_manager.register_target(comm_id, function(comm) {\n",
       "          comm.on_msg(msg_handler);\n",
       "        });\n",
       "      } else if ((plot_id in window.PyViz.kernels) && (window.PyViz.kernels[plot_id])) {\n",
       "        window.PyViz.kernels[plot_id].registerCommTarget(comm_id, function(comm) {\n",
       "          comm.onMsg = msg_handler;\n",
       "        });\n",
       "      } else if (typeof google != 'undefined' && google.colab.kernel != null) {\n",
       "        google.colab.kernel.comms.registerTarget(comm_id, (comm) => {\n",
       "          var messages = comm.messages[Symbol.asyncIterator]();\n",
       "          function processIteratorResult(result) {\n",
       "            var message = result.value;\n",
       "            console.log(message)\n",
       "            var content = {data: message.data, comm_id};\n",
       "            var buffers = []\n",
       "            for (var buffer of message.buffers || []) {\n",
       "              buffers.push(new DataView(buffer))\n",
       "            }\n",
       "            var metadata = message.metadata || {};\n",
       "            var msg = {content, buffers, metadata}\n",
       "            msg_handler(msg);\n",
       "            return messages.next().then(processIteratorResult);\n",
       "          }\n",
       "          return messages.next().then(processIteratorResult);\n",
       "        })\n",
       "      }\n",
       "    }\n",
       "\n",
       "    JupyterCommManager.prototype.get_client_comm = function(plot_id, comm_id, msg_handler) {\n",
       "      if (comm_id in window.PyViz.comms) {\n",
       "        return window.PyViz.comms[comm_id];\n",
       "      } else if (window.comm_manager || ((window.Jupyter !== undefined) && (Jupyter.notebook.kernel != null))) {\n",
       "        var comm_manager = window.comm_manager || Jupyter.notebook.kernel.comm_manager;\n",
       "        var comm = comm_manager.new_comm(comm_id, {}, {}, {}, comm_id);\n",
       "        if (msg_handler) {\n",
       "          comm.on_msg(msg_handler);\n",
       "        }\n",
       "      } else if ((plot_id in window.PyViz.kernels) && (window.PyViz.kernels[plot_id])) {\n",
       "        var comm = window.PyViz.kernels[plot_id].connectToComm(comm_id);\n",
       "        comm.open();\n",
       "        if (msg_handler) {\n",
       "          comm.onMsg = msg_handler;\n",
       "        }\n",
       "      } else if (typeof google != 'undefined' && google.colab.kernel != null) {\n",
       "        var comm_promise = google.colab.kernel.comms.open(comm_id)\n",
       "        comm_promise.then((comm) => {\n",
       "          window.PyViz.comms[comm_id] = comm;\n",
       "          if (msg_handler) {\n",
       "            var messages = comm.messages[Symbol.asyncIterator]();\n",
       "            function processIteratorResult(result) {\n",
       "              var message = result.value;\n",
       "              var content = {data: message.data};\n",
       "              var metadata = message.metadata || {comm_id};\n",
       "              var msg = {content, metadata}\n",
       "              msg_handler(msg);\n",
       "              return messages.next().then(processIteratorResult);\n",
       "            }\n",
       "            return messages.next().then(processIteratorResult);\n",
       "          }\n",
       "        }) \n",
       "        var sendClosure = (data, metadata, buffers, disposeOnDone) => {\n",
       "          return comm_promise.then((comm) => {\n",
       "            comm.send(data, metadata, buffers, disposeOnDone);\n",
       "          });\n",
       "        };\n",
       "        var comm = {\n",
       "          send: sendClosure\n",
       "        };\n",
       "      }\n",
       "      window.PyViz.comms[comm_id] = comm;\n",
       "      return comm;\n",
       "    }\n",
       "    window.PyViz.comm_manager = new JupyterCommManager();\n",
       "    \n",
       "\n",
       "\n",
       "var JS_MIME_TYPE = 'application/javascript';\n",
       "var HTML_MIME_TYPE = 'text/html';\n",
       "var EXEC_MIME_TYPE = 'application/vnd.holoviews_exec.v0+json';\n",
       "var CLASS_NAME = 'output';\n",
       "\n",
       "/**\n",
       " * Render data to the DOM node\n",
       " */\n",
       "function render(props, node) {\n",
       "  var div = document.createElement(\"div\");\n",
       "  var script = document.createElement(\"script\");\n",
       "  node.appendChild(div);\n",
       "  node.appendChild(script);\n",
       "}\n",
       "\n",
       "/**\n",
       " * Handle when a new output is added\n",
       " */\n",
       "function handle_add_output(event, handle) {\n",
       "  var output_area = handle.output_area;\n",
       "  var output = handle.output;\n",
       "  if ((output.data == undefined) || (!output.data.hasOwnProperty(EXEC_MIME_TYPE))) {\n",
       "    return\n",
       "  }\n",
       "  var id = output.metadata[EXEC_MIME_TYPE][\"id\"];\n",
       "  var toinsert = output_area.element.find(\".\" + CLASS_NAME.split(' ')[0]);\n",
       "  if (id !== undefined) {\n",
       "    var nchildren = toinsert.length;\n",
       "    var html_node = toinsert[nchildren-1].children[0];\n",
       "    html_node.innerHTML = output.data[HTML_MIME_TYPE];\n",
       "    var scripts = [];\n",
       "    var nodelist = html_node.querySelectorAll(\"script\");\n",
       "    for (var i in nodelist) {\n",
       "      if (nodelist.hasOwnProperty(i)) {\n",
       "        scripts.push(nodelist[i])\n",
       "      }\n",
       "    }\n",
       "\n",
       "    scripts.forEach( function (oldScript) {\n",
       "      var newScript = document.createElement(\"script\");\n",
       "      var attrs = [];\n",
       "      var nodemap = oldScript.attributes;\n",
       "      for (var j in nodemap) {\n",
       "        if (nodemap.hasOwnProperty(j)) {\n",
       "          attrs.push(nodemap[j])\n",
       "        }\n",
       "      }\n",
       "      attrs.forEach(function(attr) { newScript.setAttribute(attr.name, attr.value) });\n",
       "      newScript.appendChild(document.createTextNode(oldScript.innerHTML));\n",
       "      oldScript.parentNode.replaceChild(newScript, oldScript);\n",
       "    });\n",
       "    if (JS_MIME_TYPE in output.data) {\n",
       "      toinsert[nchildren-1].children[1].textContent = output.data[JS_MIME_TYPE];\n",
       "    }\n",
       "    output_area._hv_plot_id = id;\n",
       "    if ((window.Bokeh !== undefined) && (id in Bokeh.index)) {\n",
       "      window.PyViz.plot_index[id] = Bokeh.index[id];\n",
       "    } else {\n",
       "      window.PyViz.plot_index[id] = null;\n",
       "    }\n",
       "  } else if (output.metadata[EXEC_MIME_TYPE][\"server_id\"] !== undefined) {\n",
       "    var bk_div = document.createElement(\"div\");\n",
       "    bk_div.innerHTML = output.data[HTML_MIME_TYPE];\n",
       "    var script_attrs = bk_div.children[0].attributes;\n",
       "    for (var i = 0; i < script_attrs.length; i++) {\n",
       "      toinsert[toinsert.length - 1].childNodes[1].setAttribute(script_attrs[i].name, script_attrs[i].value);\n",
       "    }\n",
       "    // store reference to server id on output_area\n",
       "    output_area._bokeh_server_id = output.metadata[EXEC_MIME_TYPE][\"server_id\"];\n",
       "  }\n",
       "}\n",
       "\n",
       "/**\n",
       " * Handle when an output is cleared or removed\n",
       " */\n",
       "function handle_clear_output(event, handle) {\n",
       "  var id = handle.cell.output_area._hv_plot_id;\n",
       "  var server_id = handle.cell.output_area._bokeh_server_id;\n",
       "  if (((id === undefined) || !(id in PyViz.plot_index)) && (server_id !== undefined)) { return; }\n",
       "  var comm = window.PyViz.comm_manager.get_client_comm(\"hv-extension-comm\", \"hv-extension-comm\", function () {});\n",
       "  if (server_id !== null) {\n",
       "    comm.send({event_type: 'server_delete', 'id': server_id});\n",
       "    return;\n",
       "  } else if (comm !== null) {\n",
       "    comm.send({event_type: 'delete', 'id': id});\n",
       "  }\n",
       "  delete PyViz.plot_index[id];\n",
       "  if ((window.Bokeh !== undefined) & (id in window.Bokeh.index)) {\n",
       "    var doc = window.Bokeh.index[id].model.document\n",
       "    doc.clear();\n",
       "    const i = window.Bokeh.documents.indexOf(doc);\n",
       "    if (i > -1) {\n",
       "      window.Bokeh.documents.splice(i, 1);\n",
       "    }\n",
       "  }\n",
       "}\n",
       "\n",
       "/**\n",
       " * Handle kernel restart event\n",
       " */\n",
       "function handle_kernel_cleanup(event, handle) {\n",
       "  delete PyViz.comms[\"hv-extension-comm\"];\n",
       "  window.PyViz.plot_index = {}\n",
       "}\n",
       "\n",
       "/**\n",
       " * Handle update_display_data messages\n",
       " */\n",
       "function handle_update_output(event, handle) {\n",
       "  handle_clear_output(event, {cell: {output_area: handle.output_area}})\n",
       "  handle_add_output(event, handle)\n",
       "}\n",
       "\n",
       "function register_renderer(events, OutputArea) {\n",
       "  function append_mime(data, metadata, element) {\n",
       "    // create a DOM node to render to\n",
       "    var toinsert = this.create_output_subarea(\n",
       "    metadata,\n",
       "    CLASS_NAME,\n",
       "    EXEC_MIME_TYPE\n",
       "    );\n",
       "    this.keyboard_manager.register_events(toinsert);\n",
       "    // Render to node\n",
       "    var props = {data: data, metadata: metadata[EXEC_MIME_TYPE]};\n",
       "    render(props, toinsert[0]);\n",
       "    element.append(toinsert);\n",
       "    return toinsert\n",
       "  }\n",
       "\n",
       "  events.on('output_added.OutputArea', handle_add_output);\n",
       "  events.on('output_updated.OutputArea', handle_update_output);\n",
       "  events.on('clear_output.CodeCell', handle_clear_output);\n",
       "  events.on('delete.Cell', handle_clear_output);\n",
       "  events.on('kernel_ready.Kernel', handle_kernel_cleanup);\n",
       "\n",
       "  OutputArea.prototype.register_mime_type(EXEC_MIME_TYPE, append_mime, {\n",
       "    safe: true,\n",
       "    index: 0\n",
       "  });\n",
       "}\n",
       "\n",
       "if (window.Jupyter !== undefined) {\n",
       "  try {\n",
       "    var events = require('base/js/events');\n",
       "    var OutputArea = require('notebook/js/outputarea').OutputArea;\n",
       "    if (OutputArea.prototype.mime_types().indexOf(EXEC_MIME_TYPE) == -1) {\n",
       "      register_renderer(events, OutputArea);\n",
       "    }\n",
       "  } catch(err) {\n",
       "  }\n",
       "}\n"
      ],
      "application/vnd.holoviews_load.v0+json": "\nif ((window.PyViz === undefined) || (window.PyViz instanceof HTMLElement)) {\n  window.PyViz = {comms: {}, comm_status:{}, kernels:{}, receivers: {}, plot_index: []}\n}\n\n\n    function JupyterCommManager() {\n    }\n\n    JupyterCommManager.prototype.register_target = function(plot_id, comm_id, msg_handler) {\n      if (window.comm_manager || ((window.Jupyter !== undefined) && (Jupyter.notebook.kernel != null))) {\n        var comm_manager = window.comm_manager || Jupyter.notebook.kernel.comm_manager;\n        comm_manager.register_target(comm_id, function(comm) {\n          comm.on_msg(msg_handler);\n        });\n      } else if ((plot_id in window.PyViz.kernels) && (window.PyViz.kernels[plot_id])) {\n        window.PyViz.kernels[plot_id].registerCommTarget(comm_id, function(comm) {\n          comm.onMsg = msg_handler;\n        });\n      } else if (typeof google != 'undefined' && google.colab.kernel != null) {\n        google.colab.kernel.comms.registerTarget(comm_id, (comm) => {\n          var messages = comm.messages[Symbol.asyncIterator]();\n          function processIteratorResult(result) {\n            var message = result.value;\n            console.log(message)\n            var content = {data: message.data, comm_id};\n            var buffers = []\n            for (var buffer of message.buffers || []) {\n              buffers.push(new DataView(buffer))\n            }\n            var metadata = message.metadata || {};\n            var msg = {content, buffers, metadata}\n            msg_handler(msg);\n            return messages.next().then(processIteratorResult);\n          }\n          return messages.next().then(processIteratorResult);\n        })\n      }\n    }\n\n    JupyterCommManager.prototype.get_client_comm = function(plot_id, comm_id, msg_handler) {\n      if (comm_id in window.PyViz.comms) {\n        return window.PyViz.comms[comm_id];\n      } else if (window.comm_manager || ((window.Jupyter !== undefined) && (Jupyter.notebook.kernel != null))) {\n        var comm_manager = window.comm_manager || Jupyter.notebook.kernel.comm_manager;\n        var comm = comm_manager.new_comm(comm_id, {}, {}, {}, comm_id);\n        if (msg_handler) {\n          comm.on_msg(msg_handler);\n        }\n      } else if ((plot_id in window.PyViz.kernels) && (window.PyViz.kernels[plot_id])) {\n        var comm = window.PyViz.kernels[plot_id].connectToComm(comm_id);\n        comm.open();\n        if (msg_handler) {\n          comm.onMsg = msg_handler;\n        }\n      } else if (typeof google != 'undefined' && google.colab.kernel != null) {\n        var comm_promise = google.colab.kernel.comms.open(comm_id)\n        comm_promise.then((comm) => {\n          window.PyViz.comms[comm_id] = comm;\n          if (msg_handler) {\n            var messages = comm.messages[Symbol.asyncIterator]();\n            function processIteratorResult(result) {\n              var message = result.value;\n              var content = {data: message.data};\n              var metadata = message.metadata || {comm_id};\n              var msg = {content, metadata}\n              msg_handler(msg);\n              return messages.next().then(processIteratorResult);\n            }\n            return messages.next().then(processIteratorResult);\n          }\n        }) \n        var sendClosure = (data, metadata, buffers, disposeOnDone) => {\n          return comm_promise.then((comm) => {\n            comm.send(data, metadata, buffers, disposeOnDone);\n          });\n        };\n        var comm = {\n          send: sendClosure\n        };\n      }\n      window.PyViz.comms[comm_id] = comm;\n      return comm;\n    }\n    window.PyViz.comm_manager = new JupyterCommManager();\n    \n\n\nvar JS_MIME_TYPE = 'application/javascript';\nvar HTML_MIME_TYPE = 'text/html';\nvar EXEC_MIME_TYPE = 'application/vnd.holoviews_exec.v0+json';\nvar CLASS_NAME = 'output';\n\n/**\n * Render data to the DOM node\n */\nfunction render(props, node) {\n  var div = document.createElement(\"div\");\n  var script = document.createElement(\"script\");\n  node.appendChild(div);\n  node.appendChild(script);\n}\n\n/**\n * Handle when a new output is added\n */\nfunction handle_add_output(event, handle) {\n  var output_area = handle.output_area;\n  var output = handle.output;\n  if ((output.data == undefined) || (!output.data.hasOwnProperty(EXEC_MIME_TYPE))) {\n    return\n  }\n  var id = output.metadata[EXEC_MIME_TYPE][\"id\"];\n  var toinsert = output_area.element.find(\".\" + CLASS_NAME.split(' ')[0]);\n  if (id !== undefined) {\n    var nchildren = toinsert.length;\n    var html_node = toinsert[nchildren-1].children[0];\n    html_node.innerHTML = output.data[HTML_MIME_TYPE];\n    var scripts = [];\n    var nodelist = html_node.querySelectorAll(\"script\");\n    for (var i in nodelist) {\n      if (nodelist.hasOwnProperty(i)) {\n        scripts.push(nodelist[i])\n      }\n    }\n\n    scripts.forEach( function (oldScript) {\n      var newScript = document.createElement(\"script\");\n      var attrs = [];\n      var nodemap = oldScript.attributes;\n      for (var j in nodemap) {\n        if (nodemap.hasOwnProperty(j)) {\n          attrs.push(nodemap[j])\n        }\n      }\n      attrs.forEach(function(attr) { newScript.setAttribute(attr.name, attr.value) });\n      newScript.appendChild(document.createTextNode(oldScript.innerHTML));\n      oldScript.parentNode.replaceChild(newScript, oldScript);\n    });\n    if (JS_MIME_TYPE in output.data) {\n      toinsert[nchildren-1].children[1].textContent = output.data[JS_MIME_TYPE];\n    }\n    output_area._hv_plot_id = id;\n    if ((window.Bokeh !== undefined) && (id in Bokeh.index)) {\n      window.PyViz.plot_index[id] = Bokeh.index[id];\n    } else {\n      window.PyViz.plot_index[id] = null;\n    }\n  } else if (output.metadata[EXEC_MIME_TYPE][\"server_id\"] !== undefined) {\n    var bk_div = document.createElement(\"div\");\n    bk_div.innerHTML = output.data[HTML_MIME_TYPE];\n    var script_attrs = bk_div.children[0].attributes;\n    for (var i = 0; i < script_attrs.length; i++) {\n      toinsert[toinsert.length - 1].childNodes[1].setAttribute(script_attrs[i].name, script_attrs[i].value);\n    }\n    // store reference to server id on output_area\n    output_area._bokeh_server_id = output.metadata[EXEC_MIME_TYPE][\"server_id\"];\n  }\n}\n\n/**\n * Handle when an output is cleared or removed\n */\nfunction handle_clear_output(event, handle) {\n  var id = handle.cell.output_area._hv_plot_id;\n  var server_id = handle.cell.output_area._bokeh_server_id;\n  if (((id === undefined) || !(id in PyViz.plot_index)) && (server_id !== undefined)) { return; }\n  var comm = window.PyViz.comm_manager.get_client_comm(\"hv-extension-comm\", \"hv-extension-comm\", function () {});\n  if (server_id !== null) {\n    comm.send({event_type: 'server_delete', 'id': server_id});\n    return;\n  } else if (comm !== null) {\n    comm.send({event_type: 'delete', 'id': id});\n  }\n  delete PyViz.plot_index[id];\n  if ((window.Bokeh !== undefined) & (id in window.Bokeh.index)) {\n    var doc = window.Bokeh.index[id].model.document\n    doc.clear();\n    const i = window.Bokeh.documents.indexOf(doc);\n    if (i > -1) {\n      window.Bokeh.documents.splice(i, 1);\n    }\n  }\n}\n\n/**\n * Handle kernel restart event\n */\nfunction handle_kernel_cleanup(event, handle) {\n  delete PyViz.comms[\"hv-extension-comm\"];\n  window.PyViz.plot_index = {}\n}\n\n/**\n * Handle update_display_data messages\n */\nfunction handle_update_output(event, handle) {\n  handle_clear_output(event, {cell: {output_area: handle.output_area}})\n  handle_add_output(event, handle)\n}\n\nfunction register_renderer(events, OutputArea) {\n  function append_mime(data, metadata, element) {\n    // create a DOM node to render to\n    var toinsert = this.create_output_subarea(\n    metadata,\n    CLASS_NAME,\n    EXEC_MIME_TYPE\n    );\n    this.keyboard_manager.register_events(toinsert);\n    // Render to node\n    var props = {data: data, metadata: metadata[EXEC_MIME_TYPE]};\n    render(props, toinsert[0]);\n    element.append(toinsert);\n    return toinsert\n  }\n\n  events.on('output_added.OutputArea', handle_add_output);\n  events.on('output_updated.OutputArea', handle_update_output);\n  events.on('clear_output.CodeCell', handle_clear_output);\n  events.on('delete.Cell', handle_clear_output);\n  events.on('kernel_ready.Kernel', handle_kernel_cleanup);\n\n  OutputArea.prototype.register_mime_type(EXEC_MIME_TYPE, append_mime, {\n    safe: true,\n    index: 0\n  });\n}\n\nif (window.Jupyter !== undefined) {\n  try {\n    var events = require('base/js/events');\n    var OutputArea = require('notebook/js/outputarea').OutputArea;\n    if (OutputArea.prototype.mime_types().indexOf(EXEC_MIME_TYPE) == -1) {\n      register_renderer(events, OutputArea);\n    }\n  } catch(err) {\n  }\n}\n"
=======
      "application/javascript": "\nif ((window.PyViz === undefined) || (window.PyViz instanceof HTMLElement)) {\n  window.PyViz = {comms: {}, comm_status:{}, kernels:{}, receivers: {}, plot_index: []}\n}\n\n\n    function JupyterCommManager() {\n    }\n\n    JupyterCommManager.prototype.register_target = function(plot_id, comm_id, msg_handler) {\n      if (window.comm_manager || ((window.Jupyter !== undefined) && (Jupyter.notebook.kernel != null))) {\n        var comm_manager = window.comm_manager || Jupyter.notebook.kernel.comm_manager;\n        comm_manager.register_target(comm_id, function(comm) {\n          comm.on_msg(msg_handler);\n        });\n      } else if ((plot_id in window.PyViz.kernels) && (window.PyViz.kernels[plot_id])) {\n        window.PyViz.kernels[plot_id].registerCommTarget(comm_id, function(comm) {\n          comm.onMsg = msg_handler;\n        });\n      } else if (typeof google != 'undefined' && google.colab.kernel != null) {\n        google.colab.kernel.comms.registerTarget(comm_id, (comm) => {\n          var messages = comm.messages[Symbol.asyncIterator]();\n          function processIteratorResult(result) {\n            var message = result.value;\n            console.log(message)\n            var content = {data: message.data, comm_id};\n            var buffers = []\n            for (var buffer of message.buffers || []) {\n              buffers.push(new DataView(buffer))\n            }\n            var metadata = message.metadata || {};\n            var msg = {content, buffers, metadata}\n            msg_handler(msg);\n            return messages.next().then(processIteratorResult);\n          }\n          return messages.next().then(processIteratorResult);\n        })\n      }\n    }\n\n    JupyterCommManager.prototype.get_client_comm = function(plot_id, comm_id, msg_handler) {\n      if (comm_id in window.PyViz.comms) {\n        return window.PyViz.comms[comm_id];\n      } else if (window.comm_manager || ((window.Jupyter !== undefined) && (Jupyter.notebook.kernel != null))) {\n        var comm_manager = window.comm_manager || Jupyter.notebook.kernel.comm_manager;\n        var comm = comm_manager.new_comm(comm_id, {}, {}, {}, comm_id);\n        if (msg_handler) {\n          comm.on_msg(msg_handler);\n        }\n      } else if ((plot_id in window.PyViz.kernels) && (window.PyViz.kernels[plot_id])) {\n        var comm = window.PyViz.kernels[plot_id].connectToComm(comm_id);\n        comm.open();\n        if (msg_handler) {\n          comm.onMsg = msg_handler;\n        }\n      } else if (typeof google != 'undefined' && google.colab.kernel != null) {\n        var comm_promise = google.colab.kernel.comms.open(comm_id)\n        comm_promise.then((comm) => {\n          window.PyViz.comms[comm_id] = comm;\n          if (msg_handler) {\n            var messages = comm.messages[Symbol.asyncIterator]();\n            function processIteratorResult(result) {\n              var message = result.value;\n              var content = {data: message.data};\n              var metadata = message.metadata || {comm_id};\n              var msg = {content, metadata}\n              msg_handler(msg);\n              return messages.next().then(processIteratorResult);\n            }\n            return messages.next().then(processIteratorResult);\n          }\n        }) \n        var sendClosure = (data, metadata, buffers, disposeOnDone) => {\n          return comm_promise.then((comm) => {\n            comm.send(data, metadata, buffers, disposeOnDone);\n          });\n        };\n        var comm = {\n          send: sendClosure\n        };\n      }\n      window.PyViz.comms[comm_id] = comm;\n      return comm;\n    }\n    window.PyViz.comm_manager = new JupyterCommManager();\n    \n\n\nvar JS_MIME_TYPE = 'application/javascript';\nvar HTML_MIME_TYPE = 'text/html';\nvar EXEC_MIME_TYPE = 'application/vnd.holoviews_exec.v0+json';\nvar CLASS_NAME = 'output';\n\n/**\n * Render data to the DOM node\n */\nfunction render(props, node) {\n  var div = document.createElement(\"div\");\n  var script = document.createElement(\"script\");\n  node.appendChild(div);\n  node.appendChild(script);\n}\n\n/**\n * Handle when a new output is added\n */\nfunction handle_add_output(event, handle) {\n  var output_area = handle.output_area;\n  var output = handle.output;\n  if ((output.data == undefined) || (!output.data.hasOwnProperty(EXEC_MIME_TYPE))) {\n    return\n  }\n  var id = output.metadata[EXEC_MIME_TYPE][\"id\"];\n  var toinsert = output_area.element.find(\".\" + CLASS_NAME.split(' ')[0]);\n  if (id !== undefined) {\n    var nchildren = toinsert.length;\n    var html_node = toinsert[nchildren-1].children[0];\n    html_node.innerHTML = output.data[HTML_MIME_TYPE];\n    var scripts = [];\n    var nodelist = html_node.querySelectorAll(\"script\");\n    for (var i in nodelist) {\n      if (nodelist.hasOwnProperty(i)) {\n        scripts.push(nodelist[i])\n      }\n    }\n\n    scripts.forEach( function (oldScript) {\n      var newScript = document.createElement(\"script\");\n      var attrs = [];\n      var nodemap = oldScript.attributes;\n      for (var j in nodemap) {\n        if (nodemap.hasOwnProperty(j)) {\n          attrs.push(nodemap[j])\n        }\n      }\n      attrs.forEach(function(attr) { newScript.setAttribute(attr.name, attr.value) });\n      newScript.appendChild(document.createTextNode(oldScript.innerHTML));\n      oldScript.parentNode.replaceChild(newScript, oldScript);\n    });\n    if (JS_MIME_TYPE in output.data) {\n      toinsert[nchildren-1].children[1].textContent = output.data[JS_MIME_TYPE];\n    }\n    output_area._hv_plot_id = id;\n    if ((window.Bokeh !== undefined) && (id in Bokeh.index)) {\n      window.PyViz.plot_index[id] = Bokeh.index[id];\n    } else {\n      window.PyViz.plot_index[id] = null;\n    }\n  } else if (output.metadata[EXEC_MIME_TYPE][\"server_id\"] !== undefined) {\n    var bk_div = document.createElement(\"div\");\n    bk_div.innerHTML = output.data[HTML_MIME_TYPE];\n    var script_attrs = bk_div.children[0].attributes;\n    for (var i = 0; i < script_attrs.length; i++) {\n      toinsert[toinsert.length - 1].childNodes[1].setAttribute(script_attrs[i].name, script_attrs[i].value);\n    }\n    // store reference to server id on output_area\n    output_area._bokeh_server_id = output.metadata[EXEC_MIME_TYPE][\"server_id\"];\n  }\n}\n\n/**\n * Handle when an output is cleared or removed\n */\nfunction handle_clear_output(event, handle) {\n  var id = handle.cell.output_area._hv_plot_id;\n  var server_id = handle.cell.output_area._bokeh_server_id;\n  if (((id === undefined) || !(id in PyViz.plot_index)) && (server_id !== undefined)) { return; }\n  var comm = window.PyViz.comm_manager.get_client_comm(\"hv-extension-comm\", \"hv-extension-comm\", function () {});\n  if (server_id !== null) {\n    comm.send({event_type: 'server_delete', 'id': server_id});\n    return;\n  } else if (comm !== null) {\n    comm.send({event_type: 'delete', 'id': id});\n  }\n  delete PyViz.plot_index[id];\n  if ((window.Bokeh !== undefined) & (id in window.Bokeh.index)) {\n    var doc = window.Bokeh.index[id].model.document\n    doc.clear();\n    const i = window.Bokeh.documents.indexOf(doc);\n    if (i > -1) {\n      window.Bokeh.documents.splice(i, 1);\n    }\n  }\n}\n\n/**\n * Handle kernel restart event\n */\nfunction handle_kernel_cleanup(event, handle) {\n  delete PyViz.comms[\"hv-extension-comm\"];\n  window.PyViz.plot_index = {}\n}\n\n/**\n * Handle update_display_data messages\n */\nfunction handle_update_output(event, handle) {\n  handle_clear_output(event, {cell: {output_area: handle.output_area}})\n  handle_add_output(event, handle)\n}\n\nfunction register_renderer(events, OutputArea) {\n  function append_mime(data, metadata, element) {\n    // create a DOM node to render to\n    var toinsert = this.create_output_subarea(\n    metadata,\n    CLASS_NAME,\n    EXEC_MIME_TYPE\n    );\n    this.keyboard_manager.register_events(toinsert);\n    // Render to node\n    var props = {data: data, metadata: metadata[EXEC_MIME_TYPE]};\n    render(props, toinsert[0]);\n    element.append(toinsert);\n    return toinsert\n  }\n\n  events.on('output_added.OutputArea', handle_add_output);\n  events.on('output_updated.OutputArea', handle_update_output);\n  events.on('clear_output.CodeCell', handle_clear_output);\n  events.on('delete.Cell', handle_clear_output);\n  events.on('kernel_ready.Kernel', handle_kernel_cleanup);\n\n  OutputArea.prototype.register_mime_type(EXEC_MIME_TYPE, append_mime, {\n    safe: true,\n    index: 0\n  });\n}\n\nif (window.Jupyter !== undefined) {\n  try {\n    var events = require('base/js/events');\n    var OutputArea = require('notebook/js/outputarea').OutputArea;\n    if (OutputArea.prototype.mime_types().indexOf(EXEC_MIME_TYPE) == -1) {\n      register_renderer(events, OutputArea);\n    }\n  } catch(err) {\n  }\n}\n",
      "application/vnd.holoviews_load.v0+json": ""
>>>>>>> 35eb337 (Adding in the work cody did on histograms)
     },
     "metadata": {},
     "output_type": "display_data"
    },
    {
     "data": {
      "text/html": [
       "<style>*[data-root-id],\n",
       "*[data-root-id] > * {\n",
       "  box-sizing: border-box;\n",
       "  font-family: var(--jp-ui-font-family);\n",
       "  font-size: var(--jp-ui-font-size1);\n",
       "  color: var(--vscode-editor-foreground, var(--jp-ui-font-color1));\n",
       "}\n",
       "\n",
       "/* Override VSCode background color */\n",
       ".cell-output-ipywidget-background:has(\n",
       "    > .cell-output-ipywidget-background > .lm-Widget > *[data-root-id]\n",
       "  ),\n",
       ".cell-output-ipywidget-background:has(> .lm-Widget > *[data-root-id]) {\n",
       "  background-color: transparent !important;\n",
       "}\n",
       "</style>"
      ]
     },
     "metadata": {},
     "output_type": "display_data"
    },
    {
     "data": {
      "application/vnd.holoviews_exec.v0+json": "",
      "text/html": [
       "<div id='p1002'>\n",
<<<<<<< HEAD
       "  <div id=\"ee77dd3b-5a48-4b3c-8840-e1cf00f6f70a\" data-root-id=\"p1002\" style=\"display: contents;\"></div>\n",
       "</div>\n",
       "<script type=\"application/javascript\">(function(root) {\n",
       "  var docs_json = {\"f2b19ee3-d291-48b6-9290-8fb56b75ff87\":{\"version\":\"3.4.1\",\"title\":\"Bokeh Application\",\"roots\":[{\"type\":\"object\",\"name\":\"panel.models.browser.BrowserInfo\",\"id\":\"p1002\"},{\"type\":\"object\",\"name\":\"panel.models.comm_manager.CommManager\",\"id\":\"p1003\",\"attributes\":{\"plot_id\":\"p1002\",\"comm_id\":\"3faf4a2c428b4b44a8744eafc5145988\",\"client_comm_id\":\"d33aebce44d647fea47fa743937683e2\"}}],\"defs\":[{\"type\":\"model\",\"name\":\"ReactiveHTML1\"},{\"type\":\"model\",\"name\":\"FlexBox1\",\"properties\":[{\"name\":\"align_content\",\"kind\":\"Any\",\"default\":\"flex-start\"},{\"name\":\"align_items\",\"kind\":\"Any\",\"default\":\"flex-start\"},{\"name\":\"flex_direction\",\"kind\":\"Any\",\"default\":\"row\"},{\"name\":\"flex_wrap\",\"kind\":\"Any\",\"default\":\"wrap\"},{\"name\":\"gap\",\"kind\":\"Any\",\"default\":\"\"},{\"name\":\"justify_content\",\"kind\":\"Any\",\"default\":\"flex-start\"}]},{\"type\":\"model\",\"name\":\"FloatPanel1\",\"properties\":[{\"name\":\"config\",\"kind\":\"Any\",\"default\":{\"type\":\"map\"}},{\"name\":\"contained\",\"kind\":\"Any\",\"default\":true},{\"name\":\"position\",\"kind\":\"Any\",\"default\":\"right-top\"},{\"name\":\"offsetx\",\"kind\":\"Any\",\"default\":null},{\"name\":\"offsety\",\"kind\":\"Any\",\"default\":null},{\"name\":\"theme\",\"kind\":\"Any\",\"default\":\"primary\"},{\"name\":\"status\",\"kind\":\"Any\",\"default\":\"normalized\"}]},{\"type\":\"model\",\"name\":\"GridStack1\",\"properties\":[{\"name\":\"mode\",\"kind\":\"Any\",\"default\":\"warn\"},{\"name\":\"ncols\",\"kind\":\"Any\",\"default\":null},{\"name\":\"nrows\",\"kind\":\"Any\",\"default\":null},{\"name\":\"allow_resize\",\"kind\":\"Any\",\"default\":true},{\"name\":\"allow_drag\",\"kind\":\"Any\",\"default\":true},{\"name\":\"state\",\"kind\":\"Any\",\"default\":[]}]},{\"type\":\"model\",\"name\":\"drag1\",\"properties\":[{\"name\":\"slider_width\",\"kind\":\"Any\",\"default\":5},{\"name\":\"slider_color\",\"kind\":\"Any\",\"default\":\"black\"},{\"name\":\"value\",\"kind\":\"Any\",\"default\":50}]},{\"type\":\"model\",\"name\":\"click1\",\"properties\":[{\"name\":\"terminal_output\",\"kind\":\"Any\",\"default\":\"\"},{\"name\":\"debug_name\",\"kind\":\"Any\",\"default\":\"\"},{\"name\":\"clears\",\"kind\":\"Any\",\"default\":0}]},{\"type\":\"model\",\"name\":\"FastWrapper1\",\"properties\":[{\"name\":\"object\",\"kind\":\"Any\",\"default\":null},{\"name\":\"style\",\"kind\":\"Any\",\"default\":null}]},{\"type\":\"model\",\"name\":\"NotificationAreaBase1\",\"properties\":[{\"name\":\"js_events\",\"kind\":\"Any\",\"default\":{\"type\":\"map\"}},{\"name\":\"position\",\"kind\":\"Any\",\"default\":\"bottom-right\"},{\"name\":\"_clear\",\"kind\":\"Any\",\"default\":0}]},{\"type\":\"model\",\"name\":\"NotificationArea1\",\"properties\":[{\"name\":\"js_events\",\"kind\":\"Any\",\"default\":{\"type\":\"map\"}},{\"name\":\"notifications\",\"kind\":\"Any\",\"default\":[]},{\"name\":\"position\",\"kind\":\"Any\",\"default\":\"bottom-right\"},{\"name\":\"_clear\",\"kind\":\"Any\",\"default\":0},{\"name\":\"types\",\"kind\":\"Any\",\"default\":[{\"type\":\"map\",\"entries\":[[\"type\",\"warning\"],[\"background\",\"#ffc107\"],[\"icon\",{\"type\":\"map\",\"entries\":[[\"className\",\"fas fa-exclamation-triangle\"],[\"tagName\",\"i\"],[\"color\",\"white\"]]}]]},{\"type\":\"map\",\"entries\":[[\"type\",\"info\"],[\"background\",\"#007bff\"],[\"icon\",{\"type\":\"map\",\"entries\":[[\"className\",\"fas fa-info-circle\"],[\"tagName\",\"i\"],[\"color\",\"white\"]]}]]}]}]},{\"type\":\"model\",\"name\":\"Notification\",\"properties\":[{\"name\":\"background\",\"kind\":\"Any\",\"default\":null},{\"name\":\"duration\",\"kind\":\"Any\",\"default\":3000},{\"name\":\"icon\",\"kind\":\"Any\",\"default\":null},{\"name\":\"message\",\"kind\":\"Any\",\"default\":\"\"},{\"name\":\"notification_type\",\"kind\":\"Any\",\"default\":null},{\"name\":\"_destroyed\",\"kind\":\"Any\",\"default\":false}]},{\"type\":\"model\",\"name\":\"TemplateActions1\",\"properties\":[{\"name\":\"open_modal\",\"kind\":\"Any\",\"default\":0},{\"name\":\"close_modal\",\"kind\":\"Any\",\"default\":0}]},{\"type\":\"model\",\"name\":\"BootstrapTemplateActions1\",\"properties\":[{\"name\":\"open_modal\",\"kind\":\"Any\",\"default\":0},{\"name\":\"close_modal\",\"kind\":\"Any\",\"default\":0}]},{\"type\":\"model\",\"name\":\"TemplateEditor1\",\"properties\":[{\"name\":\"layout\",\"kind\":\"Any\",\"default\":[]}]},{\"type\":\"model\",\"name\":\"MaterialTemplateActions1\",\"properties\":[{\"name\":\"open_modal\",\"kind\":\"Any\",\"default\":0},{\"name\":\"close_modal\",\"kind\":\"Any\",\"default\":0}]},{\"type\":\"model\",\"name\":\"copy_to_clipboard1\",\"properties\":[{\"name\":\"fill\",\"kind\":\"Any\",\"default\":\"none\"},{\"name\":\"value\",\"kind\":\"Any\",\"default\":null}]}]}};\n",
       "  var render_items = [{\"docid\":\"f2b19ee3-d291-48b6-9290-8fb56b75ff87\",\"roots\":{\"p1002\":\"ee77dd3b-5a48-4b3c-8840-e1cf00f6f70a\"},\"root_ids\":[\"p1002\"]}];\n",
=======
<<<<<<< HEAD
       "  <div id=\"f4dbfecf-dfa5-49f1-bcff-f892e102e6aa\" data-root-id=\"p1002\" style=\"display: contents;\"></div>\n",
       "</div>\n",
       "<script type=\"application/javascript\">(function(root) {\n",
       "  var docs_json = {\"c9a23923-44f1-4d03-86e8-edb911f2d43c\":{\"version\":\"3.4.1\",\"title\":\"Bokeh Application\",\"roots\":[{\"type\":\"object\",\"name\":\"panel.models.browser.BrowserInfo\",\"id\":\"p1002\"},{\"type\":\"object\",\"name\":\"panel.models.comm_manager.CommManager\",\"id\":\"p1003\",\"attributes\":{\"plot_id\":\"p1002\",\"comm_id\":\"dd0085a54466496ebab293332d84d2d2\",\"client_comm_id\":\"67c85c8050e14918859ddeee463553af\"}}],\"defs\":[{\"type\":\"model\",\"name\":\"ReactiveHTML1\"},{\"type\":\"model\",\"name\":\"FlexBox1\",\"properties\":[{\"name\":\"align_content\",\"kind\":\"Any\",\"default\":\"flex-start\"},{\"name\":\"align_items\",\"kind\":\"Any\",\"default\":\"flex-start\"},{\"name\":\"flex_direction\",\"kind\":\"Any\",\"default\":\"row\"},{\"name\":\"flex_wrap\",\"kind\":\"Any\",\"default\":\"wrap\"},{\"name\":\"gap\",\"kind\":\"Any\",\"default\":\"\"},{\"name\":\"justify_content\",\"kind\":\"Any\",\"default\":\"flex-start\"}]},{\"type\":\"model\",\"name\":\"FloatPanel1\",\"properties\":[{\"name\":\"config\",\"kind\":\"Any\",\"default\":{\"type\":\"map\"}},{\"name\":\"contained\",\"kind\":\"Any\",\"default\":true},{\"name\":\"position\",\"kind\":\"Any\",\"default\":\"right-top\"},{\"name\":\"offsetx\",\"kind\":\"Any\",\"default\":null},{\"name\":\"offsety\",\"kind\":\"Any\",\"default\":null},{\"name\":\"theme\",\"kind\":\"Any\",\"default\":\"primary\"},{\"name\":\"status\",\"kind\":\"Any\",\"default\":\"normalized\"}]},{\"type\":\"model\",\"name\":\"GridStack1\",\"properties\":[{\"name\":\"mode\",\"kind\":\"Any\",\"default\":\"warn\"},{\"name\":\"ncols\",\"kind\":\"Any\",\"default\":null},{\"name\":\"nrows\",\"kind\":\"Any\",\"default\":null},{\"name\":\"allow_resize\",\"kind\":\"Any\",\"default\":true},{\"name\":\"allow_drag\",\"kind\":\"Any\",\"default\":true},{\"name\":\"state\",\"kind\":\"Any\",\"default\":[]}]},{\"type\":\"model\",\"name\":\"drag1\",\"properties\":[{\"name\":\"slider_width\",\"kind\":\"Any\",\"default\":5},{\"name\":\"slider_color\",\"kind\":\"Any\",\"default\":\"black\"},{\"name\":\"value\",\"kind\":\"Any\",\"default\":50}]},{\"type\":\"model\",\"name\":\"click1\",\"properties\":[{\"name\":\"terminal_output\",\"kind\":\"Any\",\"default\":\"\"},{\"name\":\"debug_name\",\"kind\":\"Any\",\"default\":\"\"},{\"name\":\"clears\",\"kind\":\"Any\",\"default\":0}]},{\"type\":\"model\",\"name\":\"FastWrapper1\",\"properties\":[{\"name\":\"object\",\"kind\":\"Any\",\"default\":null},{\"name\":\"style\",\"kind\":\"Any\",\"default\":null}]},{\"type\":\"model\",\"name\":\"NotificationAreaBase1\",\"properties\":[{\"name\":\"js_events\",\"kind\":\"Any\",\"default\":{\"type\":\"map\"}},{\"name\":\"position\",\"kind\":\"Any\",\"default\":\"bottom-right\"},{\"name\":\"_clear\",\"kind\":\"Any\",\"default\":0}]},{\"type\":\"model\",\"name\":\"NotificationArea1\",\"properties\":[{\"name\":\"js_events\",\"kind\":\"Any\",\"default\":{\"type\":\"map\"}},{\"name\":\"notifications\",\"kind\":\"Any\",\"default\":[]},{\"name\":\"position\",\"kind\":\"Any\",\"default\":\"bottom-right\"},{\"name\":\"_clear\",\"kind\":\"Any\",\"default\":0},{\"name\":\"types\",\"kind\":\"Any\",\"default\":[{\"type\":\"map\",\"entries\":[[\"type\",\"warning\"],[\"background\",\"#ffc107\"],[\"icon\",{\"type\":\"map\",\"entries\":[[\"className\",\"fas fa-exclamation-triangle\"],[\"tagName\",\"i\"],[\"color\",\"white\"]]}]]},{\"type\":\"map\",\"entries\":[[\"type\",\"info\"],[\"background\",\"#007bff\"],[\"icon\",{\"type\":\"map\",\"entries\":[[\"className\",\"fas fa-info-circle\"],[\"tagName\",\"i\"],[\"color\",\"white\"]]}]]}]}]},{\"type\":\"model\",\"name\":\"Notification\",\"properties\":[{\"name\":\"background\",\"kind\":\"Any\",\"default\":null},{\"name\":\"duration\",\"kind\":\"Any\",\"default\":3000},{\"name\":\"icon\",\"kind\":\"Any\",\"default\":null},{\"name\":\"message\",\"kind\":\"Any\",\"default\":\"\"},{\"name\":\"notification_type\",\"kind\":\"Any\",\"default\":null},{\"name\":\"_destroyed\",\"kind\":\"Any\",\"default\":false}]},{\"type\":\"model\",\"name\":\"TemplateActions1\",\"properties\":[{\"name\":\"open_modal\",\"kind\":\"Any\",\"default\":0},{\"name\":\"close_modal\",\"kind\":\"Any\",\"default\":0}]},{\"type\":\"model\",\"name\":\"BootstrapTemplateActions1\",\"properties\":[{\"name\":\"open_modal\",\"kind\":\"Any\",\"default\":0},{\"name\":\"close_modal\",\"kind\":\"Any\",\"default\":0}]},{\"type\":\"model\",\"name\":\"TemplateEditor1\",\"properties\":[{\"name\":\"layout\",\"kind\":\"Any\",\"default\":[]}]},{\"type\":\"model\",\"name\":\"MaterialTemplateActions1\",\"properties\":[{\"name\":\"open_modal\",\"kind\":\"Any\",\"default\":0},{\"name\":\"close_modal\",\"kind\":\"Any\",\"default\":0}]},{\"type\":\"model\",\"name\":\"copy_to_clipboard1\",\"properties\":[{\"name\":\"fill\",\"kind\":\"Any\",\"default\":\"none\"},{\"name\":\"value\",\"kind\":\"Any\",\"default\":null}]}]}};\n",
       "  var render_items = [{\"docid\":\"c9a23923-44f1-4d03-86e8-edb911f2d43c\",\"roots\":{\"p1002\":\"f4dbfecf-dfa5-49f1-bcff-f892e102e6aa\"},\"root_ids\":[\"p1002\"]}];\n",
=======
       "  <div id=\"ab71bc4d-6222-46f5-85d3-6b77d5fa958d\" data-root-id=\"p1002\" style=\"display: contents;\"></div>\n",
       "</div>\n",
       "<script type=\"application/javascript\">(function(root) {\n",
       "  var docs_json = {\"2a1e5b99-bbfe-4010-87f6-9e2a9110d4bf\":{\"version\":\"3.4.1\",\"title\":\"Bokeh Application\",\"roots\":[{\"type\":\"object\",\"name\":\"panel.models.browser.BrowserInfo\",\"id\":\"p1002\"},{\"type\":\"object\",\"name\":\"panel.models.comm_manager.CommManager\",\"id\":\"p1003\",\"attributes\":{\"plot_id\":\"p1002\",\"comm_id\":\"9671f3a19b974c578ddb0f50a5e5e451\",\"client_comm_id\":\"5253d7a3103942d5b4fb9b4b40bead44\"}}],\"defs\":[{\"type\":\"model\",\"name\":\"ReactiveHTML1\"},{\"type\":\"model\",\"name\":\"FlexBox1\",\"properties\":[{\"name\":\"align_content\",\"kind\":\"Any\",\"default\":\"flex-start\"},{\"name\":\"align_items\",\"kind\":\"Any\",\"default\":\"flex-start\"},{\"name\":\"flex_direction\",\"kind\":\"Any\",\"default\":\"row\"},{\"name\":\"flex_wrap\",\"kind\":\"Any\",\"default\":\"wrap\"},{\"name\":\"gap\",\"kind\":\"Any\",\"default\":\"\"},{\"name\":\"justify_content\",\"kind\":\"Any\",\"default\":\"flex-start\"}]},{\"type\":\"model\",\"name\":\"FloatPanel1\",\"properties\":[{\"name\":\"config\",\"kind\":\"Any\",\"default\":{\"type\":\"map\"}},{\"name\":\"contained\",\"kind\":\"Any\",\"default\":true},{\"name\":\"position\",\"kind\":\"Any\",\"default\":\"right-top\"},{\"name\":\"offsetx\",\"kind\":\"Any\",\"default\":null},{\"name\":\"offsety\",\"kind\":\"Any\",\"default\":null},{\"name\":\"theme\",\"kind\":\"Any\",\"default\":\"primary\"},{\"name\":\"status\",\"kind\":\"Any\",\"default\":\"normalized\"}]},{\"type\":\"model\",\"name\":\"GridStack1\",\"properties\":[{\"name\":\"mode\",\"kind\":\"Any\",\"default\":\"warn\"},{\"name\":\"ncols\",\"kind\":\"Any\",\"default\":null},{\"name\":\"nrows\",\"kind\":\"Any\",\"default\":null},{\"name\":\"allow_resize\",\"kind\":\"Any\",\"default\":true},{\"name\":\"allow_drag\",\"kind\":\"Any\",\"default\":true},{\"name\":\"state\",\"kind\":\"Any\",\"default\":[]}]},{\"type\":\"model\",\"name\":\"drag1\",\"properties\":[{\"name\":\"slider_width\",\"kind\":\"Any\",\"default\":5},{\"name\":\"slider_color\",\"kind\":\"Any\",\"default\":\"black\"},{\"name\":\"value\",\"kind\":\"Any\",\"default\":50}]},{\"type\":\"model\",\"name\":\"click1\",\"properties\":[{\"name\":\"terminal_output\",\"kind\":\"Any\",\"default\":\"\"},{\"name\":\"debug_name\",\"kind\":\"Any\",\"default\":\"\"},{\"name\":\"clears\",\"kind\":\"Any\",\"default\":0}]},{\"type\":\"model\",\"name\":\"FastWrapper1\",\"properties\":[{\"name\":\"object\",\"kind\":\"Any\",\"default\":null},{\"name\":\"style\",\"kind\":\"Any\",\"default\":null}]},{\"type\":\"model\",\"name\":\"NotificationAreaBase1\",\"properties\":[{\"name\":\"js_events\",\"kind\":\"Any\",\"default\":{\"type\":\"map\"}},{\"name\":\"position\",\"kind\":\"Any\",\"default\":\"bottom-right\"},{\"name\":\"_clear\",\"kind\":\"Any\",\"default\":0}]},{\"type\":\"model\",\"name\":\"NotificationArea1\",\"properties\":[{\"name\":\"js_events\",\"kind\":\"Any\",\"default\":{\"type\":\"map\"}},{\"name\":\"notifications\",\"kind\":\"Any\",\"default\":[]},{\"name\":\"position\",\"kind\":\"Any\",\"default\":\"bottom-right\"},{\"name\":\"_clear\",\"kind\":\"Any\",\"default\":0},{\"name\":\"types\",\"kind\":\"Any\",\"default\":[{\"type\":\"map\",\"entries\":[[\"type\",\"warning\"],[\"background\",\"#ffc107\"],[\"icon\",{\"type\":\"map\",\"entries\":[[\"className\",\"fas fa-exclamation-triangle\"],[\"tagName\",\"i\"],[\"color\",\"white\"]]}]]},{\"type\":\"map\",\"entries\":[[\"type\",\"info\"],[\"background\",\"#007bff\"],[\"icon\",{\"type\":\"map\",\"entries\":[[\"className\",\"fas fa-info-circle\"],[\"tagName\",\"i\"],[\"color\",\"white\"]]}]]}]}]},{\"type\":\"model\",\"name\":\"Notification\",\"properties\":[{\"name\":\"background\",\"kind\":\"Any\",\"default\":null},{\"name\":\"duration\",\"kind\":\"Any\",\"default\":3000},{\"name\":\"icon\",\"kind\":\"Any\",\"default\":null},{\"name\":\"message\",\"kind\":\"Any\",\"default\":\"\"},{\"name\":\"notification_type\",\"kind\":\"Any\",\"default\":null},{\"name\":\"_destroyed\",\"kind\":\"Any\",\"default\":false}]},{\"type\":\"model\",\"name\":\"TemplateActions1\",\"properties\":[{\"name\":\"open_modal\",\"kind\":\"Any\",\"default\":0},{\"name\":\"close_modal\",\"kind\":\"Any\",\"default\":0}]},{\"type\":\"model\",\"name\":\"BootstrapTemplateActions1\",\"properties\":[{\"name\":\"open_modal\",\"kind\":\"Any\",\"default\":0},{\"name\":\"close_modal\",\"kind\":\"Any\",\"default\":0}]},{\"type\":\"model\",\"name\":\"TemplateEditor1\",\"properties\":[{\"name\":\"layout\",\"kind\":\"Any\",\"default\":[]}]},{\"type\":\"model\",\"name\":\"MaterialTemplateActions1\",\"properties\":[{\"name\":\"open_modal\",\"kind\":\"Any\",\"default\":0},{\"name\":\"close_modal\",\"kind\":\"Any\",\"default\":0}]},{\"type\":\"model\",\"name\":\"copy_to_clipboard1\",\"properties\":[{\"name\":\"fill\",\"kind\":\"Any\",\"default\":\"none\"},{\"name\":\"value\",\"kind\":\"Any\",\"default\":null}]}]}};\n",
       "  var render_items = [{\"docid\":\"2a1e5b99-bbfe-4010-87f6-9e2a9110d4bf\",\"roots\":{\"p1002\":\"ab71bc4d-6222-46f5-85d3-6b77d5fa958d\"},\"root_ids\":[\"p1002\"]}];\n",
>>>>>>> 35eb337 (Adding in the work cody did on histograms)
>>>>>>> 33e35f241d23f05510413d5e7dfe539dcfe0fe49
       "  var docs = Object.values(docs_json)\n",
       "  if (!docs) {\n",
       "    return\n",
       "  }\n",
       "  const py_version = docs[0].version.replace('rc', '-rc.').replace('.dev', '-dev.')\n",
       "  async function embed_document(root) {\n",
       "    var Bokeh = get_bokeh(root)\n",
       "    await Bokeh.embed.embed_items_notebook(docs_json, render_items);\n",
       "    for (const render_item of render_items) {\n",
       "      for (const root_id of render_item.root_ids) {\n",
       "\tconst id_el = document.getElementById(root_id)\n",
       "\tif (id_el.children.length && id_el.children[0].hasAttribute('data-root-id')) {\n",
       "\t  const root_el = id_el.children[0]\n",
       "\t  root_el.id = root_el.id + '-rendered'\n",
       "\t  for (const child of root_el.children) {\n",
       "            // Ensure JupyterLab does not capture keyboard shortcuts\n",
       "            // see: https://jupyterlab.readthedocs.io/en/4.1.x/extension/notebook.html#keyboard-interaction-model\n",
       "\t    child.setAttribute('data-lm-suppress-shortcuts', 'true')\n",
       "\t  }\n",
       "\t}\n",
       "      }\n",
       "    }\n",
       "  }\n",
       "  function get_bokeh(root) {\n",
       "    if (root.Bokeh === undefined) {\n",
       "      return null\n",
       "    } else if (root.Bokeh.version !== py_version) {\n",
       "      if (root.Bokeh.versions === undefined || !root.Bokeh.versions.has(py_version)) {\n",
       "\treturn null\n",
       "      }\n",
       "      return root.Bokeh.versions.get(py_version);\n",
       "    } else if (root.Bokeh.version === py_version) {\n",
       "      return root.Bokeh\n",
       "    }\n",
       "    return null\n",
       "  }\n",
       "  function is_loaded(root) {\n",
       "    var Bokeh = get_bokeh(root)\n",
       "    return (Bokeh != null && Bokeh.Panel !== undefined)\n",
       "  }\n",
       "  if (is_loaded(root)) {\n",
       "    embed_document(root);\n",
       "  } else {\n",
       "    var attempts = 0;\n",
       "    var timer = setInterval(function(root) {\n",
       "      if (is_loaded(root)) {\n",
       "        clearInterval(timer);\n",
       "        embed_document(root);\n",
       "      } else if (document.readyState == \"complete\") {\n",
       "        attempts++;\n",
       "        if (attempts > 200) {\n",
       "          clearInterval(timer);\n",
       "\t  var Bokeh = get_bokeh(root)\n",
       "\t  if (Bokeh == null || Bokeh.Panel == null) {\n",
       "            console.warn(\"Panel: ERROR: Unable to run Panel code because Bokeh or Panel library is missing\");\n",
       "\t  } else {\n",
       "\t    console.warn(\"Panel: WARNING: Attempting to render but not all required libraries could be resolved.\")\n",
       "\t    embed_document(root)\n",
       "\t  }\n",
       "        }\n",
       "      }\n",
       "    }, 25, root)\n",
       "  }\n",
       "})(window);</script>"
      ]
     },
     "metadata": {
      "application/vnd.holoviews_exec.v0+json": {
       "id": "p1002"
      }
     },
     "output_type": "display_data"
    }
   ],
   "source": [
    "import numpy as np\n",
    "import pandas as pd\n",
    "from pathlib import Path\n",
<<<<<<< HEAD
    "import hvplot.pandas \n",
    "import matplotlib.pyplot as plt\n",
    "import seaborn as sns"
=======
<<<<<<< HEAD
    "import hvplot.pandas "
=======
    "import hvplot.pandas"
>>>>>>> 35eb337 (Adding in the work cody did on histograms)
>>>>>>> 33e35f241d23f05510413d5e7dfe539dcfe0fe49
   ]
  },
  {
   "cell_type": "code",
   "execution_count": 7,
   "metadata": {},
   "outputs": [],
   "source": [
    "# using Path import the data\n",
    "# test_df = pd.read_csv(Path('test.csv'))\n",
    "# sample_df = pd.read_csv(Path('sampleSubmission.csv'))\n",
    "# train_df = pd.read_csv(Path('train.csv'))"
   ]
  },
  {
   "cell_type": "markdown",
   "metadata": {},
   "source": [
    "# Telcom Churn Data Import"
   ]
  },
  {
   "cell_type": "code",
<<<<<<< HEAD
   "execution_count": 9,
=======
   "execution_count": 3,
>>>>>>> 33e35f241d23f05510413d5e7dfe539dcfe0fe49
   "metadata": {},
   "outputs": [
    {
     "data": {
      "text/html": [
       "<div>\n",
       "<style scoped>\n",
       "    .dataframe tbody tr th:only-of-type {\n",
       "        vertical-align: middle;\n",
       "    }\n",
       "\n",
       "    .dataframe tbody tr th {\n",
       "        vertical-align: top;\n",
       "    }\n",
       "\n",
       "    .dataframe thead th {\n",
       "        text-align: right;\n",
       "    }\n",
       "</style>\n",
       "<table border=\"1\" class=\"dataframe\">\n",
       "  <thead>\n",
       "    <tr style=\"text-align: right;\">\n",
       "      <th></th>\n",
       "      <th>state</th>\n",
       "      <th>age</th>\n",
       "      <th>area_code</th>\n",
       "      <th>voice_mail_plan</th>\n",
       "      <th>number_vmail_messages</th>\n",
       "      <th>total_day_minutes</th>\n",
       "      <th>total_day_calls</th>\n",
       "      <th>total_day_charge</th>\n",
       "      <th>number_customer_service_calls</th>\n",
       "      <th>churn</th>\n",
       "    </tr>\n",
       "  </thead>\n",
       "  <tbody>\n",
       "    <tr>\n",
       "      <th>0</th>\n",
       "      <td>OH</td>\n",
       "      <td>42</td>\n",
       "      <td>area_code_415</td>\n",
       "      <td>1</td>\n",
       "      <td>26</td>\n",
       "      <td>161.6</td>\n",
       "      <td>123</td>\n",
       "      <td>27.47</td>\n",
       "      <td>1</td>\n",
       "      <td>no</td>\n",
       "    </tr>\n",
       "    <tr>\n",
       "      <th>1</th>\n",
       "      <td>NJ</td>\n",
       "      <td>36</td>\n",
       "      <td>area_code_415</td>\n",
       "      <td>0</td>\n",
       "      <td>0</td>\n",
       "      <td>243.4</td>\n",
       "      <td>114</td>\n",
       "      <td>41.38</td>\n",
       "      <td>0</td>\n",
       "      <td>no</td>\n",
       "    </tr>\n",
       "    <tr>\n",
       "      <th>2</th>\n",
       "      <td>OH</td>\n",
       "      <td>39</td>\n",
       "      <td>area_code_408</td>\n",
       "      <td>0</td>\n",
       "      <td>0</td>\n",
       "      <td>299.4</td>\n",
       "      <td>71</td>\n",
       "      <td>50.90</td>\n",
       "      <td>2</td>\n",
       "      <td>no</td>\n",
       "    </tr>\n",
       "    <tr>\n",
       "      <th>3</th>\n",
       "      <td>OK</td>\n",
       "      <td>41</td>\n",
       "      <td>area_code_415</td>\n",
       "      <td>0</td>\n",
       "      <td>0</td>\n",
       "      <td>166.7</td>\n",
       "      <td>113</td>\n",
       "      <td>28.34</td>\n",
       "      <td>3</td>\n",
       "      <td>no</td>\n",
       "    </tr>\n",
       "    <tr>\n",
       "      <th>4</th>\n",
       "      <td>MA</td>\n",
       "      <td>34</td>\n",
       "      <td>area_code_510</td>\n",
       "      <td>1</td>\n",
       "      <td>24</td>\n",
       "      <td>218.2</td>\n",
       "      <td>88</td>\n",
       "      <td>37.09</td>\n",
       "      <td>3</td>\n",
       "      <td>no</td>\n",
       "    </tr>\n",
       "  </tbody>\n",
       "</table>\n",
       "</div>"
      ],
      "text/plain": [
       "  state  age      area_code  voice_mail_plan  number_vmail_messages  \\\n",
       "0    OH   42  area_code_415                1                     26   \n",
       "1    NJ   36  area_code_415                0                      0   \n",
       "2    OH   39  area_code_408                0                      0   \n",
       "3    OK   41  area_code_415                0                      0   \n",
       "4    MA   34  area_code_510                1                     24   \n",
       "\n",
       "   total_day_minutes  total_day_calls  total_day_charge  \\\n",
       "0              161.6              123             27.47   \n",
       "1              243.4              114             41.38   \n",
       "2              299.4               71             50.90   \n",
       "3              166.7              113             28.34   \n",
       "4              218.2               88             37.09   \n",
       "\n",
       "   number_customer_service_calls churn  \n",
       "0                              1    no  \n",
       "1                              0    no  \n",
       "2                              2    no  \n",
       "3                              3    no  \n",
       "4                              3    no  "
      ]
     },
<<<<<<< HEAD
     "execution_count": 9,
=======
     "execution_count": 3,
>>>>>>> 33e35f241d23f05510413d5e7dfe539dcfe0fe49
     "metadata": {},
     "output_type": "execute_result"
    }
   ],
   "source": [
    "# import the telcom churn csv data\n",
    "telcom_data_df = pd.read_excel(Path('resources/telcom_customer_data.xlsx'))\n",
    "telcom_data_df.shape # (4250, 10)\n",
    "telcom_data_df.head()"
   ]
  },
  {
   "cell_type": "code",
<<<<<<< HEAD
   "execution_count": 10,
=======
   "execution_count": 4,
>>>>>>> 33e35f241d23f05510413d5e7dfe539dcfe0fe49
   "metadata": {},
   "outputs": [
    {
     "name": "stderr",
     "output_type": "stream",
     "text": [
<<<<<<< HEAD
      "C:\\Users\\lerch\\AppData\\Local\\Temp\\ipykernel_33980\\386215360.py:4: FutureWarning: Downcasting behavior in `replace` is deprecated and will be removed in a future version. To retain the old behavior, explicitly call `result.infer_objects(copy=False)`. To opt-in to the future behavior, set `pd.set_option('future.no_silent_downcasting', True)`\n",
=======
<<<<<<< HEAD
      "C:\\Users\\lerch\\AppData\\Local\\Temp\\ipykernel_4796\\386215360.py:4: FutureWarning: Downcasting behavior in `replace` is deprecated and will be removed in a future version. To retain the old behavior, explicitly call `result.infer_objects(copy=False)`. To opt-in to the future behavior, set `pd.set_option('future.no_silent_downcasting', True)`\n",
=======
      "/var/folders/lm/m30l6sjs0t313txr8qlsj2480000gn/T/ipykernel_13926/386215360.py:4: FutureWarning: Downcasting behavior in `replace` is deprecated and will be removed in a future version. To retain the old behavior, explicitly call `result.infer_objects(copy=False)`. To opt-in to the future behavior, set `pd.set_option('future.no_silent_downcasting', True)`\n",
>>>>>>> 35eb337 (Adding in the work cody did on histograms)
>>>>>>> 33e35f241d23f05510413d5e7dfe539dcfe0fe49
      "  telcom_data_df['churn'] = telcom_data_df['churn'].replace({'yes': 1, 'no': 0})\n"
     ]
    },
    {
     "data": {
      "text/html": [
       "<div>\n",
       "<style scoped>\n",
       "    .dataframe tbody tr th:only-of-type {\n",
       "        vertical-align: middle;\n",
       "    }\n",
       "\n",
       "    .dataframe tbody tr th {\n",
       "        vertical-align: top;\n",
       "    }\n",
       "\n",
       "    .dataframe thead th {\n",
       "        text-align: right;\n",
       "    }\n",
       "</style>\n",
       "<table border=\"1\" class=\"dataframe\">\n",
       "  <thead>\n",
       "    <tr style=\"text-align: right;\">\n",
       "      <th></th>\n",
       "      <th>state</th>\n",
       "      <th>age</th>\n",
       "      <th>area_code</th>\n",
       "      <th>voice_mail_plan</th>\n",
       "      <th>number_vmail_messages</th>\n",
       "      <th>total_day_minutes</th>\n",
       "      <th>total_day_calls</th>\n",
       "      <th>total_day_charge</th>\n",
       "      <th>number_customer_service_calls</th>\n",
       "      <th>churn</th>\n",
       "    </tr>\n",
       "  </thead>\n",
       "  <tbody>\n",
       "    <tr>\n",
       "      <th>0</th>\n",
       "      <td>OH</td>\n",
       "      <td>42</td>\n",
       "      <td>415</td>\n",
       "      <td>1</td>\n",
       "      <td>26</td>\n",
       "      <td>161.6</td>\n",
       "      <td>123</td>\n",
       "      <td>27.47</td>\n",
       "      <td>1</td>\n",
       "      <td>0</td>\n",
       "    </tr>\n",
       "    <tr>\n",
       "      <th>1</th>\n",
       "      <td>NJ</td>\n",
       "      <td>36</td>\n",
       "      <td>415</td>\n",
       "      <td>0</td>\n",
       "      <td>0</td>\n",
       "      <td>243.4</td>\n",
       "      <td>114</td>\n",
       "      <td>41.38</td>\n",
       "      <td>0</td>\n",
       "      <td>0</td>\n",
       "    </tr>\n",
       "    <tr>\n",
       "      <th>2</th>\n",
       "      <td>OH</td>\n",
       "      <td>39</td>\n",
       "      <td>408</td>\n",
       "      <td>0</td>\n",
       "      <td>0</td>\n",
       "      <td>299.4</td>\n",
       "      <td>71</td>\n",
       "      <td>50.90</td>\n",
       "      <td>2</td>\n",
       "      <td>0</td>\n",
       "    </tr>\n",
       "    <tr>\n",
       "      <th>3</th>\n",
       "      <td>OK</td>\n",
       "      <td>41</td>\n",
       "      <td>415</td>\n",
       "      <td>0</td>\n",
       "      <td>0</td>\n",
       "      <td>166.7</td>\n",
       "      <td>113</td>\n",
       "      <td>28.34</td>\n",
       "      <td>3</td>\n",
       "      <td>0</td>\n",
       "    </tr>\n",
       "    <tr>\n",
       "      <th>4</th>\n",
       "      <td>MA</td>\n",
       "      <td>34</td>\n",
       "      <td>510</td>\n",
       "      <td>1</td>\n",
       "      <td>24</td>\n",
       "      <td>218.2</td>\n",
       "      <td>88</td>\n",
       "      <td>37.09</td>\n",
       "      <td>3</td>\n",
       "      <td>0</td>\n",
       "    </tr>\n",
       "  </tbody>\n",
       "</table>\n",
       "</div>"
      ],
      "text/plain": [
       "  state  age area_code  voice_mail_plan  number_vmail_messages  \\\n",
       "0    OH   42       415                1                     26   \n",
       "1    NJ   36       415                0                      0   \n",
       "2    OH   39       408                0                      0   \n",
       "3    OK   41       415                0                      0   \n",
       "4    MA   34       510                1                     24   \n",
       "\n",
       "   total_day_minutes  total_day_calls  total_day_charge  \\\n",
       "0              161.6              123             27.47   \n",
       "1              243.4              114             41.38   \n",
       "2              299.4               71             50.90   \n",
       "3              166.7              113             28.34   \n",
       "4              218.2               88             37.09   \n",
       "\n",
       "   number_customer_service_calls  churn  \n",
       "0                              1      0  \n",
       "1                              0      0  \n",
       "2                              2      0  \n",
       "3                              3      0  \n",
       "4                              3      0  "
      ]
     },
<<<<<<< HEAD
     "execution_count": 10,
=======
     "execution_count": 4,
>>>>>>> 33e35f241d23f05510413d5e7dfe539dcfe0fe49
     "metadata": {},
     "output_type": "execute_result"
    }
   ],
   "source": [
    "# Modify the area_code column by removing the \"area_code_\" part of the string from every entry.\n",
    "telcom_data_df['area_code'] = telcom_data_df['area_code'].str.replace('area_code_', '')\n",
    "# Modify the churn column by replacing the \"yes\" with a 1 and \"no\" with a 0.\n",
    "telcom_data_df['churn'] = telcom_data_df['churn'].replace({'yes': 1, 'no': 0})\n",
    "telcom_data_df.head()"
   ]
  },
  {
   "cell_type": "markdown",
   "metadata": {},
   "source": [
    "Now that the churn column contains numerical values, we can calculate the churn rate. It’s a business metric that gives us the percentage of people who stopped using the product during a given time period. We can calculate this metric for our data as follows:\n",
    "\n",
    " $$Churn Rate = (churned / total customers) ∗ 100$$\n",
    "Please note that all our rows correspond to customer data from the same time period. The formula above reflects that as well.\n",
    "\n",
    "The above metric can present us with a good overview of the percentage of user churn. As a business, of course, the goal is to minimize churn.\n",
    "\n",
    "Instructions\n",
    "In an empty cell, calculate the churn rate.\n",
    "In a Text Box, briefly describe whether you think the churn rate is high or not.\n",
    "Keep in mind that different industries have different average churn rates.\n",
    "We encourage you to look up articles or reports online that can help you interpret your calculated churn rate."
   ]
  },
  {
   "cell_type": "code",
<<<<<<< HEAD
   "execution_count": 12,
=======
   "execution_count": 5,
>>>>>>> 33e35f241d23f05510413d5e7dfe539dcfe0fe49
   "metadata": {},
   "outputs": [
    {
     "data": {
      "text/plain": [
       "14.070588235294117"
      ]
     },
<<<<<<< HEAD
     "execution_count": 12,
=======
     "execution_count": 5,
>>>>>>> 33e35f241d23f05510413d5e7dfe539dcfe0fe49
     "metadata": {},
     "output_type": "execute_result"
    }
   ],
   "source": [
    "# In an empty cell, calculate the churn rate.\n",
    "churn_rate = telcom_data_df['churn'].value_counts()[1] / telcom_data_df['churn'].count()\n",
    "\n",
    "# convert to percentage\n",
    "churn_rate = churn_rate * 100\n",
    "churn_rate"
   ]
  },
  {
   "cell_type": "markdown",
   "metadata": {},
   "source": [
    "# Initial EDA\n",
    "\n",
    "### The overall churn rate is about ~14%.\n",
    "\n",
    "We will now calculate some descriptive statistics and start investigating the types of customers who churn.\n",
    "\n",
    "Let's start with using the COUNTBLANK function to check if there are any missing values in our data. Since we are working with an already-cleaned dataset, there should be no missing values. However, it’s always a good idea to check for them when working with any dataset."
   ]
  },
  {
   "cell_type": "code",
<<<<<<< HEAD
   "execution_count": 14,
=======
   "execution_count": 6,
>>>>>>> 33e35f241d23f05510413d5e7dfe539dcfe0fe49
   "metadata": {},
   "outputs": [],
   "source": [
    "# In a Text Box, briefly describe whether you think the churn rate is high or not.\n",
    "# Keep in mind that different industries have different average churn rates.\n",
    "# We encourage you to look up articles or reports online that can help you interpret your calculated churn rate."
   ]
  },
  {
   "cell_type": "markdown",
   "metadata": {},
   "source": [
    "## Initial Data Exploration\n",
    "\n",
    "### Instructions\n",
    "\n",
    "1. **Copy and paste all of the numerical columns from the telco_churn sheet to a new sheet.**\n",
    "\n",
    "2. **For each column, calculate the following using Excel functions:**\n",
    "   - Number of NULL or blank values\n",
    "   - The mean of the column\n",
    "   - The median of the column\n",
    "   - The standard deviation of the column\n",
    "   - The minimum value of the column\n",
    "   - The maximum value of the column\n",
    "\n",
    "3. **Using these calculated values, create a separate table in the same sheet with the following:**\n",
    "   - The column names are the names of the columns from the dataset.\n",
    "   - Each row has a label corresponding to the statistic calculated in the previous step.\n",
    "\n",
    "4. **Insert a Text Box underneath the table, and add answers to the following questions:**\n",
    "   - Which columns have the most variation?\n",
    "   - Which columns have the largest difference between their mean and median values?\n",
    "   - What does the above indicate?"
   ]
  },
  {
   "cell_type": "code",
<<<<<<< HEAD
   "execution_count": 16,
=======
   "execution_count": 13,
>>>>>>> 33e35f241d23f05510413d5e7dfe539dcfe0fe49
   "metadata": {},
   "outputs": [
    {
     "data": {
      "text/plain": [
       "38.59929411764706"
      ]
     },
     "execution_count": 13,
     "metadata": {},
     "output_type": "execute_result"
    }
   ],
   "source": [
    "age_mean, age_median, age_mode, age_std, age_var, age_min, age_max = telcom_data_df['age'].mean(), telcom_data_df['age'].median(), telcom_data_df['age'].mode(), telcom_data_df['age'].std(), telcom_data_df['age'].var(), telcom_data_df['age'].min(), telcom_data_df['age'].max()\n",
    "voice_mail_plan_mean, voice_mail_plan_median, total_day_minutes_median, total_day_calls_median, number_customer_service_calls_median, churn_median = telcom_data_df['voice_mail_plan'].mean(), telcom_data_df['voice_mail_plan'].median(), telcom_data_df['total_day_minutes'].mode(), telcom_data_df['total_day_calls'].std(), telcom_data_df['number_customer_service_calls'].var(), telcom_data_df['churn'].min()\n",
    "number_vmail_messages_mean, number_vmail_messages_median, total_day_minutes_mode, total_day_calls_std, number_customer_service_calls_var, churn_min = telcom_data_df['number_vmail_messages'].mean(), telcom_data_df['number_vmail_messages'].median(), telcom_data_df['total_day_minutes'].mode(), telcom_data_df['total_day_calls'].std(), telcom_data_df['number_customer_service_calls'].var(), telcom_data_df['churn'].min()\n",
    "number_customer_service_calls_mean, number_customer_service_calls_median, number_customer_service_calls_mode, number_customer_service_calls_std, number_customer_service_calls_var, number_customer_service_calls_min, number_customer_service_calls_max = telcom_data_df['number_customer_service_calls'].mean(), telcom_data_df['number_customer_service_calls'].median(), telcom_data_df['number_customer_service_calls'].mode(), telcom_data_df['number_customer_service_calls'].std(), telcom_data_df['number_customer_service_calls'].var(), telcom_data_df['number_customer_service_calls'].min(), telcom_data_df['number_customer_service_calls'].max()\n",
    "total_day_minutes_mean, total_day_minutes_median, total_day_minutes_mode, total_day_minutes_std, total_day_minutes_var, total_day_minutes_min, total_day_minutes_max = telcom_data_df['total_day_minutes'].mean(), telcom_data_df['total_day_minutes'].median(), telcom_data_df['total_day_minutes'].mode(), telcom_data_df['total_day_minutes'].std(), telcom_data_df['total_day_minutes'].var(), telcom_data_df['total_day_minutes'].min(), telcom_data_df['total_day_minutes'].max()\n",
    "total_day_calls_mean, total_day_calls_median, total_day_calls_mode, total_day_calls_std, total_day_calls_var, total_day_calls_min, total_day_calls_max = telcom_data_df['total_day_calls'].mean(), telcom_data_df['total_day_calls'].median(), telcom_data_df['total_day_calls'].mode(), telcom_data_df['total_day_calls'].std(), telcom_data_df['total_day_calls'].var(), telcom_data_df['total_day_calls'].min(), telcom_data_df['total_day_calls'].max()\n",
    "total_day_charge_mean, total_day_charge_median, total_day_charge_mode, total_day_charge_std, total_day_charge_var, total_day_charge_min, total_day_charge_max = telcom_data_df['total_day_charge'].mean(), telcom_data_df['total_day_charge'].median(), telcom_data_df['total_day_charge'].mode(), telcom_data_df['total_day_charge'].std(), telcom_data_df['total_day_charge'].var(), telcom_data_df['total_day_charge'].min(), telcom_data_df['total_day_charge'].max()\n",
    "churn_mean, churn_median, churn_mode, churn_std, churn_var, churn_min, churn_max = telcom_data_df['churn'].mean(), telcom_data_df['churn'].median(), telcom_data_df['churn'].mode(), telcom_data_df['churn'].std(), telcom_data_df['churn'].var(), telcom_data_df['churn'].min(), telcom_data_df['churn'].max()\n"
   ]
  },
  {
   "cell_type": "code",
<<<<<<< HEAD
   "execution_count": 17,
=======
   "execution_count": 8,
>>>>>>> 33e35f241d23f05510413d5e7dfe539dcfe0fe49
   "metadata": {},
   "outputs": [
    {
     "data": {
      "text/html": [
       "<div>\n",
       "<style scoped>\n",
       "    .dataframe tbody tr th:only-of-type {\n",
       "        vertical-align: middle;\n",
       "    }\n",
       "\n",
       "    .dataframe tbody tr th {\n",
       "        vertical-align: top;\n",
       "    }\n",
       "\n",
       "    .dataframe thead th {\n",
       "        text-align: right;\n",
       "    }\n",
       "</style>\n",
       "<table border=\"1\" class=\"dataframe\">\n",
       "  <thead>\n",
       "    <tr style=\"text-align: right;\">\n",
       "      <th></th>\n",
       "      <th>age</th>\n",
       "      <th>voice_mail_plan</th>\n",
       "      <th>number_vmail_messages</th>\n",
       "      <th>total_day_minutes</th>\n",
       "      <th>total_day_calls</th>\n",
       "      <th>total_day_charge</th>\n",
       "      <th>number_customer_service_calls</th>\n",
       "      <th>churn</th>\n",
       "    </tr>\n",
       "  </thead>\n",
       "  <tbody>\n",
       "    <tr>\n",
       "      <th>count</th>\n",
       "      <td>4250.000000</td>\n",
       "      <td>4250.000000</td>\n",
       "      <td>4250.000000</td>\n",
       "      <td>4250.000000</td>\n",
       "      <td>4250.000000</td>\n",
       "      <td>4250.000000</td>\n",
       "      <td>4250.000000</td>\n",
       "      <td>4250.000000</td>\n",
       "    </tr>\n",
       "    <tr>\n",
       "      <th>mean</th>\n",
       "      <td>38.599294</td>\n",
       "      <td>0.261647</td>\n",
       "      <td>7.631765</td>\n",
       "      <td>180.259600</td>\n",
       "      <td>99.907294</td>\n",
       "      <td>30.644682</td>\n",
       "      <td>1.559059</td>\n",
       "      <td>0.140706</td>\n",
       "    </tr>\n",
       "    <tr>\n",
       "      <th>std</th>\n",
       "      <td>5.271062</td>\n",
       "      <td>0.439583</td>\n",
       "      <td>13.439882</td>\n",
       "      <td>54.012373</td>\n",
       "      <td>19.850817</td>\n",
       "      <td>9.182096</td>\n",
       "      <td>1.311434</td>\n",
       "      <td>0.347759</td>\n",
       "    </tr>\n",
       "    <tr>\n",
       "      <th>min</th>\n",
       "      <td>19.000000</td>\n",
       "      <td>0.000000</td>\n",
       "      <td>0.000000</td>\n",
       "      <td>0.000000</td>\n",
       "      <td>0.000000</td>\n",
       "      <td>0.000000</td>\n",
       "      <td>0.000000</td>\n",
       "      <td>0.000000</td>\n",
       "    </tr>\n",
       "    <tr>\n",
       "      <th>25%</th>\n",
       "      <td>36.000000</td>\n",
       "      <td>0.000000</td>\n",
       "      <td>0.000000</td>\n",
       "      <td>143.325000</td>\n",
       "      <td>87.000000</td>\n",
       "      <td>24.365000</td>\n",
       "      <td>1.000000</td>\n",
       "      <td>0.000000</td>\n",
       "    </tr>\n",
       "    <tr>\n",
       "      <th>50%</th>\n",
       "      <td>39.000000</td>\n",
       "      <td>0.000000</td>\n",
       "      <td>0.000000</td>\n",
       "      <td>180.450000</td>\n",
       "      <td>100.000000</td>\n",
       "      <td>30.680000</td>\n",
       "      <td>1.000000</td>\n",
       "      <td>0.000000</td>\n",
       "    </tr>\n",
       "    <tr>\n",
       "      <th>75%</th>\n",
       "      <td>42.000000</td>\n",
       "      <td>1.000000</td>\n",
       "      <td>16.000000</td>\n",
       "      <td>216.200000</td>\n",
       "      <td>113.000000</td>\n",
       "      <td>36.750000</td>\n",
       "      <td>2.000000</td>\n",
       "      <td>0.000000</td>\n",
       "    </tr>\n",
       "    <tr>\n",
       "      <th>max</th>\n",
       "      <td>55.000000</td>\n",
       "      <td>1.000000</td>\n",
       "      <td>52.000000</td>\n",
       "      <td>351.500000</td>\n",
       "      <td>165.000000</td>\n",
       "      <td>59.760000</td>\n",
       "      <td>9.000000</td>\n",
       "      <td>1.000000</td>\n",
       "    </tr>\n",
       "  </tbody>\n",
       "</table>\n",
       "</div>"
      ],
      "text/plain": [
       "               age  voice_mail_plan  number_vmail_messages  total_day_minutes  \\\n",
       "count  4250.000000      4250.000000            4250.000000        4250.000000   \n",
       "mean     38.599294         0.261647               7.631765         180.259600   \n",
       "std       5.271062         0.439583              13.439882          54.012373   \n",
       "min      19.000000         0.000000               0.000000           0.000000   \n",
       "25%      36.000000         0.000000               0.000000         143.325000   \n",
       "50%      39.000000         0.000000               0.000000         180.450000   \n",
       "75%      42.000000         1.000000              16.000000         216.200000   \n",
       "max      55.000000         1.000000              52.000000         351.500000   \n",
       "\n",
       "       total_day_calls  total_day_charge  number_customer_service_calls  \\\n",
       "count      4250.000000       4250.000000                    4250.000000   \n",
       "mean         99.907294         30.644682                       1.559059   \n",
       "std          19.850817          9.182096                       1.311434   \n",
       "min           0.000000          0.000000                       0.000000   \n",
       "25%          87.000000         24.365000                       1.000000   \n",
       "50%         100.000000         30.680000                       1.000000   \n",
       "75%         113.000000         36.750000                       2.000000   \n",
       "max         165.000000         59.760000                       9.000000   \n",
       "\n",
       "             churn  \n",
       "count  4250.000000  \n",
       "mean      0.140706  \n",
       "std       0.347759  \n",
       "min       0.000000  \n",
       "25%       0.000000  \n",
       "50%       0.000000  \n",
       "75%       0.000000  \n",
       "max       1.000000  "
      ]
     },
<<<<<<< HEAD
     "execution_count": 17,
=======
     "execution_count": 8,
>>>>>>> 33e35f241d23f05510413d5e7dfe539dcfe0fe49
     "metadata": {},
     "output_type": "execute_result"
    }
   ],
   "source": [
    "telcom_data_df.describe()\n"
   ]
  },
  {
   "cell_type": "markdown",
   "metadata": {},
   "source": [
    "   - Which columns have the most variation? total_day_minutes\n",
    "   - Which columns have the largest difference between their mean and median values? number_vmail_messages\n",
    "   - What does the above indicate?"
   ]
  },
  {
   "cell_type": "code",
   "execution_count": null,
   "metadata": {},
   "outputs": [],
   "source": []
  },
  {
   "cell_type": "markdown",
   "metadata": {},
   "source": [
    "## Exploring Data Grouped by State and Churn\n",
    "\n",
    "### Learn\n",
    "\n",
    "In the previous step, you discovered the following:\n",
    "\n",
    "- `churn` and `voice_mail_plan` are qualitative variables, so their corresponding descriptive statistics aren’t particularly helpful.\n",
    "- For most variables, the mean and the median are quite similar except for `number_vmail_messages`.\n",
    "- Some columns, like `total_day_calls` and `total_day_minutes`, have high variance.\n",
    "- When considered independently, these variables don’t help us draw any further conclusions.\n",
    "\n",
    "Let’s look at summary statistics by different segments to see if we can gather additional insights.\n",
    "\n",
    "### Instructions\n",
    "\n",
    "1. **In a new sheet, create a PivotTable grouping the data.**\n",
    "\n",
    "2. **Add `state` and then `churn` as Rows to the PivotTable Fields.**\n",
    "\n",
    "3. **Add the following as Values to the PivotTable Fields:**\n",
    "   - Average of `age`\n",
    "   - Sum of `voice_mail_plan`\n",
    "   - Sum of `number_vmail_messages`\n",
    "   - Average of `total_day_minutes`\n",
    "   - Count of `total_day_calls`\n",
    "   - Sum of `number_customer_service_calls`\n",
    "   - `Churn rate`\n",
    "\n",
    "4. **If necessary, rename any column of the above PivotTable to make it easier to reference later.**\n",
    "\n",
    "5. **Sort the above PivotTable by the “Churn rate” value in descending order.**\n",
    "\n",
    "6. **For the five states with the highest churn rate, compare the values corresponding to customers who have churned vs. those who haven’t.**\n",
    "\n",
    "7. **In a Text Box, briefly describe any patterns you notice between the values and the customers who churned in these five states.**\n",
    "   - For example, do churned customers in these states make more calls than those who didn't churn?\n",
    "\n",
    "8. **[Optional] Explore the above using the remaining columns.**\n",
    "\n",
    "9. **[Optional] Explore and identify patterns by grouping the data by `area_code` and `churn`.**"
   ]
  },
  {
   "cell_type": "code",
   "execution_count": 20,
   "metadata": {
    "scrolled": true
   },
   "outputs": [
    {
     "data": {
      "text/plain": [
       "state\n",
       "AK    0.668896\n",
       "AL    2.173913\n",
       "AR    1.839465\n",
       "AZ    1.170569\n",
       "CA    1.672241\n",
       "CO    1.505017\n",
       "CT    2.508361\n",
       "DC    1.337793\n",
       "DE    2.173913\n",
       "FL    1.505017\n",
       "GA    1.170569\n",
       "HI    0.668896\n",
       "IA    1.170569\n",
       "ID    2.006689\n",
       "IL    1.003344\n",
       "IN    2.173913\n",
       "KS    2.508361\n",
       "KY    2.006689\n",
       "LA    1.170569\n",
       "MA    2.341137\n",
       "MD    3.177258\n",
       "ME    2.675585\n",
       "MI    2.508361\n",
       "MN    3.177258\n",
       "MO    1.672241\n",
       "MS    2.508361\n",
       "MT    2.842809\n",
       "NC    1.170569\n",
       "ND    1.003344\n",
       "NE    0.836120\n",
       "NH    1.672241\n",
       "NJ    4.347826\n",
       "NM    1.672241\n",
       "NV    2.842809\n",
       "NY    2.675585\n",
       "OH    2.006689\n",
       "OK    2.675585\n",
       "OR    2.508361\n",
       "PA    1.337793\n",
       "RI    1.003344\n",
       "SC    2.341137\n",
       "SD    1.839465\n",
       "TN    2.006689\n",
       "TX    3.177258\n",
       "UT    2.006689\n",
       "VA    0.836120\n",
       "VT    1.672241\n",
       "WA    3.010033\n",
       "WI    1.170569\n",
       "WV    3.177258\n",
       "WY    1.672241\n",
       "Name: churn, dtype: float64"
      ]
     },
     "execution_count": 20,
     "metadata": {},
     "output_type": "execute_result"
    }
   ],
   "source": [
    "# In an empty cell, calculate the churn rate.\n",
    "# churn_rate = telcom_data_df['churn'].value_counts()[1] / telcom_data_df['churn'].count()\n",
    "\n",
    "# # convert to percentage\n",
    "# churn_rate = churn_rate * 100\n",
    "# churn_rate\n",
    "\n",
    "# churn by state\n",
    "churned_by_state = telcom_data_df.groupby('state')['churn'].sum() / 598 *100\n",
    "#churned_by_state = churned_by_state.sort_values(ascending=False)\n",
    "\n",
    "churned_by_state\n"
   ]
  },
  {
   "cell_type": "code",
   "execution_count": null,
   "metadata": {},
   "outputs": [],
   "source": []
  },
  {
   "cell_type": "code",
   "execution_count": 21,
   "metadata": {},
   "outputs": [
    {
     "data": {
      "text/html": [
       "<div>\n",
       "<style scoped>\n",
       "    .dataframe tbody tr th:only-of-type {\n",
       "        vertical-align: middle;\n",
       "    }\n",
       "\n",
       "    .dataframe tbody tr th {\n",
       "        vertical-align: top;\n",
       "    }\n",
       "\n",
       "    .dataframe thead th {\n",
       "        text-align: right;\n",
       "    }\n",
       "</style>\n",
       "<table border=\"1\" class=\"dataframe\">\n",
       "  <thead>\n",
       "    <tr style=\"text-align: right;\">\n",
       "      <th></th>\n",
       "      <th></th>\n",
       "      <th>age</th>\n",
       "      <th>churn_rate_per_state</th>\n",
       "      <th>number_customer_service_calls</th>\n",
       "      <th>number_vmail_messages</th>\n",
       "      <th>total_day_calls</th>\n",
       "      <th>total_day_minutes</th>\n",
       "      <th>voice_mail_plan</th>\n",
       "    </tr>\n",
       "    <tr>\n",
       "      <th>state</th>\n",
       "      <th>churn</th>\n",
       "      <th></th>\n",
       "      <th></th>\n",
       "      <th></th>\n",
       "      <th></th>\n",
       "      <th></th>\n",
       "      <th></th>\n",
       "      <th></th>\n",
       "    </tr>\n",
       "  </thead>\n",
       "  <tbody>\n",
       "    <tr>\n",
       "      <th rowspan=\"2\" valign=\"top\">NJ</th>\n",
       "      <th>0</th>\n",
       "      <td>39.228571</td>\n",
       "      <td>4.347826</td>\n",
       "      <td>92</td>\n",
       "      <td>460</td>\n",
       "      <td>70</td>\n",
       "      <td>179.958571</td>\n",
       "      <td>16</td>\n",
       "    </tr>\n",
       "    <tr>\n",
       "      <th>1</th>\n",
       "      <td>31.423077</td>\n",
       "      <td>4.347826</td>\n",
       "      <td>60</td>\n",
       "      <td>193</td>\n",
       "      <td>26</td>\n",
       "      <td>228.011538</td>\n",
       "      <td>6</td>\n",
       "    </tr>\n",
       "    <tr>\n",
       "      <th rowspan=\"2\" valign=\"top\">MD</th>\n",
       "      <th>0</th>\n",
       "      <td>39.731343</td>\n",
       "      <td>3.177258</td>\n",
       "      <td>98</td>\n",
       "      <td>466</td>\n",
       "      <td>67</td>\n",
       "      <td>182.897015</td>\n",
       "      <td>15</td>\n",
       "    </tr>\n",
       "    <tr>\n",
       "      <th>1</th>\n",
       "      <td>30.842105</td>\n",
       "      <td>3.177258</td>\n",
       "      <td>43</td>\n",
       "      <td>83</td>\n",
       "      <td>19</td>\n",
       "      <td>218.068421</td>\n",
       "      <td>2</td>\n",
       "    </tr>\n",
       "    <tr>\n",
       "      <th rowspan=\"2\" valign=\"top\">MN</th>\n",
       "      <th>0</th>\n",
       "      <td>40.359551</td>\n",
       "      <td>3.177258</td>\n",
       "      <td>121</td>\n",
       "      <td>673</td>\n",
       "      <td>89</td>\n",
       "      <td>175.539326</td>\n",
       "      <td>22</td>\n",
       "    </tr>\n",
       "    <tr>\n",
       "      <th>1</th>\n",
       "      <td>31.000000</td>\n",
       "      <td>3.177258</td>\n",
       "      <td>48</td>\n",
       "      <td>82</td>\n",
       "      <td>19</td>\n",
       "      <td>207.694737</td>\n",
       "      <td>3</td>\n",
       "    </tr>\n",
       "    <tr>\n",
       "      <th rowspan=\"2\" valign=\"top\">TX</th>\n",
       "      <th>0</th>\n",
       "      <td>40.177215</td>\n",
       "      <td>3.177258</td>\n",
       "      <td>128</td>\n",
       "      <td>587</td>\n",
       "      <td>79</td>\n",
       "      <td>177.674684</td>\n",
       "      <td>20</td>\n",
       "    </tr>\n",
       "    <tr>\n",
       "      <th>1</th>\n",
       "      <td>28.947368</td>\n",
       "      <td>3.177258</td>\n",
       "      <td>36</td>\n",
       "      <td>31</td>\n",
       "      <td>19</td>\n",
       "      <td>218.947368</td>\n",
       "      <td>1</td>\n",
       "    </tr>\n",
       "    <tr>\n",
       "      <th rowspan=\"2\" valign=\"top\">WV</th>\n",
       "      <th>0</th>\n",
       "      <td>39.700000</td>\n",
       "      <td>3.177258</td>\n",
       "      <td>186</td>\n",
       "      <td>943</td>\n",
       "      <td>120</td>\n",
       "      <td>174.003333</td>\n",
       "      <td>30</td>\n",
       "    </tr>\n",
       "    <tr>\n",
       "      <th>1</th>\n",
       "      <td>31.000000</td>\n",
       "      <td>3.177258</td>\n",
       "      <td>49</td>\n",
       "      <td>74</td>\n",
       "      <td>19</td>\n",
       "      <td>200.052632</td>\n",
       "      <td>2</td>\n",
       "    </tr>\n",
       "  </tbody>\n",
       "</table>\n",
       "</div>"
      ],
      "text/plain": [
       "                   age  churn_rate_per_state  number_customer_service_calls  \\\n",
       "state churn                                                                   \n",
       "NJ    0      39.228571              4.347826                             92   \n",
       "      1      31.423077              4.347826                             60   \n",
       "MD    0      39.731343              3.177258                             98   \n",
       "      1      30.842105              3.177258                             43   \n",
       "MN    0      40.359551              3.177258                            121   \n",
       "      1      31.000000              3.177258                             48   \n",
       "TX    0      40.177215              3.177258                            128   \n",
       "      1      28.947368              3.177258                             36   \n",
       "WV    0      39.700000              3.177258                            186   \n",
       "      1      31.000000              3.177258                             49   \n",
       "\n",
       "             number_vmail_messages  total_day_calls  total_day_minutes  \\\n",
       "state churn                                                              \n",
       "NJ    0                        460               70         179.958571   \n",
       "      1                        193               26         228.011538   \n",
       "MD    0                        466               67         182.897015   \n",
       "      1                         83               19         218.068421   \n",
       "MN    0                        673               89         175.539326   \n",
       "      1                         82               19         207.694737   \n",
       "TX    0                        587               79         177.674684   \n",
       "      1                         31               19         218.947368   \n",
       "WV    0                        943              120         174.003333   \n",
       "      1                         74               19         200.052632   \n",
       "\n",
       "             voice_mail_plan  \n",
       "state churn                   \n",
       "NJ    0                   16  \n",
       "      1                    6  \n",
       "MD    0                   15  \n",
       "      1                    2  \n",
       "MN    0                   22  \n",
       "      1                    3  \n",
       "TX    0                   20  \n",
       "      1                    1  \n",
       "WV    0                   30  \n",
       "      1                    2  "
      ]
     },
     "execution_count": 21,
     "metadata": {},
     "output_type": "execute_result"
    }
   ],
   "source": [
    "# create a pivot table with state and churn as rows \n",
<<<<<<< HEAD
    "#    - Average of `age`\n",
    "#    - Sum of `voice_mail_plan`\n",
    "#    - Sum of `number_vmail_messages`\n",
    "#    - Average of `total_day_minutes`\n",
    "#    - Count of `total_day_calls` \n",
    "#    - Sum of `number_customer_service_calls`\n",
=======
>>>>>>> 33e35f241d23f05510413d5e7dfe539dcfe0fe49
    "\n",
    "# calculate the churn rate per state and add it to the dataframe\n",
    "# Calculate churn rate per state\n",
    "churn_rate_per_state = telcom_data_df.groupby('state')['churn'].sum() / 598 * 100\n",
    "\n",
    "# Add this churn rate as a new column to the DataFrame\n",
    "telcom_data_df['churn_rate_per_state'] = telcom_data_df['state'].map(churn_rate_per_state)\n",
    "\n",
    "\n",
    "# create the pivot table\n",
    "telcom_data_pivot = pd.pivot_table(telcom_data_df, \n",
    "                                   index=['state', 'churn'], \n",
    "                                   values=['age', 'voice_mail_plan', 'number_vmail_messages', 'total_day_minutes', 'total_day_calls', 'number_customer_service_calls', 'churn_rate_per_state'], \n",
    "                                   aggfunc={'age': 'mean', 'voice_mail_plan': 'sum', 'number_vmail_messages': 'sum', 'total_day_minutes': 'mean', 'total_day_calls': 'count', 'number_customer_service_calls': 'sum', 'churn_rate_per_state': 'mean' })\n",
    "\n",
    "# Reset index to work with columns\n",
    "telcom_data_pivot_reset = telcom_data_pivot.reset_index()\n",
    "\n",
    "# Sort by churn rate, then by state\n",
    "telcom_data_pivot_churn_sorted = telcom_data_pivot_reset.sort_values(by=['churn_rate_per_state', 'state'], ascending=[False, True])\n",
    "\n",
    "# Set the index back if needed\n",
    "telcom_data_pivot_churn_sorted = telcom_data_pivot_churn_sorted.set_index(['state', 'churn'])\n",
    "# telcom_data_pivot_churn_sorted = telcom_data_pivot.sort_values(by='churn_rate_per_state', ascending=False)\n",
    "\n",
    "\n",
    "telcom_data_pivot_churn_sorted.head(10)"
   ]
  },
  {
   "cell_type": "markdown",
   "metadata": {},
   "source": [
    "For the five states with the highest churn rate, compare the values corresponding to customers who have churned vs. those who haven’t.\r",
    "- the people who churn tend to be younger (roughly 10 yr difference between the age mean)\n",
    "- the people who churned called customer service fewer times those who didn't call customer service\n",
    "- similarly those who chruned recieved less customer service VMs than those who did not churn.\r\n"
   ]
  },
  {
   "cell_type": "code",
   "execution_count": null,
   "metadata": {},
   "outputs": [],
   "source": []
  },
  {
   "cell_type": "code",
   "execution_count": null,
   "metadata": {},
   "outputs": [],
   "source": []
  },
  {
   "cell_type": "code",
   "execution_count": null,
   "metadata": {},
   "outputs": [],
   "source": []
  },
  {
   "cell_type": "code",
   "execution_count": null,
   "metadata": {},
   "outputs": [],
   "source": []
  },
  {
   "cell_type": "code",
   "execution_count": null,
   "metadata": {},
   "outputs": [],
   "source": []
  },
  {
   "cell_type": "code",
   "execution_count": null,
   "metadata": {},
   "outputs": [],
   "source": []
  },
  {
   "cell_type": "markdown",
   "metadata": {},
   "source": [
    "### Exploring Data Grouped by `voice_mail_plan` and `churn`\n",
    "\n",
    "### Learn\n",
    "\n",
    "In the PivotTable you created, you might have discovered that New Jersey (NJ) contributes the most to churn with 4.35% of all churned customers. You might also have noticed upon further exploration that those who churn have the following characteristics:\n",
    "\n",
    "- Younger than people who didn't churn\n",
    "- Make fewer daily calls\n",
    "- Are being charged more per day\n",
    "\n",
    "You can see there is a pattern emerging as we explore the data, and you might find more! If you didn’t discover much so far, don’t worry! We will continue to dig deeper.\n",
    "\n",
    "Next, we will group our data by the `voice_mail_plan` field.\n",
    "\n",
    "### Instructions\n",
    "\n",
    "1. **In a new sheet, create a PivotTable grouping the data.**\n",
    "\n",
    "2. **Add `voice_mail_plan` and then `churn` as Rows to the PivotTable Fields.**\n",
    "\n",
    "3. **Add the following as Values:**\n",
    "   - Average of `age`\n",
    "   - Sum of `number_vmail_messages`\n",
    "   - Sum of `total_day_minutes`\n",
    "   - Average of `total_day_charge`\n",
    "   - `Churn rate`\n",
    "\n",
    "4. **If necessary, rename any column of the above PivotTable to make it easier to reference later.**\n",
    "\n",
    "5. **In a Text Box, briefly describe any patterns you notice between the values and the customers who churned.**\n",
    "   - For example, you might notice a couple of 0s when you sum the `number_vmail_messages` column. Why do you think the sum would be 0?\n",
    "   - Feel free to point out any other interesting patterns you notice in the PivotTable.\n",
    "\n",
    "6. **[Optional] Explore the above using the remaining columns.**"
   ]
  },
  {
   "cell_type": "code",
<<<<<<< HEAD
   "execution_count": 24,
=======
<<<<<<< HEAD
   "execution_count": 16,
=======
   "execution_count": 11,
>>>>>>> 35eb337 (Adding in the work cody did on histograms)
>>>>>>> 33e35f241d23f05510413d5e7dfe539dcfe0fe49
   "metadata": {},
   "outputs": [
    {
     "data": {
      "text/html": [
       "<div>\n",
       "<style scoped>\n",
       "    .dataframe tbody tr th:only-of-type {\n",
       "        vertical-align: middle;\n",
       "    }\n",
       "\n",
       "    .dataframe tbody tr th {\n",
       "        vertical-align: top;\n",
       "    }\n",
       "\n",
       "    .dataframe thead th {\n",
       "        text-align: right;\n",
       "    }\n",
       "</style>\n",
       "<table border=\"1\" class=\"dataframe\">\n",
       "  <thead>\n",
       "    <tr style=\"text-align: right;\">\n",
       "      <th></th>\n",
       "      <th></th>\n",
       "      <th>age</th>\n",
       "      <th>churn_rate_per_state</th>\n",
       "      <th>number_vmail_messages</th>\n",
       "      <th>total_day_charge</th>\n",
       "      <th>total_day_minutes</th>\n",
       "    </tr>\n",
       "    <tr>\n",
<<<<<<< HEAD
       "      <th>voice_mail_plan</th>\n",
=======
<<<<<<< HEAD
       "      <th>state</th>\n",
=======
       "      <th>voice_mail_plan</th>\n",
>>>>>>> 35eb337 (Adding in the work cody did on histograms)
>>>>>>> 33e35f241d23f05510413d5e7dfe539dcfe0fe49
       "      <th>churn</th>\n",
       "      <th></th>\n",
       "      <th></th>\n",
       "      <th></th>\n",
       "      <th></th>\n",
       "      <th></th>\n",
       "    </tr>\n",
       "  </thead>\n",
       "  <tbody>\n",
       "    <tr>\n",
<<<<<<< HEAD
       "      <th rowspan=\"2\" valign=\"top\">1</th>\n",
=======
<<<<<<< HEAD
       "      <th rowspan=\"2\" valign=\"top\">NJ</th>\n",
       "      <th>1</th>\n",
       "      <td>31.423077</td>\n",
       "      <td>27.083333</td>\n",
       "      <td>193</td>\n",
       "      <td>38.761923</td>\n",
       "      <td>5928.3</td>\n",
       "    </tr>\n",
       "    <tr>\n",
>>>>>>> 33e35f241d23f05510413d5e7dfe539dcfe0fe49
       "      <th>0</th>\n",
       "      <td>40.070874</td>\n",
       "      <td>1.969348</td>\n",
       "      <td>29864</td>\n",
       "      <td>30.694311</td>\n",
       "      <td>185968.4</td>\n",
       "    </tr>\n",
       "    <tr>\n",
       "      <th>1</th>\n",
       "      <td>29.560976</td>\n",
       "      <td>2.314626</td>\n",
       "      <td>2571</td>\n",
       "      <td>29.883659</td>\n",
       "      <td>14414.4</td>\n",
       "    </tr>\n",
       "    <tr>\n",
       "      <th rowspan=\"2\" valign=\"top\">0</th>\n",
       "      <th>0</th>\n",
       "      <td>39.962624</td>\n",
       "      <td>1.997377</td>\n",
       "      <td>0</td>\n",
       "      <td>29.511293</td>\n",
       "      <td>455158.8</td>\n",
       "    </tr>\n",
       "    <tr>\n",
       "      <th>1</th>\n",
       "      <td>30.170543</td>\n",
       "      <td>2.273405</td>\n",
       "      <td>0</td>\n",
       "      <td>36.425756</td>\n",
       "      <td>110561.7</td>\n",
       "    </tr>\n",
       "  </tbody>\n",
       "</table>\n",
       "</div>"
      ],
      "text/plain": [
       "                             age  churn_rate_per_state  number_vmail_messages  \\\n",
       "voice_mail_plan churn                                                           \n",
       "1               0      40.070874              1.969348                  29864   \n",
       "                1      29.560976              2.314626                   2571   \n",
       "0               0      39.962624              1.997377                      0   \n",
       "                1      30.170543              2.273405                      0   \n",
       "\n",
       "                       total_day_charge  total_day_minutes  \n",
       "voice_mail_plan churn                                       \n",
       "1               0             30.694311           185968.4  \n",
       "                1             29.883659            14414.4  \n",
       "0               0             29.511293           455158.8  \n",
       "                1             36.425756           110561.7  "
      ]
     },
<<<<<<< HEAD
     "execution_count": 24,
=======
     "execution_count": 16,
=======
       "      <th rowspan=\"2\" valign=\"top\">1</th>\n",
       "      <th>0</th>\n",
       "      <td>40.070874</td>\n",
       "      <td>13.713324</td>\n",
       "      <td>29864</td>\n",
       "      <td>30.694311</td>\n",
       "      <td>185968.4</td>\n",
       "    </tr>\n",
       "    <tr>\n",
       "      <th>1</th>\n",
       "      <td>29.560976</td>\n",
       "      <td>16.161550</td>\n",
       "      <td>2571</td>\n",
       "      <td>29.883659</td>\n",
       "      <td>14414.4</td>\n",
       "    </tr>\n",
       "    <tr>\n",
       "      <th rowspan=\"2\" valign=\"top\">0</th>\n",
       "      <th>0</th>\n",
       "      <td>39.962624</td>\n",
       "      <td>13.814391</td>\n",
       "      <td>0</td>\n",
       "      <td>29.511293</td>\n",
       "      <td>455158.8</td>\n",
       "    </tr>\n",
       "    <tr>\n",
       "      <th>1</th>\n",
       "      <td>30.170543</td>\n",
       "      <td>15.753284</td>\n",
       "      <td>0</td>\n",
       "      <td>36.425756</td>\n",
       "      <td>110561.7</td>\n",
       "    </tr>\n",
       "  </tbody>\n",
       "</table>\n",
       "</div>"
      ],
      "text/plain": [
       "                             age  churn_rate_per_state  number_vmail_messages  \\\n",
       "voice_mail_plan churn                                                           \n",
       "1               0      40.070874             13.713324                  29864   \n",
       "                1      29.560976             16.161550                   2571   \n",
       "0               0      39.962624             13.814391                      0   \n",
       "                1      30.170543             15.753284                      0   \n",
       "\n",
       "                       total_day_charge  total_day_minutes  \n",
       "voice_mail_plan churn                                       \n",
       "1               0             30.694311           185968.4  \n",
       "                1             29.883659            14414.4  \n",
       "0               0             29.511293           455158.8  \n",
       "                1             36.425756           110561.7  "
      ]
     },
     "execution_count": 11,
>>>>>>> 35eb337 (Adding in the work cody did on histograms)
>>>>>>> 33e35f241d23f05510413d5e7dfe539dcfe0fe49
     "metadata": {},
     "output_type": "execute_result"
    }
   ],
   "source": [
    "# create the pivot table\n",
    "telcom_data_pivot = pd.pivot_table(telcom_data_df, \n",
    "                                   index=['voice_mail_plan', 'churn'], \n",
    "                                   values=['age', 'number_vmail_messages', 'total_day_minutes', 'total_day_charge', 'churn_rate_per_state'], \n",
    "                                   aggfunc={'age': 'mean', 'number_vmail_messages': 'sum', 'total_day_minutes': 'sum', 'total_day_charge': 'mean', 'churn_rate_per_state': 'mean'})\n",
    "\n",
    "telcom_data_pivot_churn_sorted = telcom_data_pivot.sort_values(by='voice_mail_plan', ascending=False)\n",
    "\n",
    "telcom_data_pivot_churn_sorted.head(10)\n"
   ]
  },
  {
   "cell_type": "code",
   "execution_count": null,
   "metadata": {},
   "outputs": [],
   "source": []
  },
  {
   "cell_type": "code",
   "execution_count": null,
   "metadata": {},
   "outputs": [],
   "source": []
  },
  {
   "cell_type": "code",
   "execution_count": null,
   "metadata": {},
   "outputs": [],
   "source": []
  },
  {
   "cell_type": "code",
   "execution_count": null,
   "metadata": {},
   "outputs": [],
   "source": []
  },
  {
   "cell_type": "code",
   "execution_count": null,
   "metadata": {},
   "outputs": [],
   "source": []
  },
  {
   "cell_type": "markdown",
   "metadata": {},
   "source": [
    "### Analyzing Frequency Distributions\n",
    "\n",
    "### Learn\n",
    "\n",
    "In the previous step, we discovered that 86.3% of people who churned didn't have a voicemail plan. For that segment, we can also see that they have the following characteristics:\n",
    "\n",
    "- Younger than those who didn't churn\n",
    "- Spend relatively less time on calls\n",
    "- Were spending more per day compared to the ones who didn’t churn and didn’t have a voicemail plan\n",
    "\n",
    "By now, you should have a good idea of what variables to look at to identify relevant patterns.\n",
    "\n",
    "We can now move on to exploring these relationships via appropriate visualizations. We'll first look at the individual distributions of our numerical columns for a broader understanding of our dataset.\n",
    "\n",
    "### Instructions\n",
    "\n",
    "1. **Copy the following numerical columns to a new sheet:**\n",
    "   - `age`\n",
    "   - `number_vmail_messages`\n",
    "   - `total_day_minutes`\n",
    "   - `total_day_calls`\n",
    "   - `total_day_charge`\n",
    "   - `number_service_calls`\n",
    "\n",
    "2. **For each column, create a histogram:**\n",
    "   - Add the appropriate title, axes labels, and legend (if any) to your charts.\n",
    "   - Maximize the data-ink ratio of your charts by removing any chartjunk.\n",
    "\n",
    "3. **For each chart, add a Text Box that briefly describes the chart.**\n",
    "   - For example, for `age`, you can specify the data’s distribution as well as the range within which the majority of the values lie.\n",
    "\n",
    "4. **Compare and contrast your histograms with the mean, median, and standard deviation values that you calculated during your initial EDA.**\n",
    "   - Do those values seem to match?\n",
    "   - [Optional] Or do you think you need to adjust the bins of any particular histogram?\n",
    "   - [Optional] In an empty cell, briefly explain any such observations you make."
   ]
  },
  {
   "cell_type": "code",
<<<<<<< HEAD
   "execution_count": 26,
=======
<<<<<<< HEAD
   "execution_count": 91,
=======
   "execution_count": 17,
>>>>>>> 35eb337 (Adding in the work cody did on histograms)
>>>>>>> 33e35f241d23f05510413d5e7dfe539dcfe0fe49
   "metadata": {},
   "outputs": [
    {
     "data": {},
     "metadata": {},
     "output_type": "display_data"
    },
    {
     "data": {
      "application/vnd.holoviews_exec.v0+json": "",
      "text/html": [
<<<<<<< HEAD
       "<div id='p1004'>\n",
       "  <div id=\"fd877c11-0bcf-40a9-88d2-5f62291655f8\" data-root-id=\"p1004\" style=\"display: contents;\"></div>\n",
       "</div>\n",
       "<script type=\"application/javascript\">(function(root) {\n",
       "  var docs_json = {\"00876c75-acf0-4e17-95f7-d2bf8a101205\":{\"version\":\"3.4.1\",\"title\":\"Bokeh Application\",\"roots\":[{\"type\":\"object\",\"name\":\"Row\",\"id\":\"p1004\",\"attributes\":{\"name\":\"Row00937\",\"tags\":[\"embedded\"],\"stylesheets\":[\"\\n:host(.pn-loading):before, .pn-loading:before {\\n  background-color: #c3c3c3;\\n  mask-size: auto calc(min(50%, 400px));\\n  -webkit-mask-size: auto calc(min(50%, 400px));\\n}\",{\"type\":\"object\",\"name\":\"ImportedStyleSheet\",\"id\":\"p1007\",\"attributes\":{\"url\":\"https://cdn.holoviz.org/panel/1.4.4/dist/css/loading.css\"}},{\"type\":\"object\",\"name\":\"ImportedStyleSheet\",\"id\":\"p1063\",\"attributes\":{\"url\":\"https://cdn.holoviz.org/panel/1.4.4/dist/css/listpanel.css\"}},{\"type\":\"object\",\"name\":\"ImportedStyleSheet\",\"id\":\"p1005\",\"attributes\":{\"url\":\"https://cdn.holoviz.org/panel/1.4.4/dist/bundled/theme/default.css\"}},{\"type\":\"object\",\"name\":\"ImportedStyleSheet\",\"id\":\"p1006\",\"attributes\":{\"url\":\"https://cdn.holoviz.org/panel/1.4.4/dist/bundled/theme/native.css\"}}],\"min_width\":700,\"margin\":0,\"sizing_mode\":\"stretch_width\",\"align\":\"start\",\"children\":[{\"type\":\"object\",\"name\":\"Spacer\",\"id\":\"p1008\",\"attributes\":{\"name\":\"HSpacer00944\",\"stylesheets\":[\"\\n:host(.pn-loading):before, .pn-loading:before {\\n  background-color: #c3c3c3;\\n  mask-size: auto calc(min(50%, 400px));\\n  -webkit-mask-size: auto calc(min(50%, 400px));\\n}\",{\"id\":\"p1007\"},{\"id\":\"p1005\"},{\"id\":\"p1006\"}],\"margin\":0,\"sizing_mode\":\"stretch_width\",\"align\":\"start\"}},{\"type\":\"object\",\"name\":\"Figure\",\"id\":\"p1016\",\"attributes\":{\"width\":700,\"height\":300,\"margin\":[5,10],\"sizing_mode\":\"fixed\",\"align\":\"start\",\"x_range\":{\"type\":\"object\",\"name\":\"Range1d\",\"id\":\"p1009\",\"attributes\":{\"tags\":[[[\"age\",null]],[]],\"start\":17.457142857142856,\"end\":56.542857142857144,\"reset_start\":17.457142857142856,\"reset_end\":56.542857142857144}},\"y_range\":{\"type\":\"object\",\"name\":\"Range1d\",\"id\":\"p1010\",\"attributes\":{\"tags\":[[[\"Count\",null]],{\"type\":\"map\",\"entries\":[[\"invert_yaxis\",false],[\"autorange\",false]]}],\"end\":818.1,\"reset_start\":0.0,\"reset_end\":818.1}},\"x_scale\":{\"type\":\"object\",\"name\":\"LinearScale\",\"id\":\"p1026\"},\"y_scale\":{\"type\":\"object\",\"name\":\"LinearScale\",\"id\":\"p1027\"},\"title\":{\"type\":\"object\",\"name\":\"Title\",\"id\":\"p1019\",\"attributes\":{\"text\":\"Age Distribution\",\"text_color\":\"black\",\"text_font_size\":\"12pt\"}},\"renderers\":[{\"type\":\"object\",\"name\":\"GlyphRenderer\",\"id\":\"p1056\",\"attributes\":{\"data_source\":{\"type\":\"object\",\"name\":\"ColumnDataSource\",\"id\":\"p1047\",\"attributes\":{\"selected\":{\"type\":\"object\",\"name\":\"Selection\",\"id\":\"p1048\",\"attributes\":{\"indices\":[],\"line_indices\":[]}},\"selection_policy\":{\"type\":\"object\",\"name\":\"UnionRenderers\",\"id\":\"p1049\"},\"data\":{\"type\":\"map\",\"entries\":[[\"top\",{\"type\":\"ndarray\",\"array\":{\"type\":\"bytes\",\"data\":\"BQAAAAkAAAAYAAAANgAAADIAAACTAAAAngAAAOwAAABWAQAA8AAAAHkCAADoAgAAnwIAAL8BAACeAAAAzgAAAFcAAAAbAAAACQAAAAMAAAA=\"},\"shape\":[20],\"dtype\":\"int32\",\"order\":\"little\"}],[\"left\",{\"type\":\"ndarray\",\"array\":{\"type\":\"bytes\",\"data\":\"AAAAAAAAM0DNzMzMzMw0QJqZmZmZmTZAZmZmZmZmOEAzMzMzMzM6QAAAAAAAADxAzczMzMzMPUCamZmZmZk/QDMzMzMzs0BAmpmZmZmZQUAAAAAAAIBCQGZmZmZmZkNAzczMzMxMREA0MzMzMzNFQJqZmZmZGUZAAAAAAAAAR0BmZmZmZuZHQM3MzMzMzEhAMzMzMzOzSUCamZmZmZlKQA==\"},\"shape\":[20],\"dtype\":\"float64\",\"order\":\"little\"}],[\"right\",{\"type\":\"ndarray\",\"array\":{\"type\":\"bytes\",\"data\":\"zczMzMzMNECamZmZmZk2QGZmZmZmZjhAMzMzMzMzOkAAAAAAAAA8QM3MzMzMzD1AmpmZmZmZP0AzMzMzM7NAQJqZmZmZmUFAAAAAAACAQkBmZmZmZmZDQM3MzMzMTERANDMzMzMzRUCamZmZmRlGQAAAAAAAAEdAZmZmZmbmR0DNzMzMzMxIQDMzMzMzs0lAmpmZmZmZSkAAAAAAAIBLQA==\"},\"shape\":[20],\"dtype\":\"float64\",\"order\":\"little\"}],[\"age\",{\"type\":\"ndarray\",\"array\":{\"type\":\"bytes\",\"data\":\"ZmZmZmbmM0A0MzMzM7M1QAAAAAAAgDdAzMzMzMxMOUCamZmZmRk7QGZmZmZm5jxANDMzMzOzPkAAAAAAAEBAQGZmZmZmJkFAzczMzMwMQkAzMzMzM/NCQJqZmZmZ2UNAAAAAAADAREBnZmZmZqZFQM3MzMzMjEZAMzMzMzNzR0CamZmZmVlIQAAAAAAAQElAZmZmZmYmSkDNzMzMzAxLQA==\"},\"shape\":[20],\"dtype\":\"float64\",\"order\":\"little\"}],[\"age_count\",{\"type\":\"ndarray\",\"array\":{\"type\":\"bytes\",\"data\":\"BQAAAAkAAAAYAAAANgAAADIAAACTAAAAngAAAOwAAABWAQAA8AAAAHkCAADoAgAAnwIAAL8BAACeAAAAzgAAAFcAAAAbAAAACQAAAAMAAAA=\"},\"shape\":[20],\"dtype\":\"int32\",\"order\":\"little\"}]]}}},\"view\":{\"type\":\"object\",\"name\":\"CDSView\",\"id\":\"p1057\",\"attributes\":{\"filter\":{\"type\":\"object\",\"name\":\"AllIndices\",\"id\":\"p1058\"}}},\"glyph\":{\"type\":\"object\",\"name\":\"Quad\",\"id\":\"p1053\",\"attributes\":{\"tags\":[\"apply_ranges\"],\"left\":{\"type\":\"field\",\"field\":\"left\"},\"right\":{\"type\":\"field\",\"field\":\"right\"},\"bottom\":{\"type\":\"value\",\"value\":0},\"top\":{\"type\":\"field\",\"field\":\"top\"},\"fill_color\":{\"type\":\"value\",\"value\":\"#30a2da\"},\"hatch_color\":{\"type\":\"value\",\"value\":\"#30a2da\"}}},\"selection_glyph\":{\"type\":\"object\",\"name\":\"Quad\",\"id\":\"p1059\",\"attributes\":{\"tags\":[\"apply_ranges\"],\"left\":{\"type\":\"field\",\"field\":\"left\"},\"right\":{\"type\":\"field\",\"field\":\"right\"},\"bottom\":{\"type\":\"value\",\"value\":0},\"top\":{\"type\":\"field\",\"field\":\"top\"},\"line_color\":{\"type\":\"value\",\"value\":\"black\"},\"line_alpha\":{\"type\":\"value\",\"value\":1.0},\"line_width\":{\"type\":\"value\",\"value\":1},\"line_join\":{\"type\":\"value\",\"value\":\"bevel\"},\"line_cap\":{\"type\":\"value\",\"value\":\"butt\"},\"line_dash\":{\"type\":\"value\",\"value\":[]},\"line_dash_offset\":{\"type\":\"value\",\"value\":0},\"fill_color\":{\"type\":\"value\",\"value\":\"#30a2da\"},\"fill_alpha\":{\"type\":\"value\",\"value\":1.0},\"hatch_color\":{\"type\":\"value\",\"value\":\"#30a2da\"},\"hatch_alpha\":{\"type\":\"value\",\"value\":1.0},\"hatch_scale\":{\"type\":\"value\",\"value\":12.0},\"hatch_pattern\":{\"type\":\"value\",\"value\":null},\"hatch_weight\":{\"type\":\"value\",\"value\":1.0}}},\"nonselection_glyph\":{\"type\":\"object\",\"name\":\"Quad\",\"id\":\"p1054\",\"attributes\":{\"tags\":[\"apply_ranges\"],\"left\":{\"type\":\"field\",\"field\":\"left\"},\"right\":{\"type\":\"field\",\"field\":\"right\"},\"bottom\":{\"type\":\"value\",\"value\":0},\"top\":{\"type\":\"field\",\"field\":\"top\"},\"line_alpha\":{\"type\":\"value\",\"value\":0.1},\"fill_color\":{\"type\":\"value\",\"value\":\"#30a2da\"},\"fill_alpha\":{\"type\":\"value\",\"value\":0.1},\"hatch_color\":{\"type\":\"value\",\"value\":\"#30a2da\"},\"hatch_alpha\":{\"type\":\"value\",\"value\":0.1}}},\"muted_glyph\":{\"type\":\"object\",\"name\":\"Quad\",\"id\":\"p1055\",\"attributes\":{\"tags\":[\"apply_ranges\"],\"left\":{\"type\":\"field\",\"field\":\"left\"},\"right\":{\"type\":\"field\",\"field\":\"right\"},\"bottom\":{\"type\":\"value\",\"value\":0},\"top\":{\"type\":\"field\",\"field\":\"top\"},\"line_alpha\":{\"type\":\"value\",\"value\":0.2},\"fill_color\":{\"type\":\"value\",\"value\":\"#30a2da\"},\"fill_alpha\":{\"type\":\"value\",\"value\":0.2},\"hatch_color\":{\"type\":\"value\",\"value\":\"#30a2da\"},\"hatch_alpha\":{\"type\":\"value\",\"value\":0.2}}}}}],\"toolbar\":{\"type\":\"object\",\"name\":\"Toolbar\",\"id\":\"p1025\",\"attributes\":{\"tools\":[{\"type\":\"object\",\"name\":\"WheelZoomTool\",\"id\":\"p1014\",\"attributes\":{\"tags\":[\"hv_created\"],\"renderers\":\"auto\",\"zoom_together\":\"none\"}},{\"type\":\"object\",\"name\":\"HoverTool\",\"id\":\"p1015\",\"attributes\":{\"tags\":[\"hv_created\"],\"renderers\":[{\"id\":\"p1056\"}],\"tooltips\":[[\"age\",\"@{age}\"],[\"Count\",\"@{age_count}\"]]}},{\"type\":\"object\",\"name\":\"SaveTool\",\"id\":\"p1038\"},{\"type\":\"object\",\"name\":\"PanTool\",\"id\":\"p1039\"},{\"type\":\"object\",\"name\":\"BoxZoomTool\",\"id\":\"p1040\",\"attributes\":{\"overlay\":{\"type\":\"object\",\"name\":\"BoxAnnotation\",\"id\":\"p1041\",\"attributes\":{\"syncable\":false,\"level\":\"overlay\",\"visible\":false,\"left\":{\"type\":\"number\",\"value\":\"nan\"},\"right\":{\"type\":\"number\",\"value\":\"nan\"},\"top\":{\"type\":\"number\",\"value\":\"nan\"},\"bottom\":{\"type\":\"number\",\"value\":\"nan\"},\"left_units\":\"canvas\",\"right_units\":\"canvas\",\"top_units\":\"canvas\",\"bottom_units\":\"canvas\",\"line_color\":\"black\",\"line_alpha\":1.0,\"line_width\":2,\"line_dash\":[4,4],\"fill_color\":\"lightgrey\",\"fill_alpha\":0.5}}}},{\"type\":\"object\",\"name\":\"ResetTool\",\"id\":\"p1046\"}],\"active_drag\":{\"id\":\"p1039\"},\"active_scroll\":{\"id\":\"p1014\"}}},\"left\":[{\"type\":\"object\",\"name\":\"LinearAxis\",\"id\":\"p1033\",\"attributes\":{\"ticker\":{\"type\":\"object\",\"name\":\"BasicTicker\",\"id\":\"p1034\",\"attributes\":{\"mantissas\":[1,2,5]}},\"formatter\":{\"type\":\"object\",\"name\":\"BasicTickFormatter\",\"id\":\"p1035\"},\"axis_label\":\"\",\"major_label_policy\":{\"type\":\"object\",\"name\":\"AllLabels\",\"id\":\"p1036\"}}}],\"below\":[{\"type\":\"object\",\"name\":\"LinearAxis\",\"id\":\"p1028\",\"attributes\":{\"ticker\":{\"type\":\"object\",\"name\":\"BasicTicker\",\"id\":\"p1029\",\"attributes\":{\"mantissas\":[1,2,5]}},\"formatter\":{\"type\":\"object\",\"name\":\"BasicTickFormatter\",\"id\":\"p1030\"},\"axis_label\":\"age\",\"major_label_policy\":{\"type\":\"object\",\"name\":\"AllLabels\",\"id\":\"p1031\"}}}],\"center\":[{\"type\":\"object\",\"name\":\"Grid\",\"id\":\"p1032\",\"attributes\":{\"axis\":{\"id\":\"p1028\"},\"grid_line_color\":null}},{\"type\":\"object\",\"name\":\"Grid\",\"id\":\"p1037\",\"attributes\":{\"dimension\":1,\"axis\":{\"id\":\"p1033\"},\"grid_line_color\":null}}],\"min_border_top\":10,\"min_border_bottom\":10,\"min_border_left\":10,\"min_border_right\":10,\"output_backend\":\"webgl\"}},{\"type\":\"object\",\"name\":\"Spacer\",\"id\":\"p1061\",\"attributes\":{\"name\":\"HSpacer00945\",\"stylesheets\":[\"\\n:host(.pn-loading):before, .pn-loading:before {\\n  background-color: #c3c3c3;\\n  mask-size: auto calc(min(50%, 400px));\\n  -webkit-mask-size: auto calc(min(50%, 400px));\\n}\",{\"id\":\"p1007\"},{\"id\":\"p1005\"},{\"id\":\"p1006\"}],\"margin\":0,\"sizing_mode\":\"stretch_width\",\"align\":\"start\"}}]}}],\"defs\":[{\"type\":\"model\",\"name\":\"ReactiveHTML1\"},{\"type\":\"model\",\"name\":\"FlexBox1\",\"properties\":[{\"name\":\"align_content\",\"kind\":\"Any\",\"default\":\"flex-start\"},{\"name\":\"align_items\",\"kind\":\"Any\",\"default\":\"flex-start\"},{\"name\":\"flex_direction\",\"kind\":\"Any\",\"default\":\"row\"},{\"name\":\"flex_wrap\",\"kind\":\"Any\",\"default\":\"wrap\"},{\"name\":\"gap\",\"kind\":\"Any\",\"default\":\"\"},{\"name\":\"justify_content\",\"kind\":\"Any\",\"default\":\"flex-start\"}]},{\"type\":\"model\",\"name\":\"FloatPanel1\",\"properties\":[{\"name\":\"config\",\"kind\":\"Any\",\"default\":{\"type\":\"map\"}},{\"name\":\"contained\",\"kind\":\"Any\",\"default\":true},{\"name\":\"position\",\"kind\":\"Any\",\"default\":\"right-top\"},{\"name\":\"offsetx\",\"kind\":\"Any\",\"default\":null},{\"name\":\"offsety\",\"kind\":\"Any\",\"default\":null},{\"name\":\"theme\",\"kind\":\"Any\",\"default\":\"primary\"},{\"name\":\"status\",\"kind\":\"Any\",\"default\":\"normalized\"}]},{\"type\":\"model\",\"name\":\"GridStack1\",\"properties\":[{\"name\":\"mode\",\"kind\":\"Any\",\"default\":\"warn\"},{\"name\":\"ncols\",\"kind\":\"Any\",\"default\":null},{\"name\":\"nrows\",\"kind\":\"Any\",\"default\":null},{\"name\":\"allow_resize\",\"kind\":\"Any\",\"default\":true},{\"name\":\"allow_drag\",\"kind\":\"Any\",\"default\":true},{\"name\":\"state\",\"kind\":\"Any\",\"default\":[]}]},{\"type\":\"model\",\"name\":\"drag1\",\"properties\":[{\"name\":\"slider_width\",\"kind\":\"Any\",\"default\":5},{\"name\":\"slider_color\",\"kind\":\"Any\",\"default\":\"black\"},{\"name\":\"value\",\"kind\":\"Any\",\"default\":50}]},{\"type\":\"model\",\"name\":\"click1\",\"properties\":[{\"name\":\"terminal_output\",\"kind\":\"Any\",\"default\":\"\"},{\"name\":\"debug_name\",\"kind\":\"Any\",\"default\":\"\"},{\"name\":\"clears\",\"kind\":\"Any\",\"default\":0}]},{\"type\":\"model\",\"name\":\"FastWrapper1\",\"properties\":[{\"name\":\"object\",\"kind\":\"Any\",\"default\":null},{\"name\":\"style\",\"kind\":\"Any\",\"default\":null}]},{\"type\":\"model\",\"name\":\"NotificationAreaBase1\",\"properties\":[{\"name\":\"js_events\",\"kind\":\"Any\",\"default\":{\"type\":\"map\"}},{\"name\":\"position\",\"kind\":\"Any\",\"default\":\"bottom-right\"},{\"name\":\"_clear\",\"kind\":\"Any\",\"default\":0}]},{\"type\":\"model\",\"name\":\"NotificationArea1\",\"properties\":[{\"name\":\"js_events\",\"kind\":\"Any\",\"default\":{\"type\":\"map\"}},{\"name\":\"notifications\",\"kind\":\"Any\",\"default\":[]},{\"name\":\"position\",\"kind\":\"Any\",\"default\":\"bottom-right\"},{\"name\":\"_clear\",\"kind\":\"Any\",\"default\":0},{\"name\":\"types\",\"kind\":\"Any\",\"default\":[{\"type\":\"map\",\"entries\":[[\"type\",\"warning\"],[\"background\",\"#ffc107\"],[\"icon\",{\"type\":\"map\",\"entries\":[[\"className\",\"fas fa-exclamation-triangle\"],[\"tagName\",\"i\"],[\"color\",\"white\"]]}]]},{\"type\":\"map\",\"entries\":[[\"type\",\"info\"],[\"background\",\"#007bff\"],[\"icon\",{\"type\":\"map\",\"entries\":[[\"className\",\"fas fa-info-circle\"],[\"tagName\",\"i\"],[\"color\",\"white\"]]}]]}]}]},{\"type\":\"model\",\"name\":\"Notification\",\"properties\":[{\"name\":\"background\",\"kind\":\"Any\",\"default\":null},{\"name\":\"duration\",\"kind\":\"Any\",\"default\":3000},{\"name\":\"icon\",\"kind\":\"Any\",\"default\":null},{\"name\":\"message\",\"kind\":\"Any\",\"default\":\"\"},{\"name\":\"notification_type\",\"kind\":\"Any\",\"default\":null},{\"name\":\"_destroyed\",\"kind\":\"Any\",\"default\":false}]},{\"type\":\"model\",\"name\":\"TemplateActions1\",\"properties\":[{\"name\":\"open_modal\",\"kind\":\"Any\",\"default\":0},{\"name\":\"close_modal\",\"kind\":\"Any\",\"default\":0}]},{\"type\":\"model\",\"name\":\"BootstrapTemplateActions1\",\"properties\":[{\"name\":\"open_modal\",\"kind\":\"Any\",\"default\":0},{\"name\":\"close_modal\",\"kind\":\"Any\",\"default\":0}]},{\"type\":\"model\",\"name\":\"TemplateEditor1\",\"properties\":[{\"name\":\"layout\",\"kind\":\"Any\",\"default\":[]}]},{\"type\":\"model\",\"name\":\"MaterialTemplateActions1\",\"properties\":[{\"name\":\"open_modal\",\"kind\":\"Any\",\"default\":0},{\"name\":\"close_modal\",\"kind\":\"Any\",\"default\":0}]},{\"type\":\"model\",\"name\":\"copy_to_clipboard1\",\"properties\":[{\"name\":\"fill\",\"kind\":\"Any\",\"default\":\"none\"},{\"name\":\"value\",\"kind\":\"Any\",\"default\":null}]}]}};\n",
       "  var render_items = [{\"docid\":\"00876c75-acf0-4e17-95f7-d2bf8a101205\",\"roots\":{\"p1004\":\"fd877c11-0bcf-40a9-88d2-5f62291655f8\"},\"root_ids\":[\"p1004\"]}];\n",
=======
<<<<<<< HEAD
       "<div id='p1400'>\n",
       "  <div id=\"beeb37d0-d989-4c8d-83de-424451d5aa01\" data-root-id=\"p1400\" style=\"display: contents;\"></div>\n",
       "</div>\n",
       "<script type=\"application/javascript\">(function(root) {\n",
       "  var docs_json = {\"fff93f23-1da5-4464-8914-e681f35aec01\":{\"version\":\"3.4.1\",\"title\":\"Bokeh Application\",\"roots\":[{\"type\":\"object\",\"name\":\"Row\",\"id\":\"p1400\",\"attributes\":{\"name\":\"Row04393\",\"tags\":[\"embedded\"],\"stylesheets\":[\"\\n:host(.pn-loading):before, .pn-loading:before {\\n  background-color: #c3c3c3;\\n  mask-size: auto calc(min(50%, 400px));\\n  -webkit-mask-size: auto calc(min(50%, 400px));\\n}\",{\"type\":\"object\",\"name\":\"ImportedStyleSheet\",\"id\":\"p1403\",\"attributes\":{\"url\":\"https://cdn.holoviz.org/panel/1.4.4/dist/css/loading.css\"}},{\"type\":\"object\",\"name\":\"ImportedStyleSheet\",\"id\":\"p1459\",\"attributes\":{\"url\":\"https://cdn.holoviz.org/panel/1.4.4/dist/css/listpanel.css\"}},{\"type\":\"object\",\"name\":\"ImportedStyleSheet\",\"id\":\"p1401\",\"attributes\":{\"url\":\"https://cdn.holoviz.org/panel/1.4.4/dist/bundled/theme/default.css\"}},{\"type\":\"object\",\"name\":\"ImportedStyleSheet\",\"id\":\"p1402\",\"attributes\":{\"url\":\"https://cdn.holoviz.org/panel/1.4.4/dist/bundled/theme/native.css\"}}],\"min_width\":700,\"margin\":0,\"sizing_mode\":\"stretch_width\",\"align\":\"start\",\"children\":[{\"type\":\"object\",\"name\":\"Spacer\",\"id\":\"p1404\",\"attributes\":{\"name\":\"HSpacer04400\",\"stylesheets\":[\"\\n:host(.pn-loading):before, .pn-loading:before {\\n  background-color: #c3c3c3;\\n  mask-size: auto calc(min(50%, 400px));\\n  -webkit-mask-size: auto calc(min(50%, 400px));\\n}\",{\"id\":\"p1403\"},{\"id\":\"p1401\"},{\"id\":\"p1402\"}],\"margin\":0,\"sizing_mode\":\"stretch_width\",\"align\":\"start\"}},{\"type\":\"object\",\"name\":\"Figure\",\"id\":\"p1412\",\"attributes\":{\"width\":700,\"height\":300,\"margin\":[5,10],\"sizing_mode\":\"fixed\",\"align\":\"start\",\"x_range\":{\"type\":\"object\",\"name\":\"Range1d\",\"id\":\"p1405\",\"attributes\":{\"tags\":[[[\"age\",null]],[]],\"start\":17.457142857142856,\"end\":56.542857142857144,\"reset_start\":17.457142857142856,\"reset_end\":56.542857142857144}},\"y_range\":{\"type\":\"object\",\"name\":\"Range1d\",\"id\":\"p1406\",\"attributes\":{\"tags\":[[[\"Count\",null]],{\"type\":\"map\",\"entries\":[[\"invert_yaxis\",false],[\"autorange\",false]]}],\"end\":818.1,\"reset_start\":0.0,\"reset_end\":818.1}},\"x_scale\":{\"type\":\"object\",\"name\":\"LinearScale\",\"id\":\"p1422\"},\"y_scale\":{\"type\":\"object\",\"name\":\"LinearScale\",\"id\":\"p1423\"},\"title\":{\"type\":\"object\",\"name\":\"Title\",\"id\":\"p1415\",\"attributes\":{\"text\":\"Age Distribution\",\"text_color\":\"black\",\"text_font_size\":\"12pt\"}},\"renderers\":[{\"type\":\"object\",\"name\":\"GlyphRenderer\",\"id\":\"p1452\",\"attributes\":{\"data_source\":{\"type\":\"object\",\"name\":\"ColumnDataSource\",\"id\":\"p1443\",\"attributes\":{\"selected\":{\"type\":\"object\",\"name\":\"Selection\",\"id\":\"p1444\",\"attributes\":{\"indices\":[],\"line_indices\":[]}},\"selection_policy\":{\"type\":\"object\",\"name\":\"UnionRenderers\",\"id\":\"p1445\"},\"data\":{\"type\":\"map\",\"entries\":[[\"top\",{\"type\":\"ndarray\",\"array\":{\"type\":\"bytes\",\"data\":\"BQAAAAkAAAAYAAAANgAAADIAAACTAAAAngAAAOwAAABWAQAA8AAAAHkCAADoAgAAnwIAAL8BAACeAAAAzgAAAFcAAAAbAAAACQAAAAMAAAA=\"},\"shape\":[20],\"dtype\":\"int32\",\"order\":\"little\"}],[\"left\",{\"type\":\"ndarray\",\"array\":{\"type\":\"bytes\",\"data\":\"AAAAAAAAM0DNzMzMzMw0QJqZmZmZmTZAZmZmZmZmOEAzMzMzMzM6QAAAAAAAADxAzczMzMzMPUCamZmZmZk/QDMzMzMzs0BAmpmZmZmZQUAAAAAAAIBCQGZmZmZmZkNAzczMzMxMREA0MzMzMzNFQJqZmZmZGUZAAAAAAAAAR0BmZmZmZuZHQM3MzMzMzEhAMzMzMzOzSUCamZmZmZlKQA==\"},\"shape\":[20],\"dtype\":\"float64\",\"order\":\"little\"}],[\"right\",{\"type\":\"ndarray\",\"array\":{\"type\":\"bytes\",\"data\":\"zczMzMzMNECamZmZmZk2QGZmZmZmZjhAMzMzMzMzOkAAAAAAAAA8QM3MzMzMzD1AmpmZmZmZP0AzMzMzM7NAQJqZmZmZmUFAAAAAAACAQkBmZmZmZmZDQM3MzMzMTERANDMzMzMzRUCamZmZmRlGQAAAAAAAAEdAZmZmZmbmR0DNzMzMzMxIQDMzMzMzs0lAmpmZmZmZSkAAAAAAAIBLQA==\"},\"shape\":[20],\"dtype\":\"float64\",\"order\":\"little\"}],[\"age\",{\"type\":\"ndarray\",\"array\":{\"type\":\"bytes\",\"data\":\"ZmZmZmbmM0A0MzMzM7M1QAAAAAAAgDdAzMzMzMxMOUCamZmZmRk7QGZmZmZm5jxANDMzMzOzPkAAAAAAAEBAQGZmZmZmJkFAzczMzMwMQkAzMzMzM/NCQJqZmZmZ2UNAAAAAAADAREBnZmZmZqZFQM3MzMzMjEZAMzMzMzNzR0CamZmZmVlIQAAAAAAAQElAZmZmZmYmSkDNzMzMzAxLQA==\"},\"shape\":[20],\"dtype\":\"float64\",\"order\":\"little\"}],[\"age_count\",{\"type\":\"ndarray\",\"array\":{\"type\":\"bytes\",\"data\":\"BQAAAAkAAAAYAAAANgAAADIAAACTAAAAngAAAOwAAABWAQAA8AAAAHkCAADoAgAAnwIAAL8BAACeAAAAzgAAAFcAAAAbAAAACQAAAAMAAAA=\"},\"shape\":[20],\"dtype\":\"int32\",\"order\":\"little\"}]]}}},\"view\":{\"type\":\"object\",\"name\":\"CDSView\",\"id\":\"p1453\",\"attributes\":{\"filter\":{\"type\":\"object\",\"name\":\"AllIndices\",\"id\":\"p1454\"}}},\"glyph\":{\"type\":\"object\",\"name\":\"Quad\",\"id\":\"p1449\",\"attributes\":{\"tags\":[\"apply_ranges\"],\"left\":{\"type\":\"field\",\"field\":\"left\"},\"right\":{\"type\":\"field\",\"field\":\"right\"},\"bottom\":{\"type\":\"value\",\"value\":0},\"top\":{\"type\":\"field\",\"field\":\"top\"},\"fill_color\":{\"type\":\"value\",\"value\":\"#30a2da\"},\"hatch_color\":{\"type\":\"value\",\"value\":\"#30a2da\"}}},\"selection_glyph\":{\"type\":\"object\",\"name\":\"Quad\",\"id\":\"p1455\",\"attributes\":{\"tags\":[\"apply_ranges\"],\"left\":{\"type\":\"field\",\"field\":\"left\"},\"right\":{\"type\":\"field\",\"field\":\"right\"},\"bottom\":{\"type\":\"value\",\"value\":0},\"top\":{\"type\":\"field\",\"field\":\"top\"},\"line_color\":{\"type\":\"value\",\"value\":\"black\"},\"line_alpha\":{\"type\":\"value\",\"value\":1.0},\"line_width\":{\"type\":\"value\",\"value\":1},\"line_join\":{\"type\":\"value\",\"value\":\"bevel\"},\"line_cap\":{\"type\":\"value\",\"value\":\"butt\"},\"line_dash\":{\"type\":\"value\",\"value\":[]},\"line_dash_offset\":{\"type\":\"value\",\"value\":0},\"fill_color\":{\"type\":\"value\",\"value\":\"#30a2da\"},\"fill_alpha\":{\"type\":\"value\",\"value\":1.0},\"hatch_color\":{\"type\":\"value\",\"value\":\"#30a2da\"},\"hatch_alpha\":{\"type\":\"value\",\"value\":1.0},\"hatch_scale\":{\"type\":\"value\",\"value\":12.0},\"hatch_pattern\":{\"type\":\"value\",\"value\":null},\"hatch_weight\":{\"type\":\"value\",\"value\":1.0}}},\"nonselection_glyph\":{\"type\":\"object\",\"name\":\"Quad\",\"id\":\"p1450\",\"attributes\":{\"tags\":[\"apply_ranges\"],\"left\":{\"type\":\"field\",\"field\":\"left\"},\"right\":{\"type\":\"field\",\"field\":\"right\"},\"bottom\":{\"type\":\"value\",\"value\":0},\"top\":{\"type\":\"field\",\"field\":\"top\"},\"line_alpha\":{\"type\":\"value\",\"value\":0.1},\"fill_color\":{\"type\":\"value\",\"value\":\"#30a2da\"},\"fill_alpha\":{\"type\":\"value\",\"value\":0.1},\"hatch_color\":{\"type\":\"value\",\"value\":\"#30a2da\"},\"hatch_alpha\":{\"type\":\"value\",\"value\":0.1}}},\"muted_glyph\":{\"type\":\"object\",\"name\":\"Quad\",\"id\":\"p1451\",\"attributes\":{\"tags\":[\"apply_ranges\"],\"left\":{\"type\":\"field\",\"field\":\"left\"},\"right\":{\"type\":\"field\",\"field\":\"right\"},\"bottom\":{\"type\":\"value\",\"value\":0},\"top\":{\"type\":\"field\",\"field\":\"top\"},\"line_alpha\":{\"type\":\"value\",\"value\":0.2},\"fill_color\":{\"type\":\"value\",\"value\":\"#30a2da\"},\"fill_alpha\":{\"type\":\"value\",\"value\":0.2},\"hatch_color\":{\"type\":\"value\",\"value\":\"#30a2da\"},\"hatch_alpha\":{\"type\":\"value\",\"value\":0.2}}}}}],\"toolbar\":{\"type\":\"object\",\"name\":\"Toolbar\",\"id\":\"p1421\",\"attributes\":{\"tools\":[{\"type\":\"object\",\"name\":\"WheelZoomTool\",\"id\":\"p1410\",\"attributes\":{\"tags\":[\"hv_created\"],\"renderers\":\"auto\",\"zoom_together\":\"none\"}},{\"type\":\"object\",\"name\":\"HoverTool\",\"id\":\"p1411\",\"attributes\":{\"tags\":[\"hv_created\"],\"renderers\":[{\"id\":\"p1452\"}],\"tooltips\":[[\"age\",\"@{age}\"],[\"Count\",\"@{age_count}\"]]}},{\"type\":\"object\",\"name\":\"SaveTool\",\"id\":\"p1434\"},{\"type\":\"object\",\"name\":\"PanTool\",\"id\":\"p1435\"},{\"type\":\"object\",\"name\":\"BoxZoomTool\",\"id\":\"p1436\",\"attributes\":{\"overlay\":{\"type\":\"object\",\"name\":\"BoxAnnotation\",\"id\":\"p1437\",\"attributes\":{\"syncable\":false,\"level\":\"overlay\",\"visible\":false,\"left\":{\"type\":\"number\",\"value\":\"nan\"},\"right\":{\"type\":\"number\",\"value\":\"nan\"},\"top\":{\"type\":\"number\",\"value\":\"nan\"},\"bottom\":{\"type\":\"number\",\"value\":\"nan\"},\"left_units\":\"canvas\",\"right_units\":\"canvas\",\"top_units\":\"canvas\",\"bottom_units\":\"canvas\",\"line_color\":\"black\",\"line_alpha\":1.0,\"line_width\":2,\"line_dash\":[4,4],\"fill_color\":\"lightgrey\",\"fill_alpha\":0.5}}}},{\"type\":\"object\",\"name\":\"ResetTool\",\"id\":\"p1442\"}],\"active_drag\":{\"id\":\"p1435\"},\"active_scroll\":{\"id\":\"p1410\"}}},\"left\":[{\"type\":\"object\",\"name\":\"LinearAxis\",\"id\":\"p1429\",\"attributes\":{\"ticker\":{\"type\":\"object\",\"name\":\"BasicTicker\",\"id\":\"p1430\",\"attributes\":{\"mantissas\":[1,2,5]}},\"formatter\":{\"type\":\"object\",\"name\":\"BasicTickFormatter\",\"id\":\"p1431\"},\"axis_label\":\"\",\"major_label_policy\":{\"type\":\"object\",\"name\":\"AllLabels\",\"id\":\"p1432\"}}}],\"below\":[{\"type\":\"object\",\"name\":\"LinearAxis\",\"id\":\"p1424\",\"attributes\":{\"ticker\":{\"type\":\"object\",\"name\":\"BasicTicker\",\"id\":\"p1425\",\"attributes\":{\"mantissas\":[1,2,5]}},\"formatter\":{\"type\":\"object\",\"name\":\"BasicTickFormatter\",\"id\":\"p1426\"},\"axis_label\":\"age\",\"major_label_policy\":{\"type\":\"object\",\"name\":\"AllLabels\",\"id\":\"p1427\"}}}],\"center\":[{\"type\":\"object\",\"name\":\"Grid\",\"id\":\"p1428\",\"attributes\":{\"axis\":{\"id\":\"p1424\"},\"grid_line_color\":null}},{\"type\":\"object\",\"name\":\"Grid\",\"id\":\"p1433\",\"attributes\":{\"dimension\":1,\"axis\":{\"id\":\"p1429\"},\"grid_line_color\":null}}],\"min_border_top\":10,\"min_border_bottom\":10,\"min_border_left\":10,\"min_border_right\":10,\"output_backend\":\"webgl\"}},{\"type\":\"object\",\"name\":\"Spacer\",\"id\":\"p1457\",\"attributes\":{\"name\":\"HSpacer04401\",\"stylesheets\":[\"\\n:host(.pn-loading):before, .pn-loading:before {\\n  background-color: #c3c3c3;\\n  mask-size: auto calc(min(50%, 400px));\\n  -webkit-mask-size: auto calc(min(50%, 400px));\\n}\",{\"id\":\"p1403\"},{\"id\":\"p1401\"},{\"id\":\"p1402\"}],\"margin\":0,\"sizing_mode\":\"stretch_width\",\"align\":\"start\"}}]}}],\"defs\":[{\"type\":\"model\",\"name\":\"ReactiveHTML1\"},{\"type\":\"model\",\"name\":\"FlexBox1\",\"properties\":[{\"name\":\"align_content\",\"kind\":\"Any\",\"default\":\"flex-start\"},{\"name\":\"align_items\",\"kind\":\"Any\",\"default\":\"flex-start\"},{\"name\":\"flex_direction\",\"kind\":\"Any\",\"default\":\"row\"},{\"name\":\"flex_wrap\",\"kind\":\"Any\",\"default\":\"wrap\"},{\"name\":\"gap\",\"kind\":\"Any\",\"default\":\"\"},{\"name\":\"justify_content\",\"kind\":\"Any\",\"default\":\"flex-start\"}]},{\"type\":\"model\",\"name\":\"FloatPanel1\",\"properties\":[{\"name\":\"config\",\"kind\":\"Any\",\"default\":{\"type\":\"map\"}},{\"name\":\"contained\",\"kind\":\"Any\",\"default\":true},{\"name\":\"position\",\"kind\":\"Any\",\"default\":\"right-top\"},{\"name\":\"offsetx\",\"kind\":\"Any\",\"default\":null},{\"name\":\"offsety\",\"kind\":\"Any\",\"default\":null},{\"name\":\"theme\",\"kind\":\"Any\",\"default\":\"primary\"},{\"name\":\"status\",\"kind\":\"Any\",\"default\":\"normalized\"}]},{\"type\":\"model\",\"name\":\"GridStack1\",\"properties\":[{\"name\":\"mode\",\"kind\":\"Any\",\"default\":\"warn\"},{\"name\":\"ncols\",\"kind\":\"Any\",\"default\":null},{\"name\":\"nrows\",\"kind\":\"Any\",\"default\":null},{\"name\":\"allow_resize\",\"kind\":\"Any\",\"default\":true},{\"name\":\"allow_drag\",\"kind\":\"Any\",\"default\":true},{\"name\":\"state\",\"kind\":\"Any\",\"default\":[]}]},{\"type\":\"model\",\"name\":\"drag1\",\"properties\":[{\"name\":\"slider_width\",\"kind\":\"Any\",\"default\":5},{\"name\":\"slider_color\",\"kind\":\"Any\",\"default\":\"black\"},{\"name\":\"value\",\"kind\":\"Any\",\"default\":50}]},{\"type\":\"model\",\"name\":\"click1\",\"properties\":[{\"name\":\"terminal_output\",\"kind\":\"Any\",\"default\":\"\"},{\"name\":\"debug_name\",\"kind\":\"Any\",\"default\":\"\"},{\"name\":\"clears\",\"kind\":\"Any\",\"default\":0}]},{\"type\":\"model\",\"name\":\"FastWrapper1\",\"properties\":[{\"name\":\"object\",\"kind\":\"Any\",\"default\":null},{\"name\":\"style\",\"kind\":\"Any\",\"default\":null}]},{\"type\":\"model\",\"name\":\"NotificationAreaBase1\",\"properties\":[{\"name\":\"js_events\",\"kind\":\"Any\",\"default\":{\"type\":\"map\"}},{\"name\":\"position\",\"kind\":\"Any\",\"default\":\"bottom-right\"},{\"name\":\"_clear\",\"kind\":\"Any\",\"default\":0}]},{\"type\":\"model\",\"name\":\"NotificationArea1\",\"properties\":[{\"name\":\"js_events\",\"kind\":\"Any\",\"default\":{\"type\":\"map\"}},{\"name\":\"notifications\",\"kind\":\"Any\",\"default\":[]},{\"name\":\"position\",\"kind\":\"Any\",\"default\":\"bottom-right\"},{\"name\":\"_clear\",\"kind\":\"Any\",\"default\":0},{\"name\":\"types\",\"kind\":\"Any\",\"default\":[{\"type\":\"map\",\"entries\":[[\"type\",\"warning\"],[\"background\",\"#ffc107\"],[\"icon\",{\"type\":\"map\",\"entries\":[[\"className\",\"fas fa-exclamation-triangle\"],[\"tagName\",\"i\"],[\"color\",\"white\"]]}]]},{\"type\":\"map\",\"entries\":[[\"type\",\"info\"],[\"background\",\"#007bff\"],[\"icon\",{\"type\":\"map\",\"entries\":[[\"className\",\"fas fa-info-circle\"],[\"tagName\",\"i\"],[\"color\",\"white\"]]}]]}]}]},{\"type\":\"model\",\"name\":\"Notification\",\"properties\":[{\"name\":\"background\",\"kind\":\"Any\",\"default\":null},{\"name\":\"duration\",\"kind\":\"Any\",\"default\":3000},{\"name\":\"icon\",\"kind\":\"Any\",\"default\":null},{\"name\":\"message\",\"kind\":\"Any\",\"default\":\"\"},{\"name\":\"notification_type\",\"kind\":\"Any\",\"default\":null},{\"name\":\"_destroyed\",\"kind\":\"Any\",\"default\":false}]},{\"type\":\"model\",\"name\":\"TemplateActions1\",\"properties\":[{\"name\":\"open_modal\",\"kind\":\"Any\",\"default\":0},{\"name\":\"close_modal\",\"kind\":\"Any\",\"default\":0}]},{\"type\":\"model\",\"name\":\"BootstrapTemplateActions1\",\"properties\":[{\"name\":\"open_modal\",\"kind\":\"Any\",\"default\":0},{\"name\":\"close_modal\",\"kind\":\"Any\",\"default\":0}]},{\"type\":\"model\",\"name\":\"TemplateEditor1\",\"properties\":[{\"name\":\"layout\",\"kind\":\"Any\",\"default\":[]}]},{\"type\":\"model\",\"name\":\"MaterialTemplateActions1\",\"properties\":[{\"name\":\"open_modal\",\"kind\":\"Any\",\"default\":0},{\"name\":\"close_modal\",\"kind\":\"Any\",\"default\":0}]},{\"type\":\"model\",\"name\":\"copy_to_clipboard1\",\"properties\":[{\"name\":\"fill\",\"kind\":\"Any\",\"default\":\"none\"},{\"name\":\"value\",\"kind\":\"Any\",\"default\":null}]}]}};\n",
       "  var render_items = [{\"docid\":\"fff93f23-1da5-4464-8914-e681f35aec01\",\"roots\":{\"p1400\":\"beeb37d0-d989-4c8d-83de-424451d5aa01\"},\"root_ids\":[\"p1400\"]}];\n",
=======
       "<div id='p1004'>\n",
       "  <div id=\"ca49b2ef-c1bb-4c60-be40-3c5c861fa32f\" data-root-id=\"p1004\" style=\"display: contents;\"></div>\n",
       "</div>\n",
       "<script type=\"application/javascript\">(function(root) {\n",
       "  var docs_json = {\"8ef61de7-e216-4d1d-8367-0dd1b4818932\":{\"version\":\"3.4.1\",\"title\":\"Bokeh Application\",\"roots\":[{\"type\":\"object\",\"name\":\"Row\",\"id\":\"p1004\",\"attributes\":{\"name\":\"Row00937\",\"tags\":[\"embedded\"],\"stylesheets\":[\"\\n:host(.pn-loading):before, .pn-loading:before {\\n  background-color: #c3c3c3;\\n  mask-size: auto calc(min(50%, 400px));\\n  -webkit-mask-size: auto calc(min(50%, 400px));\\n}\",{\"type\":\"object\",\"name\":\"ImportedStyleSheet\",\"id\":\"p1007\",\"attributes\":{\"url\":\"https://cdn.holoviz.org/panel/1.4.4/dist/css/loading.css\"}},{\"type\":\"object\",\"name\":\"ImportedStyleSheet\",\"id\":\"p1063\",\"attributes\":{\"url\":\"https://cdn.holoviz.org/panel/1.4.4/dist/css/listpanel.css\"}},{\"type\":\"object\",\"name\":\"ImportedStyleSheet\",\"id\":\"p1005\",\"attributes\":{\"url\":\"https://cdn.holoviz.org/panel/1.4.4/dist/bundled/theme/default.css\"}},{\"type\":\"object\",\"name\":\"ImportedStyleSheet\",\"id\":\"p1006\",\"attributes\":{\"url\":\"https://cdn.holoviz.org/panel/1.4.4/dist/bundled/theme/native.css\"}}],\"min_width\":700,\"margin\":0,\"sizing_mode\":\"stretch_width\",\"align\":\"start\",\"children\":[{\"type\":\"object\",\"name\":\"Spacer\",\"id\":\"p1008\",\"attributes\":{\"name\":\"HSpacer00944\",\"stylesheets\":[\"\\n:host(.pn-loading):before, .pn-loading:before {\\n  background-color: #c3c3c3;\\n  mask-size: auto calc(min(50%, 400px));\\n  -webkit-mask-size: auto calc(min(50%, 400px));\\n}\",{\"id\":\"p1007\"},{\"id\":\"p1005\"},{\"id\":\"p1006\"}],\"margin\":0,\"sizing_mode\":\"stretch_width\",\"align\":\"start\"}},{\"type\":\"object\",\"name\":\"Figure\",\"id\":\"p1016\",\"attributes\":{\"width\":700,\"height\":300,\"margin\":[5,10],\"sizing_mode\":\"fixed\",\"align\":\"start\",\"x_range\":{\"type\":\"object\",\"name\":\"Range1d\",\"id\":\"p1009\",\"attributes\":{\"tags\":[[[\"age\",null]],[]],\"start\":17.457142857142856,\"end\":56.542857142857144,\"reset_start\":17.457142857142856,\"reset_end\":56.542857142857144}},\"y_range\":{\"type\":\"object\",\"name\":\"Range1d\",\"id\":\"p1010\",\"attributes\":{\"tags\":[[[\"Count\",null]],{\"type\":\"map\",\"entries\":[[\"invert_yaxis\",false],[\"autorange\",false]]}],\"end\":818.1,\"reset_start\":0.0,\"reset_end\":818.1}},\"x_scale\":{\"type\":\"object\",\"name\":\"LinearScale\",\"id\":\"p1026\"},\"y_scale\":{\"type\":\"object\",\"name\":\"LinearScale\",\"id\":\"p1027\"},\"title\":{\"type\":\"object\",\"name\":\"Title\",\"id\":\"p1019\",\"attributes\":{\"text\":\"Age Distribution\",\"text_color\":\"black\",\"text_font_size\":\"12pt\"}},\"renderers\":[{\"type\":\"object\",\"name\":\"GlyphRenderer\",\"id\":\"p1056\",\"attributes\":{\"data_source\":{\"type\":\"object\",\"name\":\"ColumnDataSource\",\"id\":\"p1047\",\"attributes\":{\"selected\":{\"type\":\"object\",\"name\":\"Selection\",\"id\":\"p1048\",\"attributes\":{\"indices\":[],\"line_indices\":[]}},\"selection_policy\":{\"type\":\"object\",\"name\":\"UnionRenderers\",\"id\":\"p1049\"},\"data\":{\"type\":\"map\",\"entries\":[[\"top\",{\"type\":\"ndarray\",\"array\":{\"type\":\"bytes\",\"data\":\"BQAAAAkAAAAYAAAANgAAADIAAACTAAAAngAAAOwAAABWAQAA8AAAAHkCAADoAgAAnwIAAL8BAACeAAAAzgAAAFcAAAAbAAAACQAAAAMAAAA=\"},\"shape\":[20],\"dtype\":\"int32\",\"order\":\"little\"}],[\"left\",{\"type\":\"ndarray\",\"array\":{\"type\":\"bytes\",\"data\":\"AAAAAAAAM0DNzMzMzMw0QJqZmZmZmTZAZmZmZmZmOEAzMzMzMzM6QAAAAAAAADxAzczMzMzMPUCamZmZmZk/QDMzMzMzs0BAmpmZmZmZQUAAAAAAAIBCQGZmZmZmZkNAzczMzMxMREA0MzMzMzNFQJqZmZmZGUZAAAAAAAAAR0BmZmZmZuZHQM3MzMzMzEhAMzMzMzOzSUCamZmZmZlKQA==\"},\"shape\":[20],\"dtype\":\"float64\",\"order\":\"little\"}],[\"right\",{\"type\":\"ndarray\",\"array\":{\"type\":\"bytes\",\"data\":\"zczMzMzMNECamZmZmZk2QGZmZmZmZjhAMzMzMzMzOkAAAAAAAAA8QM3MzMzMzD1AmpmZmZmZP0AzMzMzM7NAQJqZmZmZmUFAAAAAAACAQkBmZmZmZmZDQM3MzMzMTERANDMzMzMzRUCamZmZmRlGQAAAAAAAAEdAZmZmZmbmR0DNzMzMzMxIQDMzMzMzs0lAmpmZmZmZSkAAAAAAAIBLQA==\"},\"shape\":[20],\"dtype\":\"float64\",\"order\":\"little\"}],[\"age\",{\"type\":\"ndarray\",\"array\":{\"type\":\"bytes\",\"data\":\"ZmZmZmbmM0A0MzMzM7M1QAAAAAAAgDdAzMzMzMxMOUCamZmZmRk7QGZmZmZm5jxANDMzMzOzPkAAAAAAAEBAQGZmZmZmJkFAzczMzMwMQkAzMzMzM/NCQJqZmZmZ2UNAAAAAAADAREBnZmZmZqZFQM3MzMzMjEZAMzMzMzNzR0CamZmZmVlIQAAAAAAAQElAZmZmZmYmSkDNzMzMzAxLQA==\"},\"shape\":[20],\"dtype\":\"float64\",\"order\":\"little\"}],[\"age_count\",{\"type\":\"ndarray\",\"array\":{\"type\":\"bytes\",\"data\":\"BQAAAAkAAAAYAAAANgAAADIAAACTAAAAngAAAOwAAABWAQAA8AAAAHkCAADoAgAAnwIAAL8BAACeAAAAzgAAAFcAAAAbAAAACQAAAAMAAAA=\"},\"shape\":[20],\"dtype\":\"int32\",\"order\":\"little\"}]]}}},\"view\":{\"type\":\"object\",\"name\":\"CDSView\",\"id\":\"p1057\",\"attributes\":{\"filter\":{\"type\":\"object\",\"name\":\"AllIndices\",\"id\":\"p1058\"}}},\"glyph\":{\"type\":\"object\",\"name\":\"Quad\",\"id\":\"p1053\",\"attributes\":{\"tags\":[\"apply_ranges\"],\"left\":{\"type\":\"field\",\"field\":\"left\"},\"right\":{\"type\":\"field\",\"field\":\"right\"},\"bottom\":{\"type\":\"value\",\"value\":0},\"top\":{\"type\":\"field\",\"field\":\"top\"},\"fill_color\":{\"type\":\"value\",\"value\":\"#30a2da\"},\"hatch_color\":{\"type\":\"value\",\"value\":\"#30a2da\"}}},\"selection_glyph\":{\"type\":\"object\",\"name\":\"Quad\",\"id\":\"p1059\",\"attributes\":{\"tags\":[\"apply_ranges\"],\"left\":{\"type\":\"field\",\"field\":\"left\"},\"right\":{\"type\":\"field\",\"field\":\"right\"},\"bottom\":{\"type\":\"value\",\"value\":0},\"top\":{\"type\":\"field\",\"field\":\"top\"},\"line_color\":{\"type\":\"value\",\"value\":\"black\"},\"line_alpha\":{\"type\":\"value\",\"value\":1.0},\"line_width\":{\"type\":\"value\",\"value\":1},\"line_join\":{\"type\":\"value\",\"value\":\"bevel\"},\"line_cap\":{\"type\":\"value\",\"value\":\"butt\"},\"line_dash\":{\"type\":\"value\",\"value\":[]},\"line_dash_offset\":{\"type\":\"value\",\"value\":0},\"fill_color\":{\"type\":\"value\",\"value\":\"#30a2da\"},\"fill_alpha\":{\"type\":\"value\",\"value\":1.0},\"hatch_color\":{\"type\":\"value\",\"value\":\"#30a2da\"},\"hatch_alpha\":{\"type\":\"value\",\"value\":1.0},\"hatch_scale\":{\"type\":\"value\",\"value\":12.0},\"hatch_pattern\":{\"type\":\"value\",\"value\":null},\"hatch_weight\":{\"type\":\"value\",\"value\":1.0}}},\"nonselection_glyph\":{\"type\":\"object\",\"name\":\"Quad\",\"id\":\"p1054\",\"attributes\":{\"tags\":[\"apply_ranges\"],\"left\":{\"type\":\"field\",\"field\":\"left\"},\"right\":{\"type\":\"field\",\"field\":\"right\"},\"bottom\":{\"type\":\"value\",\"value\":0},\"top\":{\"type\":\"field\",\"field\":\"top\"},\"line_alpha\":{\"type\":\"value\",\"value\":0.1},\"fill_color\":{\"type\":\"value\",\"value\":\"#30a2da\"},\"fill_alpha\":{\"type\":\"value\",\"value\":0.1},\"hatch_color\":{\"type\":\"value\",\"value\":\"#30a2da\"},\"hatch_alpha\":{\"type\":\"value\",\"value\":0.1}}},\"muted_glyph\":{\"type\":\"object\",\"name\":\"Quad\",\"id\":\"p1055\",\"attributes\":{\"tags\":[\"apply_ranges\"],\"left\":{\"type\":\"field\",\"field\":\"left\"},\"right\":{\"type\":\"field\",\"field\":\"right\"},\"bottom\":{\"type\":\"value\",\"value\":0},\"top\":{\"type\":\"field\",\"field\":\"top\"},\"line_alpha\":{\"type\":\"value\",\"value\":0.2},\"fill_color\":{\"type\":\"value\",\"value\":\"#30a2da\"},\"fill_alpha\":{\"type\":\"value\",\"value\":0.2},\"hatch_color\":{\"type\":\"value\",\"value\":\"#30a2da\"},\"hatch_alpha\":{\"type\":\"value\",\"value\":0.2}}}}}],\"toolbar\":{\"type\":\"object\",\"name\":\"Toolbar\",\"id\":\"p1025\",\"attributes\":{\"tools\":[{\"type\":\"object\",\"name\":\"WheelZoomTool\",\"id\":\"p1014\",\"attributes\":{\"tags\":[\"hv_created\"],\"renderers\":\"auto\",\"zoom_together\":\"none\"}},{\"type\":\"object\",\"name\":\"HoverTool\",\"id\":\"p1015\",\"attributes\":{\"tags\":[\"hv_created\"],\"renderers\":[{\"id\":\"p1056\"}],\"tooltips\":[[\"age\",\"@{age}\"],[\"Count\",\"@{age_count}\"]]}},{\"type\":\"object\",\"name\":\"SaveTool\",\"id\":\"p1038\"},{\"type\":\"object\",\"name\":\"PanTool\",\"id\":\"p1039\"},{\"type\":\"object\",\"name\":\"BoxZoomTool\",\"id\":\"p1040\",\"attributes\":{\"overlay\":{\"type\":\"object\",\"name\":\"BoxAnnotation\",\"id\":\"p1041\",\"attributes\":{\"syncable\":false,\"level\":\"overlay\",\"visible\":false,\"left\":{\"type\":\"number\",\"value\":\"nan\"},\"right\":{\"type\":\"number\",\"value\":\"nan\"},\"top\":{\"type\":\"number\",\"value\":\"nan\"},\"bottom\":{\"type\":\"number\",\"value\":\"nan\"},\"left_units\":\"canvas\",\"right_units\":\"canvas\",\"top_units\":\"canvas\",\"bottom_units\":\"canvas\",\"line_color\":\"black\",\"line_alpha\":1.0,\"line_width\":2,\"line_dash\":[4,4],\"fill_color\":\"lightgrey\",\"fill_alpha\":0.5}}}},{\"type\":\"object\",\"name\":\"ResetTool\",\"id\":\"p1046\"}],\"active_drag\":{\"id\":\"p1039\"},\"active_scroll\":{\"id\":\"p1014\"}}},\"left\":[{\"type\":\"object\",\"name\":\"LinearAxis\",\"id\":\"p1033\",\"attributes\":{\"ticker\":{\"type\":\"object\",\"name\":\"BasicTicker\",\"id\":\"p1034\",\"attributes\":{\"mantissas\":[1,2,5]}},\"formatter\":{\"type\":\"object\",\"name\":\"BasicTickFormatter\",\"id\":\"p1035\"},\"axis_label\":\"\",\"major_label_policy\":{\"type\":\"object\",\"name\":\"AllLabels\",\"id\":\"p1036\"}}}],\"below\":[{\"type\":\"object\",\"name\":\"LinearAxis\",\"id\":\"p1028\",\"attributes\":{\"ticker\":{\"type\":\"object\",\"name\":\"BasicTicker\",\"id\":\"p1029\",\"attributes\":{\"mantissas\":[1,2,5]}},\"formatter\":{\"type\":\"object\",\"name\":\"BasicTickFormatter\",\"id\":\"p1030\"},\"axis_label\":\"age\",\"major_label_policy\":{\"type\":\"object\",\"name\":\"AllLabels\",\"id\":\"p1031\"}}}],\"center\":[{\"type\":\"object\",\"name\":\"Grid\",\"id\":\"p1032\",\"attributes\":{\"axis\":{\"id\":\"p1028\"},\"grid_line_color\":null}},{\"type\":\"object\",\"name\":\"Grid\",\"id\":\"p1037\",\"attributes\":{\"dimension\":1,\"axis\":{\"id\":\"p1033\"},\"grid_line_color\":null}}],\"min_border_top\":10,\"min_border_bottom\":10,\"min_border_left\":10,\"min_border_right\":10,\"output_backend\":\"webgl\"}},{\"type\":\"object\",\"name\":\"Spacer\",\"id\":\"p1061\",\"attributes\":{\"name\":\"HSpacer00945\",\"stylesheets\":[\"\\n:host(.pn-loading):before, .pn-loading:before {\\n  background-color: #c3c3c3;\\n  mask-size: auto calc(min(50%, 400px));\\n  -webkit-mask-size: auto calc(min(50%, 400px));\\n}\",{\"id\":\"p1007\"},{\"id\":\"p1005\"},{\"id\":\"p1006\"}],\"margin\":0,\"sizing_mode\":\"stretch_width\",\"align\":\"start\"}}]}}],\"defs\":[{\"type\":\"model\",\"name\":\"ReactiveHTML1\"},{\"type\":\"model\",\"name\":\"FlexBox1\",\"properties\":[{\"name\":\"align_content\",\"kind\":\"Any\",\"default\":\"flex-start\"},{\"name\":\"align_items\",\"kind\":\"Any\",\"default\":\"flex-start\"},{\"name\":\"flex_direction\",\"kind\":\"Any\",\"default\":\"row\"},{\"name\":\"flex_wrap\",\"kind\":\"Any\",\"default\":\"wrap\"},{\"name\":\"gap\",\"kind\":\"Any\",\"default\":\"\"},{\"name\":\"justify_content\",\"kind\":\"Any\",\"default\":\"flex-start\"}]},{\"type\":\"model\",\"name\":\"FloatPanel1\",\"properties\":[{\"name\":\"config\",\"kind\":\"Any\",\"default\":{\"type\":\"map\"}},{\"name\":\"contained\",\"kind\":\"Any\",\"default\":true},{\"name\":\"position\",\"kind\":\"Any\",\"default\":\"right-top\"},{\"name\":\"offsetx\",\"kind\":\"Any\",\"default\":null},{\"name\":\"offsety\",\"kind\":\"Any\",\"default\":null},{\"name\":\"theme\",\"kind\":\"Any\",\"default\":\"primary\"},{\"name\":\"status\",\"kind\":\"Any\",\"default\":\"normalized\"}]},{\"type\":\"model\",\"name\":\"GridStack1\",\"properties\":[{\"name\":\"mode\",\"kind\":\"Any\",\"default\":\"warn\"},{\"name\":\"ncols\",\"kind\":\"Any\",\"default\":null},{\"name\":\"nrows\",\"kind\":\"Any\",\"default\":null},{\"name\":\"allow_resize\",\"kind\":\"Any\",\"default\":true},{\"name\":\"allow_drag\",\"kind\":\"Any\",\"default\":true},{\"name\":\"state\",\"kind\":\"Any\",\"default\":[]}]},{\"type\":\"model\",\"name\":\"drag1\",\"properties\":[{\"name\":\"slider_width\",\"kind\":\"Any\",\"default\":5},{\"name\":\"slider_color\",\"kind\":\"Any\",\"default\":\"black\"},{\"name\":\"value\",\"kind\":\"Any\",\"default\":50}]},{\"type\":\"model\",\"name\":\"click1\",\"properties\":[{\"name\":\"terminal_output\",\"kind\":\"Any\",\"default\":\"\"},{\"name\":\"debug_name\",\"kind\":\"Any\",\"default\":\"\"},{\"name\":\"clears\",\"kind\":\"Any\",\"default\":0}]},{\"type\":\"model\",\"name\":\"FastWrapper1\",\"properties\":[{\"name\":\"object\",\"kind\":\"Any\",\"default\":null},{\"name\":\"style\",\"kind\":\"Any\",\"default\":null}]},{\"type\":\"model\",\"name\":\"NotificationAreaBase1\",\"properties\":[{\"name\":\"js_events\",\"kind\":\"Any\",\"default\":{\"type\":\"map\"}},{\"name\":\"position\",\"kind\":\"Any\",\"default\":\"bottom-right\"},{\"name\":\"_clear\",\"kind\":\"Any\",\"default\":0}]},{\"type\":\"model\",\"name\":\"NotificationArea1\",\"properties\":[{\"name\":\"js_events\",\"kind\":\"Any\",\"default\":{\"type\":\"map\"}},{\"name\":\"notifications\",\"kind\":\"Any\",\"default\":[]},{\"name\":\"position\",\"kind\":\"Any\",\"default\":\"bottom-right\"},{\"name\":\"_clear\",\"kind\":\"Any\",\"default\":0},{\"name\":\"types\",\"kind\":\"Any\",\"default\":[{\"type\":\"map\",\"entries\":[[\"type\",\"warning\"],[\"background\",\"#ffc107\"],[\"icon\",{\"type\":\"map\",\"entries\":[[\"className\",\"fas fa-exclamation-triangle\"],[\"tagName\",\"i\"],[\"color\",\"white\"]]}]]},{\"type\":\"map\",\"entries\":[[\"type\",\"info\"],[\"background\",\"#007bff\"],[\"icon\",{\"type\":\"map\",\"entries\":[[\"className\",\"fas fa-info-circle\"],[\"tagName\",\"i\"],[\"color\",\"white\"]]}]]}]}]},{\"type\":\"model\",\"name\":\"Notification\",\"properties\":[{\"name\":\"background\",\"kind\":\"Any\",\"default\":null},{\"name\":\"duration\",\"kind\":\"Any\",\"default\":3000},{\"name\":\"icon\",\"kind\":\"Any\",\"default\":null},{\"name\":\"message\",\"kind\":\"Any\",\"default\":\"\"},{\"name\":\"notification_type\",\"kind\":\"Any\",\"default\":null},{\"name\":\"_destroyed\",\"kind\":\"Any\",\"default\":false}]},{\"type\":\"model\",\"name\":\"TemplateActions1\",\"properties\":[{\"name\":\"open_modal\",\"kind\":\"Any\",\"default\":0},{\"name\":\"close_modal\",\"kind\":\"Any\",\"default\":0}]},{\"type\":\"model\",\"name\":\"BootstrapTemplateActions1\",\"properties\":[{\"name\":\"open_modal\",\"kind\":\"Any\",\"default\":0},{\"name\":\"close_modal\",\"kind\":\"Any\",\"default\":0}]},{\"type\":\"model\",\"name\":\"TemplateEditor1\",\"properties\":[{\"name\":\"layout\",\"kind\":\"Any\",\"default\":[]}]},{\"type\":\"model\",\"name\":\"MaterialTemplateActions1\",\"properties\":[{\"name\":\"open_modal\",\"kind\":\"Any\",\"default\":0},{\"name\":\"close_modal\",\"kind\":\"Any\",\"default\":0}]},{\"type\":\"model\",\"name\":\"copy_to_clipboard1\",\"properties\":[{\"name\":\"fill\",\"kind\":\"Any\",\"default\":\"none\"},{\"name\":\"value\",\"kind\":\"Any\",\"default\":null}]}]}};\n",
       "  var render_items = [{\"docid\":\"8ef61de7-e216-4d1d-8367-0dd1b4818932\",\"roots\":{\"p1004\":\"ca49b2ef-c1bb-4c60-be40-3c5c861fa32f\"},\"root_ids\":[\"p1004\"]}];\n",
>>>>>>> 35eb337 (Adding in the work cody did on histograms)
>>>>>>> 33e35f241d23f05510413d5e7dfe539dcfe0fe49
       "  var docs = Object.values(docs_json)\n",
       "  if (!docs) {\n",
       "    return\n",
       "  }\n",
       "  const py_version = docs[0].version.replace('rc', '-rc.').replace('.dev', '-dev.')\n",
       "  async function embed_document(root) {\n",
       "    var Bokeh = get_bokeh(root)\n",
       "    await Bokeh.embed.embed_items_notebook(docs_json, render_items);\n",
       "    for (const render_item of render_items) {\n",
       "      for (const root_id of render_item.root_ids) {\n",
       "\tconst id_el = document.getElementById(root_id)\n",
       "\tif (id_el.children.length && id_el.children[0].hasAttribute('data-root-id')) {\n",
       "\t  const root_el = id_el.children[0]\n",
       "\t  root_el.id = root_el.id + '-rendered'\n",
       "\t  for (const child of root_el.children) {\n",
       "            // Ensure JupyterLab does not capture keyboard shortcuts\n",
       "            // see: https://jupyterlab.readthedocs.io/en/4.1.x/extension/notebook.html#keyboard-interaction-model\n",
       "\t    child.setAttribute('data-lm-suppress-shortcuts', 'true')\n",
       "\t  }\n",
       "\t}\n",
       "      }\n",
       "    }\n",
       "  }\n",
       "  function get_bokeh(root) {\n",
       "    if (root.Bokeh === undefined) {\n",
       "      return null\n",
       "    } else if (root.Bokeh.version !== py_version) {\n",
       "      if (root.Bokeh.versions === undefined || !root.Bokeh.versions.has(py_version)) {\n",
       "\treturn null\n",
       "      }\n",
       "      return root.Bokeh.versions.get(py_version);\n",
       "    } else if (root.Bokeh.version === py_version) {\n",
       "      return root.Bokeh\n",
       "    }\n",
       "    return null\n",
       "  }\n",
       "  function is_loaded(root) {\n",
       "    var Bokeh = get_bokeh(root)\n",
       "    return (Bokeh != null && Bokeh.Panel !== undefined)\n",
       "  }\n",
       "  if (is_loaded(root)) {\n",
       "    embed_document(root);\n",
       "  } else {\n",
       "    var attempts = 0;\n",
       "    var timer = setInterval(function(root) {\n",
       "      if (is_loaded(root)) {\n",
       "        clearInterval(timer);\n",
       "        embed_document(root);\n",
       "      } else if (document.readyState == \"complete\") {\n",
       "        attempts++;\n",
       "        if (attempts > 200) {\n",
       "          clearInterval(timer);\n",
       "\t  var Bokeh = get_bokeh(root)\n",
       "\t  if (Bokeh == null || Bokeh.Panel == null) {\n",
       "            console.warn(\"Panel: ERROR: Unable to run Panel code because Bokeh or Panel library is missing\");\n",
       "\t  } else {\n",
       "\t    console.warn(\"Panel: WARNING: Attempting to render but not all required libraries could be resolved.\")\n",
       "\t    embed_document(root)\n",
       "\t  }\n",
       "        }\n",
       "      }\n",
       "    }, 25, root)\n",
       "  }\n",
       "})(window);</script>"
      ],
      "text/plain": [
       ":Histogram   [age]   (Count)"
      ]
     },
<<<<<<< HEAD
     "execution_count": 26,
     "metadata": {
      "application/vnd.holoviews_exec.v0+json": {
       "id": "p1004"
=======
<<<<<<< HEAD
     "execution_count": 91,
     "metadata": {
      "application/vnd.holoviews_exec.v0+json": {
       "id": "p1400"
=======
     "execution_count": 17,
     "metadata": {
      "application/vnd.holoviews_exec.v0+json": {
       "id": "p1004"
>>>>>>> 35eb337 (Adding in the work cody did on histograms)
>>>>>>> 33e35f241d23f05510413d5e7dfe539dcfe0fe49
      }
     },
     "output_type": "execute_result"
    }
   ],
   "source": [
<<<<<<< HEAD
    "telcom_data_df['age'].hvplot(kind='hist', bins=20, title='Age Distribution')\n"
=======
    "telcom_data_df['age'].hvplot(kind='hist', bins=20, title='Age Distribution')"
>>>>>>> 35eb337 (Adding in the work cody did on histograms)
   ]
  },
  {
   "cell_type": "code",
<<<<<<< HEAD
   "execution_count": 27,
=======
<<<<<<< HEAD
   "execution_count": 99,
=======
   "execution_count": 23,
>>>>>>> 35eb337 (Adding in the work cody did on histograms)
>>>>>>> 33e35f241d23f05510413d5e7dfe539dcfe0fe49
   "metadata": {},
   "outputs": [
    {
     "data": {},
     "metadata": {},
     "output_type": "display_data"
    },
    {
     "data": {
      "application/vnd.holoviews_exec.v0+json": "",
      "text/html": [
<<<<<<< HEAD
       "<div id='p1070'>\n",
       "  <div id=\"c6b9c643-ec74-4edc-86e1-9e16936d7a12\" data-root-id=\"p1070\" style=\"display: contents;\"></div>\n",
       "</div>\n",
       "<script type=\"application/javascript\">(function(root) {\n",
       "  var docs_json = {\"ce1600e9-ab2b-4fa0-af71-bc8a9e3d98fa\":{\"version\":\"3.4.1\",\"title\":\"Bokeh Application\",\"roots\":[{\"type\":\"object\",\"name\":\"Row\",\"id\":\"p1070\",\"attributes\":{\"name\":\"Row01045\",\"tags\":[\"embedded\"],\"stylesheets\":[\"\\n:host(.pn-loading):before, .pn-loading:before {\\n  background-color: #c3c3c3;\\n  mask-size: auto calc(min(50%, 400px));\\n  -webkit-mask-size: auto calc(min(50%, 400px));\\n}\",{\"type\":\"object\",\"name\":\"ImportedStyleSheet\",\"id\":\"p1073\",\"attributes\":{\"url\":\"https://cdn.holoviz.org/panel/1.4.4/dist/css/loading.css\"}},{\"type\":\"object\",\"name\":\"ImportedStyleSheet\",\"id\":\"p1129\",\"attributes\":{\"url\":\"https://cdn.holoviz.org/panel/1.4.4/dist/css/listpanel.css\"}},{\"type\":\"object\",\"name\":\"ImportedStyleSheet\",\"id\":\"p1071\",\"attributes\":{\"url\":\"https://cdn.holoviz.org/panel/1.4.4/dist/bundled/theme/default.css\"}},{\"type\":\"object\",\"name\":\"ImportedStyleSheet\",\"id\":\"p1072\",\"attributes\":{\"url\":\"https://cdn.holoviz.org/panel/1.4.4/dist/bundled/theme/native.css\"}}],\"min_width\":700,\"margin\":0,\"sizing_mode\":\"stretch_width\",\"align\":\"start\",\"children\":[{\"type\":\"object\",\"name\":\"Spacer\",\"id\":\"p1074\",\"attributes\":{\"name\":\"HSpacer01052\",\"stylesheets\":[\"\\n:host(.pn-loading):before, .pn-loading:before {\\n  background-color: #c3c3c3;\\n  mask-size: auto calc(min(50%, 400px));\\n  -webkit-mask-size: auto calc(min(50%, 400px));\\n}\",{\"id\":\"p1073\"},{\"id\":\"p1071\"},{\"id\":\"p1072\"}],\"margin\":0,\"sizing_mode\":\"stretch_width\",\"align\":\"start\"}},{\"type\":\"object\",\"name\":\"Figure\",\"id\":\"p1082\",\"attributes\":{\"width\":700,\"height\":300,\"margin\":[5,10],\"sizing_mode\":\"fixed\",\"align\":\"start\",\"x_range\":{\"type\":\"object\",\"name\":\"Range1d\",\"id\":\"p1075\",\"attributes\":{\"tags\":[[[\"number_vmail_messages\",null]],[]],\"start\":-2.2285714285714286,\"end\":54.22857142857143,\"reset_start\":-2.2285714285714286,\"reset_end\":54.22857142857143}},\"y_range\":{\"type\":\"object\",\"name\":\"Range1d\",\"id\":\"p1076\",\"attributes\":{\"tags\":[[[\"Count\",null]],{\"type\":\"map\",\"entries\":[[\"invert_yaxis\",false],[\"autorange\",false]]}],\"end\":3452.9,\"reset_start\":0.0,\"reset_end\":3452.9}},\"x_scale\":{\"type\":\"object\",\"name\":\"LinearScale\",\"id\":\"p1092\"},\"y_scale\":{\"type\":\"object\",\"name\":\"LinearScale\",\"id\":\"p1093\"},\"title\":{\"type\":\"object\",\"name\":\"Title\",\"id\":\"p1085\",\"attributes\":{\"text\":\"number vmail messages\",\"text_color\":\"black\",\"text_font_size\":\"12pt\"}},\"renderers\":[{\"type\":\"object\",\"name\":\"GlyphRenderer\",\"id\":\"p1122\",\"attributes\":{\"data_source\":{\"type\":\"object\",\"name\":\"ColumnDataSource\",\"id\":\"p1113\",\"attributes\":{\"selected\":{\"type\":\"object\",\"name\":\"Selection\",\"id\":\"p1114\",\"attributes\":{\"indices\":[],\"line_indices\":[]}},\"selection_policy\":{\"type\":\"object\",\"name\":\"UnionRenderers\",\"id\":\"p1115\"},\"data\":{\"type\":\"map\",\"entries\":[[\"top\",{\"type\":\"ndarray\",\"array\":{\"type\":\"bytes\",\"data\":\"QwwAAAAAAAAAAAAAAQAAAAAAAAACAAAAAAAAAAIAAAAAAAAABAAAAAIAAAAKAAAAAwAAAAcAAAAMAAAADwAAABAAAAAQAAAAGQAAAB0AAAAjAAAAJgAAACgAAAA5AAAALgAAAGsAAAA6AAAAOQAAAC8AAABFAAAALwAAADcAAAAkAAAAIgAAAB8AAAAgAAAAIwAAACMAAAAWAAAAEgAAABEAAAANAAAABwAAAAoAAAAHAAAABAAAAAQAAAADAAAAAgAAAAEAAAA=\"},\"shape\":[50],\"dtype\":\"int32\",\"order\":\"little\"}],[\"left\",{\"type\":\"ndarray\",\"array\":{\"type\":\"bytes\",\"data\":\"AAAAAAAAAACkcD0K16PwP6RwPQrXowBA9ihcj8L1CECkcD0K16MQQM3MzMzMzBRA9ihcj8L1GEAfhetRuB4dQKRwPQrXoyBAuB6F61G4IkDNzMzMzMwkQOJ6FK5H4SZA9ihcj8L1KEAK16NwPQorQB+F61G4Hi1ANDMzMzMzL0CkcD0K16MwQK5H4XoUrjFAuB6F61G4MkDD9Shcj8IzQM3MzMzMzDRA16NwPQrXNUDiehSuR+E2QOxRuB6F6zdA9ihcj8L1OEAAAAAAAAA6QArXo3A9CjtAFa5H4XoUPEAfhetRuB49QClcj8L1KD5ANDMzMzMzP0AfhetRuB5AQKRwPQrXo0BAKVyPwvUoQUCuR+F6FK5BQDMzMzMzM0JAuB6F61G4QkA+CtejcD1DQMP1KFyPwkNASOF6FK5HREDNzMzMzMxEQFK4HoXrUUVA16NwPQrXRUBcj8L1KFxGQOJ6FK5H4UZAZ2ZmZmZmR0DsUbgehetHQHE9CtejcEhA9ihcj8L1SEB7FK5H4XpJQA==\"},\"shape\":[50],\"dtype\":\"float64\",\"order\":\"little\"}],[\"right\",{\"type\":\"ndarray\",\"array\":{\"type\":\"bytes\",\"data\":\"pHA9Ctej8D+kcD0K16MAQPYoXI/C9QhApHA9CtejEEDNzMzMzMwUQPYoXI/C9RhAH4XrUbgeHUCkcD0K16MgQLgehetRuCJAzczMzMzMJEDiehSuR+EmQPYoXI/C9ShACtejcD0KK0AfhetRuB4tQDQzMzMzMy9ApHA9CtejMECuR+F6FK4xQLgehetRuDJAw/UoXI/CM0DNzMzMzMw0QNejcD0K1zVA4noUrkfhNkDsUbgehes3QPYoXI/C9ThAAAAAAAAAOkAK16NwPQo7QBWuR+F6FDxAH4XrUbgePUApXI/C9Sg+QDQzMzMzMz9AH4XrUbgeQECkcD0K16NAQClcj8L1KEFArkfhehSuQUAzMzMzMzNCQLgehetRuEJAPgrXo3A9Q0DD9Shcj8JDQEjhehSuR0RAzczMzMzMREBSuB6F61FFQNejcD0K10VAXI/C9ShcRkDiehSuR+FGQGdmZmZmZkdA7FG4HoXrR0BxPQrXo3BIQPYoXI/C9UhAexSuR+F6SUAAAAAAAABKQA==\"},\"shape\":[50],\"dtype\":\"float64\",\"order\":\"little\"}],[\"number_vmail_messages\",{\"type\":\"ndarray\",\"array\":{\"type\":\"bytes\",\"data\":\"pHA9Ctej4D/2KFyPwvX4P83MzMzMzARAH4XrUbgeDUC4HoXrUbgSQOJ6FK5H4RZACtejcD0KG0A0MzMzMzMfQK5H4XoUriFAwvUoXI/CI0DYo3A9CtclQOxRuB6F6ydAAAAAAAAAKkAUrkfhehQsQCpcj8L1KC5AH4XrUbgeMEApXI/C9SgxQDMzMzMzMzJAPgrXo3A9M0BI4XoUrkc0QFK4HoXrUTVAXI/C9ShcNkBnZmZmZmY3QHE9CtejcDhAexSuR+F6OUCF61G4HoU6QJDC9ShcjztAmpmZmZmZPECkcD0K16M9QK5H4XoUrj5AuR6F61G4P0DiehSuR2FAQGZmZmZm5kBA7FG4HoVrQUBwPQrXo/BBQPYoXI/CdUJAexSuR+H6QkAAAAAAAIBDQIbrUbgeBURACtejcD2KRECQwvUoXA9FQBSuR+F6lEVAmpmZmZkZRkAfhetRuJ5GQKRwPQrXI0dAKlyPwvWoR0CuR+F6FC5IQDQzMzMzs0hAuB6F61E4SUA+CtejcL1JQA==\"},\"shape\":[50],\"dtype\":\"float64\",\"order\":\"little\"}],[\"number_vmail_messages_count\",{\"type\":\"ndarray\",\"array\":{\"type\":\"bytes\",\"data\":\"QwwAAAAAAAAAAAAAAQAAAAAAAAACAAAAAAAAAAIAAAAAAAAABAAAAAIAAAAKAAAAAwAAAAcAAAAMAAAADwAAABAAAAAQAAAAGQAAAB0AAAAjAAAAJgAAACgAAAA5AAAALgAAAGsAAAA6AAAAOQAAAC8AAABFAAAALwAAADcAAAAkAAAAIgAAAB8AAAAgAAAAIwAAACMAAAAWAAAAEgAAABEAAAANAAAABwAAAAoAAAAHAAAABAAAAAQAAAADAAAAAgAAAAEAAAA=\"},\"shape\":[50],\"dtype\":\"int32\",\"order\":\"little\"}]]}}},\"view\":{\"type\":\"object\",\"name\":\"CDSView\",\"id\":\"p1123\",\"attributes\":{\"filter\":{\"type\":\"object\",\"name\":\"AllIndices\",\"id\":\"p1124\"}}},\"glyph\":{\"type\":\"object\",\"name\":\"Quad\",\"id\":\"p1119\",\"attributes\":{\"tags\":[\"apply_ranges\"],\"left\":{\"type\":\"field\",\"field\":\"left\"},\"right\":{\"type\":\"field\",\"field\":\"right\"},\"bottom\":{\"type\":\"value\",\"value\":0},\"top\":{\"type\":\"field\",\"field\":\"top\"},\"fill_color\":{\"type\":\"value\",\"value\":\"#30a2da\"},\"hatch_color\":{\"type\":\"value\",\"value\":\"#30a2da\"}}},\"selection_glyph\":{\"type\":\"object\",\"name\":\"Quad\",\"id\":\"p1125\",\"attributes\":{\"tags\":[\"apply_ranges\"],\"left\":{\"type\":\"field\",\"field\":\"left\"},\"right\":{\"type\":\"field\",\"field\":\"right\"},\"bottom\":{\"type\":\"value\",\"value\":0},\"top\":{\"type\":\"field\",\"field\":\"top\"},\"line_color\":{\"type\":\"value\",\"value\":\"black\"},\"line_alpha\":{\"type\":\"value\",\"value\":1.0},\"line_width\":{\"type\":\"value\",\"value\":1},\"line_join\":{\"type\":\"value\",\"value\":\"bevel\"},\"line_cap\":{\"type\":\"value\",\"value\":\"butt\"},\"line_dash\":{\"type\":\"value\",\"value\":[]},\"line_dash_offset\":{\"type\":\"value\",\"value\":0},\"fill_color\":{\"type\":\"value\",\"value\":\"#30a2da\"},\"fill_alpha\":{\"type\":\"value\",\"value\":1.0},\"hatch_color\":{\"type\":\"value\",\"value\":\"#30a2da\"},\"hatch_alpha\":{\"type\":\"value\",\"value\":1.0},\"hatch_scale\":{\"type\":\"value\",\"value\":12.0},\"hatch_pattern\":{\"type\":\"value\",\"value\":null},\"hatch_weight\":{\"type\":\"value\",\"value\":1.0}}},\"nonselection_glyph\":{\"type\":\"object\",\"name\":\"Quad\",\"id\":\"p1120\",\"attributes\":{\"tags\":[\"apply_ranges\"],\"left\":{\"type\":\"field\",\"field\":\"left\"},\"right\":{\"type\":\"field\",\"field\":\"right\"},\"bottom\":{\"type\":\"value\",\"value\":0},\"top\":{\"type\":\"field\",\"field\":\"top\"},\"line_alpha\":{\"type\":\"value\",\"value\":0.1},\"fill_color\":{\"type\":\"value\",\"value\":\"#30a2da\"},\"fill_alpha\":{\"type\":\"value\",\"value\":0.1},\"hatch_color\":{\"type\":\"value\",\"value\":\"#30a2da\"},\"hatch_alpha\":{\"type\":\"value\",\"value\":0.1}}},\"muted_glyph\":{\"type\":\"object\",\"name\":\"Quad\",\"id\":\"p1121\",\"attributes\":{\"tags\":[\"apply_ranges\"],\"left\":{\"type\":\"field\",\"field\":\"left\"},\"right\":{\"type\":\"field\",\"field\":\"right\"},\"bottom\":{\"type\":\"value\",\"value\":0},\"top\":{\"type\":\"field\",\"field\":\"top\"},\"line_alpha\":{\"type\":\"value\",\"value\":0.2},\"fill_color\":{\"type\":\"value\",\"value\":\"#30a2da\"},\"fill_alpha\":{\"type\":\"value\",\"value\":0.2},\"hatch_color\":{\"type\":\"value\",\"value\":\"#30a2da\"},\"hatch_alpha\":{\"type\":\"value\",\"value\":0.2}}}}}],\"toolbar\":{\"type\":\"object\",\"name\":\"Toolbar\",\"id\":\"p1091\",\"attributes\":{\"tools\":[{\"type\":\"object\",\"name\":\"WheelZoomTool\",\"id\":\"p1080\",\"attributes\":{\"tags\":[\"hv_created\"],\"renderers\":\"auto\",\"zoom_together\":\"none\"}},{\"type\":\"object\",\"name\":\"HoverTool\",\"id\":\"p1081\",\"attributes\":{\"tags\":[\"hv_created\"],\"renderers\":[{\"id\":\"p1122\"}],\"tooltips\":[[\"number_vmail_messages\",\"@{number_vmail_messages}\"],[\"Count\",\"@{number_vmail_messages_count}\"]]}},{\"type\":\"object\",\"name\":\"SaveTool\",\"id\":\"p1104\"},{\"type\":\"object\",\"name\":\"PanTool\",\"id\":\"p1105\"},{\"type\":\"object\",\"name\":\"BoxZoomTool\",\"id\":\"p1106\",\"attributes\":{\"overlay\":{\"type\":\"object\",\"name\":\"BoxAnnotation\",\"id\":\"p1107\",\"attributes\":{\"syncable\":false,\"level\":\"overlay\",\"visible\":false,\"left\":{\"type\":\"number\",\"value\":\"nan\"},\"right\":{\"type\":\"number\",\"value\":\"nan\"},\"top\":{\"type\":\"number\",\"value\":\"nan\"},\"bottom\":{\"type\":\"number\",\"value\":\"nan\"},\"left_units\":\"canvas\",\"right_units\":\"canvas\",\"top_units\":\"canvas\",\"bottom_units\":\"canvas\",\"line_color\":\"black\",\"line_alpha\":1.0,\"line_width\":2,\"line_dash\":[4,4],\"fill_color\":\"lightgrey\",\"fill_alpha\":0.5}}}},{\"type\":\"object\",\"name\":\"ResetTool\",\"id\":\"p1112\"}],\"active_drag\":{\"id\":\"p1105\"},\"active_scroll\":{\"id\":\"p1080\"}}},\"left\":[{\"type\":\"object\",\"name\":\"LinearAxis\",\"id\":\"p1099\",\"attributes\":{\"ticker\":{\"type\":\"object\",\"name\":\"BasicTicker\",\"id\":\"p1100\",\"attributes\":{\"mantissas\":[1,2,5]}},\"formatter\":{\"type\":\"object\",\"name\":\"BasicTickFormatter\",\"id\":\"p1101\"},\"axis_label\":\"\",\"major_label_policy\":{\"type\":\"object\",\"name\":\"AllLabels\",\"id\":\"p1102\"}}}],\"below\":[{\"type\":\"object\",\"name\":\"LinearAxis\",\"id\":\"p1094\",\"attributes\":{\"ticker\":{\"type\":\"object\",\"name\":\"BasicTicker\",\"id\":\"p1095\",\"attributes\":{\"mantissas\":[1,2,5]}},\"formatter\":{\"type\":\"object\",\"name\":\"BasicTickFormatter\",\"id\":\"p1096\"},\"axis_label\":\"number_vmail_messages\",\"major_label_policy\":{\"type\":\"object\",\"name\":\"AllLabels\",\"id\":\"p1097\"}}}],\"center\":[{\"type\":\"object\",\"name\":\"Grid\",\"id\":\"p1098\",\"attributes\":{\"axis\":{\"id\":\"p1094\"},\"grid_line_color\":null}},{\"type\":\"object\",\"name\":\"Grid\",\"id\":\"p1103\",\"attributes\":{\"dimension\":1,\"axis\":{\"id\":\"p1099\"},\"grid_line_color\":null}}],\"min_border_top\":10,\"min_border_bottom\":10,\"min_border_left\":10,\"min_border_right\":10,\"output_backend\":\"webgl\"}},{\"type\":\"object\",\"name\":\"Spacer\",\"id\":\"p1127\",\"attributes\":{\"name\":\"HSpacer01053\",\"stylesheets\":[\"\\n:host(.pn-loading):before, .pn-loading:before {\\n  background-color: #c3c3c3;\\n  mask-size: auto calc(min(50%, 400px));\\n  -webkit-mask-size: auto calc(min(50%, 400px));\\n}\",{\"id\":\"p1073\"},{\"id\":\"p1071\"},{\"id\":\"p1072\"}],\"margin\":0,\"sizing_mode\":\"stretch_width\",\"align\":\"start\"}}]}}],\"defs\":[{\"type\":\"model\",\"name\":\"ReactiveHTML1\"},{\"type\":\"model\",\"name\":\"FlexBox1\",\"properties\":[{\"name\":\"align_content\",\"kind\":\"Any\",\"default\":\"flex-start\"},{\"name\":\"align_items\",\"kind\":\"Any\",\"default\":\"flex-start\"},{\"name\":\"flex_direction\",\"kind\":\"Any\",\"default\":\"row\"},{\"name\":\"flex_wrap\",\"kind\":\"Any\",\"default\":\"wrap\"},{\"name\":\"gap\",\"kind\":\"Any\",\"default\":\"\"},{\"name\":\"justify_content\",\"kind\":\"Any\",\"default\":\"flex-start\"}]},{\"type\":\"model\",\"name\":\"FloatPanel1\",\"properties\":[{\"name\":\"config\",\"kind\":\"Any\",\"default\":{\"type\":\"map\"}},{\"name\":\"contained\",\"kind\":\"Any\",\"default\":true},{\"name\":\"position\",\"kind\":\"Any\",\"default\":\"right-top\"},{\"name\":\"offsetx\",\"kind\":\"Any\",\"default\":null},{\"name\":\"offsety\",\"kind\":\"Any\",\"default\":null},{\"name\":\"theme\",\"kind\":\"Any\",\"default\":\"primary\"},{\"name\":\"status\",\"kind\":\"Any\",\"default\":\"normalized\"}]},{\"type\":\"model\",\"name\":\"GridStack1\",\"properties\":[{\"name\":\"mode\",\"kind\":\"Any\",\"default\":\"warn\"},{\"name\":\"ncols\",\"kind\":\"Any\",\"default\":null},{\"name\":\"nrows\",\"kind\":\"Any\",\"default\":null},{\"name\":\"allow_resize\",\"kind\":\"Any\",\"default\":true},{\"name\":\"allow_drag\",\"kind\":\"Any\",\"default\":true},{\"name\":\"state\",\"kind\":\"Any\",\"default\":[]}]},{\"type\":\"model\",\"name\":\"drag1\",\"properties\":[{\"name\":\"slider_width\",\"kind\":\"Any\",\"default\":5},{\"name\":\"slider_color\",\"kind\":\"Any\",\"default\":\"black\"},{\"name\":\"value\",\"kind\":\"Any\",\"default\":50}]},{\"type\":\"model\",\"name\":\"click1\",\"properties\":[{\"name\":\"terminal_output\",\"kind\":\"Any\",\"default\":\"\"},{\"name\":\"debug_name\",\"kind\":\"Any\",\"default\":\"\"},{\"name\":\"clears\",\"kind\":\"Any\",\"default\":0}]},{\"type\":\"model\",\"name\":\"FastWrapper1\",\"properties\":[{\"name\":\"object\",\"kind\":\"Any\",\"default\":null},{\"name\":\"style\",\"kind\":\"Any\",\"default\":null}]},{\"type\":\"model\",\"name\":\"NotificationAreaBase1\",\"properties\":[{\"name\":\"js_events\",\"kind\":\"Any\",\"default\":{\"type\":\"map\"}},{\"name\":\"position\",\"kind\":\"Any\",\"default\":\"bottom-right\"},{\"name\":\"_clear\",\"kind\":\"Any\",\"default\":0}]},{\"type\":\"model\",\"name\":\"NotificationArea1\",\"properties\":[{\"name\":\"js_events\",\"kind\":\"Any\",\"default\":{\"type\":\"map\"}},{\"name\":\"notifications\",\"kind\":\"Any\",\"default\":[]},{\"name\":\"position\",\"kind\":\"Any\",\"default\":\"bottom-right\"},{\"name\":\"_clear\",\"kind\":\"Any\",\"default\":0},{\"name\":\"types\",\"kind\":\"Any\",\"default\":[{\"type\":\"map\",\"entries\":[[\"type\",\"warning\"],[\"background\",\"#ffc107\"],[\"icon\",{\"type\":\"map\",\"entries\":[[\"className\",\"fas fa-exclamation-triangle\"],[\"tagName\",\"i\"],[\"color\",\"white\"]]}]]},{\"type\":\"map\",\"entries\":[[\"type\",\"info\"],[\"background\",\"#007bff\"],[\"icon\",{\"type\":\"map\",\"entries\":[[\"className\",\"fas fa-info-circle\"],[\"tagName\",\"i\"],[\"color\",\"white\"]]}]]}]}]},{\"type\":\"model\",\"name\":\"Notification\",\"properties\":[{\"name\":\"background\",\"kind\":\"Any\",\"default\":null},{\"name\":\"duration\",\"kind\":\"Any\",\"default\":3000},{\"name\":\"icon\",\"kind\":\"Any\",\"default\":null},{\"name\":\"message\",\"kind\":\"Any\",\"default\":\"\"},{\"name\":\"notification_type\",\"kind\":\"Any\",\"default\":null},{\"name\":\"_destroyed\",\"kind\":\"Any\",\"default\":false}]},{\"type\":\"model\",\"name\":\"TemplateActions1\",\"properties\":[{\"name\":\"open_modal\",\"kind\":\"Any\",\"default\":0},{\"name\":\"close_modal\",\"kind\":\"Any\",\"default\":0}]},{\"type\":\"model\",\"name\":\"BootstrapTemplateActions1\",\"properties\":[{\"name\":\"open_modal\",\"kind\":\"Any\",\"default\":0},{\"name\":\"close_modal\",\"kind\":\"Any\",\"default\":0}]},{\"type\":\"model\",\"name\":\"TemplateEditor1\",\"properties\":[{\"name\":\"layout\",\"kind\":\"Any\",\"default\":[]}]},{\"type\":\"model\",\"name\":\"MaterialTemplateActions1\",\"properties\":[{\"name\":\"open_modal\",\"kind\":\"Any\",\"default\":0},{\"name\":\"close_modal\",\"kind\":\"Any\",\"default\":0}]},{\"type\":\"model\",\"name\":\"copy_to_clipboard1\",\"properties\":[{\"name\":\"fill\",\"kind\":\"Any\",\"default\":\"none\"},{\"name\":\"value\",\"kind\":\"Any\",\"default\":null}]}]}};\n",
       "  var render_items = [{\"docid\":\"ce1600e9-ab2b-4fa0-af71-bc8a9e3d98fa\",\"roots\":{\"p1070\":\"c6b9c643-ec74-4edc-86e1-9e16936d7a12\"},\"root_ids\":[\"p1070\"]}];\n",
=======
<<<<<<< HEAD
       "<div id='p1598'>\n",
       "  <div id=\"a9213b88-2d87-457d-8943-b2c40a22ff42\" data-root-id=\"p1598\" style=\"display: contents;\"></div>\n",
       "</div>\n",
       "<script type=\"application/javascript\">(function(root) {\n",
       "  var docs_json = {\"ba6c4ad0-26b7-405b-9d70-3adf6f818775\":{\"version\":\"3.4.1\",\"title\":\"Bokeh Application\",\"roots\":[{\"type\":\"object\",\"name\":\"Row\",\"id\":\"p1598\",\"attributes\":{\"name\":\"Row04795\",\"tags\":[\"embedded\"],\"stylesheets\":[\"\\n:host(.pn-loading):before, .pn-loading:before {\\n  background-color: #c3c3c3;\\n  mask-size: auto calc(min(50%, 400px));\\n  -webkit-mask-size: auto calc(min(50%, 400px));\\n}\",{\"type\":\"object\",\"name\":\"ImportedStyleSheet\",\"id\":\"p1601\",\"attributes\":{\"url\":\"https://cdn.holoviz.org/panel/1.4.4/dist/css/loading.css\"}},{\"type\":\"object\",\"name\":\"ImportedStyleSheet\",\"id\":\"p1657\",\"attributes\":{\"url\":\"https://cdn.holoviz.org/panel/1.4.4/dist/css/listpanel.css\"}},{\"type\":\"object\",\"name\":\"ImportedStyleSheet\",\"id\":\"p1599\",\"attributes\":{\"url\":\"https://cdn.holoviz.org/panel/1.4.4/dist/bundled/theme/default.css\"}},{\"type\":\"object\",\"name\":\"ImportedStyleSheet\",\"id\":\"p1600\",\"attributes\":{\"url\":\"https://cdn.holoviz.org/panel/1.4.4/dist/bundled/theme/native.css\"}}],\"min_width\":700,\"margin\":0,\"sizing_mode\":\"stretch_width\",\"align\":\"start\",\"children\":[{\"type\":\"object\",\"name\":\"Spacer\",\"id\":\"p1602\",\"attributes\":{\"name\":\"HSpacer04802\",\"stylesheets\":[\"\\n:host(.pn-loading):before, .pn-loading:before {\\n  background-color: #c3c3c3;\\n  mask-size: auto calc(min(50%, 400px));\\n  -webkit-mask-size: auto calc(min(50%, 400px));\\n}\",{\"id\":\"p1601\"},{\"id\":\"p1599\"},{\"id\":\"p1600\"}],\"margin\":0,\"sizing_mode\":\"stretch_width\",\"align\":\"start\"}},{\"type\":\"object\",\"name\":\"Figure\",\"id\":\"p1610\",\"attributes\":{\"width\":700,\"height\":300,\"margin\":[5,10],\"sizing_mode\":\"fixed\",\"align\":\"start\",\"x_range\":{\"type\":\"object\",\"name\":\"Range1d\",\"id\":\"p1603\",\"attributes\":{\"tags\":[[[\"number_vmail_messages\",null]],[]],\"start\":-2.2285714285714286,\"end\":54.22857142857143,\"reset_start\":-2.2285714285714286,\"reset_end\":54.22857142857143}},\"y_range\":{\"type\":\"object\",\"name\":\"Range1d\",\"id\":\"p1604\",\"attributes\":{\"tags\":[[[\"Count\",null]],{\"type\":\"map\",\"entries\":[[\"invert_yaxis\",false],[\"autorange\",false]]}],\"end\":3452.9,\"reset_start\":0.0,\"reset_end\":3452.9}},\"x_scale\":{\"type\":\"object\",\"name\":\"LinearScale\",\"id\":\"p1620\"},\"y_scale\":{\"type\":\"object\",\"name\":\"LinearScale\",\"id\":\"p1621\"},\"title\":{\"type\":\"object\",\"name\":\"Title\",\"id\":\"p1613\",\"attributes\":{\"text\":\"number vmail messages\",\"text_color\":\"black\",\"text_font_size\":\"12pt\"}},\"renderers\":[{\"type\":\"object\",\"name\":\"GlyphRenderer\",\"id\":\"p1650\",\"attributes\":{\"data_source\":{\"type\":\"object\",\"name\":\"ColumnDataSource\",\"id\":\"p1641\",\"attributes\":{\"selected\":{\"type\":\"object\",\"name\":\"Selection\",\"id\":\"p1642\",\"attributes\":{\"indices\":[],\"line_indices\":[]}},\"selection_policy\":{\"type\":\"object\",\"name\":\"UnionRenderers\",\"id\":\"p1643\"},\"data\":{\"type\":\"map\",\"entries\":[[\"top\",{\"type\":\"ndarray\",\"array\":{\"type\":\"bytes\",\"data\":\"QwwAAAAAAAAAAAAAAQAAAAAAAAACAAAAAAAAAAIAAAAAAAAABAAAAAIAAAAKAAAAAwAAAAcAAAAMAAAADwAAABAAAAAQAAAAGQAAAB0AAAAjAAAAJgAAACgAAAA5AAAALgAAAGsAAAA6AAAAOQAAAC8AAABFAAAALwAAADcAAAAkAAAAIgAAAB8AAAAgAAAAIwAAACMAAAAWAAAAEgAAABEAAAANAAAABwAAAAoAAAAHAAAABAAAAAQAAAADAAAAAgAAAAEAAAA=\"},\"shape\":[50],\"dtype\":\"int32\",\"order\":\"little\"}],[\"left\",{\"type\":\"ndarray\",\"array\":{\"type\":\"bytes\",\"data\":\"AAAAAAAAAACkcD0K16PwP6RwPQrXowBA9ihcj8L1CECkcD0K16MQQM3MzMzMzBRA9ihcj8L1GEAfhetRuB4dQKRwPQrXoyBAuB6F61G4IkDNzMzMzMwkQOJ6FK5H4SZA9ihcj8L1KEAK16NwPQorQB+F61G4Hi1ANDMzMzMzL0CkcD0K16MwQK5H4XoUrjFAuB6F61G4MkDD9Shcj8IzQM3MzMzMzDRA16NwPQrXNUDiehSuR+E2QOxRuB6F6zdA9ihcj8L1OEAAAAAAAAA6QArXo3A9CjtAFa5H4XoUPEAfhetRuB49QClcj8L1KD5ANDMzMzMzP0AfhetRuB5AQKRwPQrXo0BAKVyPwvUoQUCuR+F6FK5BQDMzMzMzM0JAuB6F61G4QkA+CtejcD1DQMP1KFyPwkNASOF6FK5HREDNzMzMzMxEQFK4HoXrUUVA16NwPQrXRUBcj8L1KFxGQOJ6FK5H4UZAZ2ZmZmZmR0DsUbgehetHQHE9CtejcEhA9ihcj8L1SEB7FK5H4XpJQA==\"},\"shape\":[50],\"dtype\":\"float64\",\"order\":\"little\"}],[\"right\",{\"type\":\"ndarray\",\"array\":{\"type\":\"bytes\",\"data\":\"pHA9Ctej8D+kcD0K16MAQPYoXI/C9QhApHA9CtejEEDNzMzMzMwUQPYoXI/C9RhAH4XrUbgeHUCkcD0K16MgQLgehetRuCJAzczMzMzMJEDiehSuR+EmQPYoXI/C9ShACtejcD0KK0AfhetRuB4tQDQzMzMzMy9ApHA9CtejMECuR+F6FK4xQLgehetRuDJAw/UoXI/CM0DNzMzMzMw0QNejcD0K1zVA4noUrkfhNkDsUbgehes3QPYoXI/C9ThAAAAAAAAAOkAK16NwPQo7QBWuR+F6FDxAH4XrUbgePUApXI/C9Sg+QDQzMzMzMz9AH4XrUbgeQECkcD0K16NAQClcj8L1KEFArkfhehSuQUAzMzMzMzNCQLgehetRuEJAPgrXo3A9Q0DD9Shcj8JDQEjhehSuR0RAzczMzMzMREBSuB6F61FFQNejcD0K10VAXI/C9ShcRkDiehSuR+FGQGdmZmZmZkdA7FG4HoXrR0BxPQrXo3BIQPYoXI/C9UhAexSuR+F6SUAAAAAAAABKQA==\"},\"shape\":[50],\"dtype\":\"float64\",\"order\":\"little\"}],[\"number_vmail_messages\",{\"type\":\"ndarray\",\"array\":{\"type\":\"bytes\",\"data\":\"pHA9Ctej4D/2KFyPwvX4P83MzMzMzARAH4XrUbgeDUC4HoXrUbgSQOJ6FK5H4RZACtejcD0KG0A0MzMzMzMfQK5H4XoUriFAwvUoXI/CI0DYo3A9CtclQOxRuB6F6ydAAAAAAAAAKkAUrkfhehQsQCpcj8L1KC5AH4XrUbgeMEApXI/C9SgxQDMzMzMzMzJAPgrXo3A9M0BI4XoUrkc0QFK4HoXrUTVAXI/C9ShcNkBnZmZmZmY3QHE9CtejcDhAexSuR+F6OUCF61G4HoU6QJDC9ShcjztAmpmZmZmZPECkcD0K16M9QK5H4XoUrj5AuR6F61G4P0DiehSuR2FAQGZmZmZm5kBA7FG4HoVrQUBwPQrXo/BBQPYoXI/CdUJAexSuR+H6QkAAAAAAAIBDQIbrUbgeBURACtejcD2KRECQwvUoXA9FQBSuR+F6lEVAmpmZmZkZRkAfhetRuJ5GQKRwPQrXI0dAKlyPwvWoR0CuR+F6FC5IQDQzMzMzs0hAuB6F61E4SUA+CtejcL1JQA==\"},\"shape\":[50],\"dtype\":\"float64\",\"order\":\"little\"}],[\"number_vmail_messages_count\",{\"type\":\"ndarray\",\"array\":{\"type\":\"bytes\",\"data\":\"QwwAAAAAAAAAAAAAAQAAAAAAAAACAAAAAAAAAAIAAAAAAAAABAAAAAIAAAAKAAAAAwAAAAcAAAAMAAAADwAAABAAAAAQAAAAGQAAAB0AAAAjAAAAJgAAACgAAAA5AAAALgAAAGsAAAA6AAAAOQAAAC8AAABFAAAALwAAADcAAAAkAAAAIgAAAB8AAAAgAAAAIwAAACMAAAAWAAAAEgAAABEAAAANAAAABwAAAAoAAAAHAAAABAAAAAQAAAADAAAAAgAAAAEAAAA=\"},\"shape\":[50],\"dtype\":\"int32\",\"order\":\"little\"}]]}}},\"view\":{\"type\":\"object\",\"name\":\"CDSView\",\"id\":\"p1651\",\"attributes\":{\"filter\":{\"type\":\"object\",\"name\":\"AllIndices\",\"id\":\"p1652\"}}},\"glyph\":{\"type\":\"object\",\"name\":\"Quad\",\"id\":\"p1647\",\"attributes\":{\"tags\":[\"apply_ranges\"],\"left\":{\"type\":\"field\",\"field\":\"left\"},\"right\":{\"type\":\"field\",\"field\":\"right\"},\"bottom\":{\"type\":\"value\",\"value\":0},\"top\":{\"type\":\"field\",\"field\":\"top\"},\"fill_color\":{\"type\":\"value\",\"value\":\"#30a2da\"},\"hatch_color\":{\"type\":\"value\",\"value\":\"#30a2da\"}}},\"selection_glyph\":{\"type\":\"object\",\"name\":\"Quad\",\"id\":\"p1653\",\"attributes\":{\"tags\":[\"apply_ranges\"],\"left\":{\"type\":\"field\",\"field\":\"left\"},\"right\":{\"type\":\"field\",\"field\":\"right\"},\"bottom\":{\"type\":\"value\",\"value\":0},\"top\":{\"type\":\"field\",\"field\":\"top\"},\"line_color\":{\"type\":\"value\",\"value\":\"black\"},\"line_alpha\":{\"type\":\"value\",\"value\":1.0},\"line_width\":{\"type\":\"value\",\"value\":1},\"line_join\":{\"type\":\"value\",\"value\":\"bevel\"},\"line_cap\":{\"type\":\"value\",\"value\":\"butt\"},\"line_dash\":{\"type\":\"value\",\"value\":[]},\"line_dash_offset\":{\"type\":\"value\",\"value\":0},\"fill_color\":{\"type\":\"value\",\"value\":\"#30a2da\"},\"fill_alpha\":{\"type\":\"value\",\"value\":1.0},\"hatch_color\":{\"type\":\"value\",\"value\":\"#30a2da\"},\"hatch_alpha\":{\"type\":\"value\",\"value\":1.0},\"hatch_scale\":{\"type\":\"value\",\"value\":12.0},\"hatch_pattern\":{\"type\":\"value\",\"value\":null},\"hatch_weight\":{\"type\":\"value\",\"value\":1.0}}},\"nonselection_glyph\":{\"type\":\"object\",\"name\":\"Quad\",\"id\":\"p1648\",\"attributes\":{\"tags\":[\"apply_ranges\"],\"left\":{\"type\":\"field\",\"field\":\"left\"},\"right\":{\"type\":\"field\",\"field\":\"right\"},\"bottom\":{\"type\":\"value\",\"value\":0},\"top\":{\"type\":\"field\",\"field\":\"top\"},\"line_alpha\":{\"type\":\"value\",\"value\":0.1},\"fill_color\":{\"type\":\"value\",\"value\":\"#30a2da\"},\"fill_alpha\":{\"type\":\"value\",\"value\":0.1},\"hatch_color\":{\"type\":\"value\",\"value\":\"#30a2da\"},\"hatch_alpha\":{\"type\":\"value\",\"value\":0.1}}},\"muted_glyph\":{\"type\":\"object\",\"name\":\"Quad\",\"id\":\"p1649\",\"attributes\":{\"tags\":[\"apply_ranges\"],\"left\":{\"type\":\"field\",\"field\":\"left\"},\"right\":{\"type\":\"field\",\"field\":\"right\"},\"bottom\":{\"type\":\"value\",\"value\":0},\"top\":{\"type\":\"field\",\"field\":\"top\"},\"line_alpha\":{\"type\":\"value\",\"value\":0.2},\"fill_color\":{\"type\":\"value\",\"value\":\"#30a2da\"},\"fill_alpha\":{\"type\":\"value\",\"value\":0.2},\"hatch_color\":{\"type\":\"value\",\"value\":\"#30a2da\"},\"hatch_alpha\":{\"type\":\"value\",\"value\":0.2}}}}}],\"toolbar\":{\"type\":\"object\",\"name\":\"Toolbar\",\"id\":\"p1619\",\"attributes\":{\"tools\":[{\"type\":\"object\",\"name\":\"WheelZoomTool\",\"id\":\"p1608\",\"attributes\":{\"tags\":[\"hv_created\"],\"renderers\":\"auto\",\"zoom_together\":\"none\"}},{\"type\":\"object\",\"name\":\"HoverTool\",\"id\":\"p1609\",\"attributes\":{\"tags\":[\"hv_created\"],\"renderers\":[{\"id\":\"p1650\"}],\"tooltips\":[[\"number_vmail_messages\",\"@{number_vmail_messages}\"],[\"Count\",\"@{number_vmail_messages_count}\"]]}},{\"type\":\"object\",\"name\":\"SaveTool\",\"id\":\"p1632\"},{\"type\":\"object\",\"name\":\"PanTool\",\"id\":\"p1633\"},{\"type\":\"object\",\"name\":\"BoxZoomTool\",\"id\":\"p1634\",\"attributes\":{\"overlay\":{\"type\":\"object\",\"name\":\"BoxAnnotation\",\"id\":\"p1635\",\"attributes\":{\"syncable\":false,\"level\":\"overlay\",\"visible\":false,\"left\":{\"type\":\"number\",\"value\":\"nan\"},\"right\":{\"type\":\"number\",\"value\":\"nan\"},\"top\":{\"type\":\"number\",\"value\":\"nan\"},\"bottom\":{\"type\":\"number\",\"value\":\"nan\"},\"left_units\":\"canvas\",\"right_units\":\"canvas\",\"top_units\":\"canvas\",\"bottom_units\":\"canvas\",\"line_color\":\"black\",\"line_alpha\":1.0,\"line_width\":2,\"line_dash\":[4,4],\"fill_color\":\"lightgrey\",\"fill_alpha\":0.5}}}},{\"type\":\"object\",\"name\":\"ResetTool\",\"id\":\"p1640\"}],\"active_drag\":{\"id\":\"p1633\"},\"active_scroll\":{\"id\":\"p1608\"}}},\"left\":[{\"type\":\"object\",\"name\":\"LinearAxis\",\"id\":\"p1627\",\"attributes\":{\"ticker\":{\"type\":\"object\",\"name\":\"BasicTicker\",\"id\":\"p1628\",\"attributes\":{\"mantissas\":[1,2,5]}},\"formatter\":{\"type\":\"object\",\"name\":\"BasicTickFormatter\",\"id\":\"p1629\"},\"axis_label\":\"\",\"major_label_policy\":{\"type\":\"object\",\"name\":\"AllLabels\",\"id\":\"p1630\"}}}],\"below\":[{\"type\":\"object\",\"name\":\"LinearAxis\",\"id\":\"p1622\",\"attributes\":{\"ticker\":{\"type\":\"object\",\"name\":\"BasicTicker\",\"id\":\"p1623\",\"attributes\":{\"mantissas\":[1,2,5]}},\"formatter\":{\"type\":\"object\",\"name\":\"BasicTickFormatter\",\"id\":\"p1624\"},\"axis_label\":\"number_vmail_messages\",\"major_label_policy\":{\"type\":\"object\",\"name\":\"AllLabels\",\"id\":\"p1625\"}}}],\"center\":[{\"type\":\"object\",\"name\":\"Grid\",\"id\":\"p1626\",\"attributes\":{\"axis\":{\"id\":\"p1622\"},\"grid_line_color\":null}},{\"type\":\"object\",\"name\":\"Grid\",\"id\":\"p1631\",\"attributes\":{\"dimension\":1,\"axis\":{\"id\":\"p1627\"},\"grid_line_color\":null}}],\"min_border_top\":10,\"min_border_bottom\":10,\"min_border_left\":10,\"min_border_right\":10,\"output_backend\":\"webgl\"}},{\"type\":\"object\",\"name\":\"Spacer\",\"id\":\"p1655\",\"attributes\":{\"name\":\"HSpacer04803\",\"stylesheets\":[\"\\n:host(.pn-loading):before, .pn-loading:before {\\n  background-color: #c3c3c3;\\n  mask-size: auto calc(min(50%, 400px));\\n  -webkit-mask-size: auto calc(min(50%, 400px));\\n}\",{\"id\":\"p1601\"},{\"id\":\"p1599\"},{\"id\":\"p1600\"}],\"margin\":0,\"sizing_mode\":\"stretch_width\",\"align\":\"start\"}}]}}],\"defs\":[{\"type\":\"model\",\"name\":\"ReactiveHTML1\"},{\"type\":\"model\",\"name\":\"FlexBox1\",\"properties\":[{\"name\":\"align_content\",\"kind\":\"Any\",\"default\":\"flex-start\"},{\"name\":\"align_items\",\"kind\":\"Any\",\"default\":\"flex-start\"},{\"name\":\"flex_direction\",\"kind\":\"Any\",\"default\":\"row\"},{\"name\":\"flex_wrap\",\"kind\":\"Any\",\"default\":\"wrap\"},{\"name\":\"gap\",\"kind\":\"Any\",\"default\":\"\"},{\"name\":\"justify_content\",\"kind\":\"Any\",\"default\":\"flex-start\"}]},{\"type\":\"model\",\"name\":\"FloatPanel1\",\"properties\":[{\"name\":\"config\",\"kind\":\"Any\",\"default\":{\"type\":\"map\"}},{\"name\":\"contained\",\"kind\":\"Any\",\"default\":true},{\"name\":\"position\",\"kind\":\"Any\",\"default\":\"right-top\"},{\"name\":\"offsetx\",\"kind\":\"Any\",\"default\":null},{\"name\":\"offsety\",\"kind\":\"Any\",\"default\":null},{\"name\":\"theme\",\"kind\":\"Any\",\"default\":\"primary\"},{\"name\":\"status\",\"kind\":\"Any\",\"default\":\"normalized\"}]},{\"type\":\"model\",\"name\":\"GridStack1\",\"properties\":[{\"name\":\"mode\",\"kind\":\"Any\",\"default\":\"warn\"},{\"name\":\"ncols\",\"kind\":\"Any\",\"default\":null},{\"name\":\"nrows\",\"kind\":\"Any\",\"default\":null},{\"name\":\"allow_resize\",\"kind\":\"Any\",\"default\":true},{\"name\":\"allow_drag\",\"kind\":\"Any\",\"default\":true},{\"name\":\"state\",\"kind\":\"Any\",\"default\":[]}]},{\"type\":\"model\",\"name\":\"drag1\",\"properties\":[{\"name\":\"slider_width\",\"kind\":\"Any\",\"default\":5},{\"name\":\"slider_color\",\"kind\":\"Any\",\"default\":\"black\"},{\"name\":\"value\",\"kind\":\"Any\",\"default\":50}]},{\"type\":\"model\",\"name\":\"click1\",\"properties\":[{\"name\":\"terminal_output\",\"kind\":\"Any\",\"default\":\"\"},{\"name\":\"debug_name\",\"kind\":\"Any\",\"default\":\"\"},{\"name\":\"clears\",\"kind\":\"Any\",\"default\":0}]},{\"type\":\"model\",\"name\":\"FastWrapper1\",\"properties\":[{\"name\":\"object\",\"kind\":\"Any\",\"default\":null},{\"name\":\"style\",\"kind\":\"Any\",\"default\":null}]},{\"type\":\"model\",\"name\":\"NotificationAreaBase1\",\"properties\":[{\"name\":\"js_events\",\"kind\":\"Any\",\"default\":{\"type\":\"map\"}},{\"name\":\"position\",\"kind\":\"Any\",\"default\":\"bottom-right\"},{\"name\":\"_clear\",\"kind\":\"Any\",\"default\":0}]},{\"type\":\"model\",\"name\":\"NotificationArea1\",\"properties\":[{\"name\":\"js_events\",\"kind\":\"Any\",\"default\":{\"type\":\"map\"}},{\"name\":\"notifications\",\"kind\":\"Any\",\"default\":[]},{\"name\":\"position\",\"kind\":\"Any\",\"default\":\"bottom-right\"},{\"name\":\"_clear\",\"kind\":\"Any\",\"default\":0},{\"name\":\"types\",\"kind\":\"Any\",\"default\":[{\"type\":\"map\",\"entries\":[[\"type\",\"warning\"],[\"background\",\"#ffc107\"],[\"icon\",{\"type\":\"map\",\"entries\":[[\"className\",\"fas fa-exclamation-triangle\"],[\"tagName\",\"i\"],[\"color\",\"white\"]]}]]},{\"type\":\"map\",\"entries\":[[\"type\",\"info\"],[\"background\",\"#007bff\"],[\"icon\",{\"type\":\"map\",\"entries\":[[\"className\",\"fas fa-info-circle\"],[\"tagName\",\"i\"],[\"color\",\"white\"]]}]]}]}]},{\"type\":\"model\",\"name\":\"Notification\",\"properties\":[{\"name\":\"background\",\"kind\":\"Any\",\"default\":null},{\"name\":\"duration\",\"kind\":\"Any\",\"default\":3000},{\"name\":\"icon\",\"kind\":\"Any\",\"default\":null},{\"name\":\"message\",\"kind\":\"Any\",\"default\":\"\"},{\"name\":\"notification_type\",\"kind\":\"Any\",\"default\":null},{\"name\":\"_destroyed\",\"kind\":\"Any\",\"default\":false}]},{\"type\":\"model\",\"name\":\"TemplateActions1\",\"properties\":[{\"name\":\"open_modal\",\"kind\":\"Any\",\"default\":0},{\"name\":\"close_modal\",\"kind\":\"Any\",\"default\":0}]},{\"type\":\"model\",\"name\":\"BootstrapTemplateActions1\",\"properties\":[{\"name\":\"open_modal\",\"kind\":\"Any\",\"default\":0},{\"name\":\"close_modal\",\"kind\":\"Any\",\"default\":0}]},{\"type\":\"model\",\"name\":\"TemplateEditor1\",\"properties\":[{\"name\":\"layout\",\"kind\":\"Any\",\"default\":[]}]},{\"type\":\"model\",\"name\":\"MaterialTemplateActions1\",\"properties\":[{\"name\":\"open_modal\",\"kind\":\"Any\",\"default\":0},{\"name\":\"close_modal\",\"kind\":\"Any\",\"default\":0}]},{\"type\":\"model\",\"name\":\"copy_to_clipboard1\",\"properties\":[{\"name\":\"fill\",\"kind\":\"Any\",\"default\":\"none\"},{\"name\":\"value\",\"kind\":\"Any\",\"default\":null}]}]}};\n",
       "  var render_items = [{\"docid\":\"ba6c4ad0-26b7-405b-9d70-3adf6f818775\",\"roots\":{\"p1598\":\"a9213b88-2d87-457d-8943-b2c40a22ff42\"},\"root_ids\":[\"p1598\"]}];\n",
=======
       "<div id='p1400'>\n",
       "  <div id=\"ed0dc84d-7736-4c6f-9259-79ebb6751653\" data-root-id=\"p1400\" style=\"display: contents;\"></div>\n",
       "</div>\n",
       "<script type=\"application/javascript\">(function(root) {\n",
       "  var docs_json = {\"eade70f9-f6a2-425d-9059-66ed0aa2b247\":{\"version\":\"3.4.1\",\"title\":\"Bokeh Application\",\"roots\":[{\"type\":\"object\",\"name\":\"Row\",\"id\":\"p1400\",\"attributes\":{\"name\":\"Row01585\",\"tags\":[\"embedded\"],\"stylesheets\":[\"\\n:host(.pn-loading):before, .pn-loading:before {\\n  background-color: #c3c3c3;\\n  mask-size: auto calc(min(50%, 400px));\\n  -webkit-mask-size: auto calc(min(50%, 400px));\\n}\",{\"type\":\"object\",\"name\":\"ImportedStyleSheet\",\"id\":\"p1403\",\"attributes\":{\"url\":\"https://cdn.holoviz.org/panel/1.4.4/dist/css/loading.css\"}},{\"type\":\"object\",\"name\":\"ImportedStyleSheet\",\"id\":\"p1459\",\"attributes\":{\"url\":\"https://cdn.holoviz.org/panel/1.4.4/dist/css/listpanel.css\"}},{\"type\":\"object\",\"name\":\"ImportedStyleSheet\",\"id\":\"p1401\",\"attributes\":{\"url\":\"https://cdn.holoviz.org/panel/1.4.4/dist/bundled/theme/default.css\"}},{\"type\":\"object\",\"name\":\"ImportedStyleSheet\",\"id\":\"p1402\",\"attributes\":{\"url\":\"https://cdn.holoviz.org/panel/1.4.4/dist/bundled/theme/native.css\"}}],\"min_width\":700,\"margin\":0,\"sizing_mode\":\"stretch_width\",\"align\":\"start\",\"children\":[{\"type\":\"object\",\"name\":\"Spacer\",\"id\":\"p1404\",\"attributes\":{\"name\":\"HSpacer01592\",\"stylesheets\":[\"\\n:host(.pn-loading):before, .pn-loading:before {\\n  background-color: #c3c3c3;\\n  mask-size: auto calc(min(50%, 400px));\\n  -webkit-mask-size: auto calc(min(50%, 400px));\\n}\",{\"id\":\"p1403\"},{\"id\":\"p1401\"},{\"id\":\"p1402\"}],\"margin\":0,\"sizing_mode\":\"stretch_width\",\"align\":\"start\"}},{\"type\":\"object\",\"name\":\"Figure\",\"id\":\"p1412\",\"attributes\":{\"width\":700,\"height\":300,\"margin\":[5,10],\"sizing_mode\":\"fixed\",\"align\":\"start\",\"x_range\":{\"type\":\"object\",\"name\":\"Range1d\",\"id\":\"p1405\",\"attributes\":{\"tags\":[[[\"number_vmail_messages\",null]],[]],\"start\":-2.2285714285714286,\"end\":54.22857142857143,\"reset_start\":-2.2285714285714286,\"reset_end\":54.22857142857143}},\"y_range\":{\"type\":\"object\",\"name\":\"Range1d\",\"id\":\"p1406\",\"attributes\":{\"tags\":[[[\"Count\",null]],{\"type\":\"map\",\"entries\":[[\"invert_yaxis\",false],[\"autorange\",false]]}],\"end\":3452.9,\"reset_start\":0.0,\"reset_end\":3452.9}},\"x_scale\":{\"type\":\"object\",\"name\":\"LinearScale\",\"id\":\"p1422\"},\"y_scale\":{\"type\":\"object\",\"name\":\"LinearScale\",\"id\":\"p1423\"},\"title\":{\"type\":\"object\",\"name\":\"Title\",\"id\":\"p1415\",\"attributes\":{\"text\":\"number vmail messages\",\"text_color\":\"black\",\"text_font_size\":\"12pt\"}},\"renderers\":[{\"type\":\"object\",\"name\":\"GlyphRenderer\",\"id\":\"p1452\",\"attributes\":{\"data_source\":{\"type\":\"object\",\"name\":\"ColumnDataSource\",\"id\":\"p1443\",\"attributes\":{\"selected\":{\"type\":\"object\",\"name\":\"Selection\",\"id\":\"p1444\",\"attributes\":{\"indices\":[],\"line_indices\":[]}},\"selection_policy\":{\"type\":\"object\",\"name\":\"UnionRenderers\",\"id\":\"p1445\"},\"data\":{\"type\":\"map\",\"entries\":[[\"top\",{\"type\":\"ndarray\",\"array\":{\"type\":\"bytes\",\"data\":\"QwwAAAAAAAAAAAAAAQAAAAAAAAACAAAAAAAAAAIAAAAAAAAABAAAAAIAAAAKAAAAAwAAAAcAAAAMAAAADwAAABAAAAAQAAAAGQAAAB0AAAAjAAAAJgAAACgAAAA5AAAALgAAAGsAAAA6AAAAOQAAAC8AAABFAAAALwAAADcAAAAkAAAAIgAAAB8AAAAgAAAAIwAAACMAAAAWAAAAEgAAABEAAAANAAAABwAAAAoAAAAHAAAABAAAAAQAAAADAAAAAgAAAAEAAAA=\"},\"shape\":[50],\"dtype\":\"int32\",\"order\":\"little\"}],[\"left\",{\"type\":\"ndarray\",\"array\":{\"type\":\"bytes\",\"data\":\"AAAAAAAAAACkcD0K16PwP6RwPQrXowBA9ihcj8L1CECkcD0K16MQQM3MzMzMzBRA9ihcj8L1GEAfhetRuB4dQKRwPQrXoyBAuB6F61G4IkDNzMzMzMwkQOJ6FK5H4SZA9ihcj8L1KEAK16NwPQorQB+F61G4Hi1ANDMzMzMzL0CkcD0K16MwQK5H4XoUrjFAuB6F61G4MkDD9Shcj8IzQM3MzMzMzDRA16NwPQrXNUDiehSuR+E2QOxRuB6F6zdA9ihcj8L1OEAAAAAAAAA6QArXo3A9CjtAFa5H4XoUPEAfhetRuB49QClcj8L1KD5ANDMzMzMzP0AfhetRuB5AQKRwPQrXo0BAKVyPwvUoQUCuR+F6FK5BQDMzMzMzM0JAuB6F61G4QkA+CtejcD1DQMP1KFyPwkNASOF6FK5HREDNzMzMzMxEQFK4HoXrUUVA16NwPQrXRUBcj8L1KFxGQOJ6FK5H4UZAZ2ZmZmZmR0DsUbgehetHQHE9CtejcEhA9ihcj8L1SEB7FK5H4XpJQA==\"},\"shape\":[50],\"dtype\":\"float64\",\"order\":\"little\"}],[\"right\",{\"type\":\"ndarray\",\"array\":{\"type\":\"bytes\",\"data\":\"pHA9Ctej8D+kcD0K16MAQPYoXI/C9QhApHA9CtejEEDNzMzMzMwUQPYoXI/C9RhAH4XrUbgeHUCkcD0K16MgQLgehetRuCJAzczMzMzMJEDiehSuR+EmQPYoXI/C9ShACtejcD0KK0AfhetRuB4tQDQzMzMzMy9ApHA9CtejMECuR+F6FK4xQLgehetRuDJAw/UoXI/CM0DNzMzMzMw0QNejcD0K1zVA4noUrkfhNkDsUbgehes3QPYoXI/C9ThAAAAAAAAAOkAK16NwPQo7QBWuR+F6FDxAH4XrUbgePUApXI/C9Sg+QDQzMzMzMz9AH4XrUbgeQECkcD0K16NAQClcj8L1KEFArkfhehSuQUAzMzMzMzNCQLgehetRuEJAPgrXo3A9Q0DD9Shcj8JDQEjhehSuR0RAzczMzMzMREBSuB6F61FFQNejcD0K10VAXI/C9ShcRkDiehSuR+FGQGdmZmZmZkdA7FG4HoXrR0BxPQrXo3BIQPYoXI/C9UhAexSuR+F6SUAAAAAAAABKQA==\"},\"shape\":[50],\"dtype\":\"float64\",\"order\":\"little\"}],[\"number_vmail_messages\",{\"type\":\"ndarray\",\"array\":{\"type\":\"bytes\",\"data\":\"pHA9Ctej4D/2KFyPwvX4P83MzMzMzARAH4XrUbgeDUC4HoXrUbgSQOJ6FK5H4RZACtejcD0KG0A0MzMzMzMfQK5H4XoUriFAwvUoXI/CI0DYo3A9CtclQOxRuB6F6ydAAAAAAAAAKkAUrkfhehQsQCpcj8L1KC5AH4XrUbgeMEApXI/C9SgxQDMzMzMzMzJAPgrXo3A9M0BI4XoUrkc0QFK4HoXrUTVAXI/C9ShcNkBnZmZmZmY3QHE9CtejcDhAexSuR+F6OUCF61G4HoU6QJDC9ShcjztAmpmZmZmZPECkcD0K16M9QK5H4XoUrj5AuR6F61G4P0DiehSuR2FAQGZmZmZm5kBA7FG4HoVrQUBwPQrXo/BBQPYoXI/CdUJAexSuR+H6QkAAAAAAAIBDQIbrUbgeBURACtejcD2KRECQwvUoXA9FQBSuR+F6lEVAmpmZmZkZRkAfhetRuJ5GQKRwPQrXI0dAKlyPwvWoR0CuR+F6FC5IQDQzMzMzs0hAuB6F61E4SUA+CtejcL1JQA==\"},\"shape\":[50],\"dtype\":\"float64\",\"order\":\"little\"}],[\"number_vmail_messages_count\",{\"type\":\"ndarray\",\"array\":{\"type\":\"bytes\",\"data\":\"QwwAAAAAAAAAAAAAAQAAAAAAAAACAAAAAAAAAAIAAAAAAAAABAAAAAIAAAAKAAAAAwAAAAcAAAAMAAAADwAAABAAAAAQAAAAGQAAAB0AAAAjAAAAJgAAACgAAAA5AAAALgAAAGsAAAA6AAAAOQAAAC8AAABFAAAALwAAADcAAAAkAAAAIgAAAB8AAAAgAAAAIwAAACMAAAAWAAAAEgAAABEAAAANAAAABwAAAAoAAAAHAAAABAAAAAQAAAADAAAAAgAAAAEAAAA=\"},\"shape\":[50],\"dtype\":\"int32\",\"order\":\"little\"}]]}}},\"view\":{\"type\":\"object\",\"name\":\"CDSView\",\"id\":\"p1453\",\"attributes\":{\"filter\":{\"type\":\"object\",\"name\":\"AllIndices\",\"id\":\"p1454\"}}},\"glyph\":{\"type\":\"object\",\"name\":\"Quad\",\"id\":\"p1449\",\"attributes\":{\"tags\":[\"apply_ranges\"],\"left\":{\"type\":\"field\",\"field\":\"left\"},\"right\":{\"type\":\"field\",\"field\":\"right\"},\"bottom\":{\"type\":\"value\",\"value\":0},\"top\":{\"type\":\"field\",\"field\":\"top\"},\"fill_color\":{\"type\":\"value\",\"value\":\"#30a2da\"},\"hatch_color\":{\"type\":\"value\",\"value\":\"#30a2da\"}}},\"selection_glyph\":{\"type\":\"object\",\"name\":\"Quad\",\"id\":\"p1455\",\"attributes\":{\"tags\":[\"apply_ranges\"],\"left\":{\"type\":\"field\",\"field\":\"left\"},\"right\":{\"type\":\"field\",\"field\":\"right\"},\"bottom\":{\"type\":\"value\",\"value\":0},\"top\":{\"type\":\"field\",\"field\":\"top\"},\"line_color\":{\"type\":\"value\",\"value\":\"black\"},\"line_alpha\":{\"type\":\"value\",\"value\":1.0},\"line_width\":{\"type\":\"value\",\"value\":1},\"line_join\":{\"type\":\"value\",\"value\":\"bevel\"},\"line_cap\":{\"type\":\"value\",\"value\":\"butt\"},\"line_dash\":{\"type\":\"value\",\"value\":[]},\"line_dash_offset\":{\"type\":\"value\",\"value\":0},\"fill_color\":{\"type\":\"value\",\"value\":\"#30a2da\"},\"fill_alpha\":{\"type\":\"value\",\"value\":1.0},\"hatch_color\":{\"type\":\"value\",\"value\":\"#30a2da\"},\"hatch_alpha\":{\"type\":\"value\",\"value\":1.0},\"hatch_scale\":{\"type\":\"value\",\"value\":12.0},\"hatch_pattern\":{\"type\":\"value\",\"value\":null},\"hatch_weight\":{\"type\":\"value\",\"value\":1.0}}},\"nonselection_glyph\":{\"type\":\"object\",\"name\":\"Quad\",\"id\":\"p1450\",\"attributes\":{\"tags\":[\"apply_ranges\"],\"left\":{\"type\":\"field\",\"field\":\"left\"},\"right\":{\"type\":\"field\",\"field\":\"right\"},\"bottom\":{\"type\":\"value\",\"value\":0},\"top\":{\"type\":\"field\",\"field\":\"top\"},\"line_alpha\":{\"type\":\"value\",\"value\":0.1},\"fill_color\":{\"type\":\"value\",\"value\":\"#30a2da\"},\"fill_alpha\":{\"type\":\"value\",\"value\":0.1},\"hatch_color\":{\"type\":\"value\",\"value\":\"#30a2da\"},\"hatch_alpha\":{\"type\":\"value\",\"value\":0.1}}},\"muted_glyph\":{\"type\":\"object\",\"name\":\"Quad\",\"id\":\"p1451\",\"attributes\":{\"tags\":[\"apply_ranges\"],\"left\":{\"type\":\"field\",\"field\":\"left\"},\"right\":{\"type\":\"field\",\"field\":\"right\"},\"bottom\":{\"type\":\"value\",\"value\":0},\"top\":{\"type\":\"field\",\"field\":\"top\"},\"line_alpha\":{\"type\":\"value\",\"value\":0.2},\"fill_color\":{\"type\":\"value\",\"value\":\"#30a2da\"},\"fill_alpha\":{\"type\":\"value\",\"value\":0.2},\"hatch_color\":{\"type\":\"value\",\"value\":\"#30a2da\"},\"hatch_alpha\":{\"type\":\"value\",\"value\":0.2}}}}}],\"toolbar\":{\"type\":\"object\",\"name\":\"Toolbar\",\"id\":\"p1421\",\"attributes\":{\"tools\":[{\"type\":\"object\",\"name\":\"WheelZoomTool\",\"id\":\"p1410\",\"attributes\":{\"tags\":[\"hv_created\"],\"renderers\":\"auto\",\"zoom_together\":\"none\"}},{\"type\":\"object\",\"name\":\"HoverTool\",\"id\":\"p1411\",\"attributes\":{\"tags\":[\"hv_created\"],\"renderers\":[{\"id\":\"p1452\"}],\"tooltips\":[[\"number_vmail_messages\",\"@{number_vmail_messages}\"],[\"Count\",\"@{number_vmail_messages_count}\"]]}},{\"type\":\"object\",\"name\":\"SaveTool\",\"id\":\"p1434\"},{\"type\":\"object\",\"name\":\"PanTool\",\"id\":\"p1435\"},{\"type\":\"object\",\"name\":\"BoxZoomTool\",\"id\":\"p1436\",\"attributes\":{\"overlay\":{\"type\":\"object\",\"name\":\"BoxAnnotation\",\"id\":\"p1437\",\"attributes\":{\"syncable\":false,\"level\":\"overlay\",\"visible\":false,\"left\":{\"type\":\"number\",\"value\":\"nan\"},\"right\":{\"type\":\"number\",\"value\":\"nan\"},\"top\":{\"type\":\"number\",\"value\":\"nan\"},\"bottom\":{\"type\":\"number\",\"value\":\"nan\"},\"left_units\":\"canvas\",\"right_units\":\"canvas\",\"top_units\":\"canvas\",\"bottom_units\":\"canvas\",\"line_color\":\"black\",\"line_alpha\":1.0,\"line_width\":2,\"line_dash\":[4,4],\"fill_color\":\"lightgrey\",\"fill_alpha\":0.5}}}},{\"type\":\"object\",\"name\":\"ResetTool\",\"id\":\"p1442\"}],\"active_drag\":{\"id\":\"p1435\"},\"active_scroll\":{\"id\":\"p1410\"}}},\"left\":[{\"type\":\"object\",\"name\":\"LinearAxis\",\"id\":\"p1429\",\"attributes\":{\"ticker\":{\"type\":\"object\",\"name\":\"BasicTicker\",\"id\":\"p1430\",\"attributes\":{\"mantissas\":[1,2,5]}},\"formatter\":{\"type\":\"object\",\"name\":\"BasicTickFormatter\",\"id\":\"p1431\"},\"axis_label\":\"\",\"major_label_policy\":{\"type\":\"object\",\"name\":\"AllLabels\",\"id\":\"p1432\"}}}],\"below\":[{\"type\":\"object\",\"name\":\"LinearAxis\",\"id\":\"p1424\",\"attributes\":{\"ticker\":{\"type\":\"object\",\"name\":\"BasicTicker\",\"id\":\"p1425\",\"attributes\":{\"mantissas\":[1,2,5]}},\"formatter\":{\"type\":\"object\",\"name\":\"BasicTickFormatter\",\"id\":\"p1426\"},\"axis_label\":\"number_vmail_messages\",\"major_label_policy\":{\"type\":\"object\",\"name\":\"AllLabels\",\"id\":\"p1427\"}}}],\"center\":[{\"type\":\"object\",\"name\":\"Grid\",\"id\":\"p1428\",\"attributes\":{\"axis\":{\"id\":\"p1424\"},\"grid_line_color\":null}},{\"type\":\"object\",\"name\":\"Grid\",\"id\":\"p1433\",\"attributes\":{\"dimension\":1,\"axis\":{\"id\":\"p1429\"},\"grid_line_color\":null}}],\"min_border_top\":10,\"min_border_bottom\":10,\"min_border_left\":10,\"min_border_right\":10,\"output_backend\":\"webgl\"}},{\"type\":\"object\",\"name\":\"Spacer\",\"id\":\"p1457\",\"attributes\":{\"name\":\"HSpacer01593\",\"stylesheets\":[\"\\n:host(.pn-loading):before, .pn-loading:before {\\n  background-color: #c3c3c3;\\n  mask-size: auto calc(min(50%, 400px));\\n  -webkit-mask-size: auto calc(min(50%, 400px));\\n}\",{\"id\":\"p1403\"},{\"id\":\"p1401\"},{\"id\":\"p1402\"}],\"margin\":0,\"sizing_mode\":\"stretch_width\",\"align\":\"start\"}}]}}],\"defs\":[{\"type\":\"model\",\"name\":\"ReactiveHTML1\"},{\"type\":\"model\",\"name\":\"FlexBox1\",\"properties\":[{\"name\":\"align_content\",\"kind\":\"Any\",\"default\":\"flex-start\"},{\"name\":\"align_items\",\"kind\":\"Any\",\"default\":\"flex-start\"},{\"name\":\"flex_direction\",\"kind\":\"Any\",\"default\":\"row\"},{\"name\":\"flex_wrap\",\"kind\":\"Any\",\"default\":\"wrap\"},{\"name\":\"gap\",\"kind\":\"Any\",\"default\":\"\"},{\"name\":\"justify_content\",\"kind\":\"Any\",\"default\":\"flex-start\"}]},{\"type\":\"model\",\"name\":\"FloatPanel1\",\"properties\":[{\"name\":\"config\",\"kind\":\"Any\",\"default\":{\"type\":\"map\"}},{\"name\":\"contained\",\"kind\":\"Any\",\"default\":true},{\"name\":\"position\",\"kind\":\"Any\",\"default\":\"right-top\"},{\"name\":\"offsetx\",\"kind\":\"Any\",\"default\":null},{\"name\":\"offsety\",\"kind\":\"Any\",\"default\":null},{\"name\":\"theme\",\"kind\":\"Any\",\"default\":\"primary\"},{\"name\":\"status\",\"kind\":\"Any\",\"default\":\"normalized\"}]},{\"type\":\"model\",\"name\":\"GridStack1\",\"properties\":[{\"name\":\"mode\",\"kind\":\"Any\",\"default\":\"warn\"},{\"name\":\"ncols\",\"kind\":\"Any\",\"default\":null},{\"name\":\"nrows\",\"kind\":\"Any\",\"default\":null},{\"name\":\"allow_resize\",\"kind\":\"Any\",\"default\":true},{\"name\":\"allow_drag\",\"kind\":\"Any\",\"default\":true},{\"name\":\"state\",\"kind\":\"Any\",\"default\":[]}]},{\"type\":\"model\",\"name\":\"drag1\",\"properties\":[{\"name\":\"slider_width\",\"kind\":\"Any\",\"default\":5},{\"name\":\"slider_color\",\"kind\":\"Any\",\"default\":\"black\"},{\"name\":\"value\",\"kind\":\"Any\",\"default\":50}]},{\"type\":\"model\",\"name\":\"click1\",\"properties\":[{\"name\":\"terminal_output\",\"kind\":\"Any\",\"default\":\"\"},{\"name\":\"debug_name\",\"kind\":\"Any\",\"default\":\"\"},{\"name\":\"clears\",\"kind\":\"Any\",\"default\":0}]},{\"type\":\"model\",\"name\":\"FastWrapper1\",\"properties\":[{\"name\":\"object\",\"kind\":\"Any\",\"default\":null},{\"name\":\"style\",\"kind\":\"Any\",\"default\":null}]},{\"type\":\"model\",\"name\":\"NotificationAreaBase1\",\"properties\":[{\"name\":\"js_events\",\"kind\":\"Any\",\"default\":{\"type\":\"map\"}},{\"name\":\"position\",\"kind\":\"Any\",\"default\":\"bottom-right\"},{\"name\":\"_clear\",\"kind\":\"Any\",\"default\":0}]},{\"type\":\"model\",\"name\":\"NotificationArea1\",\"properties\":[{\"name\":\"js_events\",\"kind\":\"Any\",\"default\":{\"type\":\"map\"}},{\"name\":\"notifications\",\"kind\":\"Any\",\"default\":[]},{\"name\":\"position\",\"kind\":\"Any\",\"default\":\"bottom-right\"},{\"name\":\"_clear\",\"kind\":\"Any\",\"default\":0},{\"name\":\"types\",\"kind\":\"Any\",\"default\":[{\"type\":\"map\",\"entries\":[[\"type\",\"warning\"],[\"background\",\"#ffc107\"],[\"icon\",{\"type\":\"map\",\"entries\":[[\"className\",\"fas fa-exclamation-triangle\"],[\"tagName\",\"i\"],[\"color\",\"white\"]]}]]},{\"type\":\"map\",\"entries\":[[\"type\",\"info\"],[\"background\",\"#007bff\"],[\"icon\",{\"type\":\"map\",\"entries\":[[\"className\",\"fas fa-info-circle\"],[\"tagName\",\"i\"],[\"color\",\"white\"]]}]]}]}]},{\"type\":\"model\",\"name\":\"Notification\",\"properties\":[{\"name\":\"background\",\"kind\":\"Any\",\"default\":null},{\"name\":\"duration\",\"kind\":\"Any\",\"default\":3000},{\"name\":\"icon\",\"kind\":\"Any\",\"default\":null},{\"name\":\"message\",\"kind\":\"Any\",\"default\":\"\"},{\"name\":\"notification_type\",\"kind\":\"Any\",\"default\":null},{\"name\":\"_destroyed\",\"kind\":\"Any\",\"default\":false}]},{\"type\":\"model\",\"name\":\"TemplateActions1\",\"properties\":[{\"name\":\"open_modal\",\"kind\":\"Any\",\"default\":0},{\"name\":\"close_modal\",\"kind\":\"Any\",\"default\":0}]},{\"type\":\"model\",\"name\":\"BootstrapTemplateActions1\",\"properties\":[{\"name\":\"open_modal\",\"kind\":\"Any\",\"default\":0},{\"name\":\"close_modal\",\"kind\":\"Any\",\"default\":0}]},{\"type\":\"model\",\"name\":\"TemplateEditor1\",\"properties\":[{\"name\":\"layout\",\"kind\":\"Any\",\"default\":[]}]},{\"type\":\"model\",\"name\":\"MaterialTemplateActions1\",\"properties\":[{\"name\":\"open_modal\",\"kind\":\"Any\",\"default\":0},{\"name\":\"close_modal\",\"kind\":\"Any\",\"default\":0}]},{\"type\":\"model\",\"name\":\"copy_to_clipboard1\",\"properties\":[{\"name\":\"fill\",\"kind\":\"Any\",\"default\":\"none\"},{\"name\":\"value\",\"kind\":\"Any\",\"default\":null}]}]}};\n",
       "  var render_items = [{\"docid\":\"eade70f9-f6a2-425d-9059-66ed0aa2b247\",\"roots\":{\"p1400\":\"ed0dc84d-7736-4c6f-9259-79ebb6751653\"},\"root_ids\":[\"p1400\"]}];\n",
>>>>>>> 35eb337 (Adding in the work cody did on histograms)
>>>>>>> 33e35f241d23f05510413d5e7dfe539dcfe0fe49
       "  var docs = Object.values(docs_json)\n",
       "  if (!docs) {\n",
       "    return\n",
       "  }\n",
       "  const py_version = docs[0].version.replace('rc', '-rc.').replace('.dev', '-dev.')\n",
       "  async function embed_document(root) {\n",
       "    var Bokeh = get_bokeh(root)\n",
       "    await Bokeh.embed.embed_items_notebook(docs_json, render_items);\n",
       "    for (const render_item of render_items) {\n",
       "      for (const root_id of render_item.root_ids) {\n",
       "\tconst id_el = document.getElementById(root_id)\n",
       "\tif (id_el.children.length && id_el.children[0].hasAttribute('data-root-id')) {\n",
       "\t  const root_el = id_el.children[0]\n",
       "\t  root_el.id = root_el.id + '-rendered'\n",
       "\t  for (const child of root_el.children) {\n",
       "            // Ensure JupyterLab does not capture keyboard shortcuts\n",
       "            // see: https://jupyterlab.readthedocs.io/en/4.1.x/extension/notebook.html#keyboard-interaction-model\n",
       "\t    child.setAttribute('data-lm-suppress-shortcuts', 'true')\n",
       "\t  }\n",
       "\t}\n",
       "      }\n",
       "    }\n",
       "  }\n",
       "  function get_bokeh(root) {\n",
       "    if (root.Bokeh === undefined) {\n",
       "      return null\n",
       "    } else if (root.Bokeh.version !== py_version) {\n",
       "      if (root.Bokeh.versions === undefined || !root.Bokeh.versions.has(py_version)) {\n",
       "\treturn null\n",
       "      }\n",
       "      return root.Bokeh.versions.get(py_version);\n",
       "    } else if (root.Bokeh.version === py_version) {\n",
       "      return root.Bokeh\n",
       "    }\n",
       "    return null\n",
       "  }\n",
       "  function is_loaded(root) {\n",
       "    var Bokeh = get_bokeh(root)\n",
       "    return (Bokeh != null && Bokeh.Panel !== undefined)\n",
       "  }\n",
       "  if (is_loaded(root)) {\n",
       "    embed_document(root);\n",
       "  } else {\n",
       "    var attempts = 0;\n",
       "    var timer = setInterval(function(root) {\n",
       "      if (is_loaded(root)) {\n",
       "        clearInterval(timer);\n",
       "        embed_document(root);\n",
       "      } else if (document.readyState == \"complete\") {\n",
       "        attempts++;\n",
       "        if (attempts > 200) {\n",
       "          clearInterval(timer);\n",
       "\t  var Bokeh = get_bokeh(root)\n",
       "\t  if (Bokeh == null || Bokeh.Panel == null) {\n",
       "            console.warn(\"Panel: ERROR: Unable to run Panel code because Bokeh or Panel library is missing\");\n",
       "\t  } else {\n",
       "\t    console.warn(\"Panel: WARNING: Attempting to render but not all required libraries could be resolved.\")\n",
       "\t    embed_document(root)\n",
       "\t  }\n",
       "        }\n",
       "      }\n",
       "    }, 25, root)\n",
       "  }\n",
       "})(window);</script>"
      ],
      "text/plain": [
       ":Histogram   [number_vmail_messages]   (Count)"
      ]
     },
<<<<<<< HEAD
     "execution_count": 27,
     "metadata": {
      "application/vnd.holoviews_exec.v0+json": {
       "id": "p1070"
=======
<<<<<<< HEAD
     "execution_count": 99,
     "metadata": {
      "application/vnd.holoviews_exec.v0+json": {
       "id": "p1598"
=======
     "execution_count": 23,
     "metadata": {
      "application/vnd.holoviews_exec.v0+json": {
       "id": "p1400"
>>>>>>> 35eb337 (Adding in the work cody did on histograms)
>>>>>>> 33e35f241d23f05510413d5e7dfe539dcfe0fe49
      }
     },
     "output_type": "execute_result"
    }
   ],
   "source": [
    "telcom_data_df['number_vmail_messages'].hvplot(kind='hist', bins=50, title='number vmail messages')"
   ]
  },
  {
   "cell_type": "code",
<<<<<<< HEAD
   "execution_count": 28,
=======
<<<<<<< HEAD
   "execution_count": 105,
=======
   "execution_count": 22,
>>>>>>> 35eb337 (Adding in the work cody did on histograms)
>>>>>>> 33e35f241d23f05510413d5e7dfe539dcfe0fe49
   "metadata": {},
   "outputs": [
    {
     "data": {},
     "metadata": {},
     "output_type": "display_data"
    },
    {
     "data": {
      "application/vnd.holoviews_exec.v0+json": "",
      "text/html": [
<<<<<<< HEAD
       "<div id='p1136'>\n",
       "  <div id=\"c5223bda-7956-487c-b2f1-892758f7a3cd\" data-root-id=\"p1136\" style=\"display: contents;\"></div>\n",
       "</div>\n",
       "<script type=\"application/javascript\">(function(root) {\n",
       "  var docs_json = {\"a2874078-69e4-4b0a-9e8d-19fd14d32fba\":{\"version\":\"3.4.1\",\"title\":\"Bokeh Application\",\"roots\":[{\"type\":\"object\",\"name\":\"Row\",\"id\":\"p1136\",\"attributes\":{\"name\":\"Row01153\",\"tags\":[\"embedded\"],\"stylesheets\":[\"\\n:host(.pn-loading):before, .pn-loading:before {\\n  background-color: #c3c3c3;\\n  mask-size: auto calc(min(50%, 400px));\\n  -webkit-mask-size: auto calc(min(50%, 400px));\\n}\",{\"type\":\"object\",\"name\":\"ImportedStyleSheet\",\"id\":\"p1139\",\"attributes\":{\"url\":\"https://cdn.holoviz.org/panel/1.4.4/dist/css/loading.css\"}},{\"type\":\"object\",\"name\":\"ImportedStyleSheet\",\"id\":\"p1195\",\"attributes\":{\"url\":\"https://cdn.holoviz.org/panel/1.4.4/dist/css/listpanel.css\"}},{\"type\":\"object\",\"name\":\"ImportedStyleSheet\",\"id\":\"p1137\",\"attributes\":{\"url\":\"https://cdn.holoviz.org/panel/1.4.4/dist/bundled/theme/default.css\"}},{\"type\":\"object\",\"name\":\"ImportedStyleSheet\",\"id\":\"p1138\",\"attributes\":{\"url\":\"https://cdn.holoviz.org/panel/1.4.4/dist/bundled/theme/native.css\"}}],\"min_width\":700,\"margin\":0,\"sizing_mode\":\"stretch_width\",\"align\":\"start\",\"children\":[{\"type\":\"object\",\"name\":\"Spacer\",\"id\":\"p1140\",\"attributes\":{\"name\":\"HSpacer01160\",\"stylesheets\":[\"\\n:host(.pn-loading):before, .pn-loading:before {\\n  background-color: #c3c3c3;\\n  mask-size: auto calc(min(50%, 400px));\\n  -webkit-mask-size: auto calc(min(50%, 400px));\\n}\",{\"id\":\"p1139\"},{\"id\":\"p1137\"},{\"id\":\"p1138\"}],\"margin\":0,\"sizing_mode\":\"stretch_width\",\"align\":\"start\"}},{\"type\":\"object\",\"name\":\"Figure\",\"id\":\"p1148\",\"attributes\":{\"width\":700,\"height\":300,\"margin\":[5,10],\"sizing_mode\":\"fixed\",\"align\":\"start\",\"x_range\":{\"type\":\"object\",\"name\":\"Range1d\",\"id\":\"p1141\",\"attributes\":{\"tags\":[[[\"total_day_minutes\",null]],[]],\"start\":-15.064285714285715,\"end\":366.5642857142857,\"reset_start\":-15.064285714285715,\"reset_end\":366.5642857142857}},\"y_range\":{\"type\":\"object\",\"name\":\"Range1d\",\"id\":\"p1142\",\"attributes\":{\"tags\":[[[\"Count\",null]],{\"type\":\"map\",\"entries\":[[\"invert_yaxis\",false],[\"autorange\",false]]}],\"end\":612.0,\"reset_start\":0.0,\"reset_end\":612.0}},\"x_scale\":{\"type\":\"object\",\"name\":\"LinearScale\",\"id\":\"p1158\"},\"y_scale\":{\"type\":\"object\",\"name\":\"LinearScale\",\"id\":\"p1159\"},\"title\":{\"type\":\"object\",\"name\":\"Title\",\"id\":\"p1151\",\"attributes\":{\"text\":\"Total minutes (day)\",\"text_color\":\"black\",\"text_font_size\":\"12pt\"}},\"renderers\":[{\"type\":\"object\",\"name\":\"GlyphRenderer\",\"id\":\"p1188\",\"attributes\":{\"data_source\":{\"type\":\"object\",\"name\":\"ColumnDataSource\",\"id\":\"p1179\",\"attributes\":{\"selected\":{\"type\":\"object\",\"name\":\"Selection\",\"id\":\"p1180\",\"attributes\":{\"indices\":[],\"line_indices\":[]}},\"selection_policy\":{\"type\":\"object\",\"name\":\"UnionRenderers\",\"id\":\"p1181\"},\"data\":{\"type\":\"map\",\"entries\":[[\"top\",{\"type\":\"ndarray\",\"array\":{\"type\":\"bytes\",\"data\":\"BwAAAAcAAAAYAAAAOQAAAGEAAACeAAAA+AAAAH8BAADnAQAA9wEAAC0CAADyAQAAuwEAADgBAAC+AAAAlgAAAEQAAAAjAAAAEwAAAAcAAAA=\"},\"shape\":[20],\"dtype\":\"int32\",\"order\":\"little\"}],[\"left\",{\"type\":\"ndarray\",\"array\":{\"type\":\"bytes\",\"data\":\"AAAAAAAAAAAzMzMzM5MxQDMzMzMzk0FAzMzMzMxcSkAzMzMzM5NRQAAAAAAA+FVAzMzMzMxcWkCZmZmZmcFeQDMzMzMzk2FAmZmZmZnFY0AAAAAAAPhlQGZmZmZmKmhAzMzMzMxcakAzMzMzM49sQJmZmZmZwW5AAAAAAAB6cEAzMzMzM5NxQGZmZmZmrHJAmZmZmZnFc0DNzMzMzN50QA==\"},\"shape\":[20],\"dtype\":\"float64\",\"order\":\"little\"}],[\"right\",{\"type\":\"ndarray\",\"array\":{\"type\":\"bytes\",\"data\":\"MzMzMzOTMUAzMzMzM5NBQMzMzMzMXEpAMzMzMzOTUUAAAAAAAPhVQMzMzMzMXFpAmZmZmZnBXkAzMzMzM5NhQJmZmZmZxWNAAAAAAAD4ZUBmZmZmZipoQMzMzMzMXGpAMzMzMzOPbECZmZmZmcFuQAAAAAAAenBAMzMzMzOTcUBmZmZmZqxyQJmZmZmZxXNAzczMzMzedEAAAAAAAPh1QA==\"},\"shape\":[20],\"dtype\":\"float64\",\"order\":\"little\"}],[\"total_day_minutes\",{\"type\":\"ndarray\",\"array\":{\"type\":\"bytes\",\"data\":\"MzMzMzOTIUDMzMzMzFw6QAAAAAAA+EVAmZmZmZnBTkCamZmZmcVTQGZmZmZmKlhAMjMzMzOPXEAAAAAAAHpgQGZmZmZmrGJAzMzMzMzeZEAzMzMzMxFnQJmZmZmZQ2lAAAAAAAB2a0BmZmZmZqhtQMzMzMzM2m9AmpmZmZkGcUDMzMzMzB9yQAAAAAAAOXNAMzMzMzNSdEBmZmZmZmt1QA==\"},\"shape\":[20],\"dtype\":\"float64\",\"order\":\"little\"}],[\"total_day_minutes_count\",{\"type\":\"ndarray\",\"array\":{\"type\":\"bytes\",\"data\":\"BwAAAAcAAAAYAAAAOQAAAGEAAACeAAAA+AAAAH8BAADnAQAA9wEAAC0CAADyAQAAuwEAADgBAAC+AAAAlgAAAEQAAAAjAAAAEwAAAAcAAAA=\"},\"shape\":[20],\"dtype\":\"int32\",\"order\":\"little\"}]]}}},\"view\":{\"type\":\"object\",\"name\":\"CDSView\",\"id\":\"p1189\",\"attributes\":{\"filter\":{\"type\":\"object\",\"name\":\"AllIndices\",\"id\":\"p1190\"}}},\"glyph\":{\"type\":\"object\",\"name\":\"Quad\",\"id\":\"p1185\",\"attributes\":{\"tags\":[\"apply_ranges\"],\"left\":{\"type\":\"field\",\"field\":\"left\"},\"right\":{\"type\":\"field\",\"field\":\"right\"},\"bottom\":{\"type\":\"value\",\"value\":0},\"top\":{\"type\":\"field\",\"field\":\"top\"},\"fill_color\":{\"type\":\"value\",\"value\":\"#30a2da\"},\"hatch_color\":{\"type\":\"value\",\"value\":\"#30a2da\"}}},\"selection_glyph\":{\"type\":\"object\",\"name\":\"Quad\",\"id\":\"p1191\",\"attributes\":{\"tags\":[\"apply_ranges\"],\"left\":{\"type\":\"field\",\"field\":\"left\"},\"right\":{\"type\":\"field\",\"field\":\"right\"},\"bottom\":{\"type\":\"value\",\"value\":0},\"top\":{\"type\":\"field\",\"field\":\"top\"},\"line_color\":{\"type\":\"value\",\"value\":\"black\"},\"line_alpha\":{\"type\":\"value\",\"value\":1.0},\"line_width\":{\"type\":\"value\",\"value\":1},\"line_join\":{\"type\":\"value\",\"value\":\"bevel\"},\"line_cap\":{\"type\":\"value\",\"value\":\"butt\"},\"line_dash\":{\"type\":\"value\",\"value\":[]},\"line_dash_offset\":{\"type\":\"value\",\"value\":0},\"fill_color\":{\"type\":\"value\",\"value\":\"#30a2da\"},\"fill_alpha\":{\"type\":\"value\",\"value\":1.0},\"hatch_color\":{\"type\":\"value\",\"value\":\"#30a2da\"},\"hatch_alpha\":{\"type\":\"value\",\"value\":1.0},\"hatch_scale\":{\"type\":\"value\",\"value\":12.0},\"hatch_pattern\":{\"type\":\"value\",\"value\":null},\"hatch_weight\":{\"type\":\"value\",\"value\":1.0}}},\"nonselection_glyph\":{\"type\":\"object\",\"name\":\"Quad\",\"id\":\"p1186\",\"attributes\":{\"tags\":[\"apply_ranges\"],\"left\":{\"type\":\"field\",\"field\":\"left\"},\"right\":{\"type\":\"field\",\"field\":\"right\"},\"bottom\":{\"type\":\"value\",\"value\":0},\"top\":{\"type\":\"field\",\"field\":\"top\"},\"line_alpha\":{\"type\":\"value\",\"value\":0.1},\"fill_color\":{\"type\":\"value\",\"value\":\"#30a2da\"},\"fill_alpha\":{\"type\":\"value\",\"value\":0.1},\"hatch_color\":{\"type\":\"value\",\"value\":\"#30a2da\"},\"hatch_alpha\":{\"type\":\"value\",\"value\":0.1}}},\"muted_glyph\":{\"type\":\"object\",\"name\":\"Quad\",\"id\":\"p1187\",\"attributes\":{\"tags\":[\"apply_ranges\"],\"left\":{\"type\":\"field\",\"field\":\"left\"},\"right\":{\"type\":\"field\",\"field\":\"right\"},\"bottom\":{\"type\":\"value\",\"value\":0},\"top\":{\"type\":\"field\",\"field\":\"top\"},\"line_alpha\":{\"type\":\"value\",\"value\":0.2},\"fill_color\":{\"type\":\"value\",\"value\":\"#30a2da\"},\"fill_alpha\":{\"type\":\"value\",\"value\":0.2},\"hatch_color\":{\"type\":\"value\",\"value\":\"#30a2da\"},\"hatch_alpha\":{\"type\":\"value\",\"value\":0.2}}}}}],\"toolbar\":{\"type\":\"object\",\"name\":\"Toolbar\",\"id\":\"p1157\",\"attributes\":{\"tools\":[{\"type\":\"object\",\"name\":\"WheelZoomTool\",\"id\":\"p1146\",\"attributes\":{\"tags\":[\"hv_created\"],\"renderers\":\"auto\",\"zoom_together\":\"none\"}},{\"type\":\"object\",\"name\":\"HoverTool\",\"id\":\"p1147\",\"attributes\":{\"tags\":[\"hv_created\"],\"renderers\":[{\"id\":\"p1188\"}],\"tooltips\":[[\"total_day_minutes\",\"@{total_day_minutes}\"],[\"Count\",\"@{total_day_minutes_count}\"]]}},{\"type\":\"object\",\"name\":\"SaveTool\",\"id\":\"p1170\"},{\"type\":\"object\",\"name\":\"PanTool\",\"id\":\"p1171\"},{\"type\":\"object\",\"name\":\"BoxZoomTool\",\"id\":\"p1172\",\"attributes\":{\"overlay\":{\"type\":\"object\",\"name\":\"BoxAnnotation\",\"id\":\"p1173\",\"attributes\":{\"syncable\":false,\"level\":\"overlay\",\"visible\":false,\"left\":{\"type\":\"number\",\"value\":\"nan\"},\"right\":{\"type\":\"number\",\"value\":\"nan\"},\"top\":{\"type\":\"number\",\"value\":\"nan\"},\"bottom\":{\"type\":\"number\",\"value\":\"nan\"},\"left_units\":\"canvas\",\"right_units\":\"canvas\",\"top_units\":\"canvas\",\"bottom_units\":\"canvas\",\"line_color\":\"black\",\"line_alpha\":1.0,\"line_width\":2,\"line_dash\":[4,4],\"fill_color\":\"lightgrey\",\"fill_alpha\":0.5}}}},{\"type\":\"object\",\"name\":\"ResetTool\",\"id\":\"p1178\"}],\"active_drag\":{\"id\":\"p1171\"},\"active_scroll\":{\"id\":\"p1146\"}}},\"left\":[{\"type\":\"object\",\"name\":\"LinearAxis\",\"id\":\"p1165\",\"attributes\":{\"ticker\":{\"type\":\"object\",\"name\":\"BasicTicker\",\"id\":\"p1166\",\"attributes\":{\"mantissas\":[1,2,5]}},\"formatter\":{\"type\":\"object\",\"name\":\"BasicTickFormatter\",\"id\":\"p1167\"},\"axis_label\":\"\",\"major_label_policy\":{\"type\":\"object\",\"name\":\"AllLabels\",\"id\":\"p1168\"}}}],\"below\":[{\"type\":\"object\",\"name\":\"LinearAxis\",\"id\":\"p1160\",\"attributes\":{\"ticker\":{\"type\":\"object\",\"name\":\"BasicTicker\",\"id\":\"p1161\",\"attributes\":{\"mantissas\":[1,2,5]}},\"formatter\":{\"type\":\"object\",\"name\":\"BasicTickFormatter\",\"id\":\"p1162\"},\"axis_label\":\"total_day_minutes\",\"major_label_policy\":{\"type\":\"object\",\"name\":\"AllLabels\",\"id\":\"p1163\"}}}],\"center\":[{\"type\":\"object\",\"name\":\"Grid\",\"id\":\"p1164\",\"attributes\":{\"axis\":{\"id\":\"p1160\"},\"grid_line_color\":null}},{\"type\":\"object\",\"name\":\"Grid\",\"id\":\"p1169\",\"attributes\":{\"dimension\":1,\"axis\":{\"id\":\"p1165\"},\"grid_line_color\":null}}],\"min_border_top\":10,\"min_border_bottom\":10,\"min_border_left\":10,\"min_border_right\":10,\"output_backend\":\"webgl\"}},{\"type\":\"object\",\"name\":\"Spacer\",\"id\":\"p1193\",\"attributes\":{\"name\":\"HSpacer01161\",\"stylesheets\":[\"\\n:host(.pn-loading):before, .pn-loading:before {\\n  background-color: #c3c3c3;\\n  mask-size: auto calc(min(50%, 400px));\\n  -webkit-mask-size: auto calc(min(50%, 400px));\\n}\",{\"id\":\"p1139\"},{\"id\":\"p1137\"},{\"id\":\"p1138\"}],\"margin\":0,\"sizing_mode\":\"stretch_width\",\"align\":\"start\"}}]}}],\"defs\":[{\"type\":\"model\",\"name\":\"ReactiveHTML1\"},{\"type\":\"model\",\"name\":\"FlexBox1\",\"properties\":[{\"name\":\"align_content\",\"kind\":\"Any\",\"default\":\"flex-start\"},{\"name\":\"align_items\",\"kind\":\"Any\",\"default\":\"flex-start\"},{\"name\":\"flex_direction\",\"kind\":\"Any\",\"default\":\"row\"},{\"name\":\"flex_wrap\",\"kind\":\"Any\",\"default\":\"wrap\"},{\"name\":\"gap\",\"kind\":\"Any\",\"default\":\"\"},{\"name\":\"justify_content\",\"kind\":\"Any\",\"default\":\"flex-start\"}]},{\"type\":\"model\",\"name\":\"FloatPanel1\",\"properties\":[{\"name\":\"config\",\"kind\":\"Any\",\"default\":{\"type\":\"map\"}},{\"name\":\"contained\",\"kind\":\"Any\",\"default\":true},{\"name\":\"position\",\"kind\":\"Any\",\"default\":\"right-top\"},{\"name\":\"offsetx\",\"kind\":\"Any\",\"default\":null},{\"name\":\"offsety\",\"kind\":\"Any\",\"default\":null},{\"name\":\"theme\",\"kind\":\"Any\",\"default\":\"primary\"},{\"name\":\"status\",\"kind\":\"Any\",\"default\":\"normalized\"}]},{\"type\":\"model\",\"name\":\"GridStack1\",\"properties\":[{\"name\":\"mode\",\"kind\":\"Any\",\"default\":\"warn\"},{\"name\":\"ncols\",\"kind\":\"Any\",\"default\":null},{\"name\":\"nrows\",\"kind\":\"Any\",\"default\":null},{\"name\":\"allow_resize\",\"kind\":\"Any\",\"default\":true},{\"name\":\"allow_drag\",\"kind\":\"Any\",\"default\":true},{\"name\":\"state\",\"kind\":\"Any\",\"default\":[]}]},{\"type\":\"model\",\"name\":\"drag1\",\"properties\":[{\"name\":\"slider_width\",\"kind\":\"Any\",\"default\":5},{\"name\":\"slider_color\",\"kind\":\"Any\",\"default\":\"black\"},{\"name\":\"value\",\"kind\":\"Any\",\"default\":50}]},{\"type\":\"model\",\"name\":\"click1\",\"properties\":[{\"name\":\"terminal_output\",\"kind\":\"Any\",\"default\":\"\"},{\"name\":\"debug_name\",\"kind\":\"Any\",\"default\":\"\"},{\"name\":\"clears\",\"kind\":\"Any\",\"default\":0}]},{\"type\":\"model\",\"name\":\"FastWrapper1\",\"properties\":[{\"name\":\"object\",\"kind\":\"Any\",\"default\":null},{\"name\":\"style\",\"kind\":\"Any\",\"default\":null}]},{\"type\":\"model\",\"name\":\"NotificationAreaBase1\",\"properties\":[{\"name\":\"js_events\",\"kind\":\"Any\",\"default\":{\"type\":\"map\"}},{\"name\":\"position\",\"kind\":\"Any\",\"default\":\"bottom-right\"},{\"name\":\"_clear\",\"kind\":\"Any\",\"default\":0}]},{\"type\":\"model\",\"name\":\"NotificationArea1\",\"properties\":[{\"name\":\"js_events\",\"kind\":\"Any\",\"default\":{\"type\":\"map\"}},{\"name\":\"notifications\",\"kind\":\"Any\",\"default\":[]},{\"name\":\"position\",\"kind\":\"Any\",\"default\":\"bottom-right\"},{\"name\":\"_clear\",\"kind\":\"Any\",\"default\":0},{\"name\":\"types\",\"kind\":\"Any\",\"default\":[{\"type\":\"map\",\"entries\":[[\"type\",\"warning\"],[\"background\",\"#ffc107\"],[\"icon\",{\"type\":\"map\",\"entries\":[[\"className\",\"fas fa-exclamation-triangle\"],[\"tagName\",\"i\"],[\"color\",\"white\"]]}]]},{\"type\":\"map\",\"entries\":[[\"type\",\"info\"],[\"background\",\"#007bff\"],[\"icon\",{\"type\":\"map\",\"entries\":[[\"className\",\"fas fa-info-circle\"],[\"tagName\",\"i\"],[\"color\",\"white\"]]}]]}]}]},{\"type\":\"model\",\"name\":\"Notification\",\"properties\":[{\"name\":\"background\",\"kind\":\"Any\",\"default\":null},{\"name\":\"duration\",\"kind\":\"Any\",\"default\":3000},{\"name\":\"icon\",\"kind\":\"Any\",\"default\":null},{\"name\":\"message\",\"kind\":\"Any\",\"default\":\"\"},{\"name\":\"notification_type\",\"kind\":\"Any\",\"default\":null},{\"name\":\"_destroyed\",\"kind\":\"Any\",\"default\":false}]},{\"type\":\"model\",\"name\":\"TemplateActions1\",\"properties\":[{\"name\":\"open_modal\",\"kind\":\"Any\",\"default\":0},{\"name\":\"close_modal\",\"kind\":\"Any\",\"default\":0}]},{\"type\":\"model\",\"name\":\"BootstrapTemplateActions1\",\"properties\":[{\"name\":\"open_modal\",\"kind\":\"Any\",\"default\":0},{\"name\":\"close_modal\",\"kind\":\"Any\",\"default\":0}]},{\"type\":\"model\",\"name\":\"TemplateEditor1\",\"properties\":[{\"name\":\"layout\",\"kind\":\"Any\",\"default\":[]}]},{\"type\":\"model\",\"name\":\"MaterialTemplateActions1\",\"properties\":[{\"name\":\"open_modal\",\"kind\":\"Any\",\"default\":0},{\"name\":\"close_modal\",\"kind\":\"Any\",\"default\":0}]},{\"type\":\"model\",\"name\":\"copy_to_clipboard1\",\"properties\":[{\"name\":\"fill\",\"kind\":\"Any\",\"default\":\"none\"},{\"name\":\"value\",\"kind\":\"Any\",\"default\":null}]}]}};\n",
       "  var render_items = [{\"docid\":\"a2874078-69e4-4b0a-9e8d-19fd14d32fba\",\"roots\":{\"p1136\":\"c5223bda-7956-487c-b2f1-892758f7a3cd\"},\"root_ids\":[\"p1136\"]}];\n",
=======
<<<<<<< HEAD
       "<div id='p1664'>\n",
       "  <div id=\"c8c893f0-5c18-46e7-9b91-e40896f1707f\" data-root-id=\"p1664\" style=\"display: contents;\"></div>\n",
       "</div>\n",
       "<script type=\"application/javascript\">(function(root) {\n",
       "  var docs_json = {\"489209a3-836f-4935-b05e-f5fb79daad54\":{\"version\":\"3.4.1\",\"title\":\"Bokeh Application\",\"roots\":[{\"type\":\"object\",\"name\":\"Row\",\"id\":\"p1664\",\"attributes\":{\"name\":\"Row05059\",\"tags\":[\"embedded\"],\"stylesheets\":[\"\\n:host(.pn-loading):before, .pn-loading:before {\\n  background-color: #c3c3c3;\\n  mask-size: auto calc(min(50%, 400px));\\n  -webkit-mask-size: auto calc(min(50%, 400px));\\n}\",{\"type\":\"object\",\"name\":\"ImportedStyleSheet\",\"id\":\"p1667\",\"attributes\":{\"url\":\"https://cdn.holoviz.org/panel/1.4.4/dist/css/loading.css\"}},{\"type\":\"object\",\"name\":\"ImportedStyleSheet\",\"id\":\"p1723\",\"attributes\":{\"url\":\"https://cdn.holoviz.org/panel/1.4.4/dist/css/listpanel.css\"}},{\"type\":\"object\",\"name\":\"ImportedStyleSheet\",\"id\":\"p1665\",\"attributes\":{\"url\":\"https://cdn.holoviz.org/panel/1.4.4/dist/bundled/theme/default.css\"}},{\"type\":\"object\",\"name\":\"ImportedStyleSheet\",\"id\":\"p1666\",\"attributes\":{\"url\":\"https://cdn.holoviz.org/panel/1.4.4/dist/bundled/theme/native.css\"}}],\"min_width\":700,\"margin\":0,\"sizing_mode\":\"stretch_width\",\"align\":\"start\",\"children\":[{\"type\":\"object\",\"name\":\"Spacer\",\"id\":\"p1668\",\"attributes\":{\"name\":\"HSpacer05066\",\"stylesheets\":[\"\\n:host(.pn-loading):before, .pn-loading:before {\\n  background-color: #c3c3c3;\\n  mask-size: auto calc(min(50%, 400px));\\n  -webkit-mask-size: auto calc(min(50%, 400px));\\n}\",{\"id\":\"p1667\"},{\"id\":\"p1665\"},{\"id\":\"p1666\"}],\"margin\":0,\"sizing_mode\":\"stretch_width\",\"align\":\"start\"}},{\"type\":\"object\",\"name\":\"Figure\",\"id\":\"p1676\",\"attributes\":{\"width\":700,\"height\":300,\"margin\":[5,10],\"sizing_mode\":\"fixed\",\"align\":\"start\",\"x_range\":{\"type\":\"object\",\"name\":\"Range1d\",\"id\":\"p1669\",\"attributes\":{\"tags\":[[[\"total_day_minutes\",null]],[]],\"start\":-15.064285714285715,\"end\":366.5642857142857,\"reset_start\":-15.064285714285715,\"reset_end\":366.5642857142857}},\"y_range\":{\"type\":\"object\",\"name\":\"Range1d\",\"id\":\"p1670\",\"attributes\":{\"tags\":[[[\"Count\",null]],{\"type\":\"map\",\"entries\":[[\"invert_yaxis\",false],[\"autorange\",false]]}],\"end\":612.0,\"reset_start\":0.0,\"reset_end\":612.0}},\"x_scale\":{\"type\":\"object\",\"name\":\"LinearScale\",\"id\":\"p1686\"},\"y_scale\":{\"type\":\"object\",\"name\":\"LinearScale\",\"id\":\"p1687\"},\"title\":{\"type\":\"object\",\"name\":\"Title\",\"id\":\"p1679\",\"attributes\":{\"text\":\"Total minutes (day)\",\"text_color\":\"black\",\"text_font_size\":\"12pt\"}},\"renderers\":[{\"type\":\"object\",\"name\":\"GlyphRenderer\",\"id\":\"p1716\",\"attributes\":{\"data_source\":{\"type\":\"object\",\"name\":\"ColumnDataSource\",\"id\":\"p1707\",\"attributes\":{\"selected\":{\"type\":\"object\",\"name\":\"Selection\",\"id\":\"p1708\",\"attributes\":{\"indices\":[],\"line_indices\":[]}},\"selection_policy\":{\"type\":\"object\",\"name\":\"UnionRenderers\",\"id\":\"p1709\"},\"data\":{\"type\":\"map\",\"entries\":[[\"top\",{\"type\":\"ndarray\",\"array\":{\"type\":\"bytes\",\"data\":\"BwAAAAcAAAAYAAAAOQAAAGEAAACeAAAA+AAAAH8BAADnAQAA9wEAAC0CAADyAQAAuwEAADgBAAC+AAAAlgAAAEQAAAAjAAAAEwAAAAcAAAA=\"},\"shape\":[20],\"dtype\":\"int32\",\"order\":\"little\"}],[\"left\",{\"type\":\"ndarray\",\"array\":{\"type\":\"bytes\",\"data\":\"AAAAAAAAAAAzMzMzM5MxQDMzMzMzk0FAzMzMzMxcSkAzMzMzM5NRQAAAAAAA+FVAzMzMzMxcWkCZmZmZmcFeQDMzMzMzk2FAmZmZmZnFY0AAAAAAAPhlQGZmZmZmKmhAzMzMzMxcakAzMzMzM49sQJmZmZmZwW5AAAAAAAB6cEAzMzMzM5NxQGZmZmZmrHJAmZmZmZnFc0DNzMzMzN50QA==\"},\"shape\":[20],\"dtype\":\"float64\",\"order\":\"little\"}],[\"right\",{\"type\":\"ndarray\",\"array\":{\"type\":\"bytes\",\"data\":\"MzMzMzOTMUAzMzMzM5NBQMzMzMzMXEpAMzMzMzOTUUAAAAAAAPhVQMzMzMzMXFpAmZmZmZnBXkAzMzMzM5NhQJmZmZmZxWNAAAAAAAD4ZUBmZmZmZipoQMzMzMzMXGpAMzMzMzOPbECZmZmZmcFuQAAAAAAAenBAMzMzMzOTcUBmZmZmZqxyQJmZmZmZxXNAzczMzMzedEAAAAAAAPh1QA==\"},\"shape\":[20],\"dtype\":\"float64\",\"order\":\"little\"}],[\"total_day_minutes\",{\"type\":\"ndarray\",\"array\":{\"type\":\"bytes\",\"data\":\"MzMzMzOTIUDMzMzMzFw6QAAAAAAA+EVAmZmZmZnBTkCamZmZmcVTQGZmZmZmKlhAMjMzMzOPXEAAAAAAAHpgQGZmZmZmrGJAzMzMzMzeZEAzMzMzMxFnQJmZmZmZQ2lAAAAAAAB2a0BmZmZmZqhtQMzMzMzM2m9AmpmZmZkGcUDMzMzMzB9yQAAAAAAAOXNAMzMzMzNSdEBmZmZmZmt1QA==\"},\"shape\":[20],\"dtype\":\"float64\",\"order\":\"little\"}],[\"total_day_minutes_count\",{\"type\":\"ndarray\",\"array\":{\"type\":\"bytes\",\"data\":\"BwAAAAcAAAAYAAAAOQAAAGEAAACeAAAA+AAAAH8BAADnAQAA9wEAAC0CAADyAQAAuwEAADgBAAC+AAAAlgAAAEQAAAAjAAAAEwAAAAcAAAA=\"},\"shape\":[20],\"dtype\":\"int32\",\"order\":\"little\"}]]}}},\"view\":{\"type\":\"object\",\"name\":\"CDSView\",\"id\":\"p1717\",\"attributes\":{\"filter\":{\"type\":\"object\",\"name\":\"AllIndices\",\"id\":\"p1718\"}}},\"glyph\":{\"type\":\"object\",\"name\":\"Quad\",\"id\":\"p1713\",\"attributes\":{\"tags\":[\"apply_ranges\"],\"left\":{\"type\":\"field\",\"field\":\"left\"},\"right\":{\"type\":\"field\",\"field\":\"right\"},\"bottom\":{\"type\":\"value\",\"value\":0},\"top\":{\"type\":\"field\",\"field\":\"top\"},\"fill_color\":{\"type\":\"value\",\"value\":\"#30a2da\"},\"hatch_color\":{\"type\":\"value\",\"value\":\"#30a2da\"}}},\"selection_glyph\":{\"type\":\"object\",\"name\":\"Quad\",\"id\":\"p1719\",\"attributes\":{\"tags\":[\"apply_ranges\"],\"left\":{\"type\":\"field\",\"field\":\"left\"},\"right\":{\"type\":\"field\",\"field\":\"right\"},\"bottom\":{\"type\":\"value\",\"value\":0},\"top\":{\"type\":\"field\",\"field\":\"top\"},\"line_color\":{\"type\":\"value\",\"value\":\"black\"},\"line_alpha\":{\"type\":\"value\",\"value\":1.0},\"line_width\":{\"type\":\"value\",\"value\":1},\"line_join\":{\"type\":\"value\",\"value\":\"bevel\"},\"line_cap\":{\"type\":\"value\",\"value\":\"butt\"},\"line_dash\":{\"type\":\"value\",\"value\":[]},\"line_dash_offset\":{\"type\":\"value\",\"value\":0},\"fill_color\":{\"type\":\"value\",\"value\":\"#30a2da\"},\"fill_alpha\":{\"type\":\"value\",\"value\":1.0},\"hatch_color\":{\"type\":\"value\",\"value\":\"#30a2da\"},\"hatch_alpha\":{\"type\":\"value\",\"value\":1.0},\"hatch_scale\":{\"type\":\"value\",\"value\":12.0},\"hatch_pattern\":{\"type\":\"value\",\"value\":null},\"hatch_weight\":{\"type\":\"value\",\"value\":1.0}}},\"nonselection_glyph\":{\"type\":\"object\",\"name\":\"Quad\",\"id\":\"p1714\",\"attributes\":{\"tags\":[\"apply_ranges\"],\"left\":{\"type\":\"field\",\"field\":\"left\"},\"right\":{\"type\":\"field\",\"field\":\"right\"},\"bottom\":{\"type\":\"value\",\"value\":0},\"top\":{\"type\":\"field\",\"field\":\"top\"},\"line_alpha\":{\"type\":\"value\",\"value\":0.1},\"fill_color\":{\"type\":\"value\",\"value\":\"#30a2da\"},\"fill_alpha\":{\"type\":\"value\",\"value\":0.1},\"hatch_color\":{\"type\":\"value\",\"value\":\"#30a2da\"},\"hatch_alpha\":{\"type\":\"value\",\"value\":0.1}}},\"muted_glyph\":{\"type\":\"object\",\"name\":\"Quad\",\"id\":\"p1715\",\"attributes\":{\"tags\":[\"apply_ranges\"],\"left\":{\"type\":\"field\",\"field\":\"left\"},\"right\":{\"type\":\"field\",\"field\":\"right\"},\"bottom\":{\"type\":\"value\",\"value\":0},\"top\":{\"type\":\"field\",\"field\":\"top\"},\"line_alpha\":{\"type\":\"value\",\"value\":0.2},\"fill_color\":{\"type\":\"value\",\"value\":\"#30a2da\"},\"fill_alpha\":{\"type\":\"value\",\"value\":0.2},\"hatch_color\":{\"type\":\"value\",\"value\":\"#30a2da\"},\"hatch_alpha\":{\"type\":\"value\",\"value\":0.2}}}}}],\"toolbar\":{\"type\":\"object\",\"name\":\"Toolbar\",\"id\":\"p1685\",\"attributes\":{\"tools\":[{\"type\":\"object\",\"name\":\"WheelZoomTool\",\"id\":\"p1674\",\"attributes\":{\"tags\":[\"hv_created\"],\"renderers\":\"auto\",\"zoom_together\":\"none\"}},{\"type\":\"object\",\"name\":\"HoverTool\",\"id\":\"p1675\",\"attributes\":{\"tags\":[\"hv_created\"],\"renderers\":[{\"id\":\"p1716\"}],\"tooltips\":[[\"total_day_minutes\",\"@{total_day_minutes}\"],[\"Count\",\"@{total_day_minutes_count}\"]]}},{\"type\":\"object\",\"name\":\"SaveTool\",\"id\":\"p1698\"},{\"type\":\"object\",\"name\":\"PanTool\",\"id\":\"p1699\"},{\"type\":\"object\",\"name\":\"BoxZoomTool\",\"id\":\"p1700\",\"attributes\":{\"overlay\":{\"type\":\"object\",\"name\":\"BoxAnnotation\",\"id\":\"p1701\",\"attributes\":{\"syncable\":false,\"level\":\"overlay\",\"visible\":false,\"left\":{\"type\":\"number\",\"value\":\"nan\"},\"right\":{\"type\":\"number\",\"value\":\"nan\"},\"top\":{\"type\":\"number\",\"value\":\"nan\"},\"bottom\":{\"type\":\"number\",\"value\":\"nan\"},\"left_units\":\"canvas\",\"right_units\":\"canvas\",\"top_units\":\"canvas\",\"bottom_units\":\"canvas\",\"line_color\":\"black\",\"line_alpha\":1.0,\"line_width\":2,\"line_dash\":[4,4],\"fill_color\":\"lightgrey\",\"fill_alpha\":0.5}}}},{\"type\":\"object\",\"name\":\"ResetTool\",\"id\":\"p1706\"}],\"active_drag\":{\"id\":\"p1699\"},\"active_scroll\":{\"id\":\"p1674\"}}},\"left\":[{\"type\":\"object\",\"name\":\"LinearAxis\",\"id\":\"p1693\",\"attributes\":{\"ticker\":{\"type\":\"object\",\"name\":\"BasicTicker\",\"id\":\"p1694\",\"attributes\":{\"mantissas\":[1,2,5]}},\"formatter\":{\"type\":\"object\",\"name\":\"BasicTickFormatter\",\"id\":\"p1695\"},\"axis_label\":\"\",\"major_label_policy\":{\"type\":\"object\",\"name\":\"AllLabels\",\"id\":\"p1696\"}}}],\"below\":[{\"type\":\"object\",\"name\":\"LinearAxis\",\"id\":\"p1688\",\"attributes\":{\"ticker\":{\"type\":\"object\",\"name\":\"BasicTicker\",\"id\":\"p1689\",\"attributes\":{\"mantissas\":[1,2,5]}},\"formatter\":{\"type\":\"object\",\"name\":\"BasicTickFormatter\",\"id\":\"p1690\"},\"axis_label\":\"total_day_minutes\",\"major_label_policy\":{\"type\":\"object\",\"name\":\"AllLabels\",\"id\":\"p1691\"}}}],\"center\":[{\"type\":\"object\",\"name\":\"Grid\",\"id\":\"p1692\",\"attributes\":{\"axis\":{\"id\":\"p1688\"},\"grid_line_color\":null}},{\"type\":\"object\",\"name\":\"Grid\",\"id\":\"p1697\",\"attributes\":{\"dimension\":1,\"axis\":{\"id\":\"p1693\"},\"grid_line_color\":null}}],\"min_border_top\":10,\"min_border_bottom\":10,\"min_border_left\":10,\"min_border_right\":10,\"output_backend\":\"webgl\"}},{\"type\":\"object\",\"name\":\"Spacer\",\"id\":\"p1721\",\"attributes\":{\"name\":\"HSpacer05067\",\"stylesheets\":[\"\\n:host(.pn-loading):before, .pn-loading:before {\\n  background-color: #c3c3c3;\\n  mask-size: auto calc(min(50%, 400px));\\n  -webkit-mask-size: auto calc(min(50%, 400px));\\n}\",{\"id\":\"p1667\"},{\"id\":\"p1665\"},{\"id\":\"p1666\"}],\"margin\":0,\"sizing_mode\":\"stretch_width\",\"align\":\"start\"}}]}}],\"defs\":[{\"type\":\"model\",\"name\":\"ReactiveHTML1\"},{\"type\":\"model\",\"name\":\"FlexBox1\",\"properties\":[{\"name\":\"align_content\",\"kind\":\"Any\",\"default\":\"flex-start\"},{\"name\":\"align_items\",\"kind\":\"Any\",\"default\":\"flex-start\"},{\"name\":\"flex_direction\",\"kind\":\"Any\",\"default\":\"row\"},{\"name\":\"flex_wrap\",\"kind\":\"Any\",\"default\":\"wrap\"},{\"name\":\"gap\",\"kind\":\"Any\",\"default\":\"\"},{\"name\":\"justify_content\",\"kind\":\"Any\",\"default\":\"flex-start\"}]},{\"type\":\"model\",\"name\":\"FloatPanel1\",\"properties\":[{\"name\":\"config\",\"kind\":\"Any\",\"default\":{\"type\":\"map\"}},{\"name\":\"contained\",\"kind\":\"Any\",\"default\":true},{\"name\":\"position\",\"kind\":\"Any\",\"default\":\"right-top\"},{\"name\":\"offsetx\",\"kind\":\"Any\",\"default\":null},{\"name\":\"offsety\",\"kind\":\"Any\",\"default\":null},{\"name\":\"theme\",\"kind\":\"Any\",\"default\":\"primary\"},{\"name\":\"status\",\"kind\":\"Any\",\"default\":\"normalized\"}]},{\"type\":\"model\",\"name\":\"GridStack1\",\"properties\":[{\"name\":\"mode\",\"kind\":\"Any\",\"default\":\"warn\"},{\"name\":\"ncols\",\"kind\":\"Any\",\"default\":null},{\"name\":\"nrows\",\"kind\":\"Any\",\"default\":null},{\"name\":\"allow_resize\",\"kind\":\"Any\",\"default\":true},{\"name\":\"allow_drag\",\"kind\":\"Any\",\"default\":true},{\"name\":\"state\",\"kind\":\"Any\",\"default\":[]}]},{\"type\":\"model\",\"name\":\"drag1\",\"properties\":[{\"name\":\"slider_width\",\"kind\":\"Any\",\"default\":5},{\"name\":\"slider_color\",\"kind\":\"Any\",\"default\":\"black\"},{\"name\":\"value\",\"kind\":\"Any\",\"default\":50}]},{\"type\":\"model\",\"name\":\"click1\",\"properties\":[{\"name\":\"terminal_output\",\"kind\":\"Any\",\"default\":\"\"},{\"name\":\"debug_name\",\"kind\":\"Any\",\"default\":\"\"},{\"name\":\"clears\",\"kind\":\"Any\",\"default\":0}]},{\"type\":\"model\",\"name\":\"FastWrapper1\",\"properties\":[{\"name\":\"object\",\"kind\":\"Any\",\"default\":null},{\"name\":\"style\",\"kind\":\"Any\",\"default\":null}]},{\"type\":\"model\",\"name\":\"NotificationAreaBase1\",\"properties\":[{\"name\":\"js_events\",\"kind\":\"Any\",\"default\":{\"type\":\"map\"}},{\"name\":\"position\",\"kind\":\"Any\",\"default\":\"bottom-right\"},{\"name\":\"_clear\",\"kind\":\"Any\",\"default\":0}]},{\"type\":\"model\",\"name\":\"NotificationArea1\",\"properties\":[{\"name\":\"js_events\",\"kind\":\"Any\",\"default\":{\"type\":\"map\"}},{\"name\":\"notifications\",\"kind\":\"Any\",\"default\":[]},{\"name\":\"position\",\"kind\":\"Any\",\"default\":\"bottom-right\"},{\"name\":\"_clear\",\"kind\":\"Any\",\"default\":0},{\"name\":\"types\",\"kind\":\"Any\",\"default\":[{\"type\":\"map\",\"entries\":[[\"type\",\"warning\"],[\"background\",\"#ffc107\"],[\"icon\",{\"type\":\"map\",\"entries\":[[\"className\",\"fas fa-exclamation-triangle\"],[\"tagName\",\"i\"],[\"color\",\"white\"]]}]]},{\"type\":\"map\",\"entries\":[[\"type\",\"info\"],[\"background\",\"#007bff\"],[\"icon\",{\"type\":\"map\",\"entries\":[[\"className\",\"fas fa-info-circle\"],[\"tagName\",\"i\"],[\"color\",\"white\"]]}]]}]}]},{\"type\":\"model\",\"name\":\"Notification\",\"properties\":[{\"name\":\"background\",\"kind\":\"Any\",\"default\":null},{\"name\":\"duration\",\"kind\":\"Any\",\"default\":3000},{\"name\":\"icon\",\"kind\":\"Any\",\"default\":null},{\"name\":\"message\",\"kind\":\"Any\",\"default\":\"\"},{\"name\":\"notification_type\",\"kind\":\"Any\",\"default\":null},{\"name\":\"_destroyed\",\"kind\":\"Any\",\"default\":false}]},{\"type\":\"model\",\"name\":\"TemplateActions1\",\"properties\":[{\"name\":\"open_modal\",\"kind\":\"Any\",\"default\":0},{\"name\":\"close_modal\",\"kind\":\"Any\",\"default\":0}]},{\"type\":\"model\",\"name\":\"BootstrapTemplateActions1\",\"properties\":[{\"name\":\"open_modal\",\"kind\":\"Any\",\"default\":0},{\"name\":\"close_modal\",\"kind\":\"Any\",\"default\":0}]},{\"type\":\"model\",\"name\":\"TemplateEditor1\",\"properties\":[{\"name\":\"layout\",\"kind\":\"Any\",\"default\":[]}]},{\"type\":\"model\",\"name\":\"MaterialTemplateActions1\",\"properties\":[{\"name\":\"open_modal\",\"kind\":\"Any\",\"default\":0},{\"name\":\"close_modal\",\"kind\":\"Any\",\"default\":0}]},{\"type\":\"model\",\"name\":\"copy_to_clipboard1\",\"properties\":[{\"name\":\"fill\",\"kind\":\"Any\",\"default\":\"none\"},{\"name\":\"value\",\"kind\":\"Any\",\"default\":null}]}]}};\n",
       "  var render_items = [{\"docid\":\"489209a3-836f-4935-b05e-f5fb79daad54\",\"roots\":{\"p1664\":\"c8c893f0-5c18-46e7-9b91-e40896f1707f\"},\"root_ids\":[\"p1664\"]}];\n",
=======
       "<div id='p1334'>\n",
       "  <div id=\"fdc293a5-9ecf-4e14-a697-5310a3b682ba\" data-root-id=\"p1334\" style=\"display: contents;\"></div>\n",
       "</div>\n",
       "<script type=\"application/javascript\">(function(root) {\n",
       "  var docs_json = {\"4d5307ac-7d5c-4fcc-ab0e-26f167165831\":{\"version\":\"3.4.1\",\"title\":\"Bokeh Application\",\"roots\":[{\"type\":\"object\",\"name\":\"Row\",\"id\":\"p1334\",\"attributes\":{\"name\":\"Row01477\",\"tags\":[\"embedded\"],\"stylesheets\":[\"\\n:host(.pn-loading):before, .pn-loading:before {\\n  background-color: #c3c3c3;\\n  mask-size: auto calc(min(50%, 400px));\\n  -webkit-mask-size: auto calc(min(50%, 400px));\\n}\",{\"type\":\"object\",\"name\":\"ImportedStyleSheet\",\"id\":\"p1337\",\"attributes\":{\"url\":\"https://cdn.holoviz.org/panel/1.4.4/dist/css/loading.css\"}},{\"type\":\"object\",\"name\":\"ImportedStyleSheet\",\"id\":\"p1393\",\"attributes\":{\"url\":\"https://cdn.holoviz.org/panel/1.4.4/dist/css/listpanel.css\"}},{\"type\":\"object\",\"name\":\"ImportedStyleSheet\",\"id\":\"p1335\",\"attributes\":{\"url\":\"https://cdn.holoviz.org/panel/1.4.4/dist/bundled/theme/default.css\"}},{\"type\":\"object\",\"name\":\"ImportedStyleSheet\",\"id\":\"p1336\",\"attributes\":{\"url\":\"https://cdn.holoviz.org/panel/1.4.4/dist/bundled/theme/native.css\"}}],\"min_width\":700,\"margin\":0,\"sizing_mode\":\"stretch_width\",\"align\":\"start\",\"children\":[{\"type\":\"object\",\"name\":\"Spacer\",\"id\":\"p1338\",\"attributes\":{\"name\":\"HSpacer01484\",\"stylesheets\":[\"\\n:host(.pn-loading):before, .pn-loading:before {\\n  background-color: #c3c3c3;\\n  mask-size: auto calc(min(50%, 400px));\\n  -webkit-mask-size: auto calc(min(50%, 400px));\\n}\",{\"id\":\"p1337\"},{\"id\":\"p1335\"},{\"id\":\"p1336\"}],\"margin\":0,\"sizing_mode\":\"stretch_width\",\"align\":\"start\"}},{\"type\":\"object\",\"name\":\"Figure\",\"id\":\"p1346\",\"attributes\":{\"width\":700,\"height\":300,\"margin\":[5,10],\"sizing_mode\":\"fixed\",\"align\":\"start\",\"x_range\":{\"type\":\"object\",\"name\":\"Range1d\",\"id\":\"p1339\",\"attributes\":{\"tags\":[[[\"total_day_minutes\",null]],[]],\"start\":-15.064285714285715,\"end\":366.5642857142857,\"reset_start\":-15.064285714285715,\"reset_end\":366.5642857142857}},\"y_range\":{\"type\":\"object\",\"name\":\"Range1d\",\"id\":\"p1340\",\"attributes\":{\"tags\":[[[\"Count\",null]],{\"type\":\"map\",\"entries\":[[\"invert_yaxis\",false],[\"autorange\",false]]}],\"end\":612.0,\"reset_start\":0.0,\"reset_end\":612.0}},\"x_scale\":{\"type\":\"object\",\"name\":\"LinearScale\",\"id\":\"p1356\"},\"y_scale\":{\"type\":\"object\",\"name\":\"LinearScale\",\"id\":\"p1357\"},\"title\":{\"type\":\"object\",\"name\":\"Title\",\"id\":\"p1349\",\"attributes\":{\"text\":\"Total minutes (day)\",\"text_color\":\"black\",\"text_font_size\":\"12pt\"}},\"renderers\":[{\"type\":\"object\",\"name\":\"GlyphRenderer\",\"id\":\"p1386\",\"attributes\":{\"data_source\":{\"type\":\"object\",\"name\":\"ColumnDataSource\",\"id\":\"p1377\",\"attributes\":{\"selected\":{\"type\":\"object\",\"name\":\"Selection\",\"id\":\"p1378\",\"attributes\":{\"indices\":[],\"line_indices\":[]}},\"selection_policy\":{\"type\":\"object\",\"name\":\"UnionRenderers\",\"id\":\"p1379\"},\"data\":{\"type\":\"map\",\"entries\":[[\"top\",{\"type\":\"ndarray\",\"array\":{\"type\":\"bytes\",\"data\":\"BwAAAAcAAAAYAAAAOQAAAGEAAACeAAAA+AAAAH8BAADnAQAA9wEAAC0CAADyAQAAuwEAADgBAAC+AAAAlgAAAEQAAAAjAAAAEwAAAAcAAAA=\"},\"shape\":[20],\"dtype\":\"int32\",\"order\":\"little\"}],[\"left\",{\"type\":\"ndarray\",\"array\":{\"type\":\"bytes\",\"data\":\"AAAAAAAAAAAzMzMzM5MxQDMzMzMzk0FAzMzMzMxcSkAzMzMzM5NRQAAAAAAA+FVAzMzMzMxcWkCZmZmZmcFeQDMzMzMzk2FAmZmZmZnFY0AAAAAAAPhlQGZmZmZmKmhAzMzMzMxcakAzMzMzM49sQJmZmZmZwW5AAAAAAAB6cEAzMzMzM5NxQGZmZmZmrHJAmZmZmZnFc0DNzMzMzN50QA==\"},\"shape\":[20],\"dtype\":\"float64\",\"order\":\"little\"}],[\"right\",{\"type\":\"ndarray\",\"array\":{\"type\":\"bytes\",\"data\":\"MzMzMzOTMUAzMzMzM5NBQMzMzMzMXEpAMzMzMzOTUUAAAAAAAPhVQMzMzMzMXFpAmZmZmZnBXkAzMzMzM5NhQJmZmZmZxWNAAAAAAAD4ZUBmZmZmZipoQMzMzMzMXGpAMzMzMzOPbECZmZmZmcFuQAAAAAAAenBAMzMzMzOTcUBmZmZmZqxyQJmZmZmZxXNAzczMzMzedEAAAAAAAPh1QA==\"},\"shape\":[20],\"dtype\":\"float64\",\"order\":\"little\"}],[\"total_day_minutes\",{\"type\":\"ndarray\",\"array\":{\"type\":\"bytes\",\"data\":\"MzMzMzOTIUDMzMzMzFw6QAAAAAAA+EVAmZmZmZnBTkCamZmZmcVTQGZmZmZmKlhAMjMzMzOPXEAAAAAAAHpgQGZmZmZmrGJAzMzMzMzeZEAzMzMzMxFnQJmZmZmZQ2lAAAAAAAB2a0BmZmZmZqhtQMzMzMzM2m9AmpmZmZkGcUDMzMzMzB9yQAAAAAAAOXNAMzMzMzNSdEBmZmZmZmt1QA==\"},\"shape\":[20],\"dtype\":\"float64\",\"order\":\"little\"}],[\"total_day_minutes_count\",{\"type\":\"ndarray\",\"array\":{\"type\":\"bytes\",\"data\":\"BwAAAAcAAAAYAAAAOQAAAGEAAACeAAAA+AAAAH8BAADnAQAA9wEAAC0CAADyAQAAuwEAADgBAAC+AAAAlgAAAEQAAAAjAAAAEwAAAAcAAAA=\"},\"shape\":[20],\"dtype\":\"int32\",\"order\":\"little\"}]]}}},\"view\":{\"type\":\"object\",\"name\":\"CDSView\",\"id\":\"p1387\",\"attributes\":{\"filter\":{\"type\":\"object\",\"name\":\"AllIndices\",\"id\":\"p1388\"}}},\"glyph\":{\"type\":\"object\",\"name\":\"Quad\",\"id\":\"p1383\",\"attributes\":{\"tags\":[\"apply_ranges\"],\"left\":{\"type\":\"field\",\"field\":\"left\"},\"right\":{\"type\":\"field\",\"field\":\"right\"},\"bottom\":{\"type\":\"value\",\"value\":0},\"top\":{\"type\":\"field\",\"field\":\"top\"},\"fill_color\":{\"type\":\"value\",\"value\":\"#30a2da\"},\"hatch_color\":{\"type\":\"value\",\"value\":\"#30a2da\"}}},\"selection_glyph\":{\"type\":\"object\",\"name\":\"Quad\",\"id\":\"p1389\",\"attributes\":{\"tags\":[\"apply_ranges\"],\"left\":{\"type\":\"field\",\"field\":\"left\"},\"right\":{\"type\":\"field\",\"field\":\"right\"},\"bottom\":{\"type\":\"value\",\"value\":0},\"top\":{\"type\":\"field\",\"field\":\"top\"},\"line_color\":{\"type\":\"value\",\"value\":\"black\"},\"line_alpha\":{\"type\":\"value\",\"value\":1.0},\"line_width\":{\"type\":\"value\",\"value\":1},\"line_join\":{\"type\":\"value\",\"value\":\"bevel\"},\"line_cap\":{\"type\":\"value\",\"value\":\"butt\"},\"line_dash\":{\"type\":\"value\",\"value\":[]},\"line_dash_offset\":{\"type\":\"value\",\"value\":0},\"fill_color\":{\"type\":\"value\",\"value\":\"#30a2da\"},\"fill_alpha\":{\"type\":\"value\",\"value\":1.0},\"hatch_color\":{\"type\":\"value\",\"value\":\"#30a2da\"},\"hatch_alpha\":{\"type\":\"value\",\"value\":1.0},\"hatch_scale\":{\"type\":\"value\",\"value\":12.0},\"hatch_pattern\":{\"type\":\"value\",\"value\":null},\"hatch_weight\":{\"type\":\"value\",\"value\":1.0}}},\"nonselection_glyph\":{\"type\":\"object\",\"name\":\"Quad\",\"id\":\"p1384\",\"attributes\":{\"tags\":[\"apply_ranges\"],\"left\":{\"type\":\"field\",\"field\":\"left\"},\"right\":{\"type\":\"field\",\"field\":\"right\"},\"bottom\":{\"type\":\"value\",\"value\":0},\"top\":{\"type\":\"field\",\"field\":\"top\"},\"line_alpha\":{\"type\":\"value\",\"value\":0.1},\"fill_color\":{\"type\":\"value\",\"value\":\"#30a2da\"},\"fill_alpha\":{\"type\":\"value\",\"value\":0.1},\"hatch_color\":{\"type\":\"value\",\"value\":\"#30a2da\"},\"hatch_alpha\":{\"type\":\"value\",\"value\":0.1}}},\"muted_glyph\":{\"type\":\"object\",\"name\":\"Quad\",\"id\":\"p1385\",\"attributes\":{\"tags\":[\"apply_ranges\"],\"left\":{\"type\":\"field\",\"field\":\"left\"},\"right\":{\"type\":\"field\",\"field\":\"right\"},\"bottom\":{\"type\":\"value\",\"value\":0},\"top\":{\"type\":\"field\",\"field\":\"top\"},\"line_alpha\":{\"type\":\"value\",\"value\":0.2},\"fill_color\":{\"type\":\"value\",\"value\":\"#30a2da\"},\"fill_alpha\":{\"type\":\"value\",\"value\":0.2},\"hatch_color\":{\"type\":\"value\",\"value\":\"#30a2da\"},\"hatch_alpha\":{\"type\":\"value\",\"value\":0.2}}}}}],\"toolbar\":{\"type\":\"object\",\"name\":\"Toolbar\",\"id\":\"p1355\",\"attributes\":{\"tools\":[{\"type\":\"object\",\"name\":\"WheelZoomTool\",\"id\":\"p1344\",\"attributes\":{\"tags\":[\"hv_created\"],\"renderers\":\"auto\",\"zoom_together\":\"none\"}},{\"type\":\"object\",\"name\":\"HoverTool\",\"id\":\"p1345\",\"attributes\":{\"tags\":[\"hv_created\"],\"renderers\":[{\"id\":\"p1386\"}],\"tooltips\":[[\"total_day_minutes\",\"@{total_day_minutes}\"],[\"Count\",\"@{total_day_minutes_count}\"]]}},{\"type\":\"object\",\"name\":\"SaveTool\",\"id\":\"p1368\"},{\"type\":\"object\",\"name\":\"PanTool\",\"id\":\"p1369\"},{\"type\":\"object\",\"name\":\"BoxZoomTool\",\"id\":\"p1370\",\"attributes\":{\"overlay\":{\"type\":\"object\",\"name\":\"BoxAnnotation\",\"id\":\"p1371\",\"attributes\":{\"syncable\":false,\"level\":\"overlay\",\"visible\":false,\"left\":{\"type\":\"number\",\"value\":\"nan\"},\"right\":{\"type\":\"number\",\"value\":\"nan\"},\"top\":{\"type\":\"number\",\"value\":\"nan\"},\"bottom\":{\"type\":\"number\",\"value\":\"nan\"},\"left_units\":\"canvas\",\"right_units\":\"canvas\",\"top_units\":\"canvas\",\"bottom_units\":\"canvas\",\"line_color\":\"black\",\"line_alpha\":1.0,\"line_width\":2,\"line_dash\":[4,4],\"fill_color\":\"lightgrey\",\"fill_alpha\":0.5}}}},{\"type\":\"object\",\"name\":\"ResetTool\",\"id\":\"p1376\"}],\"active_drag\":{\"id\":\"p1369\"},\"active_scroll\":{\"id\":\"p1344\"}}},\"left\":[{\"type\":\"object\",\"name\":\"LinearAxis\",\"id\":\"p1363\",\"attributes\":{\"ticker\":{\"type\":\"object\",\"name\":\"BasicTicker\",\"id\":\"p1364\",\"attributes\":{\"mantissas\":[1,2,5]}},\"formatter\":{\"type\":\"object\",\"name\":\"BasicTickFormatter\",\"id\":\"p1365\"},\"axis_label\":\"\",\"major_label_policy\":{\"type\":\"object\",\"name\":\"AllLabels\",\"id\":\"p1366\"}}}],\"below\":[{\"type\":\"object\",\"name\":\"LinearAxis\",\"id\":\"p1358\",\"attributes\":{\"ticker\":{\"type\":\"object\",\"name\":\"BasicTicker\",\"id\":\"p1359\",\"attributes\":{\"mantissas\":[1,2,5]}},\"formatter\":{\"type\":\"object\",\"name\":\"BasicTickFormatter\",\"id\":\"p1360\"},\"axis_label\":\"total_day_minutes\",\"major_label_policy\":{\"type\":\"object\",\"name\":\"AllLabels\",\"id\":\"p1361\"}}}],\"center\":[{\"type\":\"object\",\"name\":\"Grid\",\"id\":\"p1362\",\"attributes\":{\"axis\":{\"id\":\"p1358\"},\"grid_line_color\":null}},{\"type\":\"object\",\"name\":\"Grid\",\"id\":\"p1367\",\"attributes\":{\"dimension\":1,\"axis\":{\"id\":\"p1363\"},\"grid_line_color\":null}}],\"min_border_top\":10,\"min_border_bottom\":10,\"min_border_left\":10,\"min_border_right\":10,\"output_backend\":\"webgl\"}},{\"type\":\"object\",\"name\":\"Spacer\",\"id\":\"p1391\",\"attributes\":{\"name\":\"HSpacer01485\",\"stylesheets\":[\"\\n:host(.pn-loading):before, .pn-loading:before {\\n  background-color: #c3c3c3;\\n  mask-size: auto calc(min(50%, 400px));\\n  -webkit-mask-size: auto calc(min(50%, 400px));\\n}\",{\"id\":\"p1337\"},{\"id\":\"p1335\"},{\"id\":\"p1336\"}],\"margin\":0,\"sizing_mode\":\"stretch_width\",\"align\":\"start\"}}]}}],\"defs\":[{\"type\":\"model\",\"name\":\"ReactiveHTML1\"},{\"type\":\"model\",\"name\":\"FlexBox1\",\"properties\":[{\"name\":\"align_content\",\"kind\":\"Any\",\"default\":\"flex-start\"},{\"name\":\"align_items\",\"kind\":\"Any\",\"default\":\"flex-start\"},{\"name\":\"flex_direction\",\"kind\":\"Any\",\"default\":\"row\"},{\"name\":\"flex_wrap\",\"kind\":\"Any\",\"default\":\"wrap\"},{\"name\":\"gap\",\"kind\":\"Any\",\"default\":\"\"},{\"name\":\"justify_content\",\"kind\":\"Any\",\"default\":\"flex-start\"}]},{\"type\":\"model\",\"name\":\"FloatPanel1\",\"properties\":[{\"name\":\"config\",\"kind\":\"Any\",\"default\":{\"type\":\"map\"}},{\"name\":\"contained\",\"kind\":\"Any\",\"default\":true},{\"name\":\"position\",\"kind\":\"Any\",\"default\":\"right-top\"},{\"name\":\"offsetx\",\"kind\":\"Any\",\"default\":null},{\"name\":\"offsety\",\"kind\":\"Any\",\"default\":null},{\"name\":\"theme\",\"kind\":\"Any\",\"default\":\"primary\"},{\"name\":\"status\",\"kind\":\"Any\",\"default\":\"normalized\"}]},{\"type\":\"model\",\"name\":\"GridStack1\",\"properties\":[{\"name\":\"mode\",\"kind\":\"Any\",\"default\":\"warn\"},{\"name\":\"ncols\",\"kind\":\"Any\",\"default\":null},{\"name\":\"nrows\",\"kind\":\"Any\",\"default\":null},{\"name\":\"allow_resize\",\"kind\":\"Any\",\"default\":true},{\"name\":\"allow_drag\",\"kind\":\"Any\",\"default\":true},{\"name\":\"state\",\"kind\":\"Any\",\"default\":[]}]},{\"type\":\"model\",\"name\":\"drag1\",\"properties\":[{\"name\":\"slider_width\",\"kind\":\"Any\",\"default\":5},{\"name\":\"slider_color\",\"kind\":\"Any\",\"default\":\"black\"},{\"name\":\"value\",\"kind\":\"Any\",\"default\":50}]},{\"type\":\"model\",\"name\":\"click1\",\"properties\":[{\"name\":\"terminal_output\",\"kind\":\"Any\",\"default\":\"\"},{\"name\":\"debug_name\",\"kind\":\"Any\",\"default\":\"\"},{\"name\":\"clears\",\"kind\":\"Any\",\"default\":0}]},{\"type\":\"model\",\"name\":\"FastWrapper1\",\"properties\":[{\"name\":\"object\",\"kind\":\"Any\",\"default\":null},{\"name\":\"style\",\"kind\":\"Any\",\"default\":null}]},{\"type\":\"model\",\"name\":\"NotificationAreaBase1\",\"properties\":[{\"name\":\"js_events\",\"kind\":\"Any\",\"default\":{\"type\":\"map\"}},{\"name\":\"position\",\"kind\":\"Any\",\"default\":\"bottom-right\"},{\"name\":\"_clear\",\"kind\":\"Any\",\"default\":0}]},{\"type\":\"model\",\"name\":\"NotificationArea1\",\"properties\":[{\"name\":\"js_events\",\"kind\":\"Any\",\"default\":{\"type\":\"map\"}},{\"name\":\"notifications\",\"kind\":\"Any\",\"default\":[]},{\"name\":\"position\",\"kind\":\"Any\",\"default\":\"bottom-right\"},{\"name\":\"_clear\",\"kind\":\"Any\",\"default\":0},{\"name\":\"types\",\"kind\":\"Any\",\"default\":[{\"type\":\"map\",\"entries\":[[\"type\",\"warning\"],[\"background\",\"#ffc107\"],[\"icon\",{\"type\":\"map\",\"entries\":[[\"className\",\"fas fa-exclamation-triangle\"],[\"tagName\",\"i\"],[\"color\",\"white\"]]}]]},{\"type\":\"map\",\"entries\":[[\"type\",\"info\"],[\"background\",\"#007bff\"],[\"icon\",{\"type\":\"map\",\"entries\":[[\"className\",\"fas fa-info-circle\"],[\"tagName\",\"i\"],[\"color\",\"white\"]]}]]}]}]},{\"type\":\"model\",\"name\":\"Notification\",\"properties\":[{\"name\":\"background\",\"kind\":\"Any\",\"default\":null},{\"name\":\"duration\",\"kind\":\"Any\",\"default\":3000},{\"name\":\"icon\",\"kind\":\"Any\",\"default\":null},{\"name\":\"message\",\"kind\":\"Any\",\"default\":\"\"},{\"name\":\"notification_type\",\"kind\":\"Any\",\"default\":null},{\"name\":\"_destroyed\",\"kind\":\"Any\",\"default\":false}]},{\"type\":\"model\",\"name\":\"TemplateActions1\",\"properties\":[{\"name\":\"open_modal\",\"kind\":\"Any\",\"default\":0},{\"name\":\"close_modal\",\"kind\":\"Any\",\"default\":0}]},{\"type\":\"model\",\"name\":\"BootstrapTemplateActions1\",\"properties\":[{\"name\":\"open_modal\",\"kind\":\"Any\",\"default\":0},{\"name\":\"close_modal\",\"kind\":\"Any\",\"default\":0}]},{\"type\":\"model\",\"name\":\"TemplateEditor1\",\"properties\":[{\"name\":\"layout\",\"kind\":\"Any\",\"default\":[]}]},{\"type\":\"model\",\"name\":\"MaterialTemplateActions1\",\"properties\":[{\"name\":\"open_modal\",\"kind\":\"Any\",\"default\":0},{\"name\":\"close_modal\",\"kind\":\"Any\",\"default\":0}]},{\"type\":\"model\",\"name\":\"copy_to_clipboard1\",\"properties\":[{\"name\":\"fill\",\"kind\":\"Any\",\"default\":\"none\"},{\"name\":\"value\",\"kind\":\"Any\",\"default\":null}]}]}};\n",
       "  var render_items = [{\"docid\":\"4d5307ac-7d5c-4fcc-ab0e-26f167165831\",\"roots\":{\"p1334\":\"fdc293a5-9ecf-4e14-a697-5310a3b682ba\"},\"root_ids\":[\"p1334\"]}];\n",
>>>>>>> 35eb337 (Adding in the work cody did on histograms)
>>>>>>> 33e35f241d23f05510413d5e7dfe539dcfe0fe49
       "  var docs = Object.values(docs_json)\n",
       "  if (!docs) {\n",
       "    return\n",
       "  }\n",
       "  const py_version = docs[0].version.replace('rc', '-rc.').replace('.dev', '-dev.')\n",
       "  async function embed_document(root) {\n",
       "    var Bokeh = get_bokeh(root)\n",
       "    await Bokeh.embed.embed_items_notebook(docs_json, render_items);\n",
       "    for (const render_item of render_items) {\n",
       "      for (const root_id of render_item.root_ids) {\n",
       "\tconst id_el = document.getElementById(root_id)\n",
       "\tif (id_el.children.length && id_el.children[0].hasAttribute('data-root-id')) {\n",
       "\t  const root_el = id_el.children[0]\n",
       "\t  root_el.id = root_el.id + '-rendered'\n",
       "\t  for (const child of root_el.children) {\n",
       "            // Ensure JupyterLab does not capture keyboard shortcuts\n",
       "            // see: https://jupyterlab.readthedocs.io/en/4.1.x/extension/notebook.html#keyboard-interaction-model\n",
       "\t    child.setAttribute('data-lm-suppress-shortcuts', 'true')\n",
       "\t  }\n",
       "\t}\n",
       "      }\n",
       "    }\n",
       "  }\n",
       "  function get_bokeh(root) {\n",
       "    if (root.Bokeh === undefined) {\n",
       "      return null\n",
       "    } else if (root.Bokeh.version !== py_version) {\n",
       "      if (root.Bokeh.versions === undefined || !root.Bokeh.versions.has(py_version)) {\n",
       "\treturn null\n",
       "      }\n",
       "      return root.Bokeh.versions.get(py_version);\n",
       "    } else if (root.Bokeh.version === py_version) {\n",
       "      return root.Bokeh\n",
       "    }\n",
       "    return null\n",
       "  }\n",
       "  function is_loaded(root) {\n",
       "    var Bokeh = get_bokeh(root)\n",
       "    return (Bokeh != null && Bokeh.Panel !== undefined)\n",
       "  }\n",
       "  if (is_loaded(root)) {\n",
       "    embed_document(root);\n",
       "  } else {\n",
       "    var attempts = 0;\n",
       "    var timer = setInterval(function(root) {\n",
       "      if (is_loaded(root)) {\n",
       "        clearInterval(timer);\n",
       "        embed_document(root);\n",
       "      } else if (document.readyState == \"complete\") {\n",
       "        attempts++;\n",
       "        if (attempts > 200) {\n",
       "          clearInterval(timer);\n",
       "\t  var Bokeh = get_bokeh(root)\n",
       "\t  if (Bokeh == null || Bokeh.Panel == null) {\n",
       "            console.warn(\"Panel: ERROR: Unable to run Panel code because Bokeh or Panel library is missing\");\n",
       "\t  } else {\n",
       "\t    console.warn(\"Panel: WARNING: Attempting to render but not all required libraries could be resolved.\")\n",
       "\t    embed_document(root)\n",
       "\t  }\n",
       "        }\n",
       "      }\n",
       "    }, 25, root)\n",
       "  }\n",
       "})(window);</script>"
      ],
      "text/plain": [
       ":Histogram   [total_day_minutes]   (Count)"
      ]
     },
<<<<<<< HEAD
     "execution_count": 28,
     "metadata": {
      "application/vnd.holoviews_exec.v0+json": {
       "id": "p1136"
=======
<<<<<<< HEAD
     "execution_count": 105,
     "metadata": {
      "application/vnd.holoviews_exec.v0+json": {
       "id": "p1664"
=======
     "execution_count": 22,
     "metadata": {
      "application/vnd.holoviews_exec.v0+json": {
       "id": "p1334"
>>>>>>> 35eb337 (Adding in the work cody did on histograms)
>>>>>>> 33e35f241d23f05510413d5e7dfe539dcfe0fe49
      }
     },
     "output_type": "execute_result"
    }
   ],
   "source": [
    "telcom_data_df['total_day_minutes'].hvplot(kind='hist', bins=20, title='Total minutes (day)')"
   ]
  },
  {
   "cell_type": "code",
<<<<<<< HEAD
   "execution_count": 29,
=======
<<<<<<< HEAD
   "execution_count": 107,
=======
   "execution_count": 21,
>>>>>>> 35eb337 (Adding in the work cody did on histograms)
>>>>>>> 33e35f241d23f05510413d5e7dfe539dcfe0fe49
   "metadata": {},
   "outputs": [
    {
     "data": {},
     "metadata": {},
     "output_type": "display_data"
    },
    {
     "data": {
      "application/vnd.holoviews_exec.v0+json": "",
      "text/html": [
<<<<<<< HEAD
       "<div id='p1202'>\n",
       "  <div id=\"f07fc994-a3fc-4653-9870-3c4625d44853\" data-root-id=\"p1202\" style=\"display: contents;\"></div>\n",
       "</div>\n",
       "<script type=\"application/javascript\">(function(root) {\n",
       "  var docs_json = {\"cfa2263b-4649-48f7-8874-c1dc703c0b51\":{\"version\":\"3.4.1\",\"title\":\"Bokeh Application\",\"roots\":[{\"type\":\"object\",\"name\":\"Row\",\"id\":\"p1202\",\"attributes\":{\"name\":\"Row01261\",\"tags\":[\"embedded\"],\"stylesheets\":[\"\\n:host(.pn-loading):before, .pn-loading:before {\\n  background-color: #c3c3c3;\\n  mask-size: auto calc(min(50%, 400px));\\n  -webkit-mask-size: auto calc(min(50%, 400px));\\n}\",{\"type\":\"object\",\"name\":\"ImportedStyleSheet\",\"id\":\"p1205\",\"attributes\":{\"url\":\"https://cdn.holoviz.org/panel/1.4.4/dist/css/loading.css\"}},{\"type\":\"object\",\"name\":\"ImportedStyleSheet\",\"id\":\"p1261\",\"attributes\":{\"url\":\"https://cdn.holoviz.org/panel/1.4.4/dist/css/listpanel.css\"}},{\"type\":\"object\",\"name\":\"ImportedStyleSheet\",\"id\":\"p1203\",\"attributes\":{\"url\":\"https://cdn.holoviz.org/panel/1.4.4/dist/bundled/theme/default.css\"}},{\"type\":\"object\",\"name\":\"ImportedStyleSheet\",\"id\":\"p1204\",\"attributes\":{\"url\":\"https://cdn.holoviz.org/panel/1.4.4/dist/bundled/theme/native.css\"}}],\"min_width\":700,\"margin\":0,\"sizing_mode\":\"stretch_width\",\"align\":\"start\",\"children\":[{\"type\":\"object\",\"name\":\"Spacer\",\"id\":\"p1206\",\"attributes\":{\"name\":\"HSpacer01268\",\"stylesheets\":[\"\\n:host(.pn-loading):before, .pn-loading:before {\\n  background-color: #c3c3c3;\\n  mask-size: auto calc(min(50%, 400px));\\n  -webkit-mask-size: auto calc(min(50%, 400px));\\n}\",{\"id\":\"p1205\"},{\"id\":\"p1203\"},{\"id\":\"p1204\"}],\"margin\":0,\"sizing_mode\":\"stretch_width\",\"align\":\"start\"}},{\"type\":\"object\",\"name\":\"Figure\",\"id\":\"p1214\",\"attributes\":{\"width\":700,\"height\":300,\"margin\":[5,10],\"sizing_mode\":\"fixed\",\"align\":\"start\",\"x_range\":{\"type\":\"object\",\"name\":\"Range1d\",\"id\":\"p1207\",\"attributes\":{\"tags\":[[[\"total_day_calls\",null]],[]],\"start\":-7.071428571428571,\"end\":172.07142857142858,\"reset_start\":-7.071428571428571,\"reset_end\":172.07142857142858}},\"y_range\":{\"type\":\"object\",\"name\":\"Range1d\",\"id\":\"p1208\",\"attributes\":{\"tags\":[[[\"Count\",null]],{\"type\":\"map\",\"entries\":[[\"invert_yaxis\",false],[\"autorange\",false]]}],\"end\":826.1,\"reset_start\":0.0,\"reset_end\":826.1}},\"x_scale\":{\"type\":\"object\",\"name\":\"LinearScale\",\"id\":\"p1224\"},\"y_scale\":{\"type\":\"object\",\"name\":\"LinearScale\",\"id\":\"p1225\"},\"title\":{\"type\":\"object\",\"name\":\"Title\",\"id\":\"p1217\",\"attributes\":{\"text\":\"Total Day Calls\",\"text_color\":\"black\",\"text_font_size\":\"12pt\"}},\"renderers\":[{\"type\":\"object\",\"name\":\"GlyphRenderer\",\"id\":\"p1254\",\"attributes\":{\"data_source\":{\"type\":\"object\",\"name\":\"ColumnDataSource\",\"id\":\"p1245\",\"attributes\":{\"selected\":{\"type\":\"object\",\"name\":\"Selection\",\"id\":\"p1246\",\"attributes\":{\"indices\":[],\"line_indices\":[]}},\"selection_policy\":{\"type\":\"object\",\"name\":\"UnionRenderers\",\"id\":\"p1247\"},\"data\":{\"type\":\"map\",\"entries\":[[\"top\",{\"type\":\"ndarray\",\"array\":{\"type\":\"bytes\",\"data\":\"AgAAAAAAAAAAAAAAAQAAAAUAAAASAAAALwAAAG4AAAD1AAAAbAEAABUCAAChAgAA7wIAAFgCAACjAQAA9QAAAI8AAABJAAAADgAAAAcAAAA=\"},\"shape\":[20],\"dtype\":\"int32\",\"order\":\"little\"}],[\"left\",{\"type\":\"ndarray\",\"array\":{\"type\":\"bytes\",\"data\":\"AAAAAAAAAAAAAAAAAIAgQAAAAAAAgDBAAAAAAADAOEAAAAAAAIBAQAAAAAAAoERAAAAAAADASEAAAAAAAOBMQAAAAAAAgFBAAAAAAACQUkAAAAAAAKBUQAAAAAAAsFZAAAAAAADAWEAAAAAAANBaQAAAAAAA4FxAAAAAAADwXkAAAAAAAIBgQAAAAAAAiGFAAAAAAACQYkAAAAAAAJhjQA==\"},\"shape\":[20],\"dtype\":\"float64\",\"order\":\"little\"}],[\"right\",{\"type\":\"ndarray\",\"array\":{\"type\":\"bytes\",\"data\":\"AAAAAACAIEAAAAAAAIAwQAAAAAAAwDhAAAAAAACAQEAAAAAAAKBEQAAAAAAAwEhAAAAAAADgTEAAAAAAAIBQQAAAAAAAkFJAAAAAAACgVEAAAAAAALBWQAAAAAAAwFhAAAAAAADQWkAAAAAAAOBcQAAAAAAA8F5AAAAAAACAYEAAAAAAAIhhQAAAAAAAkGJAAAAAAACYY0AAAAAAAKBkQA==\"},\"shape\":[20],\"dtype\":\"float64\",\"order\":\"little\"}],[\"total_day_calls\",{\"type\":\"ndarray\",\"array\":{\"type\":\"bytes\",\"data\":\"AAAAAACAEEAAAAAAAMAoQAAAAAAAoDRAAAAAAADgPEAAAAAAAJBCQAAAAAAAsEZAAAAAAADQSkAAAAAAAPBOQAAAAAAAiFFAAAAAAACYU0AAAAAAAKhVQAAAAAAAuFdAAAAAAADIWUAAAAAAANhbQAAAAAAA6F1AAAAAAAD4X0AAAAAAAARhQAAAAAAADGJAAAAAAAAUY0AAAAAAABxkQA==\"},\"shape\":[20],\"dtype\":\"float64\",\"order\":\"little\"}],[\"total_day_calls_count\",{\"type\":\"ndarray\",\"array\":{\"type\":\"bytes\",\"data\":\"AgAAAAAAAAAAAAAAAQAAAAUAAAASAAAALwAAAG4AAAD1AAAAbAEAABUCAAChAgAA7wIAAFgCAACjAQAA9QAAAI8AAABJAAAADgAAAAcAAAA=\"},\"shape\":[20],\"dtype\":\"int32\",\"order\":\"little\"}]]}}},\"view\":{\"type\":\"object\",\"name\":\"CDSView\",\"id\":\"p1255\",\"attributes\":{\"filter\":{\"type\":\"object\",\"name\":\"AllIndices\",\"id\":\"p1256\"}}},\"glyph\":{\"type\":\"object\",\"name\":\"Quad\",\"id\":\"p1251\",\"attributes\":{\"tags\":[\"apply_ranges\"],\"left\":{\"type\":\"field\",\"field\":\"left\"},\"right\":{\"type\":\"field\",\"field\":\"right\"},\"bottom\":{\"type\":\"value\",\"value\":0},\"top\":{\"type\":\"field\",\"field\":\"top\"},\"fill_color\":{\"type\":\"value\",\"value\":\"#30a2da\"},\"hatch_color\":{\"type\":\"value\",\"value\":\"#30a2da\"}}},\"selection_glyph\":{\"type\":\"object\",\"name\":\"Quad\",\"id\":\"p1257\",\"attributes\":{\"tags\":[\"apply_ranges\"],\"left\":{\"type\":\"field\",\"field\":\"left\"},\"right\":{\"type\":\"field\",\"field\":\"right\"},\"bottom\":{\"type\":\"value\",\"value\":0},\"top\":{\"type\":\"field\",\"field\":\"top\"},\"line_color\":{\"type\":\"value\",\"value\":\"black\"},\"line_alpha\":{\"type\":\"value\",\"value\":1.0},\"line_width\":{\"type\":\"value\",\"value\":1},\"line_join\":{\"type\":\"value\",\"value\":\"bevel\"},\"line_cap\":{\"type\":\"value\",\"value\":\"butt\"},\"line_dash\":{\"type\":\"value\",\"value\":[]},\"line_dash_offset\":{\"type\":\"value\",\"value\":0},\"fill_color\":{\"type\":\"value\",\"value\":\"#30a2da\"},\"fill_alpha\":{\"type\":\"value\",\"value\":1.0},\"hatch_color\":{\"type\":\"value\",\"value\":\"#30a2da\"},\"hatch_alpha\":{\"type\":\"value\",\"value\":1.0},\"hatch_scale\":{\"type\":\"value\",\"value\":12.0},\"hatch_pattern\":{\"type\":\"value\",\"value\":null},\"hatch_weight\":{\"type\":\"value\",\"value\":1.0}}},\"nonselection_glyph\":{\"type\":\"object\",\"name\":\"Quad\",\"id\":\"p1252\",\"attributes\":{\"tags\":[\"apply_ranges\"],\"left\":{\"type\":\"field\",\"field\":\"left\"},\"right\":{\"type\":\"field\",\"field\":\"right\"},\"bottom\":{\"type\":\"value\",\"value\":0},\"top\":{\"type\":\"field\",\"field\":\"top\"},\"line_alpha\":{\"type\":\"value\",\"value\":0.1},\"fill_color\":{\"type\":\"value\",\"value\":\"#30a2da\"},\"fill_alpha\":{\"type\":\"value\",\"value\":0.1},\"hatch_color\":{\"type\":\"value\",\"value\":\"#30a2da\"},\"hatch_alpha\":{\"type\":\"value\",\"value\":0.1}}},\"muted_glyph\":{\"type\":\"object\",\"name\":\"Quad\",\"id\":\"p1253\",\"attributes\":{\"tags\":[\"apply_ranges\"],\"left\":{\"type\":\"field\",\"field\":\"left\"},\"right\":{\"type\":\"field\",\"field\":\"right\"},\"bottom\":{\"type\":\"value\",\"value\":0},\"top\":{\"type\":\"field\",\"field\":\"top\"},\"line_alpha\":{\"type\":\"value\",\"value\":0.2},\"fill_color\":{\"type\":\"value\",\"value\":\"#30a2da\"},\"fill_alpha\":{\"type\":\"value\",\"value\":0.2},\"hatch_color\":{\"type\":\"value\",\"value\":\"#30a2da\"},\"hatch_alpha\":{\"type\":\"value\",\"value\":0.2}}}}}],\"toolbar\":{\"type\":\"object\",\"name\":\"Toolbar\",\"id\":\"p1223\",\"attributes\":{\"tools\":[{\"type\":\"object\",\"name\":\"WheelZoomTool\",\"id\":\"p1212\",\"attributes\":{\"tags\":[\"hv_created\"],\"renderers\":\"auto\",\"zoom_together\":\"none\"}},{\"type\":\"object\",\"name\":\"HoverTool\",\"id\":\"p1213\",\"attributes\":{\"tags\":[\"hv_created\"],\"renderers\":[{\"id\":\"p1254\"}],\"tooltips\":[[\"total_day_calls\",\"@{total_day_calls}\"],[\"Count\",\"@{total_day_calls_count}\"]]}},{\"type\":\"object\",\"name\":\"SaveTool\",\"id\":\"p1236\"},{\"type\":\"object\",\"name\":\"PanTool\",\"id\":\"p1237\"},{\"type\":\"object\",\"name\":\"BoxZoomTool\",\"id\":\"p1238\",\"attributes\":{\"overlay\":{\"type\":\"object\",\"name\":\"BoxAnnotation\",\"id\":\"p1239\",\"attributes\":{\"syncable\":false,\"level\":\"overlay\",\"visible\":false,\"left\":{\"type\":\"number\",\"value\":\"nan\"},\"right\":{\"type\":\"number\",\"value\":\"nan\"},\"top\":{\"type\":\"number\",\"value\":\"nan\"},\"bottom\":{\"type\":\"number\",\"value\":\"nan\"},\"left_units\":\"canvas\",\"right_units\":\"canvas\",\"top_units\":\"canvas\",\"bottom_units\":\"canvas\",\"line_color\":\"black\",\"line_alpha\":1.0,\"line_width\":2,\"line_dash\":[4,4],\"fill_color\":\"lightgrey\",\"fill_alpha\":0.5}}}},{\"type\":\"object\",\"name\":\"ResetTool\",\"id\":\"p1244\"}],\"active_drag\":{\"id\":\"p1237\"},\"active_scroll\":{\"id\":\"p1212\"}}},\"left\":[{\"type\":\"object\",\"name\":\"LinearAxis\",\"id\":\"p1231\",\"attributes\":{\"ticker\":{\"type\":\"object\",\"name\":\"BasicTicker\",\"id\":\"p1232\",\"attributes\":{\"mantissas\":[1,2,5]}},\"formatter\":{\"type\":\"object\",\"name\":\"BasicTickFormatter\",\"id\":\"p1233\"},\"axis_label\":\"\",\"major_label_policy\":{\"type\":\"object\",\"name\":\"AllLabels\",\"id\":\"p1234\"}}}],\"below\":[{\"type\":\"object\",\"name\":\"LinearAxis\",\"id\":\"p1226\",\"attributes\":{\"ticker\":{\"type\":\"object\",\"name\":\"BasicTicker\",\"id\":\"p1227\",\"attributes\":{\"mantissas\":[1,2,5]}},\"formatter\":{\"type\":\"object\",\"name\":\"BasicTickFormatter\",\"id\":\"p1228\"},\"axis_label\":\"total_day_calls\",\"major_label_policy\":{\"type\":\"object\",\"name\":\"AllLabels\",\"id\":\"p1229\"}}}],\"center\":[{\"type\":\"object\",\"name\":\"Grid\",\"id\":\"p1230\",\"attributes\":{\"axis\":{\"id\":\"p1226\"},\"grid_line_color\":null}},{\"type\":\"object\",\"name\":\"Grid\",\"id\":\"p1235\",\"attributes\":{\"dimension\":1,\"axis\":{\"id\":\"p1231\"},\"grid_line_color\":null}}],\"min_border_top\":10,\"min_border_bottom\":10,\"min_border_left\":10,\"min_border_right\":10,\"output_backend\":\"webgl\"}},{\"type\":\"object\",\"name\":\"Spacer\",\"id\":\"p1259\",\"attributes\":{\"name\":\"HSpacer01269\",\"stylesheets\":[\"\\n:host(.pn-loading):before, .pn-loading:before {\\n  background-color: #c3c3c3;\\n  mask-size: auto calc(min(50%, 400px));\\n  -webkit-mask-size: auto calc(min(50%, 400px));\\n}\",{\"id\":\"p1205\"},{\"id\":\"p1203\"},{\"id\":\"p1204\"}],\"margin\":0,\"sizing_mode\":\"stretch_width\",\"align\":\"start\"}}]}}],\"defs\":[{\"type\":\"model\",\"name\":\"ReactiveHTML1\"},{\"type\":\"model\",\"name\":\"FlexBox1\",\"properties\":[{\"name\":\"align_content\",\"kind\":\"Any\",\"default\":\"flex-start\"},{\"name\":\"align_items\",\"kind\":\"Any\",\"default\":\"flex-start\"},{\"name\":\"flex_direction\",\"kind\":\"Any\",\"default\":\"row\"},{\"name\":\"flex_wrap\",\"kind\":\"Any\",\"default\":\"wrap\"},{\"name\":\"gap\",\"kind\":\"Any\",\"default\":\"\"},{\"name\":\"justify_content\",\"kind\":\"Any\",\"default\":\"flex-start\"}]},{\"type\":\"model\",\"name\":\"FloatPanel1\",\"properties\":[{\"name\":\"config\",\"kind\":\"Any\",\"default\":{\"type\":\"map\"}},{\"name\":\"contained\",\"kind\":\"Any\",\"default\":true},{\"name\":\"position\",\"kind\":\"Any\",\"default\":\"right-top\"},{\"name\":\"offsetx\",\"kind\":\"Any\",\"default\":null},{\"name\":\"offsety\",\"kind\":\"Any\",\"default\":null},{\"name\":\"theme\",\"kind\":\"Any\",\"default\":\"primary\"},{\"name\":\"status\",\"kind\":\"Any\",\"default\":\"normalized\"}]},{\"type\":\"model\",\"name\":\"GridStack1\",\"properties\":[{\"name\":\"mode\",\"kind\":\"Any\",\"default\":\"warn\"},{\"name\":\"ncols\",\"kind\":\"Any\",\"default\":null},{\"name\":\"nrows\",\"kind\":\"Any\",\"default\":null},{\"name\":\"allow_resize\",\"kind\":\"Any\",\"default\":true},{\"name\":\"allow_drag\",\"kind\":\"Any\",\"default\":true},{\"name\":\"state\",\"kind\":\"Any\",\"default\":[]}]},{\"type\":\"model\",\"name\":\"drag1\",\"properties\":[{\"name\":\"slider_width\",\"kind\":\"Any\",\"default\":5},{\"name\":\"slider_color\",\"kind\":\"Any\",\"default\":\"black\"},{\"name\":\"value\",\"kind\":\"Any\",\"default\":50}]},{\"type\":\"model\",\"name\":\"click1\",\"properties\":[{\"name\":\"terminal_output\",\"kind\":\"Any\",\"default\":\"\"},{\"name\":\"debug_name\",\"kind\":\"Any\",\"default\":\"\"},{\"name\":\"clears\",\"kind\":\"Any\",\"default\":0}]},{\"type\":\"model\",\"name\":\"FastWrapper1\",\"properties\":[{\"name\":\"object\",\"kind\":\"Any\",\"default\":null},{\"name\":\"style\",\"kind\":\"Any\",\"default\":null}]},{\"type\":\"model\",\"name\":\"NotificationAreaBase1\",\"properties\":[{\"name\":\"js_events\",\"kind\":\"Any\",\"default\":{\"type\":\"map\"}},{\"name\":\"position\",\"kind\":\"Any\",\"default\":\"bottom-right\"},{\"name\":\"_clear\",\"kind\":\"Any\",\"default\":0}]},{\"type\":\"model\",\"name\":\"NotificationArea1\",\"properties\":[{\"name\":\"js_events\",\"kind\":\"Any\",\"default\":{\"type\":\"map\"}},{\"name\":\"notifications\",\"kind\":\"Any\",\"default\":[]},{\"name\":\"position\",\"kind\":\"Any\",\"default\":\"bottom-right\"},{\"name\":\"_clear\",\"kind\":\"Any\",\"default\":0},{\"name\":\"types\",\"kind\":\"Any\",\"default\":[{\"type\":\"map\",\"entries\":[[\"type\",\"warning\"],[\"background\",\"#ffc107\"],[\"icon\",{\"type\":\"map\",\"entries\":[[\"className\",\"fas fa-exclamation-triangle\"],[\"tagName\",\"i\"],[\"color\",\"white\"]]}]]},{\"type\":\"map\",\"entries\":[[\"type\",\"info\"],[\"background\",\"#007bff\"],[\"icon\",{\"type\":\"map\",\"entries\":[[\"className\",\"fas fa-info-circle\"],[\"tagName\",\"i\"],[\"color\",\"white\"]]}]]}]}]},{\"type\":\"model\",\"name\":\"Notification\",\"properties\":[{\"name\":\"background\",\"kind\":\"Any\",\"default\":null},{\"name\":\"duration\",\"kind\":\"Any\",\"default\":3000},{\"name\":\"icon\",\"kind\":\"Any\",\"default\":null},{\"name\":\"message\",\"kind\":\"Any\",\"default\":\"\"},{\"name\":\"notification_type\",\"kind\":\"Any\",\"default\":null},{\"name\":\"_destroyed\",\"kind\":\"Any\",\"default\":false}]},{\"type\":\"model\",\"name\":\"TemplateActions1\",\"properties\":[{\"name\":\"open_modal\",\"kind\":\"Any\",\"default\":0},{\"name\":\"close_modal\",\"kind\":\"Any\",\"default\":0}]},{\"type\":\"model\",\"name\":\"BootstrapTemplateActions1\",\"properties\":[{\"name\":\"open_modal\",\"kind\":\"Any\",\"default\":0},{\"name\":\"close_modal\",\"kind\":\"Any\",\"default\":0}]},{\"type\":\"model\",\"name\":\"TemplateEditor1\",\"properties\":[{\"name\":\"layout\",\"kind\":\"Any\",\"default\":[]}]},{\"type\":\"model\",\"name\":\"MaterialTemplateActions1\",\"properties\":[{\"name\":\"open_modal\",\"kind\":\"Any\",\"default\":0},{\"name\":\"close_modal\",\"kind\":\"Any\",\"default\":0}]},{\"type\":\"model\",\"name\":\"copy_to_clipboard1\",\"properties\":[{\"name\":\"fill\",\"kind\":\"Any\",\"default\":\"none\"},{\"name\":\"value\",\"kind\":\"Any\",\"default\":null}]}]}};\n",
       "  var render_items = [{\"docid\":\"cfa2263b-4649-48f7-8874-c1dc703c0b51\",\"roots\":{\"p1202\":\"f07fc994-a3fc-4653-9870-3c4625d44853\"},\"root_ids\":[\"p1202\"]}];\n",
=======
<<<<<<< HEAD
       "<div id='p1730'>\n",
       "  <div id=\"f71d18a0-8148-4ca4-a2ec-11a3782f42e1\" data-root-id=\"p1730\" style=\"display: contents;\"></div>\n",
       "</div>\n",
       "<script type=\"application/javascript\">(function(root) {\n",
       "  var docs_json = {\"6ff7632e-876a-4bb2-94ff-b314d08ee188\":{\"version\":\"3.4.1\",\"title\":\"Bokeh Application\",\"roots\":[{\"type\":\"object\",\"name\":\"Row\",\"id\":\"p1730\",\"attributes\":{\"name\":\"Row05167\",\"tags\":[\"embedded\"],\"stylesheets\":[\"\\n:host(.pn-loading):before, .pn-loading:before {\\n  background-color: #c3c3c3;\\n  mask-size: auto calc(min(50%, 400px));\\n  -webkit-mask-size: auto calc(min(50%, 400px));\\n}\",{\"type\":\"object\",\"name\":\"ImportedStyleSheet\",\"id\":\"p1733\",\"attributes\":{\"url\":\"https://cdn.holoviz.org/panel/1.4.4/dist/css/loading.css\"}},{\"type\":\"object\",\"name\":\"ImportedStyleSheet\",\"id\":\"p1789\",\"attributes\":{\"url\":\"https://cdn.holoviz.org/panel/1.4.4/dist/css/listpanel.css\"}},{\"type\":\"object\",\"name\":\"ImportedStyleSheet\",\"id\":\"p1731\",\"attributes\":{\"url\":\"https://cdn.holoviz.org/panel/1.4.4/dist/bundled/theme/default.css\"}},{\"type\":\"object\",\"name\":\"ImportedStyleSheet\",\"id\":\"p1732\",\"attributes\":{\"url\":\"https://cdn.holoviz.org/panel/1.4.4/dist/bundled/theme/native.css\"}}],\"min_width\":700,\"margin\":0,\"sizing_mode\":\"stretch_width\",\"align\":\"start\",\"children\":[{\"type\":\"object\",\"name\":\"Spacer\",\"id\":\"p1734\",\"attributes\":{\"name\":\"HSpacer05174\",\"stylesheets\":[\"\\n:host(.pn-loading):before, .pn-loading:before {\\n  background-color: #c3c3c3;\\n  mask-size: auto calc(min(50%, 400px));\\n  -webkit-mask-size: auto calc(min(50%, 400px));\\n}\",{\"id\":\"p1733\"},{\"id\":\"p1731\"},{\"id\":\"p1732\"}],\"margin\":0,\"sizing_mode\":\"stretch_width\",\"align\":\"start\"}},{\"type\":\"object\",\"name\":\"Figure\",\"id\":\"p1742\",\"attributes\":{\"width\":700,\"height\":300,\"margin\":[5,10],\"sizing_mode\":\"fixed\",\"align\":\"start\",\"x_range\":{\"type\":\"object\",\"name\":\"Range1d\",\"id\":\"p1735\",\"attributes\":{\"tags\":[[[\"total_day_calls\",null]],[]],\"start\":-7.071428571428571,\"end\":172.07142857142858,\"reset_start\":-7.071428571428571,\"reset_end\":172.07142857142858}},\"y_range\":{\"type\":\"object\",\"name\":\"Range1d\",\"id\":\"p1736\",\"attributes\":{\"tags\":[[[\"Count\",null]],{\"type\":\"map\",\"entries\":[[\"invert_yaxis\",false],[\"autorange\",false]]}],\"end\":826.1,\"reset_start\":0.0,\"reset_end\":826.1}},\"x_scale\":{\"type\":\"object\",\"name\":\"LinearScale\",\"id\":\"p1752\"},\"y_scale\":{\"type\":\"object\",\"name\":\"LinearScale\",\"id\":\"p1753\"},\"title\":{\"type\":\"object\",\"name\":\"Title\",\"id\":\"p1745\",\"attributes\":{\"text\":\"Total Day Calls\",\"text_color\":\"black\",\"text_font_size\":\"12pt\"}},\"renderers\":[{\"type\":\"object\",\"name\":\"GlyphRenderer\",\"id\":\"p1782\",\"attributes\":{\"data_source\":{\"type\":\"object\",\"name\":\"ColumnDataSource\",\"id\":\"p1773\",\"attributes\":{\"selected\":{\"type\":\"object\",\"name\":\"Selection\",\"id\":\"p1774\",\"attributes\":{\"indices\":[],\"line_indices\":[]}},\"selection_policy\":{\"type\":\"object\",\"name\":\"UnionRenderers\",\"id\":\"p1775\"},\"data\":{\"type\":\"map\",\"entries\":[[\"top\",{\"type\":\"ndarray\",\"array\":{\"type\":\"bytes\",\"data\":\"AgAAAAAAAAAAAAAAAQAAAAUAAAASAAAALwAAAG4AAAD1AAAAbAEAABUCAAChAgAA7wIAAFgCAACjAQAA9QAAAI8AAABJAAAADgAAAAcAAAA=\"},\"shape\":[20],\"dtype\":\"int32\",\"order\":\"little\"}],[\"left\",{\"type\":\"ndarray\",\"array\":{\"type\":\"bytes\",\"data\":\"AAAAAAAAAAAAAAAAAIAgQAAAAAAAgDBAAAAAAADAOEAAAAAAAIBAQAAAAAAAoERAAAAAAADASEAAAAAAAOBMQAAAAAAAgFBAAAAAAACQUkAAAAAAAKBUQAAAAAAAsFZAAAAAAADAWEAAAAAAANBaQAAAAAAA4FxAAAAAAADwXkAAAAAAAIBgQAAAAAAAiGFAAAAAAACQYkAAAAAAAJhjQA==\"},\"shape\":[20],\"dtype\":\"float64\",\"order\":\"little\"}],[\"right\",{\"type\":\"ndarray\",\"array\":{\"type\":\"bytes\",\"data\":\"AAAAAACAIEAAAAAAAIAwQAAAAAAAwDhAAAAAAACAQEAAAAAAAKBEQAAAAAAAwEhAAAAAAADgTEAAAAAAAIBQQAAAAAAAkFJAAAAAAACgVEAAAAAAALBWQAAAAAAAwFhAAAAAAADQWkAAAAAAAOBcQAAAAAAA8F5AAAAAAACAYEAAAAAAAIhhQAAAAAAAkGJAAAAAAACYY0AAAAAAAKBkQA==\"},\"shape\":[20],\"dtype\":\"float64\",\"order\":\"little\"}],[\"total_day_calls\",{\"type\":\"ndarray\",\"array\":{\"type\":\"bytes\",\"data\":\"AAAAAACAEEAAAAAAAMAoQAAAAAAAoDRAAAAAAADgPEAAAAAAAJBCQAAAAAAAsEZAAAAAAADQSkAAAAAAAPBOQAAAAAAAiFFAAAAAAACYU0AAAAAAAKhVQAAAAAAAuFdAAAAAAADIWUAAAAAAANhbQAAAAAAA6F1AAAAAAAD4X0AAAAAAAARhQAAAAAAADGJAAAAAAAAUY0AAAAAAABxkQA==\"},\"shape\":[20],\"dtype\":\"float64\",\"order\":\"little\"}],[\"total_day_calls_count\",{\"type\":\"ndarray\",\"array\":{\"type\":\"bytes\",\"data\":\"AgAAAAAAAAAAAAAAAQAAAAUAAAASAAAALwAAAG4AAAD1AAAAbAEAABUCAAChAgAA7wIAAFgCAACjAQAA9QAAAI8AAABJAAAADgAAAAcAAAA=\"},\"shape\":[20],\"dtype\":\"int32\",\"order\":\"little\"}]]}}},\"view\":{\"type\":\"object\",\"name\":\"CDSView\",\"id\":\"p1783\",\"attributes\":{\"filter\":{\"type\":\"object\",\"name\":\"AllIndices\",\"id\":\"p1784\"}}},\"glyph\":{\"type\":\"object\",\"name\":\"Quad\",\"id\":\"p1779\",\"attributes\":{\"tags\":[\"apply_ranges\"],\"left\":{\"type\":\"field\",\"field\":\"left\"},\"right\":{\"type\":\"field\",\"field\":\"right\"},\"bottom\":{\"type\":\"value\",\"value\":0},\"top\":{\"type\":\"field\",\"field\":\"top\"},\"fill_color\":{\"type\":\"value\",\"value\":\"#30a2da\"},\"hatch_color\":{\"type\":\"value\",\"value\":\"#30a2da\"}}},\"selection_glyph\":{\"type\":\"object\",\"name\":\"Quad\",\"id\":\"p1785\",\"attributes\":{\"tags\":[\"apply_ranges\"],\"left\":{\"type\":\"field\",\"field\":\"left\"},\"right\":{\"type\":\"field\",\"field\":\"right\"},\"bottom\":{\"type\":\"value\",\"value\":0},\"top\":{\"type\":\"field\",\"field\":\"top\"},\"line_color\":{\"type\":\"value\",\"value\":\"black\"},\"line_alpha\":{\"type\":\"value\",\"value\":1.0},\"line_width\":{\"type\":\"value\",\"value\":1},\"line_join\":{\"type\":\"value\",\"value\":\"bevel\"},\"line_cap\":{\"type\":\"value\",\"value\":\"butt\"},\"line_dash\":{\"type\":\"value\",\"value\":[]},\"line_dash_offset\":{\"type\":\"value\",\"value\":0},\"fill_color\":{\"type\":\"value\",\"value\":\"#30a2da\"},\"fill_alpha\":{\"type\":\"value\",\"value\":1.0},\"hatch_color\":{\"type\":\"value\",\"value\":\"#30a2da\"},\"hatch_alpha\":{\"type\":\"value\",\"value\":1.0},\"hatch_scale\":{\"type\":\"value\",\"value\":12.0},\"hatch_pattern\":{\"type\":\"value\",\"value\":null},\"hatch_weight\":{\"type\":\"value\",\"value\":1.0}}},\"nonselection_glyph\":{\"type\":\"object\",\"name\":\"Quad\",\"id\":\"p1780\",\"attributes\":{\"tags\":[\"apply_ranges\"],\"left\":{\"type\":\"field\",\"field\":\"left\"},\"right\":{\"type\":\"field\",\"field\":\"right\"},\"bottom\":{\"type\":\"value\",\"value\":0},\"top\":{\"type\":\"field\",\"field\":\"top\"},\"line_alpha\":{\"type\":\"value\",\"value\":0.1},\"fill_color\":{\"type\":\"value\",\"value\":\"#30a2da\"},\"fill_alpha\":{\"type\":\"value\",\"value\":0.1},\"hatch_color\":{\"type\":\"value\",\"value\":\"#30a2da\"},\"hatch_alpha\":{\"type\":\"value\",\"value\":0.1}}},\"muted_glyph\":{\"type\":\"object\",\"name\":\"Quad\",\"id\":\"p1781\",\"attributes\":{\"tags\":[\"apply_ranges\"],\"left\":{\"type\":\"field\",\"field\":\"left\"},\"right\":{\"type\":\"field\",\"field\":\"right\"},\"bottom\":{\"type\":\"value\",\"value\":0},\"top\":{\"type\":\"field\",\"field\":\"top\"},\"line_alpha\":{\"type\":\"value\",\"value\":0.2},\"fill_color\":{\"type\":\"value\",\"value\":\"#30a2da\"},\"fill_alpha\":{\"type\":\"value\",\"value\":0.2},\"hatch_color\":{\"type\":\"value\",\"value\":\"#30a2da\"},\"hatch_alpha\":{\"type\":\"value\",\"value\":0.2}}}}}],\"toolbar\":{\"type\":\"object\",\"name\":\"Toolbar\",\"id\":\"p1751\",\"attributes\":{\"tools\":[{\"type\":\"object\",\"name\":\"WheelZoomTool\",\"id\":\"p1740\",\"attributes\":{\"tags\":[\"hv_created\"],\"renderers\":\"auto\",\"zoom_together\":\"none\"}},{\"type\":\"object\",\"name\":\"HoverTool\",\"id\":\"p1741\",\"attributes\":{\"tags\":[\"hv_created\"],\"renderers\":[{\"id\":\"p1782\"}],\"tooltips\":[[\"total_day_calls\",\"@{total_day_calls}\"],[\"Count\",\"@{total_day_calls_count}\"]]}},{\"type\":\"object\",\"name\":\"SaveTool\",\"id\":\"p1764\"},{\"type\":\"object\",\"name\":\"PanTool\",\"id\":\"p1765\"},{\"type\":\"object\",\"name\":\"BoxZoomTool\",\"id\":\"p1766\",\"attributes\":{\"overlay\":{\"type\":\"object\",\"name\":\"BoxAnnotation\",\"id\":\"p1767\",\"attributes\":{\"syncable\":false,\"level\":\"overlay\",\"visible\":false,\"left\":{\"type\":\"number\",\"value\":\"nan\"},\"right\":{\"type\":\"number\",\"value\":\"nan\"},\"top\":{\"type\":\"number\",\"value\":\"nan\"},\"bottom\":{\"type\":\"number\",\"value\":\"nan\"},\"left_units\":\"canvas\",\"right_units\":\"canvas\",\"top_units\":\"canvas\",\"bottom_units\":\"canvas\",\"line_color\":\"black\",\"line_alpha\":1.0,\"line_width\":2,\"line_dash\":[4,4],\"fill_color\":\"lightgrey\",\"fill_alpha\":0.5}}}},{\"type\":\"object\",\"name\":\"ResetTool\",\"id\":\"p1772\"}],\"active_drag\":{\"id\":\"p1765\"},\"active_scroll\":{\"id\":\"p1740\"}}},\"left\":[{\"type\":\"object\",\"name\":\"LinearAxis\",\"id\":\"p1759\",\"attributes\":{\"ticker\":{\"type\":\"object\",\"name\":\"BasicTicker\",\"id\":\"p1760\",\"attributes\":{\"mantissas\":[1,2,5]}},\"formatter\":{\"type\":\"object\",\"name\":\"BasicTickFormatter\",\"id\":\"p1761\"},\"axis_label\":\"\",\"major_label_policy\":{\"type\":\"object\",\"name\":\"AllLabels\",\"id\":\"p1762\"}}}],\"below\":[{\"type\":\"object\",\"name\":\"LinearAxis\",\"id\":\"p1754\",\"attributes\":{\"ticker\":{\"type\":\"object\",\"name\":\"BasicTicker\",\"id\":\"p1755\",\"attributes\":{\"mantissas\":[1,2,5]}},\"formatter\":{\"type\":\"object\",\"name\":\"BasicTickFormatter\",\"id\":\"p1756\"},\"axis_label\":\"total_day_calls\",\"major_label_policy\":{\"type\":\"object\",\"name\":\"AllLabels\",\"id\":\"p1757\"}}}],\"center\":[{\"type\":\"object\",\"name\":\"Grid\",\"id\":\"p1758\",\"attributes\":{\"axis\":{\"id\":\"p1754\"},\"grid_line_color\":null}},{\"type\":\"object\",\"name\":\"Grid\",\"id\":\"p1763\",\"attributes\":{\"dimension\":1,\"axis\":{\"id\":\"p1759\"},\"grid_line_color\":null}}],\"min_border_top\":10,\"min_border_bottom\":10,\"min_border_left\":10,\"min_border_right\":10,\"output_backend\":\"webgl\"}},{\"type\":\"object\",\"name\":\"Spacer\",\"id\":\"p1787\",\"attributes\":{\"name\":\"HSpacer05175\",\"stylesheets\":[\"\\n:host(.pn-loading):before, .pn-loading:before {\\n  background-color: #c3c3c3;\\n  mask-size: auto calc(min(50%, 400px));\\n  -webkit-mask-size: auto calc(min(50%, 400px));\\n}\",{\"id\":\"p1733\"},{\"id\":\"p1731\"},{\"id\":\"p1732\"}],\"margin\":0,\"sizing_mode\":\"stretch_width\",\"align\":\"start\"}}]}}],\"defs\":[{\"type\":\"model\",\"name\":\"ReactiveHTML1\"},{\"type\":\"model\",\"name\":\"FlexBox1\",\"properties\":[{\"name\":\"align_content\",\"kind\":\"Any\",\"default\":\"flex-start\"},{\"name\":\"align_items\",\"kind\":\"Any\",\"default\":\"flex-start\"},{\"name\":\"flex_direction\",\"kind\":\"Any\",\"default\":\"row\"},{\"name\":\"flex_wrap\",\"kind\":\"Any\",\"default\":\"wrap\"},{\"name\":\"gap\",\"kind\":\"Any\",\"default\":\"\"},{\"name\":\"justify_content\",\"kind\":\"Any\",\"default\":\"flex-start\"}]},{\"type\":\"model\",\"name\":\"FloatPanel1\",\"properties\":[{\"name\":\"config\",\"kind\":\"Any\",\"default\":{\"type\":\"map\"}},{\"name\":\"contained\",\"kind\":\"Any\",\"default\":true},{\"name\":\"position\",\"kind\":\"Any\",\"default\":\"right-top\"},{\"name\":\"offsetx\",\"kind\":\"Any\",\"default\":null},{\"name\":\"offsety\",\"kind\":\"Any\",\"default\":null},{\"name\":\"theme\",\"kind\":\"Any\",\"default\":\"primary\"},{\"name\":\"status\",\"kind\":\"Any\",\"default\":\"normalized\"}]},{\"type\":\"model\",\"name\":\"GridStack1\",\"properties\":[{\"name\":\"mode\",\"kind\":\"Any\",\"default\":\"warn\"},{\"name\":\"ncols\",\"kind\":\"Any\",\"default\":null},{\"name\":\"nrows\",\"kind\":\"Any\",\"default\":null},{\"name\":\"allow_resize\",\"kind\":\"Any\",\"default\":true},{\"name\":\"allow_drag\",\"kind\":\"Any\",\"default\":true},{\"name\":\"state\",\"kind\":\"Any\",\"default\":[]}]},{\"type\":\"model\",\"name\":\"drag1\",\"properties\":[{\"name\":\"slider_width\",\"kind\":\"Any\",\"default\":5},{\"name\":\"slider_color\",\"kind\":\"Any\",\"default\":\"black\"},{\"name\":\"value\",\"kind\":\"Any\",\"default\":50}]},{\"type\":\"model\",\"name\":\"click1\",\"properties\":[{\"name\":\"terminal_output\",\"kind\":\"Any\",\"default\":\"\"},{\"name\":\"debug_name\",\"kind\":\"Any\",\"default\":\"\"},{\"name\":\"clears\",\"kind\":\"Any\",\"default\":0}]},{\"type\":\"model\",\"name\":\"FastWrapper1\",\"properties\":[{\"name\":\"object\",\"kind\":\"Any\",\"default\":null},{\"name\":\"style\",\"kind\":\"Any\",\"default\":null}]},{\"type\":\"model\",\"name\":\"NotificationAreaBase1\",\"properties\":[{\"name\":\"js_events\",\"kind\":\"Any\",\"default\":{\"type\":\"map\"}},{\"name\":\"position\",\"kind\":\"Any\",\"default\":\"bottom-right\"},{\"name\":\"_clear\",\"kind\":\"Any\",\"default\":0}]},{\"type\":\"model\",\"name\":\"NotificationArea1\",\"properties\":[{\"name\":\"js_events\",\"kind\":\"Any\",\"default\":{\"type\":\"map\"}},{\"name\":\"notifications\",\"kind\":\"Any\",\"default\":[]},{\"name\":\"position\",\"kind\":\"Any\",\"default\":\"bottom-right\"},{\"name\":\"_clear\",\"kind\":\"Any\",\"default\":0},{\"name\":\"types\",\"kind\":\"Any\",\"default\":[{\"type\":\"map\",\"entries\":[[\"type\",\"warning\"],[\"background\",\"#ffc107\"],[\"icon\",{\"type\":\"map\",\"entries\":[[\"className\",\"fas fa-exclamation-triangle\"],[\"tagName\",\"i\"],[\"color\",\"white\"]]}]]},{\"type\":\"map\",\"entries\":[[\"type\",\"info\"],[\"background\",\"#007bff\"],[\"icon\",{\"type\":\"map\",\"entries\":[[\"className\",\"fas fa-info-circle\"],[\"tagName\",\"i\"],[\"color\",\"white\"]]}]]}]}]},{\"type\":\"model\",\"name\":\"Notification\",\"properties\":[{\"name\":\"background\",\"kind\":\"Any\",\"default\":null},{\"name\":\"duration\",\"kind\":\"Any\",\"default\":3000},{\"name\":\"icon\",\"kind\":\"Any\",\"default\":null},{\"name\":\"message\",\"kind\":\"Any\",\"default\":\"\"},{\"name\":\"notification_type\",\"kind\":\"Any\",\"default\":null},{\"name\":\"_destroyed\",\"kind\":\"Any\",\"default\":false}]},{\"type\":\"model\",\"name\":\"TemplateActions1\",\"properties\":[{\"name\":\"open_modal\",\"kind\":\"Any\",\"default\":0},{\"name\":\"close_modal\",\"kind\":\"Any\",\"default\":0}]},{\"type\":\"model\",\"name\":\"BootstrapTemplateActions1\",\"properties\":[{\"name\":\"open_modal\",\"kind\":\"Any\",\"default\":0},{\"name\":\"close_modal\",\"kind\":\"Any\",\"default\":0}]},{\"type\":\"model\",\"name\":\"TemplateEditor1\",\"properties\":[{\"name\":\"layout\",\"kind\":\"Any\",\"default\":[]}]},{\"type\":\"model\",\"name\":\"MaterialTemplateActions1\",\"properties\":[{\"name\":\"open_modal\",\"kind\":\"Any\",\"default\":0},{\"name\":\"close_modal\",\"kind\":\"Any\",\"default\":0}]},{\"type\":\"model\",\"name\":\"copy_to_clipboard1\",\"properties\":[{\"name\":\"fill\",\"kind\":\"Any\",\"default\":\"none\"},{\"name\":\"value\",\"kind\":\"Any\",\"default\":null}]}]}};\n",
       "  var render_items = [{\"docid\":\"6ff7632e-876a-4bb2-94ff-b314d08ee188\",\"roots\":{\"p1730\":\"f71d18a0-8148-4ca4-a2ec-11a3782f42e1\"},\"root_ids\":[\"p1730\"]}];\n",
=======
       "<div id='p1268'>\n",
       "  <div id=\"ceab819f-b57c-466a-ae3f-3ecebd333cf0\" data-root-id=\"p1268\" style=\"display: contents;\"></div>\n",
       "</div>\n",
       "<script type=\"application/javascript\">(function(root) {\n",
       "  var docs_json = {\"3ceb7459-a9a3-4410-be36-9332c37f3f3e\":{\"version\":\"3.4.1\",\"title\":\"Bokeh Application\",\"roots\":[{\"type\":\"object\",\"name\":\"Row\",\"id\":\"p1268\",\"attributes\":{\"name\":\"Row01369\",\"tags\":[\"embedded\"],\"stylesheets\":[\"\\n:host(.pn-loading):before, .pn-loading:before {\\n  background-color: #c3c3c3;\\n  mask-size: auto calc(min(50%, 400px));\\n  -webkit-mask-size: auto calc(min(50%, 400px));\\n}\",{\"type\":\"object\",\"name\":\"ImportedStyleSheet\",\"id\":\"p1271\",\"attributes\":{\"url\":\"https://cdn.holoviz.org/panel/1.4.4/dist/css/loading.css\"}},{\"type\":\"object\",\"name\":\"ImportedStyleSheet\",\"id\":\"p1327\",\"attributes\":{\"url\":\"https://cdn.holoviz.org/panel/1.4.4/dist/css/listpanel.css\"}},{\"type\":\"object\",\"name\":\"ImportedStyleSheet\",\"id\":\"p1269\",\"attributes\":{\"url\":\"https://cdn.holoviz.org/panel/1.4.4/dist/bundled/theme/default.css\"}},{\"type\":\"object\",\"name\":\"ImportedStyleSheet\",\"id\":\"p1270\",\"attributes\":{\"url\":\"https://cdn.holoviz.org/panel/1.4.4/dist/bundled/theme/native.css\"}}],\"min_width\":700,\"margin\":0,\"sizing_mode\":\"stretch_width\",\"align\":\"start\",\"children\":[{\"type\":\"object\",\"name\":\"Spacer\",\"id\":\"p1272\",\"attributes\":{\"name\":\"HSpacer01376\",\"stylesheets\":[\"\\n:host(.pn-loading):before, .pn-loading:before {\\n  background-color: #c3c3c3;\\n  mask-size: auto calc(min(50%, 400px));\\n  -webkit-mask-size: auto calc(min(50%, 400px));\\n}\",{\"id\":\"p1271\"},{\"id\":\"p1269\"},{\"id\":\"p1270\"}],\"margin\":0,\"sizing_mode\":\"stretch_width\",\"align\":\"start\"}},{\"type\":\"object\",\"name\":\"Figure\",\"id\":\"p1280\",\"attributes\":{\"width\":700,\"height\":300,\"margin\":[5,10],\"sizing_mode\":\"fixed\",\"align\":\"start\",\"x_range\":{\"type\":\"object\",\"name\":\"Range1d\",\"id\":\"p1273\",\"attributes\":{\"tags\":[[[\"total_day_calls\",null]],[]],\"start\":-7.071428571428571,\"end\":172.07142857142858,\"reset_start\":-7.071428571428571,\"reset_end\":172.07142857142858}},\"y_range\":{\"type\":\"object\",\"name\":\"Range1d\",\"id\":\"p1274\",\"attributes\":{\"tags\":[[[\"Count\",null]],{\"type\":\"map\",\"entries\":[[\"invert_yaxis\",false],[\"autorange\",false]]}],\"end\":826.1,\"reset_start\":0.0,\"reset_end\":826.1}},\"x_scale\":{\"type\":\"object\",\"name\":\"LinearScale\",\"id\":\"p1290\"},\"y_scale\":{\"type\":\"object\",\"name\":\"LinearScale\",\"id\":\"p1291\"},\"title\":{\"type\":\"object\",\"name\":\"Title\",\"id\":\"p1283\",\"attributes\":{\"text\":\"Total Day Calls\",\"text_color\":\"black\",\"text_font_size\":\"12pt\"}},\"renderers\":[{\"type\":\"object\",\"name\":\"GlyphRenderer\",\"id\":\"p1320\",\"attributes\":{\"data_source\":{\"type\":\"object\",\"name\":\"ColumnDataSource\",\"id\":\"p1311\",\"attributes\":{\"selected\":{\"type\":\"object\",\"name\":\"Selection\",\"id\":\"p1312\",\"attributes\":{\"indices\":[],\"line_indices\":[]}},\"selection_policy\":{\"type\":\"object\",\"name\":\"UnionRenderers\",\"id\":\"p1313\"},\"data\":{\"type\":\"map\",\"entries\":[[\"top\",{\"type\":\"ndarray\",\"array\":{\"type\":\"bytes\",\"data\":\"AgAAAAAAAAAAAAAAAQAAAAUAAAASAAAALwAAAG4AAAD1AAAAbAEAABUCAAChAgAA7wIAAFgCAACjAQAA9QAAAI8AAABJAAAADgAAAAcAAAA=\"},\"shape\":[20],\"dtype\":\"int32\",\"order\":\"little\"}],[\"left\",{\"type\":\"ndarray\",\"array\":{\"type\":\"bytes\",\"data\":\"AAAAAAAAAAAAAAAAAIAgQAAAAAAAgDBAAAAAAADAOEAAAAAAAIBAQAAAAAAAoERAAAAAAADASEAAAAAAAOBMQAAAAAAAgFBAAAAAAACQUkAAAAAAAKBUQAAAAAAAsFZAAAAAAADAWEAAAAAAANBaQAAAAAAA4FxAAAAAAADwXkAAAAAAAIBgQAAAAAAAiGFAAAAAAACQYkAAAAAAAJhjQA==\"},\"shape\":[20],\"dtype\":\"float64\",\"order\":\"little\"}],[\"right\",{\"type\":\"ndarray\",\"array\":{\"type\":\"bytes\",\"data\":\"AAAAAACAIEAAAAAAAIAwQAAAAAAAwDhAAAAAAACAQEAAAAAAAKBEQAAAAAAAwEhAAAAAAADgTEAAAAAAAIBQQAAAAAAAkFJAAAAAAACgVEAAAAAAALBWQAAAAAAAwFhAAAAAAADQWkAAAAAAAOBcQAAAAAAA8F5AAAAAAACAYEAAAAAAAIhhQAAAAAAAkGJAAAAAAACYY0AAAAAAAKBkQA==\"},\"shape\":[20],\"dtype\":\"float64\",\"order\":\"little\"}],[\"total_day_calls\",{\"type\":\"ndarray\",\"array\":{\"type\":\"bytes\",\"data\":\"AAAAAACAEEAAAAAAAMAoQAAAAAAAoDRAAAAAAADgPEAAAAAAAJBCQAAAAAAAsEZAAAAAAADQSkAAAAAAAPBOQAAAAAAAiFFAAAAAAACYU0AAAAAAAKhVQAAAAAAAuFdAAAAAAADIWUAAAAAAANhbQAAAAAAA6F1AAAAAAAD4X0AAAAAAAARhQAAAAAAADGJAAAAAAAAUY0AAAAAAABxkQA==\"},\"shape\":[20],\"dtype\":\"float64\",\"order\":\"little\"}],[\"total_day_calls_count\",{\"type\":\"ndarray\",\"array\":{\"type\":\"bytes\",\"data\":\"AgAAAAAAAAAAAAAAAQAAAAUAAAASAAAALwAAAG4AAAD1AAAAbAEAABUCAAChAgAA7wIAAFgCAACjAQAA9QAAAI8AAABJAAAADgAAAAcAAAA=\"},\"shape\":[20],\"dtype\":\"int32\",\"order\":\"little\"}]]}}},\"view\":{\"type\":\"object\",\"name\":\"CDSView\",\"id\":\"p1321\",\"attributes\":{\"filter\":{\"type\":\"object\",\"name\":\"AllIndices\",\"id\":\"p1322\"}}},\"glyph\":{\"type\":\"object\",\"name\":\"Quad\",\"id\":\"p1317\",\"attributes\":{\"tags\":[\"apply_ranges\"],\"left\":{\"type\":\"field\",\"field\":\"left\"},\"right\":{\"type\":\"field\",\"field\":\"right\"},\"bottom\":{\"type\":\"value\",\"value\":0},\"top\":{\"type\":\"field\",\"field\":\"top\"},\"fill_color\":{\"type\":\"value\",\"value\":\"#30a2da\"},\"hatch_color\":{\"type\":\"value\",\"value\":\"#30a2da\"}}},\"selection_glyph\":{\"type\":\"object\",\"name\":\"Quad\",\"id\":\"p1323\",\"attributes\":{\"tags\":[\"apply_ranges\"],\"left\":{\"type\":\"field\",\"field\":\"left\"},\"right\":{\"type\":\"field\",\"field\":\"right\"},\"bottom\":{\"type\":\"value\",\"value\":0},\"top\":{\"type\":\"field\",\"field\":\"top\"},\"line_color\":{\"type\":\"value\",\"value\":\"black\"},\"line_alpha\":{\"type\":\"value\",\"value\":1.0},\"line_width\":{\"type\":\"value\",\"value\":1},\"line_join\":{\"type\":\"value\",\"value\":\"bevel\"},\"line_cap\":{\"type\":\"value\",\"value\":\"butt\"},\"line_dash\":{\"type\":\"value\",\"value\":[]},\"line_dash_offset\":{\"type\":\"value\",\"value\":0},\"fill_color\":{\"type\":\"value\",\"value\":\"#30a2da\"},\"fill_alpha\":{\"type\":\"value\",\"value\":1.0},\"hatch_color\":{\"type\":\"value\",\"value\":\"#30a2da\"},\"hatch_alpha\":{\"type\":\"value\",\"value\":1.0},\"hatch_scale\":{\"type\":\"value\",\"value\":12.0},\"hatch_pattern\":{\"type\":\"value\",\"value\":null},\"hatch_weight\":{\"type\":\"value\",\"value\":1.0}}},\"nonselection_glyph\":{\"type\":\"object\",\"name\":\"Quad\",\"id\":\"p1318\",\"attributes\":{\"tags\":[\"apply_ranges\"],\"left\":{\"type\":\"field\",\"field\":\"left\"},\"right\":{\"type\":\"field\",\"field\":\"right\"},\"bottom\":{\"type\":\"value\",\"value\":0},\"top\":{\"type\":\"field\",\"field\":\"top\"},\"line_alpha\":{\"type\":\"value\",\"value\":0.1},\"fill_color\":{\"type\":\"value\",\"value\":\"#30a2da\"},\"fill_alpha\":{\"type\":\"value\",\"value\":0.1},\"hatch_color\":{\"type\":\"value\",\"value\":\"#30a2da\"},\"hatch_alpha\":{\"type\":\"value\",\"value\":0.1}}},\"muted_glyph\":{\"type\":\"object\",\"name\":\"Quad\",\"id\":\"p1319\",\"attributes\":{\"tags\":[\"apply_ranges\"],\"left\":{\"type\":\"field\",\"field\":\"left\"},\"right\":{\"type\":\"field\",\"field\":\"right\"},\"bottom\":{\"type\":\"value\",\"value\":0},\"top\":{\"type\":\"field\",\"field\":\"top\"},\"line_alpha\":{\"type\":\"value\",\"value\":0.2},\"fill_color\":{\"type\":\"value\",\"value\":\"#30a2da\"},\"fill_alpha\":{\"type\":\"value\",\"value\":0.2},\"hatch_color\":{\"type\":\"value\",\"value\":\"#30a2da\"},\"hatch_alpha\":{\"type\":\"value\",\"value\":0.2}}}}}],\"toolbar\":{\"type\":\"object\",\"name\":\"Toolbar\",\"id\":\"p1289\",\"attributes\":{\"tools\":[{\"type\":\"object\",\"name\":\"WheelZoomTool\",\"id\":\"p1278\",\"attributes\":{\"tags\":[\"hv_created\"],\"renderers\":\"auto\",\"zoom_together\":\"none\"}},{\"type\":\"object\",\"name\":\"HoverTool\",\"id\":\"p1279\",\"attributes\":{\"tags\":[\"hv_created\"],\"renderers\":[{\"id\":\"p1320\"}],\"tooltips\":[[\"total_day_calls\",\"@{total_day_calls}\"],[\"Count\",\"@{total_day_calls_count}\"]]}},{\"type\":\"object\",\"name\":\"SaveTool\",\"id\":\"p1302\"},{\"type\":\"object\",\"name\":\"PanTool\",\"id\":\"p1303\"},{\"type\":\"object\",\"name\":\"BoxZoomTool\",\"id\":\"p1304\",\"attributes\":{\"overlay\":{\"type\":\"object\",\"name\":\"BoxAnnotation\",\"id\":\"p1305\",\"attributes\":{\"syncable\":false,\"level\":\"overlay\",\"visible\":false,\"left\":{\"type\":\"number\",\"value\":\"nan\"},\"right\":{\"type\":\"number\",\"value\":\"nan\"},\"top\":{\"type\":\"number\",\"value\":\"nan\"},\"bottom\":{\"type\":\"number\",\"value\":\"nan\"},\"left_units\":\"canvas\",\"right_units\":\"canvas\",\"top_units\":\"canvas\",\"bottom_units\":\"canvas\",\"line_color\":\"black\",\"line_alpha\":1.0,\"line_width\":2,\"line_dash\":[4,4],\"fill_color\":\"lightgrey\",\"fill_alpha\":0.5}}}},{\"type\":\"object\",\"name\":\"ResetTool\",\"id\":\"p1310\"}],\"active_drag\":{\"id\":\"p1303\"},\"active_scroll\":{\"id\":\"p1278\"}}},\"left\":[{\"type\":\"object\",\"name\":\"LinearAxis\",\"id\":\"p1297\",\"attributes\":{\"ticker\":{\"type\":\"object\",\"name\":\"BasicTicker\",\"id\":\"p1298\",\"attributes\":{\"mantissas\":[1,2,5]}},\"formatter\":{\"type\":\"object\",\"name\":\"BasicTickFormatter\",\"id\":\"p1299\"},\"axis_label\":\"\",\"major_label_policy\":{\"type\":\"object\",\"name\":\"AllLabels\",\"id\":\"p1300\"}}}],\"below\":[{\"type\":\"object\",\"name\":\"LinearAxis\",\"id\":\"p1292\",\"attributes\":{\"ticker\":{\"type\":\"object\",\"name\":\"BasicTicker\",\"id\":\"p1293\",\"attributes\":{\"mantissas\":[1,2,5]}},\"formatter\":{\"type\":\"object\",\"name\":\"BasicTickFormatter\",\"id\":\"p1294\"},\"axis_label\":\"total_day_calls\",\"major_label_policy\":{\"type\":\"object\",\"name\":\"AllLabels\",\"id\":\"p1295\"}}}],\"center\":[{\"type\":\"object\",\"name\":\"Grid\",\"id\":\"p1296\",\"attributes\":{\"axis\":{\"id\":\"p1292\"},\"grid_line_color\":null}},{\"type\":\"object\",\"name\":\"Grid\",\"id\":\"p1301\",\"attributes\":{\"dimension\":1,\"axis\":{\"id\":\"p1297\"},\"grid_line_color\":null}}],\"min_border_top\":10,\"min_border_bottom\":10,\"min_border_left\":10,\"min_border_right\":10,\"output_backend\":\"webgl\"}},{\"type\":\"object\",\"name\":\"Spacer\",\"id\":\"p1325\",\"attributes\":{\"name\":\"HSpacer01377\",\"stylesheets\":[\"\\n:host(.pn-loading):before, .pn-loading:before {\\n  background-color: #c3c3c3;\\n  mask-size: auto calc(min(50%, 400px));\\n  -webkit-mask-size: auto calc(min(50%, 400px));\\n}\",{\"id\":\"p1271\"},{\"id\":\"p1269\"},{\"id\":\"p1270\"}],\"margin\":0,\"sizing_mode\":\"stretch_width\",\"align\":\"start\"}}]}}],\"defs\":[{\"type\":\"model\",\"name\":\"ReactiveHTML1\"},{\"type\":\"model\",\"name\":\"FlexBox1\",\"properties\":[{\"name\":\"align_content\",\"kind\":\"Any\",\"default\":\"flex-start\"},{\"name\":\"align_items\",\"kind\":\"Any\",\"default\":\"flex-start\"},{\"name\":\"flex_direction\",\"kind\":\"Any\",\"default\":\"row\"},{\"name\":\"flex_wrap\",\"kind\":\"Any\",\"default\":\"wrap\"},{\"name\":\"gap\",\"kind\":\"Any\",\"default\":\"\"},{\"name\":\"justify_content\",\"kind\":\"Any\",\"default\":\"flex-start\"}]},{\"type\":\"model\",\"name\":\"FloatPanel1\",\"properties\":[{\"name\":\"config\",\"kind\":\"Any\",\"default\":{\"type\":\"map\"}},{\"name\":\"contained\",\"kind\":\"Any\",\"default\":true},{\"name\":\"position\",\"kind\":\"Any\",\"default\":\"right-top\"},{\"name\":\"offsetx\",\"kind\":\"Any\",\"default\":null},{\"name\":\"offsety\",\"kind\":\"Any\",\"default\":null},{\"name\":\"theme\",\"kind\":\"Any\",\"default\":\"primary\"},{\"name\":\"status\",\"kind\":\"Any\",\"default\":\"normalized\"}]},{\"type\":\"model\",\"name\":\"GridStack1\",\"properties\":[{\"name\":\"mode\",\"kind\":\"Any\",\"default\":\"warn\"},{\"name\":\"ncols\",\"kind\":\"Any\",\"default\":null},{\"name\":\"nrows\",\"kind\":\"Any\",\"default\":null},{\"name\":\"allow_resize\",\"kind\":\"Any\",\"default\":true},{\"name\":\"allow_drag\",\"kind\":\"Any\",\"default\":true},{\"name\":\"state\",\"kind\":\"Any\",\"default\":[]}]},{\"type\":\"model\",\"name\":\"drag1\",\"properties\":[{\"name\":\"slider_width\",\"kind\":\"Any\",\"default\":5},{\"name\":\"slider_color\",\"kind\":\"Any\",\"default\":\"black\"},{\"name\":\"value\",\"kind\":\"Any\",\"default\":50}]},{\"type\":\"model\",\"name\":\"click1\",\"properties\":[{\"name\":\"terminal_output\",\"kind\":\"Any\",\"default\":\"\"},{\"name\":\"debug_name\",\"kind\":\"Any\",\"default\":\"\"},{\"name\":\"clears\",\"kind\":\"Any\",\"default\":0}]},{\"type\":\"model\",\"name\":\"FastWrapper1\",\"properties\":[{\"name\":\"object\",\"kind\":\"Any\",\"default\":null},{\"name\":\"style\",\"kind\":\"Any\",\"default\":null}]},{\"type\":\"model\",\"name\":\"NotificationAreaBase1\",\"properties\":[{\"name\":\"js_events\",\"kind\":\"Any\",\"default\":{\"type\":\"map\"}},{\"name\":\"position\",\"kind\":\"Any\",\"default\":\"bottom-right\"},{\"name\":\"_clear\",\"kind\":\"Any\",\"default\":0}]},{\"type\":\"model\",\"name\":\"NotificationArea1\",\"properties\":[{\"name\":\"js_events\",\"kind\":\"Any\",\"default\":{\"type\":\"map\"}},{\"name\":\"notifications\",\"kind\":\"Any\",\"default\":[]},{\"name\":\"position\",\"kind\":\"Any\",\"default\":\"bottom-right\"},{\"name\":\"_clear\",\"kind\":\"Any\",\"default\":0},{\"name\":\"types\",\"kind\":\"Any\",\"default\":[{\"type\":\"map\",\"entries\":[[\"type\",\"warning\"],[\"background\",\"#ffc107\"],[\"icon\",{\"type\":\"map\",\"entries\":[[\"className\",\"fas fa-exclamation-triangle\"],[\"tagName\",\"i\"],[\"color\",\"white\"]]}]]},{\"type\":\"map\",\"entries\":[[\"type\",\"info\"],[\"background\",\"#007bff\"],[\"icon\",{\"type\":\"map\",\"entries\":[[\"className\",\"fas fa-info-circle\"],[\"tagName\",\"i\"],[\"color\",\"white\"]]}]]}]}]},{\"type\":\"model\",\"name\":\"Notification\",\"properties\":[{\"name\":\"background\",\"kind\":\"Any\",\"default\":null},{\"name\":\"duration\",\"kind\":\"Any\",\"default\":3000},{\"name\":\"icon\",\"kind\":\"Any\",\"default\":null},{\"name\":\"message\",\"kind\":\"Any\",\"default\":\"\"},{\"name\":\"notification_type\",\"kind\":\"Any\",\"default\":null},{\"name\":\"_destroyed\",\"kind\":\"Any\",\"default\":false}]},{\"type\":\"model\",\"name\":\"TemplateActions1\",\"properties\":[{\"name\":\"open_modal\",\"kind\":\"Any\",\"default\":0},{\"name\":\"close_modal\",\"kind\":\"Any\",\"default\":0}]},{\"type\":\"model\",\"name\":\"BootstrapTemplateActions1\",\"properties\":[{\"name\":\"open_modal\",\"kind\":\"Any\",\"default\":0},{\"name\":\"close_modal\",\"kind\":\"Any\",\"default\":0}]},{\"type\":\"model\",\"name\":\"TemplateEditor1\",\"properties\":[{\"name\":\"layout\",\"kind\":\"Any\",\"default\":[]}]},{\"type\":\"model\",\"name\":\"MaterialTemplateActions1\",\"properties\":[{\"name\":\"open_modal\",\"kind\":\"Any\",\"default\":0},{\"name\":\"close_modal\",\"kind\":\"Any\",\"default\":0}]},{\"type\":\"model\",\"name\":\"copy_to_clipboard1\",\"properties\":[{\"name\":\"fill\",\"kind\":\"Any\",\"default\":\"none\"},{\"name\":\"value\",\"kind\":\"Any\",\"default\":null}]}]}};\n",
       "  var render_items = [{\"docid\":\"3ceb7459-a9a3-4410-be36-9332c37f3f3e\",\"roots\":{\"p1268\":\"ceab819f-b57c-466a-ae3f-3ecebd333cf0\"},\"root_ids\":[\"p1268\"]}];\n",
>>>>>>> 35eb337 (Adding in the work cody did on histograms)
>>>>>>> 33e35f241d23f05510413d5e7dfe539dcfe0fe49
       "  var docs = Object.values(docs_json)\n",
       "  if (!docs) {\n",
       "    return\n",
       "  }\n",
       "  const py_version = docs[0].version.replace('rc', '-rc.').replace('.dev', '-dev.')\n",
       "  async function embed_document(root) {\n",
       "    var Bokeh = get_bokeh(root)\n",
       "    await Bokeh.embed.embed_items_notebook(docs_json, render_items);\n",
       "    for (const render_item of render_items) {\n",
       "      for (const root_id of render_item.root_ids) {\n",
       "\tconst id_el = document.getElementById(root_id)\n",
       "\tif (id_el.children.length && id_el.children[0].hasAttribute('data-root-id')) {\n",
       "\t  const root_el = id_el.children[0]\n",
       "\t  root_el.id = root_el.id + '-rendered'\n",
       "\t  for (const child of root_el.children) {\n",
       "            // Ensure JupyterLab does not capture keyboard shortcuts\n",
       "            // see: https://jupyterlab.readthedocs.io/en/4.1.x/extension/notebook.html#keyboard-interaction-model\n",
       "\t    child.setAttribute('data-lm-suppress-shortcuts', 'true')\n",
       "\t  }\n",
       "\t}\n",
       "      }\n",
       "    }\n",
       "  }\n",
       "  function get_bokeh(root) {\n",
       "    if (root.Bokeh === undefined) {\n",
       "      return null\n",
       "    } else if (root.Bokeh.version !== py_version) {\n",
       "      if (root.Bokeh.versions === undefined || !root.Bokeh.versions.has(py_version)) {\n",
       "\treturn null\n",
       "      }\n",
       "      return root.Bokeh.versions.get(py_version);\n",
       "    } else if (root.Bokeh.version === py_version) {\n",
       "      return root.Bokeh\n",
       "    }\n",
       "    return null\n",
       "  }\n",
       "  function is_loaded(root) {\n",
       "    var Bokeh = get_bokeh(root)\n",
       "    return (Bokeh != null && Bokeh.Panel !== undefined)\n",
       "  }\n",
       "  if (is_loaded(root)) {\n",
       "    embed_document(root);\n",
       "  } else {\n",
       "    var attempts = 0;\n",
       "    var timer = setInterval(function(root) {\n",
       "      if (is_loaded(root)) {\n",
       "        clearInterval(timer);\n",
       "        embed_document(root);\n",
       "      } else if (document.readyState == \"complete\") {\n",
       "        attempts++;\n",
       "        if (attempts > 200) {\n",
       "          clearInterval(timer);\n",
       "\t  var Bokeh = get_bokeh(root)\n",
       "\t  if (Bokeh == null || Bokeh.Panel == null) {\n",
       "            console.warn(\"Panel: ERROR: Unable to run Panel code because Bokeh or Panel library is missing\");\n",
       "\t  } else {\n",
       "\t    console.warn(\"Panel: WARNING: Attempting to render but not all required libraries could be resolved.\")\n",
       "\t    embed_document(root)\n",
       "\t  }\n",
       "        }\n",
       "      }\n",
       "    }, 25, root)\n",
       "  }\n",
       "})(window);</script>"
      ],
      "text/plain": [
       ":Histogram   [total_day_calls]   (Count)"
      ]
     },
<<<<<<< HEAD
     "execution_count": 29,
     "metadata": {
      "application/vnd.holoviews_exec.v0+json": {
       "id": "p1202"
=======
<<<<<<< HEAD
     "execution_count": 107,
     "metadata": {
      "application/vnd.holoviews_exec.v0+json": {
       "id": "p1730"
=======
     "execution_count": 21,
     "metadata": {
      "application/vnd.holoviews_exec.v0+json": {
       "id": "p1268"
>>>>>>> 35eb337 (Adding in the work cody did on histograms)
>>>>>>> 33e35f241d23f05510413d5e7dfe539dcfe0fe49
      }
     },
     "output_type": "execute_result"
    }
   ],
   "source": [
<<<<<<< HEAD
    "telcom_data_df['total_day_calls'].hvplot(kind='hist', bins=20, title='Total Day Calls')\n"
   ]
  },
  {
   "cell_type": "code",
   "execution_count": 30,
   "metadata": {},
   "outputs": [
    {
     "data": {},
     "metadata": {},
     "output_type": "display_data"
    },
    {
     "data": {
      "application/vnd.holoviews_exec.v0+json": "",
      "text/html": [
       "<div id='p1268'>\n",
       "  <div id=\"ab0aa230-e18c-47a0-946b-5c82da775d95\" data-root-id=\"p1268\" style=\"display: contents;\"></div>\n",
       "</div>\n",
       "<script type=\"application/javascript\">(function(root) {\n",
       "  var docs_json = {\"fee0f096-5d3d-4952-bcd2-dad88678c1f7\":{\"version\":\"3.4.1\",\"title\":\"Bokeh Application\",\"roots\":[{\"type\":\"object\",\"name\":\"Row\",\"id\":\"p1268\",\"attributes\":{\"name\":\"Row01369\",\"tags\":[\"embedded\"],\"stylesheets\":[\"\\n:host(.pn-loading):before, .pn-loading:before {\\n  background-color: #c3c3c3;\\n  mask-size: auto calc(min(50%, 400px));\\n  -webkit-mask-size: auto calc(min(50%, 400px));\\n}\",{\"type\":\"object\",\"name\":\"ImportedStyleSheet\",\"id\":\"p1271\",\"attributes\":{\"url\":\"https://cdn.holoviz.org/panel/1.4.4/dist/css/loading.css\"}},{\"type\":\"object\",\"name\":\"ImportedStyleSheet\",\"id\":\"p1327\",\"attributes\":{\"url\":\"https://cdn.holoviz.org/panel/1.4.4/dist/css/listpanel.css\"}},{\"type\":\"object\",\"name\":\"ImportedStyleSheet\",\"id\":\"p1269\",\"attributes\":{\"url\":\"https://cdn.holoviz.org/panel/1.4.4/dist/bundled/theme/default.css\"}},{\"type\":\"object\",\"name\":\"ImportedStyleSheet\",\"id\":\"p1270\",\"attributes\":{\"url\":\"https://cdn.holoviz.org/panel/1.4.4/dist/bundled/theme/native.css\"}}],\"min_width\":700,\"margin\":0,\"sizing_mode\":\"stretch_width\",\"align\":\"start\",\"children\":[{\"type\":\"object\",\"name\":\"Spacer\",\"id\":\"p1272\",\"attributes\":{\"name\":\"HSpacer01376\",\"stylesheets\":[\"\\n:host(.pn-loading):before, .pn-loading:before {\\n  background-color: #c3c3c3;\\n  mask-size: auto calc(min(50%, 400px));\\n  -webkit-mask-size: auto calc(min(50%, 400px));\\n}\",{\"id\":\"p1271\"},{\"id\":\"p1269\"},{\"id\":\"p1270\"}],\"margin\":0,\"sizing_mode\":\"stretch_width\",\"align\":\"start\"}},{\"type\":\"object\",\"name\":\"Figure\",\"id\":\"p1280\",\"attributes\":{\"width\":700,\"height\":300,\"margin\":[5,10],\"sizing_mode\":\"fixed\",\"align\":\"start\",\"x_range\":{\"type\":\"object\",\"name\":\"Range1d\",\"id\":\"p1273\",\"attributes\":{\"tags\":[[[\"total_day_charge\",null]],[]],\"start\":-2.561142857142857,\"end\":62.32114285714285,\"reset_start\":-2.561142857142857,\"reset_end\":62.32114285714285}},\"y_range\":{\"type\":\"object\",\"name\":\"Range1d\",\"id\":\"p1274\",\"attributes\":{\"tags\":[[[\"Count\",null]],{\"type\":\"map\",\"entries\":[[\"invert_yaxis\",false],[\"autorange\",false]]}],\"end\":612.0,\"reset_start\":0.0,\"reset_end\":612.0}},\"x_scale\":{\"type\":\"object\",\"name\":\"LinearScale\",\"id\":\"p1290\"},\"y_scale\":{\"type\":\"object\",\"name\":\"LinearScale\",\"id\":\"p1291\"},\"title\":{\"type\":\"object\",\"name\":\"Title\",\"id\":\"p1283\",\"attributes\":{\"text\":\"Total Day Charge\",\"text_color\":\"black\",\"text_font_size\":\"12pt\"}},\"renderers\":[{\"type\":\"object\",\"name\":\"GlyphRenderer\",\"id\":\"p1320\",\"attributes\":{\"data_source\":{\"type\":\"object\",\"name\":\"ColumnDataSource\",\"id\":\"p1311\",\"attributes\":{\"selected\":{\"type\":\"object\",\"name\":\"Selection\",\"id\":\"p1312\",\"attributes\":{\"indices\":[],\"line_indices\":[]}},\"selection_policy\":{\"type\":\"object\",\"name\":\"UnionRenderers\",\"id\":\"p1313\"},\"data\":{\"type\":\"map\",\"entries\":[[\"top\",{\"type\":\"ndarray\",\"array\":{\"type\":\"bytes\",\"data\":\"BwAAAAcAAAAYAAAAOQAAAGEAAACeAAAA+AAAAIEBAADpAQAA8wEAAC0CAAD0AQAAuQEAADgBAAC+AAAAlwAAAEMAAAAjAAAAEwAAAAcAAAA=\"},\"shape\":[20],\"dtype\":\"int32\",\"order\":\"little\"}],[\"left\",{\"type\":\"ndarray\",\"array\":{\"type\":\"bytes\",\"data\":\"AAAAAAAAAACBlUOLbOcHQIGVQ4ts5xdAIbByaJHtIUCBlUOLbOcnQOF6FK5H4S1AIbByaJHtMUDRItv5fuo0QIGVQ4ts5zdAMQisHFrkOkDhehSuR+E9QMl2vp8ab0BAIbByaJHtQUB56SYxCGxDQNEi2/l+6kRAKVyPwvVoRkCBlUOLbOdHQNnO91PjZUlAMQisHFrkSkCJQWDl0GJMQA==\"},\"shape\":[20],\"dtype\":\"float64\",\"order\":\"little\"}],[\"right\",{\"type\":\"ndarray\",\"array\":{\"type\":\"bytes\",\"data\":\"gZVDi2znB0CBlUOLbOcXQCGwcmiR7SFAgZVDi2znJ0DhehSuR+EtQCGwcmiR7TFA0SLb+X7qNECBlUOLbOc3QDEIrBxa5DpA4XoUrkfhPUDJdr6fGm9AQCGwcmiR7UFAeekmMQhsQ0DRItv5fupEQClcj8L1aEZAgZVDi2znR0DZzvdT42VJQDEIrBxa5EpAiUFg5dBiTEDhehSuR+FNQA==\"},\"shape\":[20],\"dtype\":\"float64\",\"order\":\"little\"}],[\"total_day_charge\",{\"type\":\"ndarray\",\"array\":{\"type\":\"bytes\",\"data\":\"gZVDi2zn9z8hsHJoke0RQOJ6FK5H4R1A0SLb+X7qJEAxCKwcWuQqQMl2vp8abzBAeekmMQhsM0ApXI/C9Wg2QNnO91PjZTlAiUFg5dBiPEA6tMh2vl8/QHWTGARWLkFAzczMzMysQkAlBoGVQytEQH0/NV66qUVA1XjpJjEoR0Atsp3vp6ZIQIXrUbgeJUpA3SQGgZWjS0A1XrpJDCJNQA==\"},\"shape\":[20],\"dtype\":\"float64\",\"order\":\"little\"}],[\"total_day_charge_count\",{\"type\":\"ndarray\",\"array\":{\"type\":\"bytes\",\"data\":\"BwAAAAcAAAAYAAAAOQAAAGEAAACeAAAA+AAAAIEBAADpAQAA8wEAAC0CAAD0AQAAuQEAADgBAAC+AAAAlwAAAEMAAAAjAAAAEwAAAAcAAAA=\"},\"shape\":[20],\"dtype\":\"int32\",\"order\":\"little\"}]]}}},\"view\":{\"type\":\"object\",\"name\":\"CDSView\",\"id\":\"p1321\",\"attributes\":{\"filter\":{\"type\":\"object\",\"name\":\"AllIndices\",\"id\":\"p1322\"}}},\"glyph\":{\"type\":\"object\",\"name\":\"Quad\",\"id\":\"p1317\",\"attributes\":{\"tags\":[\"apply_ranges\"],\"left\":{\"type\":\"field\",\"field\":\"left\"},\"right\":{\"type\":\"field\",\"field\":\"right\"},\"bottom\":{\"type\":\"value\",\"value\":0},\"top\":{\"type\":\"field\",\"field\":\"top\"},\"fill_color\":{\"type\":\"value\",\"value\":\"#30a2da\"},\"hatch_color\":{\"type\":\"value\",\"value\":\"#30a2da\"}}},\"selection_glyph\":{\"type\":\"object\",\"name\":\"Quad\",\"id\":\"p1323\",\"attributes\":{\"tags\":[\"apply_ranges\"],\"left\":{\"type\":\"field\",\"field\":\"left\"},\"right\":{\"type\":\"field\",\"field\":\"right\"},\"bottom\":{\"type\":\"value\",\"value\":0},\"top\":{\"type\":\"field\",\"field\":\"top\"},\"line_color\":{\"type\":\"value\",\"value\":\"black\"},\"line_alpha\":{\"type\":\"value\",\"value\":1.0},\"line_width\":{\"type\":\"value\",\"value\":1},\"line_join\":{\"type\":\"value\",\"value\":\"bevel\"},\"line_cap\":{\"type\":\"value\",\"value\":\"butt\"},\"line_dash\":{\"type\":\"value\",\"value\":[]},\"line_dash_offset\":{\"type\":\"value\",\"value\":0},\"fill_color\":{\"type\":\"value\",\"value\":\"#30a2da\"},\"fill_alpha\":{\"type\":\"value\",\"value\":1.0},\"hatch_color\":{\"type\":\"value\",\"value\":\"#30a2da\"},\"hatch_alpha\":{\"type\":\"value\",\"value\":1.0},\"hatch_scale\":{\"type\":\"value\",\"value\":12.0},\"hatch_pattern\":{\"type\":\"value\",\"value\":null},\"hatch_weight\":{\"type\":\"value\",\"value\":1.0}}},\"nonselection_glyph\":{\"type\":\"object\",\"name\":\"Quad\",\"id\":\"p1318\",\"attributes\":{\"tags\":[\"apply_ranges\"],\"left\":{\"type\":\"field\",\"field\":\"left\"},\"right\":{\"type\":\"field\",\"field\":\"right\"},\"bottom\":{\"type\":\"value\",\"value\":0},\"top\":{\"type\":\"field\",\"field\":\"top\"},\"line_alpha\":{\"type\":\"value\",\"value\":0.1},\"fill_color\":{\"type\":\"value\",\"value\":\"#30a2da\"},\"fill_alpha\":{\"type\":\"value\",\"value\":0.1},\"hatch_color\":{\"type\":\"value\",\"value\":\"#30a2da\"},\"hatch_alpha\":{\"type\":\"value\",\"value\":0.1}}},\"muted_glyph\":{\"type\":\"object\",\"name\":\"Quad\",\"id\":\"p1319\",\"attributes\":{\"tags\":[\"apply_ranges\"],\"left\":{\"type\":\"field\",\"field\":\"left\"},\"right\":{\"type\":\"field\",\"field\":\"right\"},\"bottom\":{\"type\":\"value\",\"value\":0},\"top\":{\"type\":\"field\",\"field\":\"top\"},\"line_alpha\":{\"type\":\"value\",\"value\":0.2},\"fill_color\":{\"type\":\"value\",\"value\":\"#30a2da\"},\"fill_alpha\":{\"type\":\"value\",\"value\":0.2},\"hatch_color\":{\"type\":\"value\",\"value\":\"#30a2da\"},\"hatch_alpha\":{\"type\":\"value\",\"value\":0.2}}}}}],\"toolbar\":{\"type\":\"object\",\"name\":\"Toolbar\",\"id\":\"p1289\",\"attributes\":{\"tools\":[{\"type\":\"object\",\"name\":\"WheelZoomTool\",\"id\":\"p1278\",\"attributes\":{\"tags\":[\"hv_created\"],\"renderers\":\"auto\",\"zoom_together\":\"none\"}},{\"type\":\"object\",\"name\":\"HoverTool\",\"id\":\"p1279\",\"attributes\":{\"tags\":[\"hv_created\"],\"renderers\":[{\"id\":\"p1320\"}],\"tooltips\":[[\"total_day_charge\",\"@{total_day_charge}\"],[\"Count\",\"@{total_day_charge_count}\"]]}},{\"type\":\"object\",\"name\":\"SaveTool\",\"id\":\"p1302\"},{\"type\":\"object\",\"name\":\"PanTool\",\"id\":\"p1303\"},{\"type\":\"object\",\"name\":\"BoxZoomTool\",\"id\":\"p1304\",\"attributes\":{\"overlay\":{\"type\":\"object\",\"name\":\"BoxAnnotation\",\"id\":\"p1305\",\"attributes\":{\"syncable\":false,\"level\":\"overlay\",\"visible\":false,\"left\":{\"type\":\"number\",\"value\":\"nan\"},\"right\":{\"type\":\"number\",\"value\":\"nan\"},\"top\":{\"type\":\"number\",\"value\":\"nan\"},\"bottom\":{\"type\":\"number\",\"value\":\"nan\"},\"left_units\":\"canvas\",\"right_units\":\"canvas\",\"top_units\":\"canvas\",\"bottom_units\":\"canvas\",\"line_color\":\"black\",\"line_alpha\":1.0,\"line_width\":2,\"line_dash\":[4,4],\"fill_color\":\"lightgrey\",\"fill_alpha\":0.5}}}},{\"type\":\"object\",\"name\":\"ResetTool\",\"id\":\"p1310\"}],\"active_drag\":{\"id\":\"p1303\"},\"active_scroll\":{\"id\":\"p1278\"}}},\"left\":[{\"type\":\"object\",\"name\":\"LinearAxis\",\"id\":\"p1297\",\"attributes\":{\"ticker\":{\"type\":\"object\",\"name\":\"BasicTicker\",\"id\":\"p1298\",\"attributes\":{\"mantissas\":[1,2,5]}},\"formatter\":{\"type\":\"object\",\"name\":\"BasicTickFormatter\",\"id\":\"p1299\"},\"axis_label\":\"\",\"major_label_policy\":{\"type\":\"object\",\"name\":\"AllLabels\",\"id\":\"p1300\"}}}],\"below\":[{\"type\":\"object\",\"name\":\"LinearAxis\",\"id\":\"p1292\",\"attributes\":{\"ticker\":{\"type\":\"object\",\"name\":\"BasicTicker\",\"id\":\"p1293\",\"attributes\":{\"mantissas\":[1,2,5]}},\"formatter\":{\"type\":\"object\",\"name\":\"BasicTickFormatter\",\"id\":\"p1294\"},\"axis_label\":\"total_day_charge\",\"major_label_policy\":{\"type\":\"object\",\"name\":\"AllLabels\",\"id\":\"p1295\"}}}],\"center\":[{\"type\":\"object\",\"name\":\"Grid\",\"id\":\"p1296\",\"attributes\":{\"axis\":{\"id\":\"p1292\"},\"grid_line_color\":null}},{\"type\":\"object\",\"name\":\"Grid\",\"id\":\"p1301\",\"attributes\":{\"dimension\":1,\"axis\":{\"id\":\"p1297\"},\"grid_line_color\":null}}],\"min_border_top\":10,\"min_border_bottom\":10,\"min_border_left\":10,\"min_border_right\":10,\"output_backend\":\"webgl\"}},{\"type\":\"object\",\"name\":\"Spacer\",\"id\":\"p1325\",\"attributes\":{\"name\":\"HSpacer01377\",\"stylesheets\":[\"\\n:host(.pn-loading):before, .pn-loading:before {\\n  background-color: #c3c3c3;\\n  mask-size: auto calc(min(50%, 400px));\\n  -webkit-mask-size: auto calc(min(50%, 400px));\\n}\",{\"id\":\"p1271\"},{\"id\":\"p1269\"},{\"id\":\"p1270\"}],\"margin\":0,\"sizing_mode\":\"stretch_width\",\"align\":\"start\"}}]}}],\"defs\":[{\"type\":\"model\",\"name\":\"ReactiveHTML1\"},{\"type\":\"model\",\"name\":\"FlexBox1\",\"properties\":[{\"name\":\"align_content\",\"kind\":\"Any\",\"default\":\"flex-start\"},{\"name\":\"align_items\",\"kind\":\"Any\",\"default\":\"flex-start\"},{\"name\":\"flex_direction\",\"kind\":\"Any\",\"default\":\"row\"},{\"name\":\"flex_wrap\",\"kind\":\"Any\",\"default\":\"wrap\"},{\"name\":\"gap\",\"kind\":\"Any\",\"default\":\"\"},{\"name\":\"justify_content\",\"kind\":\"Any\",\"default\":\"flex-start\"}]},{\"type\":\"model\",\"name\":\"FloatPanel1\",\"properties\":[{\"name\":\"config\",\"kind\":\"Any\",\"default\":{\"type\":\"map\"}},{\"name\":\"contained\",\"kind\":\"Any\",\"default\":true},{\"name\":\"position\",\"kind\":\"Any\",\"default\":\"right-top\"},{\"name\":\"offsetx\",\"kind\":\"Any\",\"default\":null},{\"name\":\"offsety\",\"kind\":\"Any\",\"default\":null},{\"name\":\"theme\",\"kind\":\"Any\",\"default\":\"primary\"},{\"name\":\"status\",\"kind\":\"Any\",\"default\":\"normalized\"}]},{\"type\":\"model\",\"name\":\"GridStack1\",\"properties\":[{\"name\":\"mode\",\"kind\":\"Any\",\"default\":\"warn\"},{\"name\":\"ncols\",\"kind\":\"Any\",\"default\":null},{\"name\":\"nrows\",\"kind\":\"Any\",\"default\":null},{\"name\":\"allow_resize\",\"kind\":\"Any\",\"default\":true},{\"name\":\"allow_drag\",\"kind\":\"Any\",\"default\":true},{\"name\":\"state\",\"kind\":\"Any\",\"default\":[]}]},{\"type\":\"model\",\"name\":\"drag1\",\"properties\":[{\"name\":\"slider_width\",\"kind\":\"Any\",\"default\":5},{\"name\":\"slider_color\",\"kind\":\"Any\",\"default\":\"black\"},{\"name\":\"value\",\"kind\":\"Any\",\"default\":50}]},{\"type\":\"model\",\"name\":\"click1\",\"properties\":[{\"name\":\"terminal_output\",\"kind\":\"Any\",\"default\":\"\"},{\"name\":\"debug_name\",\"kind\":\"Any\",\"default\":\"\"},{\"name\":\"clears\",\"kind\":\"Any\",\"default\":0}]},{\"type\":\"model\",\"name\":\"FastWrapper1\",\"properties\":[{\"name\":\"object\",\"kind\":\"Any\",\"default\":null},{\"name\":\"style\",\"kind\":\"Any\",\"default\":null}]},{\"type\":\"model\",\"name\":\"NotificationAreaBase1\",\"properties\":[{\"name\":\"js_events\",\"kind\":\"Any\",\"default\":{\"type\":\"map\"}},{\"name\":\"position\",\"kind\":\"Any\",\"default\":\"bottom-right\"},{\"name\":\"_clear\",\"kind\":\"Any\",\"default\":0}]},{\"type\":\"model\",\"name\":\"NotificationArea1\",\"properties\":[{\"name\":\"js_events\",\"kind\":\"Any\",\"default\":{\"type\":\"map\"}},{\"name\":\"notifications\",\"kind\":\"Any\",\"default\":[]},{\"name\":\"position\",\"kind\":\"Any\",\"default\":\"bottom-right\"},{\"name\":\"_clear\",\"kind\":\"Any\",\"default\":0},{\"name\":\"types\",\"kind\":\"Any\",\"default\":[{\"type\":\"map\",\"entries\":[[\"type\",\"warning\"],[\"background\",\"#ffc107\"],[\"icon\",{\"type\":\"map\",\"entries\":[[\"className\",\"fas fa-exclamation-triangle\"],[\"tagName\",\"i\"],[\"color\",\"white\"]]}]]},{\"type\":\"map\",\"entries\":[[\"type\",\"info\"],[\"background\",\"#007bff\"],[\"icon\",{\"type\":\"map\",\"entries\":[[\"className\",\"fas fa-info-circle\"],[\"tagName\",\"i\"],[\"color\",\"white\"]]}]]}]}]},{\"type\":\"model\",\"name\":\"Notification\",\"properties\":[{\"name\":\"background\",\"kind\":\"Any\",\"default\":null},{\"name\":\"duration\",\"kind\":\"Any\",\"default\":3000},{\"name\":\"icon\",\"kind\":\"Any\",\"default\":null},{\"name\":\"message\",\"kind\":\"Any\",\"default\":\"\"},{\"name\":\"notification_type\",\"kind\":\"Any\",\"default\":null},{\"name\":\"_destroyed\",\"kind\":\"Any\",\"default\":false}]},{\"type\":\"model\",\"name\":\"TemplateActions1\",\"properties\":[{\"name\":\"open_modal\",\"kind\":\"Any\",\"default\":0},{\"name\":\"close_modal\",\"kind\":\"Any\",\"default\":0}]},{\"type\":\"model\",\"name\":\"BootstrapTemplateActions1\",\"properties\":[{\"name\":\"open_modal\",\"kind\":\"Any\",\"default\":0},{\"name\":\"close_modal\",\"kind\":\"Any\",\"default\":0}]},{\"type\":\"model\",\"name\":\"TemplateEditor1\",\"properties\":[{\"name\":\"layout\",\"kind\":\"Any\",\"default\":[]}]},{\"type\":\"model\",\"name\":\"MaterialTemplateActions1\",\"properties\":[{\"name\":\"open_modal\",\"kind\":\"Any\",\"default\":0},{\"name\":\"close_modal\",\"kind\":\"Any\",\"default\":0}]},{\"type\":\"model\",\"name\":\"copy_to_clipboard1\",\"properties\":[{\"name\":\"fill\",\"kind\":\"Any\",\"default\":\"none\"},{\"name\":\"value\",\"kind\":\"Any\",\"default\":null}]}]}};\n",
       "  var render_items = [{\"docid\":\"fee0f096-5d3d-4952-bcd2-dad88678c1f7\",\"roots\":{\"p1268\":\"ab0aa230-e18c-47a0-946b-5c82da775d95\"},\"root_ids\":[\"p1268\"]}];\n",
       "  var docs = Object.values(docs_json)\n",
       "  if (!docs) {\n",
       "    return\n",
       "  }\n",
       "  const py_version = docs[0].version.replace('rc', '-rc.').replace('.dev', '-dev.')\n",
       "  async function embed_document(root) {\n",
       "    var Bokeh = get_bokeh(root)\n",
       "    await Bokeh.embed.embed_items_notebook(docs_json, render_items);\n",
       "    for (const render_item of render_items) {\n",
       "      for (const root_id of render_item.root_ids) {\n",
       "\tconst id_el = document.getElementById(root_id)\n",
       "\tif (id_el.children.length && id_el.children[0].hasAttribute('data-root-id')) {\n",
       "\t  const root_el = id_el.children[0]\n",
       "\t  root_el.id = root_el.id + '-rendered'\n",
       "\t  for (const child of root_el.children) {\n",
       "            // Ensure JupyterLab does not capture keyboard shortcuts\n",
       "            // see: https://jupyterlab.readthedocs.io/en/4.1.x/extension/notebook.html#keyboard-interaction-model\n",
       "\t    child.setAttribute('data-lm-suppress-shortcuts', 'true')\n",
       "\t  }\n",
       "\t}\n",
       "      }\n",
       "    }\n",
       "  }\n",
       "  function get_bokeh(root) {\n",
       "    if (root.Bokeh === undefined) {\n",
       "      return null\n",
       "    } else if (root.Bokeh.version !== py_version) {\n",
       "      if (root.Bokeh.versions === undefined || !root.Bokeh.versions.has(py_version)) {\n",
       "\treturn null\n",
       "      }\n",
       "      return root.Bokeh.versions.get(py_version);\n",
       "    } else if (root.Bokeh.version === py_version) {\n",
       "      return root.Bokeh\n",
       "    }\n",
       "    return null\n",
       "  }\n",
       "  function is_loaded(root) {\n",
       "    var Bokeh = get_bokeh(root)\n",
       "    return (Bokeh != null && Bokeh.Panel !== undefined)\n",
       "  }\n",
       "  if (is_loaded(root)) {\n",
       "    embed_document(root);\n",
       "  } else {\n",
       "    var attempts = 0;\n",
       "    var timer = setInterval(function(root) {\n",
       "      if (is_loaded(root)) {\n",
       "        clearInterval(timer);\n",
       "        embed_document(root);\n",
       "      } else if (document.readyState == \"complete\") {\n",
       "        attempts++;\n",
       "        if (attempts > 200) {\n",
       "          clearInterval(timer);\n",
       "\t  var Bokeh = get_bokeh(root)\n",
       "\t  if (Bokeh == null || Bokeh.Panel == null) {\n",
       "            console.warn(\"Panel: ERROR: Unable to run Panel code because Bokeh or Panel library is missing\");\n",
       "\t  } else {\n",
       "\t    console.warn(\"Panel: WARNING: Attempting to render but not all required libraries could be resolved.\")\n",
       "\t    embed_document(root)\n",
       "\t  }\n",
       "        }\n",
       "      }\n",
       "    }, 25, root)\n",
       "  }\n",
       "})(window);</script>"
      ],
      "text/plain": [
       ":Histogram   [total_day_charge]   (Count)"
      ]
     },
     "execution_count": 30,
     "metadata": {
      "application/vnd.holoviews_exec.v0+json": {
       "id": "p1268"
      }
     },
     "output_type": "execute_result"
    }
   ],
   "source": [
    "telcom_data_df['total_day_charge'].hvplot(kind='hist', bins=20, title='Total Day Charge')"
   ]
  },
  {
   "cell_type": "code",
   "execution_count": 31,
   "metadata": {},
   "outputs": [
    {
     "data": {},
     "metadata": {},
     "output_type": "display_data"
    },
    {
     "data": {
      "application/vnd.holoviews_exec.v0+json": "",
      "text/html": [
       "<div id='p1334'>\n",
       "  <div id=\"e23c857d-1f70-4016-82ee-a41e68f2197c\" data-root-id=\"p1334\" style=\"display: contents;\"></div>\n",
       "</div>\n",
       "<script type=\"application/javascript\">(function(root) {\n",
       "  var docs_json = {\"a095f72f-953b-4913-883a-03d73d23f41b\":{\"version\":\"3.4.1\",\"title\":\"Bokeh Application\",\"roots\":[{\"type\":\"object\",\"name\":\"Row\",\"id\":\"p1334\",\"attributes\":{\"name\":\"Row01477\",\"tags\":[\"embedded\"],\"stylesheets\":[\"\\n:host(.pn-loading):before, .pn-loading:before {\\n  background-color: #c3c3c3;\\n  mask-size: auto calc(min(50%, 400px));\\n  -webkit-mask-size: auto calc(min(50%, 400px));\\n}\",{\"type\":\"object\",\"name\":\"ImportedStyleSheet\",\"id\":\"p1337\",\"attributes\":{\"url\":\"https://cdn.holoviz.org/panel/1.4.4/dist/css/loading.css\"}},{\"type\":\"object\",\"name\":\"ImportedStyleSheet\",\"id\":\"p1393\",\"attributes\":{\"url\":\"https://cdn.holoviz.org/panel/1.4.4/dist/css/listpanel.css\"}},{\"type\":\"object\",\"name\":\"ImportedStyleSheet\",\"id\":\"p1335\",\"attributes\":{\"url\":\"https://cdn.holoviz.org/panel/1.4.4/dist/bundled/theme/default.css\"}},{\"type\":\"object\",\"name\":\"ImportedStyleSheet\",\"id\":\"p1336\",\"attributes\":{\"url\":\"https://cdn.holoviz.org/panel/1.4.4/dist/bundled/theme/native.css\"}}],\"min_width\":700,\"margin\":0,\"sizing_mode\":\"stretch_width\",\"align\":\"start\",\"children\":[{\"type\":\"object\",\"name\":\"Spacer\",\"id\":\"p1338\",\"attributes\":{\"name\":\"HSpacer01484\",\"stylesheets\":[\"\\n:host(.pn-loading):before, .pn-loading:before {\\n  background-color: #c3c3c3;\\n  mask-size: auto calc(min(50%, 400px));\\n  -webkit-mask-size: auto calc(min(50%, 400px));\\n}\",{\"id\":\"p1337\"},{\"id\":\"p1335\"},{\"id\":\"p1336\"}],\"margin\":0,\"sizing_mode\":\"stretch_width\",\"align\":\"start\"}},{\"type\":\"object\",\"name\":\"Figure\",\"id\":\"p1346\",\"attributes\":{\"width\":700,\"height\":300,\"margin\":[5,10],\"sizing_mode\":\"fixed\",\"align\":\"start\",\"x_range\":{\"type\":\"object\",\"name\":\"Range1d\",\"id\":\"p1339\",\"attributes\":{\"tags\":[[[\"number_customer_service_calls\",null]],[]],\"start\":-0.38571428571428573,\"end\":9.385714285714286,\"reset_start\":-0.38571428571428573,\"reset_end\":9.385714285714286}},\"y_range\":{\"type\":\"object\",\"name\":\"Range1d\",\"id\":\"p1340\",\"attributes\":{\"tags\":[[[\"Count\",null]],{\"type\":\"map\",\"entries\":[[\"invert_yaxis\",false],[\"autorange\",false]]}],\"end\":1676.4,\"reset_start\":0.0,\"reset_end\":1676.4}},\"x_scale\":{\"type\":\"object\",\"name\":\"LinearScale\",\"id\":\"p1356\"},\"y_scale\":{\"type\":\"object\",\"name\":\"LinearScale\",\"id\":\"p1357\"},\"title\":{\"type\":\"object\",\"name\":\"Title\",\"id\":\"p1349\",\"attributes\":{\"text\":\"Number of Customer Service Calls\",\"text_color\":\"black\",\"text_font_size\":\"12pt\"}},\"renderers\":[{\"type\":\"object\",\"name\":\"GlyphRenderer\",\"id\":\"p1386\",\"attributes\":{\"data_source\":{\"type\":\"object\",\"name\":\"ColumnDataSource\",\"id\":\"p1377\",\"attributes\":{\"selected\":{\"type\":\"object\",\"name\":\"Selection\",\"id\":\"p1378\",\"attributes\":{\"indices\":[],\"line_indices\":[]}},\"selection_policy\":{\"type\":\"object\",\"name\":\"UnionRenderers\",\"id\":\"p1379\"},\"data\":{\"type\":\"map\",\"entries\":[[\"top\",{\"type\":\"ndarray\",\"array\":{\"type\":\"bytes\",\"data\":\"dgMAAAAAAAD0BQAAAAAAALMDAAAAAAAALgIAAAAAAADRAAAAAAAAAAAAAABRAAAAAAAAABwAAAAAAAAADQAAAAAAAAACAAAAAAAAAAIAAAA=\"},\"shape\":[20],\"dtype\":\"int32\",\"order\":\"little\"}],[\"left\",{\"type\":\"ndarray\",\"array\":{\"type\":\"bytes\",\"data\":\"AAAAAAAAAADNzMzMzMzcP83MzMzMzOw/mpmZmZmZ9T/NzMzMzMz8PwAAAAAAAAJAmpmZmZmZBUAzMzMzMzMJQM3MzMzMzAxAMzMzMzMzEEAAAAAAAAASQM3MzMzMzBNAmpmZmZmZFUBnZmZmZmYXQDMzMzMzMxlAAAAAAAAAG0DNzMzMzMwcQJqZmZmZmR5AMzMzMzMzIECamZmZmRkhQA==\"},\"shape\":[20],\"dtype\":\"float64\",\"order\":\"little\"}],[\"right\",{\"type\":\"ndarray\",\"array\":{\"type\":\"bytes\",\"data\":\"zczMzMzM3D/NzMzMzMzsP5qZmZmZmfU/zczMzMzM/D8AAAAAAAACQJqZmZmZmQVAMzMzMzMzCUDNzMzMzMwMQDMzMzMzMxBAAAAAAAAAEkDNzMzMzMwTQJqZmZmZmRVAZ2ZmZmZmF0AzMzMzMzMZQAAAAAAAABtAzczMzMzMHECamZmZmZkeQDMzMzMzMyBAmpmZmZkZIUAAAAAAAAAiQA==\"},\"shape\":[20],\"dtype\":\"float64\",\"order\":\"little\"}],[\"number_customer_service_calls\",{\"type\":\"ndarray\",\"array\":{\"type\":\"bytes\",\"data\":\"zczMzMzMzD+amZmZmZnlPwAAAAAAAPI/NDMzMzMz+T8zMzMzMzMAQM3MzMzMzANAZmZmZmZmB0AAAAAAAAALQJqZmZmZmQ5AmpmZmZkZEUBmZmZmZuYSQDQzMzMzsxRAAAAAAACAFkDNzMzMzEwYQJqZmZmZGRpAZmZmZmbmG0A0MzMzM7MdQAAAAAAAgB9AZmZmZmamIEDNzMzMzIwhQA==\"},\"shape\":[20],\"dtype\":\"float64\",\"order\":\"little\"}],[\"number_customer_service_calls_count\",{\"type\":\"ndarray\",\"array\":{\"type\":\"bytes\",\"data\":\"dgMAAAAAAAD0BQAAAAAAALMDAAAAAAAALgIAAAAAAADRAAAAAAAAAAAAAABRAAAAAAAAABwAAAAAAAAADQAAAAAAAAACAAAAAAAAAAIAAAA=\"},\"shape\":[20],\"dtype\":\"int32\",\"order\":\"little\"}]]}}},\"view\":{\"type\":\"object\",\"name\":\"CDSView\",\"id\":\"p1387\",\"attributes\":{\"filter\":{\"type\":\"object\",\"name\":\"AllIndices\",\"id\":\"p1388\"}}},\"glyph\":{\"type\":\"object\",\"name\":\"Quad\",\"id\":\"p1383\",\"attributes\":{\"tags\":[\"apply_ranges\"],\"left\":{\"type\":\"field\",\"field\":\"left\"},\"right\":{\"type\":\"field\",\"field\":\"right\"},\"bottom\":{\"type\":\"value\",\"value\":0},\"top\":{\"type\":\"field\",\"field\":\"top\"},\"fill_color\":{\"type\":\"value\",\"value\":\"#30a2da\"},\"hatch_color\":{\"type\":\"value\",\"value\":\"#30a2da\"}}},\"selection_glyph\":{\"type\":\"object\",\"name\":\"Quad\",\"id\":\"p1389\",\"attributes\":{\"tags\":[\"apply_ranges\"],\"left\":{\"type\":\"field\",\"field\":\"left\"},\"right\":{\"type\":\"field\",\"field\":\"right\"},\"bottom\":{\"type\":\"value\",\"value\":0},\"top\":{\"type\":\"field\",\"field\":\"top\"},\"line_color\":{\"type\":\"value\",\"value\":\"black\"},\"line_alpha\":{\"type\":\"value\",\"value\":1.0},\"line_width\":{\"type\":\"value\",\"value\":1},\"line_join\":{\"type\":\"value\",\"value\":\"bevel\"},\"line_cap\":{\"type\":\"value\",\"value\":\"butt\"},\"line_dash\":{\"type\":\"value\",\"value\":[]},\"line_dash_offset\":{\"type\":\"value\",\"value\":0},\"fill_color\":{\"type\":\"value\",\"value\":\"#30a2da\"},\"fill_alpha\":{\"type\":\"value\",\"value\":1.0},\"hatch_color\":{\"type\":\"value\",\"value\":\"#30a2da\"},\"hatch_alpha\":{\"type\":\"value\",\"value\":1.0},\"hatch_scale\":{\"type\":\"value\",\"value\":12.0},\"hatch_pattern\":{\"type\":\"value\",\"value\":null},\"hatch_weight\":{\"type\":\"value\",\"value\":1.0}}},\"nonselection_glyph\":{\"type\":\"object\",\"name\":\"Quad\",\"id\":\"p1384\",\"attributes\":{\"tags\":[\"apply_ranges\"],\"left\":{\"type\":\"field\",\"field\":\"left\"},\"right\":{\"type\":\"field\",\"field\":\"right\"},\"bottom\":{\"type\":\"value\",\"value\":0},\"top\":{\"type\":\"field\",\"field\":\"top\"},\"line_alpha\":{\"type\":\"value\",\"value\":0.1},\"fill_color\":{\"type\":\"value\",\"value\":\"#30a2da\"},\"fill_alpha\":{\"type\":\"value\",\"value\":0.1},\"hatch_color\":{\"type\":\"value\",\"value\":\"#30a2da\"},\"hatch_alpha\":{\"type\":\"value\",\"value\":0.1}}},\"muted_glyph\":{\"type\":\"object\",\"name\":\"Quad\",\"id\":\"p1385\",\"attributes\":{\"tags\":[\"apply_ranges\"],\"left\":{\"type\":\"field\",\"field\":\"left\"},\"right\":{\"type\":\"field\",\"field\":\"right\"},\"bottom\":{\"type\":\"value\",\"value\":0},\"top\":{\"type\":\"field\",\"field\":\"top\"},\"line_alpha\":{\"type\":\"value\",\"value\":0.2},\"fill_color\":{\"type\":\"value\",\"value\":\"#30a2da\"},\"fill_alpha\":{\"type\":\"value\",\"value\":0.2},\"hatch_color\":{\"type\":\"value\",\"value\":\"#30a2da\"},\"hatch_alpha\":{\"type\":\"value\",\"value\":0.2}}}}}],\"toolbar\":{\"type\":\"object\",\"name\":\"Toolbar\",\"id\":\"p1355\",\"attributes\":{\"tools\":[{\"type\":\"object\",\"name\":\"WheelZoomTool\",\"id\":\"p1344\",\"attributes\":{\"tags\":[\"hv_created\"],\"renderers\":\"auto\",\"zoom_together\":\"none\"}},{\"type\":\"object\",\"name\":\"HoverTool\",\"id\":\"p1345\",\"attributes\":{\"tags\":[\"hv_created\"],\"renderers\":[{\"id\":\"p1386\"}],\"tooltips\":[[\"number_customer_service_calls\",\"@{number_customer_service_calls}\"],[\"Count\",\"@{number_customer_service_calls_count}\"]]}},{\"type\":\"object\",\"name\":\"SaveTool\",\"id\":\"p1368\"},{\"type\":\"object\",\"name\":\"PanTool\",\"id\":\"p1369\"},{\"type\":\"object\",\"name\":\"BoxZoomTool\",\"id\":\"p1370\",\"attributes\":{\"overlay\":{\"type\":\"object\",\"name\":\"BoxAnnotation\",\"id\":\"p1371\",\"attributes\":{\"syncable\":false,\"level\":\"overlay\",\"visible\":false,\"left\":{\"type\":\"number\",\"value\":\"nan\"},\"right\":{\"type\":\"number\",\"value\":\"nan\"},\"top\":{\"type\":\"number\",\"value\":\"nan\"},\"bottom\":{\"type\":\"number\",\"value\":\"nan\"},\"left_units\":\"canvas\",\"right_units\":\"canvas\",\"top_units\":\"canvas\",\"bottom_units\":\"canvas\",\"line_color\":\"black\",\"line_alpha\":1.0,\"line_width\":2,\"line_dash\":[4,4],\"fill_color\":\"lightgrey\",\"fill_alpha\":0.5}}}},{\"type\":\"object\",\"name\":\"ResetTool\",\"id\":\"p1376\"}],\"active_drag\":{\"id\":\"p1369\"},\"active_scroll\":{\"id\":\"p1344\"}}},\"left\":[{\"type\":\"object\",\"name\":\"LinearAxis\",\"id\":\"p1363\",\"attributes\":{\"ticker\":{\"type\":\"object\",\"name\":\"BasicTicker\",\"id\":\"p1364\",\"attributes\":{\"mantissas\":[1,2,5]}},\"formatter\":{\"type\":\"object\",\"name\":\"BasicTickFormatter\",\"id\":\"p1365\"},\"axis_label\":\"\",\"major_label_policy\":{\"type\":\"object\",\"name\":\"AllLabels\",\"id\":\"p1366\"}}}],\"below\":[{\"type\":\"object\",\"name\":\"LinearAxis\",\"id\":\"p1358\",\"attributes\":{\"ticker\":{\"type\":\"object\",\"name\":\"BasicTicker\",\"id\":\"p1359\",\"attributes\":{\"mantissas\":[1,2,5]}},\"formatter\":{\"type\":\"object\",\"name\":\"BasicTickFormatter\",\"id\":\"p1360\"},\"axis_label\":\"number_customer_service_calls\",\"major_label_policy\":{\"type\":\"object\",\"name\":\"AllLabels\",\"id\":\"p1361\"}}}],\"center\":[{\"type\":\"object\",\"name\":\"Grid\",\"id\":\"p1362\",\"attributes\":{\"axis\":{\"id\":\"p1358\"},\"grid_line_color\":null}},{\"type\":\"object\",\"name\":\"Grid\",\"id\":\"p1367\",\"attributes\":{\"dimension\":1,\"axis\":{\"id\":\"p1363\"},\"grid_line_color\":null}}],\"min_border_top\":10,\"min_border_bottom\":10,\"min_border_left\":10,\"min_border_right\":10,\"output_backend\":\"webgl\"}},{\"type\":\"object\",\"name\":\"Spacer\",\"id\":\"p1391\",\"attributes\":{\"name\":\"HSpacer01485\",\"stylesheets\":[\"\\n:host(.pn-loading):before, .pn-loading:before {\\n  background-color: #c3c3c3;\\n  mask-size: auto calc(min(50%, 400px));\\n  -webkit-mask-size: auto calc(min(50%, 400px));\\n}\",{\"id\":\"p1337\"},{\"id\":\"p1335\"},{\"id\":\"p1336\"}],\"margin\":0,\"sizing_mode\":\"stretch_width\",\"align\":\"start\"}}]}}],\"defs\":[{\"type\":\"model\",\"name\":\"ReactiveHTML1\"},{\"type\":\"model\",\"name\":\"FlexBox1\",\"properties\":[{\"name\":\"align_content\",\"kind\":\"Any\",\"default\":\"flex-start\"},{\"name\":\"align_items\",\"kind\":\"Any\",\"default\":\"flex-start\"},{\"name\":\"flex_direction\",\"kind\":\"Any\",\"default\":\"row\"},{\"name\":\"flex_wrap\",\"kind\":\"Any\",\"default\":\"wrap\"},{\"name\":\"gap\",\"kind\":\"Any\",\"default\":\"\"},{\"name\":\"justify_content\",\"kind\":\"Any\",\"default\":\"flex-start\"}]},{\"type\":\"model\",\"name\":\"FloatPanel1\",\"properties\":[{\"name\":\"config\",\"kind\":\"Any\",\"default\":{\"type\":\"map\"}},{\"name\":\"contained\",\"kind\":\"Any\",\"default\":true},{\"name\":\"position\",\"kind\":\"Any\",\"default\":\"right-top\"},{\"name\":\"offsetx\",\"kind\":\"Any\",\"default\":null},{\"name\":\"offsety\",\"kind\":\"Any\",\"default\":null},{\"name\":\"theme\",\"kind\":\"Any\",\"default\":\"primary\"},{\"name\":\"status\",\"kind\":\"Any\",\"default\":\"normalized\"}]},{\"type\":\"model\",\"name\":\"GridStack1\",\"properties\":[{\"name\":\"mode\",\"kind\":\"Any\",\"default\":\"warn\"},{\"name\":\"ncols\",\"kind\":\"Any\",\"default\":null},{\"name\":\"nrows\",\"kind\":\"Any\",\"default\":null},{\"name\":\"allow_resize\",\"kind\":\"Any\",\"default\":true},{\"name\":\"allow_drag\",\"kind\":\"Any\",\"default\":true},{\"name\":\"state\",\"kind\":\"Any\",\"default\":[]}]},{\"type\":\"model\",\"name\":\"drag1\",\"properties\":[{\"name\":\"slider_width\",\"kind\":\"Any\",\"default\":5},{\"name\":\"slider_color\",\"kind\":\"Any\",\"default\":\"black\"},{\"name\":\"value\",\"kind\":\"Any\",\"default\":50}]},{\"type\":\"model\",\"name\":\"click1\",\"properties\":[{\"name\":\"terminal_output\",\"kind\":\"Any\",\"default\":\"\"},{\"name\":\"debug_name\",\"kind\":\"Any\",\"default\":\"\"},{\"name\":\"clears\",\"kind\":\"Any\",\"default\":0}]},{\"type\":\"model\",\"name\":\"FastWrapper1\",\"properties\":[{\"name\":\"object\",\"kind\":\"Any\",\"default\":null},{\"name\":\"style\",\"kind\":\"Any\",\"default\":null}]},{\"type\":\"model\",\"name\":\"NotificationAreaBase1\",\"properties\":[{\"name\":\"js_events\",\"kind\":\"Any\",\"default\":{\"type\":\"map\"}},{\"name\":\"position\",\"kind\":\"Any\",\"default\":\"bottom-right\"},{\"name\":\"_clear\",\"kind\":\"Any\",\"default\":0}]},{\"type\":\"model\",\"name\":\"NotificationArea1\",\"properties\":[{\"name\":\"js_events\",\"kind\":\"Any\",\"default\":{\"type\":\"map\"}},{\"name\":\"notifications\",\"kind\":\"Any\",\"default\":[]},{\"name\":\"position\",\"kind\":\"Any\",\"default\":\"bottom-right\"},{\"name\":\"_clear\",\"kind\":\"Any\",\"default\":0},{\"name\":\"types\",\"kind\":\"Any\",\"default\":[{\"type\":\"map\",\"entries\":[[\"type\",\"warning\"],[\"background\",\"#ffc107\"],[\"icon\",{\"type\":\"map\",\"entries\":[[\"className\",\"fas fa-exclamation-triangle\"],[\"tagName\",\"i\"],[\"color\",\"white\"]]}]]},{\"type\":\"map\",\"entries\":[[\"type\",\"info\"],[\"background\",\"#007bff\"],[\"icon\",{\"type\":\"map\",\"entries\":[[\"className\",\"fas fa-info-circle\"],[\"tagName\",\"i\"],[\"color\",\"white\"]]}]]}]}]},{\"type\":\"model\",\"name\":\"Notification\",\"properties\":[{\"name\":\"background\",\"kind\":\"Any\",\"default\":null},{\"name\":\"duration\",\"kind\":\"Any\",\"default\":3000},{\"name\":\"icon\",\"kind\":\"Any\",\"default\":null},{\"name\":\"message\",\"kind\":\"Any\",\"default\":\"\"},{\"name\":\"notification_type\",\"kind\":\"Any\",\"default\":null},{\"name\":\"_destroyed\",\"kind\":\"Any\",\"default\":false}]},{\"type\":\"model\",\"name\":\"TemplateActions1\",\"properties\":[{\"name\":\"open_modal\",\"kind\":\"Any\",\"default\":0},{\"name\":\"close_modal\",\"kind\":\"Any\",\"default\":0}]},{\"type\":\"model\",\"name\":\"BootstrapTemplateActions1\",\"properties\":[{\"name\":\"open_modal\",\"kind\":\"Any\",\"default\":0},{\"name\":\"close_modal\",\"kind\":\"Any\",\"default\":0}]},{\"type\":\"model\",\"name\":\"TemplateEditor1\",\"properties\":[{\"name\":\"layout\",\"kind\":\"Any\",\"default\":[]}]},{\"type\":\"model\",\"name\":\"MaterialTemplateActions1\",\"properties\":[{\"name\":\"open_modal\",\"kind\":\"Any\",\"default\":0},{\"name\":\"close_modal\",\"kind\":\"Any\",\"default\":0}]},{\"type\":\"model\",\"name\":\"copy_to_clipboard1\",\"properties\":[{\"name\":\"fill\",\"kind\":\"Any\",\"default\":\"none\"},{\"name\":\"value\",\"kind\":\"Any\",\"default\":null}]}]}};\n",
       "  var render_items = [{\"docid\":\"a095f72f-953b-4913-883a-03d73d23f41b\",\"roots\":{\"p1334\":\"e23c857d-1f70-4016-82ee-a41e68f2197c\"},\"root_ids\":[\"p1334\"]}];\n",
       "  var docs = Object.values(docs_json)\n",
       "  if (!docs) {\n",
       "    return\n",
       "  }\n",
       "  const py_version = docs[0].version.replace('rc', '-rc.').replace('.dev', '-dev.')\n",
       "  async function embed_document(root) {\n",
       "    var Bokeh = get_bokeh(root)\n",
       "    await Bokeh.embed.embed_items_notebook(docs_json, render_items);\n",
       "    for (const render_item of render_items) {\n",
       "      for (const root_id of render_item.root_ids) {\n",
       "\tconst id_el = document.getElementById(root_id)\n",
       "\tif (id_el.children.length && id_el.children[0].hasAttribute('data-root-id')) {\n",
       "\t  const root_el = id_el.children[0]\n",
       "\t  root_el.id = root_el.id + '-rendered'\n",
       "\t  for (const child of root_el.children) {\n",
       "            // Ensure JupyterLab does not capture keyboard shortcuts\n",
       "            // see: https://jupyterlab.readthedocs.io/en/4.1.x/extension/notebook.html#keyboard-interaction-model\n",
       "\t    child.setAttribute('data-lm-suppress-shortcuts', 'true')\n",
       "\t  }\n",
       "\t}\n",
       "      }\n",
       "    }\n",
       "  }\n",
       "  function get_bokeh(root) {\n",
       "    if (root.Bokeh === undefined) {\n",
       "      return null\n",
       "    } else if (root.Bokeh.version !== py_version) {\n",
       "      if (root.Bokeh.versions === undefined || !root.Bokeh.versions.has(py_version)) {\n",
       "\treturn null\n",
       "      }\n",
       "      return root.Bokeh.versions.get(py_version);\n",
       "    } else if (root.Bokeh.version === py_version) {\n",
       "      return root.Bokeh\n",
       "    }\n",
       "    return null\n",
       "  }\n",
       "  function is_loaded(root) {\n",
       "    var Bokeh = get_bokeh(root)\n",
       "    return (Bokeh != null && Bokeh.Panel !== undefined)\n",
       "  }\n",
       "  if (is_loaded(root)) {\n",
       "    embed_document(root);\n",
       "  } else {\n",
       "    var attempts = 0;\n",
       "    var timer = setInterval(function(root) {\n",
       "      if (is_loaded(root)) {\n",
       "        clearInterval(timer);\n",
       "        embed_document(root);\n",
       "      } else if (document.readyState == \"complete\") {\n",
       "        attempts++;\n",
       "        if (attempts > 200) {\n",
       "          clearInterval(timer);\n",
       "\t  var Bokeh = get_bokeh(root)\n",
       "\t  if (Bokeh == null || Bokeh.Panel == null) {\n",
       "            console.warn(\"Panel: ERROR: Unable to run Panel code because Bokeh or Panel library is missing\");\n",
       "\t  } else {\n",
       "\t    console.warn(\"Panel: WARNING: Attempting to render but not all required libraries could be resolved.\")\n",
       "\t    embed_document(root)\n",
       "\t  }\n",
       "        }\n",
       "      }\n",
       "    }, 25, root)\n",
       "  }\n",
       "})(window);</script>"
      ],
      "text/plain": [
       ":Histogram   [number_customer_service_calls]   (Count)"
      ]
     },
     "execution_count": 31,
     "metadata": {
      "application/vnd.holoviews_exec.v0+json": {
       "id": "p1334"
      }
     },
     "output_type": "execute_result"
    }
   ],
   "source": [
    "telcom_data_df['number_customer_service_calls'].hvplot(kind='hist', bins=20, title='Number of Customer Service Calls')"
=======
    "telcom_data_df['total_day_calls'].hvplot(kind='hist', bins=20, title='Total Day Calls')"
>>>>>>> 35eb337 (Adding in the work cody did on histograms)
   ]
  },
  {
   "cell_type": "markdown",
   "metadata": {},
   "source": []
  },
  {
   "cell_type": "code",
   "execution_count": 19,
   "metadata": {},
   "outputs": [
    {
     "data": {},
     "metadata": {},
     "output_type": "display_data"
    },
    {
     "data": {
      "application/vnd.holoviews_exec.v0+json": "",
      "text/html": [
       "<div id='p1136'>\n",
       "  <div id=\"d92d1882-69d1-4ac2-84b2-a95a8178d10b\" data-root-id=\"p1136\" style=\"display: contents;\"></div>\n",
       "</div>\n",
       "<script type=\"application/javascript\">(function(root) {\n",
       "  var docs_json = {\"d262d573-510d-4881-979a-48b12708147f\":{\"version\":\"3.4.1\",\"title\":\"Bokeh Application\",\"roots\":[{\"type\":\"object\",\"name\":\"Row\",\"id\":\"p1136\",\"attributes\":{\"name\":\"Row01153\",\"tags\":[\"embedded\"],\"stylesheets\":[\"\\n:host(.pn-loading):before, .pn-loading:before {\\n  background-color: #c3c3c3;\\n  mask-size: auto calc(min(50%, 400px));\\n  -webkit-mask-size: auto calc(min(50%, 400px));\\n}\",{\"type\":\"object\",\"name\":\"ImportedStyleSheet\",\"id\":\"p1139\",\"attributes\":{\"url\":\"https://cdn.holoviz.org/panel/1.4.4/dist/css/loading.css\"}},{\"type\":\"object\",\"name\":\"ImportedStyleSheet\",\"id\":\"p1195\",\"attributes\":{\"url\":\"https://cdn.holoviz.org/panel/1.4.4/dist/css/listpanel.css\"}},{\"type\":\"object\",\"name\":\"ImportedStyleSheet\",\"id\":\"p1137\",\"attributes\":{\"url\":\"https://cdn.holoviz.org/panel/1.4.4/dist/bundled/theme/default.css\"}},{\"type\":\"object\",\"name\":\"ImportedStyleSheet\",\"id\":\"p1138\",\"attributes\":{\"url\":\"https://cdn.holoviz.org/panel/1.4.4/dist/bundled/theme/native.css\"}}],\"min_width\":700,\"margin\":0,\"sizing_mode\":\"stretch_width\",\"align\":\"start\",\"children\":[{\"type\":\"object\",\"name\":\"Spacer\",\"id\":\"p1140\",\"attributes\":{\"name\":\"HSpacer01160\",\"stylesheets\":[\"\\n:host(.pn-loading):before, .pn-loading:before {\\n  background-color: #c3c3c3;\\n  mask-size: auto calc(min(50%, 400px));\\n  -webkit-mask-size: auto calc(min(50%, 400px));\\n}\",{\"id\":\"p1139\"},{\"id\":\"p1137\"},{\"id\":\"p1138\"}],\"margin\":0,\"sizing_mode\":\"stretch_width\",\"align\":\"start\"}},{\"type\":\"object\",\"name\":\"Figure\",\"id\":\"p1148\",\"attributes\":{\"width\":700,\"height\":300,\"margin\":[5,10],\"sizing_mode\":\"fixed\",\"align\":\"start\",\"x_range\":{\"type\":\"object\",\"name\":\"Range1d\",\"id\":\"p1141\",\"attributes\":{\"tags\":[[[\"total_day_charge\",null]],[]],\"start\":-2.561142857142857,\"end\":62.32114285714285,\"reset_start\":-2.561142857142857,\"reset_end\":62.32114285714285}},\"y_range\":{\"type\":\"object\",\"name\":\"Range1d\",\"id\":\"p1142\",\"attributes\":{\"tags\":[[[\"Count\",null]],{\"type\":\"map\",\"entries\":[[\"invert_yaxis\",false],[\"autorange\",false]]}],\"end\":612.0,\"reset_start\":0.0,\"reset_end\":612.0}},\"x_scale\":{\"type\":\"object\",\"name\":\"LinearScale\",\"id\":\"p1158\"},\"y_scale\":{\"type\":\"object\",\"name\":\"LinearScale\",\"id\":\"p1159\"},\"title\":{\"type\":\"object\",\"name\":\"Title\",\"id\":\"p1151\",\"attributes\":{\"text\":\"Total Day Charge\",\"text_color\":\"black\",\"text_font_size\":\"12pt\"}},\"renderers\":[{\"type\":\"object\",\"name\":\"GlyphRenderer\",\"id\":\"p1188\",\"attributes\":{\"data_source\":{\"type\":\"object\",\"name\":\"ColumnDataSource\",\"id\":\"p1179\",\"attributes\":{\"selected\":{\"type\":\"object\",\"name\":\"Selection\",\"id\":\"p1180\",\"attributes\":{\"indices\":[],\"line_indices\":[]}},\"selection_policy\":{\"type\":\"object\",\"name\":\"UnionRenderers\",\"id\":\"p1181\"},\"data\":{\"type\":\"map\",\"entries\":[[\"top\",{\"type\":\"ndarray\",\"array\":{\"type\":\"bytes\",\"data\":\"BwAAAAcAAAAYAAAAOQAAAGEAAACeAAAA+AAAAIEBAADpAQAA8wEAAC0CAAD0AQAAuQEAADgBAAC+AAAAlwAAAEMAAAAjAAAAEwAAAAcAAAA=\"},\"shape\":[20],\"dtype\":\"int32\",\"order\":\"little\"}],[\"left\",{\"type\":\"ndarray\",\"array\":{\"type\":\"bytes\",\"data\":\"AAAAAAAAAACBlUOLbOcHQIGVQ4ts5xdAIbByaJHtIUCBlUOLbOcnQOF6FK5H4S1AIbByaJHtMUDRItv5fuo0QIGVQ4ts5zdAMQisHFrkOkDhehSuR+E9QMl2vp8ab0BAIbByaJHtQUB56SYxCGxDQNEi2/l+6kRAKVyPwvVoRkCBlUOLbOdHQNnO91PjZUlAMQisHFrkSkCJQWDl0GJMQA==\"},\"shape\":[20],\"dtype\":\"float64\",\"order\":\"little\"}],[\"right\",{\"type\":\"ndarray\",\"array\":{\"type\":\"bytes\",\"data\":\"gZVDi2znB0CBlUOLbOcXQCGwcmiR7SFAgZVDi2znJ0DhehSuR+EtQCGwcmiR7TFA0SLb+X7qNECBlUOLbOc3QDEIrBxa5DpA4XoUrkfhPUDJdr6fGm9AQCGwcmiR7UFAeekmMQhsQ0DRItv5fupEQClcj8L1aEZAgZVDi2znR0DZzvdT42VJQDEIrBxa5EpAiUFg5dBiTEDhehSuR+FNQA==\"},\"shape\":[20],\"dtype\":\"float64\",\"order\":\"little\"}],[\"total_day_charge\",{\"type\":\"ndarray\",\"array\":{\"type\":\"bytes\",\"data\":\"gZVDi2zn9z8hsHJoke0RQOJ6FK5H4R1A0SLb+X7qJEAxCKwcWuQqQMl2vp8abzBAeekmMQhsM0ApXI/C9Wg2QNnO91PjZTlAiUFg5dBiPEA6tMh2vl8/QHWTGARWLkFAzczMzMysQkAlBoGVQytEQH0/NV66qUVA1XjpJjEoR0Atsp3vp6ZIQIXrUbgeJUpA3SQGgZWjS0A1XrpJDCJNQA==\"},\"shape\":[20],\"dtype\":\"float64\",\"order\":\"little\"}],[\"total_day_charge_count\",{\"type\":\"ndarray\",\"array\":{\"type\":\"bytes\",\"data\":\"BwAAAAcAAAAYAAAAOQAAAGEAAACeAAAA+AAAAIEBAADpAQAA8wEAAC0CAAD0AQAAuQEAADgBAAC+AAAAlwAAAEMAAAAjAAAAEwAAAAcAAAA=\"},\"shape\":[20],\"dtype\":\"int32\",\"order\":\"little\"}]]}}},\"view\":{\"type\":\"object\",\"name\":\"CDSView\",\"id\":\"p1189\",\"attributes\":{\"filter\":{\"type\":\"object\",\"name\":\"AllIndices\",\"id\":\"p1190\"}}},\"glyph\":{\"type\":\"object\",\"name\":\"Quad\",\"id\":\"p1185\",\"attributes\":{\"tags\":[\"apply_ranges\"],\"left\":{\"type\":\"field\",\"field\":\"left\"},\"right\":{\"type\":\"field\",\"field\":\"right\"},\"bottom\":{\"type\":\"value\",\"value\":0},\"top\":{\"type\":\"field\",\"field\":\"top\"},\"fill_color\":{\"type\":\"value\",\"value\":\"#30a2da\"},\"hatch_color\":{\"type\":\"value\",\"value\":\"#30a2da\"}}},\"selection_glyph\":{\"type\":\"object\",\"name\":\"Quad\",\"id\":\"p1191\",\"attributes\":{\"tags\":[\"apply_ranges\"],\"left\":{\"type\":\"field\",\"field\":\"left\"},\"right\":{\"type\":\"field\",\"field\":\"right\"},\"bottom\":{\"type\":\"value\",\"value\":0},\"top\":{\"type\":\"field\",\"field\":\"top\"},\"line_color\":{\"type\":\"value\",\"value\":\"black\"},\"line_alpha\":{\"type\":\"value\",\"value\":1.0},\"line_width\":{\"type\":\"value\",\"value\":1},\"line_join\":{\"type\":\"value\",\"value\":\"bevel\"},\"line_cap\":{\"type\":\"value\",\"value\":\"butt\"},\"line_dash\":{\"type\":\"value\",\"value\":[]},\"line_dash_offset\":{\"type\":\"value\",\"value\":0},\"fill_color\":{\"type\":\"value\",\"value\":\"#30a2da\"},\"fill_alpha\":{\"type\":\"value\",\"value\":1.0},\"hatch_color\":{\"type\":\"value\",\"value\":\"#30a2da\"},\"hatch_alpha\":{\"type\":\"value\",\"value\":1.0},\"hatch_scale\":{\"type\":\"value\",\"value\":12.0},\"hatch_pattern\":{\"type\":\"value\",\"value\":null},\"hatch_weight\":{\"type\":\"value\",\"value\":1.0}}},\"nonselection_glyph\":{\"type\":\"object\",\"name\":\"Quad\",\"id\":\"p1186\",\"attributes\":{\"tags\":[\"apply_ranges\"],\"left\":{\"type\":\"field\",\"field\":\"left\"},\"right\":{\"type\":\"field\",\"field\":\"right\"},\"bottom\":{\"type\":\"value\",\"value\":0},\"top\":{\"type\":\"field\",\"field\":\"top\"},\"line_alpha\":{\"type\":\"value\",\"value\":0.1},\"fill_color\":{\"type\":\"value\",\"value\":\"#30a2da\"},\"fill_alpha\":{\"type\":\"value\",\"value\":0.1},\"hatch_color\":{\"type\":\"value\",\"value\":\"#30a2da\"},\"hatch_alpha\":{\"type\":\"value\",\"value\":0.1}}},\"muted_glyph\":{\"type\":\"object\",\"name\":\"Quad\",\"id\":\"p1187\",\"attributes\":{\"tags\":[\"apply_ranges\"],\"left\":{\"type\":\"field\",\"field\":\"left\"},\"right\":{\"type\":\"field\",\"field\":\"right\"},\"bottom\":{\"type\":\"value\",\"value\":0},\"top\":{\"type\":\"field\",\"field\":\"top\"},\"line_alpha\":{\"type\":\"value\",\"value\":0.2},\"fill_color\":{\"type\":\"value\",\"value\":\"#30a2da\"},\"fill_alpha\":{\"type\":\"value\",\"value\":0.2},\"hatch_color\":{\"type\":\"value\",\"value\":\"#30a2da\"},\"hatch_alpha\":{\"type\":\"value\",\"value\":0.2}}}}}],\"toolbar\":{\"type\":\"object\",\"name\":\"Toolbar\",\"id\":\"p1157\",\"attributes\":{\"tools\":[{\"type\":\"object\",\"name\":\"WheelZoomTool\",\"id\":\"p1146\",\"attributes\":{\"tags\":[\"hv_created\"],\"renderers\":\"auto\",\"zoom_together\":\"none\"}},{\"type\":\"object\",\"name\":\"HoverTool\",\"id\":\"p1147\",\"attributes\":{\"tags\":[\"hv_created\"],\"renderers\":[{\"id\":\"p1188\"}],\"tooltips\":[[\"total_day_charge\",\"@{total_day_charge}\"],[\"Count\",\"@{total_day_charge_count}\"]]}},{\"type\":\"object\",\"name\":\"SaveTool\",\"id\":\"p1170\"},{\"type\":\"object\",\"name\":\"PanTool\",\"id\":\"p1171\"},{\"type\":\"object\",\"name\":\"BoxZoomTool\",\"id\":\"p1172\",\"attributes\":{\"overlay\":{\"type\":\"object\",\"name\":\"BoxAnnotation\",\"id\":\"p1173\",\"attributes\":{\"syncable\":false,\"level\":\"overlay\",\"visible\":false,\"left\":{\"type\":\"number\",\"value\":\"nan\"},\"right\":{\"type\":\"number\",\"value\":\"nan\"},\"top\":{\"type\":\"number\",\"value\":\"nan\"},\"bottom\":{\"type\":\"number\",\"value\":\"nan\"},\"left_units\":\"canvas\",\"right_units\":\"canvas\",\"top_units\":\"canvas\",\"bottom_units\":\"canvas\",\"line_color\":\"black\",\"line_alpha\":1.0,\"line_width\":2,\"line_dash\":[4,4],\"fill_color\":\"lightgrey\",\"fill_alpha\":0.5}}}},{\"type\":\"object\",\"name\":\"ResetTool\",\"id\":\"p1178\"}],\"active_drag\":{\"id\":\"p1171\"},\"active_scroll\":{\"id\":\"p1146\"}}},\"left\":[{\"type\":\"object\",\"name\":\"LinearAxis\",\"id\":\"p1165\",\"attributes\":{\"ticker\":{\"type\":\"object\",\"name\":\"BasicTicker\",\"id\":\"p1166\",\"attributes\":{\"mantissas\":[1,2,5]}},\"formatter\":{\"type\":\"object\",\"name\":\"BasicTickFormatter\",\"id\":\"p1167\"},\"axis_label\":\"\",\"major_label_policy\":{\"type\":\"object\",\"name\":\"AllLabels\",\"id\":\"p1168\"}}}],\"below\":[{\"type\":\"object\",\"name\":\"LinearAxis\",\"id\":\"p1160\",\"attributes\":{\"ticker\":{\"type\":\"object\",\"name\":\"BasicTicker\",\"id\":\"p1161\",\"attributes\":{\"mantissas\":[1,2,5]}},\"formatter\":{\"type\":\"object\",\"name\":\"BasicTickFormatter\",\"id\":\"p1162\"},\"axis_label\":\"total_day_charge\",\"major_label_policy\":{\"type\":\"object\",\"name\":\"AllLabels\",\"id\":\"p1163\"}}}],\"center\":[{\"type\":\"object\",\"name\":\"Grid\",\"id\":\"p1164\",\"attributes\":{\"axis\":{\"id\":\"p1160\"},\"grid_line_color\":null}},{\"type\":\"object\",\"name\":\"Grid\",\"id\":\"p1169\",\"attributes\":{\"dimension\":1,\"axis\":{\"id\":\"p1165\"},\"grid_line_color\":null}}],\"min_border_top\":10,\"min_border_bottom\":10,\"min_border_left\":10,\"min_border_right\":10,\"output_backend\":\"webgl\"}},{\"type\":\"object\",\"name\":\"Spacer\",\"id\":\"p1193\",\"attributes\":{\"name\":\"HSpacer01161\",\"stylesheets\":[\"\\n:host(.pn-loading):before, .pn-loading:before {\\n  background-color: #c3c3c3;\\n  mask-size: auto calc(min(50%, 400px));\\n  -webkit-mask-size: auto calc(min(50%, 400px));\\n}\",{\"id\":\"p1139\"},{\"id\":\"p1137\"},{\"id\":\"p1138\"}],\"margin\":0,\"sizing_mode\":\"stretch_width\",\"align\":\"start\"}}]}}],\"defs\":[{\"type\":\"model\",\"name\":\"ReactiveHTML1\"},{\"type\":\"model\",\"name\":\"FlexBox1\",\"properties\":[{\"name\":\"align_content\",\"kind\":\"Any\",\"default\":\"flex-start\"},{\"name\":\"align_items\",\"kind\":\"Any\",\"default\":\"flex-start\"},{\"name\":\"flex_direction\",\"kind\":\"Any\",\"default\":\"row\"},{\"name\":\"flex_wrap\",\"kind\":\"Any\",\"default\":\"wrap\"},{\"name\":\"gap\",\"kind\":\"Any\",\"default\":\"\"},{\"name\":\"justify_content\",\"kind\":\"Any\",\"default\":\"flex-start\"}]},{\"type\":\"model\",\"name\":\"FloatPanel1\",\"properties\":[{\"name\":\"config\",\"kind\":\"Any\",\"default\":{\"type\":\"map\"}},{\"name\":\"contained\",\"kind\":\"Any\",\"default\":true},{\"name\":\"position\",\"kind\":\"Any\",\"default\":\"right-top\"},{\"name\":\"offsetx\",\"kind\":\"Any\",\"default\":null},{\"name\":\"offsety\",\"kind\":\"Any\",\"default\":null},{\"name\":\"theme\",\"kind\":\"Any\",\"default\":\"primary\"},{\"name\":\"status\",\"kind\":\"Any\",\"default\":\"normalized\"}]},{\"type\":\"model\",\"name\":\"GridStack1\",\"properties\":[{\"name\":\"mode\",\"kind\":\"Any\",\"default\":\"warn\"},{\"name\":\"ncols\",\"kind\":\"Any\",\"default\":null},{\"name\":\"nrows\",\"kind\":\"Any\",\"default\":null},{\"name\":\"allow_resize\",\"kind\":\"Any\",\"default\":true},{\"name\":\"allow_drag\",\"kind\":\"Any\",\"default\":true},{\"name\":\"state\",\"kind\":\"Any\",\"default\":[]}]},{\"type\":\"model\",\"name\":\"drag1\",\"properties\":[{\"name\":\"slider_width\",\"kind\":\"Any\",\"default\":5},{\"name\":\"slider_color\",\"kind\":\"Any\",\"default\":\"black\"},{\"name\":\"value\",\"kind\":\"Any\",\"default\":50}]},{\"type\":\"model\",\"name\":\"click1\",\"properties\":[{\"name\":\"terminal_output\",\"kind\":\"Any\",\"default\":\"\"},{\"name\":\"debug_name\",\"kind\":\"Any\",\"default\":\"\"},{\"name\":\"clears\",\"kind\":\"Any\",\"default\":0}]},{\"type\":\"model\",\"name\":\"FastWrapper1\",\"properties\":[{\"name\":\"object\",\"kind\":\"Any\",\"default\":null},{\"name\":\"style\",\"kind\":\"Any\",\"default\":null}]},{\"type\":\"model\",\"name\":\"NotificationAreaBase1\",\"properties\":[{\"name\":\"js_events\",\"kind\":\"Any\",\"default\":{\"type\":\"map\"}},{\"name\":\"position\",\"kind\":\"Any\",\"default\":\"bottom-right\"},{\"name\":\"_clear\",\"kind\":\"Any\",\"default\":0}]},{\"type\":\"model\",\"name\":\"NotificationArea1\",\"properties\":[{\"name\":\"js_events\",\"kind\":\"Any\",\"default\":{\"type\":\"map\"}},{\"name\":\"notifications\",\"kind\":\"Any\",\"default\":[]},{\"name\":\"position\",\"kind\":\"Any\",\"default\":\"bottom-right\"},{\"name\":\"_clear\",\"kind\":\"Any\",\"default\":0},{\"name\":\"types\",\"kind\":\"Any\",\"default\":[{\"type\":\"map\",\"entries\":[[\"type\",\"warning\"],[\"background\",\"#ffc107\"],[\"icon\",{\"type\":\"map\",\"entries\":[[\"className\",\"fas fa-exclamation-triangle\"],[\"tagName\",\"i\"],[\"color\",\"white\"]]}]]},{\"type\":\"map\",\"entries\":[[\"type\",\"info\"],[\"background\",\"#007bff\"],[\"icon\",{\"type\":\"map\",\"entries\":[[\"className\",\"fas fa-info-circle\"],[\"tagName\",\"i\"],[\"color\",\"white\"]]}]]}]}]},{\"type\":\"model\",\"name\":\"Notification\",\"properties\":[{\"name\":\"background\",\"kind\":\"Any\",\"default\":null},{\"name\":\"duration\",\"kind\":\"Any\",\"default\":3000},{\"name\":\"icon\",\"kind\":\"Any\",\"default\":null},{\"name\":\"message\",\"kind\":\"Any\",\"default\":\"\"},{\"name\":\"notification_type\",\"kind\":\"Any\",\"default\":null},{\"name\":\"_destroyed\",\"kind\":\"Any\",\"default\":false}]},{\"type\":\"model\",\"name\":\"TemplateActions1\",\"properties\":[{\"name\":\"open_modal\",\"kind\":\"Any\",\"default\":0},{\"name\":\"close_modal\",\"kind\":\"Any\",\"default\":0}]},{\"type\":\"model\",\"name\":\"BootstrapTemplateActions1\",\"properties\":[{\"name\":\"open_modal\",\"kind\":\"Any\",\"default\":0},{\"name\":\"close_modal\",\"kind\":\"Any\",\"default\":0}]},{\"type\":\"model\",\"name\":\"TemplateEditor1\",\"properties\":[{\"name\":\"layout\",\"kind\":\"Any\",\"default\":[]}]},{\"type\":\"model\",\"name\":\"MaterialTemplateActions1\",\"properties\":[{\"name\":\"open_modal\",\"kind\":\"Any\",\"default\":0},{\"name\":\"close_modal\",\"kind\":\"Any\",\"default\":0}]},{\"type\":\"model\",\"name\":\"copy_to_clipboard1\",\"properties\":[{\"name\":\"fill\",\"kind\":\"Any\",\"default\":\"none\"},{\"name\":\"value\",\"kind\":\"Any\",\"default\":null}]}]}};\n",
       "  var render_items = [{\"docid\":\"d262d573-510d-4881-979a-48b12708147f\",\"roots\":{\"p1136\":\"d92d1882-69d1-4ac2-84b2-a95a8178d10b\"},\"root_ids\":[\"p1136\"]}];\n",
       "  var docs = Object.values(docs_json)\n",
       "  if (!docs) {\n",
       "    return\n",
       "  }\n",
       "  const py_version = docs[0].version.replace('rc', '-rc.').replace('.dev', '-dev.')\n",
       "  async function embed_document(root) {\n",
       "    var Bokeh = get_bokeh(root)\n",
       "    await Bokeh.embed.embed_items_notebook(docs_json, render_items);\n",
       "    for (const render_item of render_items) {\n",
       "      for (const root_id of render_item.root_ids) {\n",
       "\tconst id_el = document.getElementById(root_id)\n",
       "\tif (id_el.children.length && id_el.children[0].hasAttribute('data-root-id')) {\n",
       "\t  const root_el = id_el.children[0]\n",
       "\t  root_el.id = root_el.id + '-rendered'\n",
       "\t  for (const child of root_el.children) {\n",
       "            // Ensure JupyterLab does not capture keyboard shortcuts\n",
       "            // see: https://jupyterlab.readthedocs.io/en/4.1.x/extension/notebook.html#keyboard-interaction-model\n",
       "\t    child.setAttribute('data-lm-suppress-shortcuts', 'true')\n",
       "\t  }\n",
       "\t}\n",
       "      }\n",
       "    }\n",
       "  }\n",
       "  function get_bokeh(root) {\n",
       "    if (root.Bokeh === undefined) {\n",
       "      return null\n",
       "    } else if (root.Bokeh.version !== py_version) {\n",
       "      if (root.Bokeh.versions === undefined || !root.Bokeh.versions.has(py_version)) {\n",
       "\treturn null\n",
       "      }\n",
       "      return root.Bokeh.versions.get(py_version);\n",
       "    } else if (root.Bokeh.version === py_version) {\n",
       "      return root.Bokeh\n",
       "    }\n",
       "    return null\n",
       "  }\n",
       "  function is_loaded(root) {\n",
       "    var Bokeh = get_bokeh(root)\n",
       "    return (Bokeh != null && Bokeh.Panel !== undefined)\n",
       "  }\n",
       "  if (is_loaded(root)) {\n",
       "    embed_document(root);\n",
       "  } else {\n",
       "    var attempts = 0;\n",
       "    var timer = setInterval(function(root) {\n",
       "      if (is_loaded(root)) {\n",
       "        clearInterval(timer);\n",
       "        embed_document(root);\n",
       "      } else if (document.readyState == \"complete\") {\n",
       "        attempts++;\n",
       "        if (attempts > 200) {\n",
       "          clearInterval(timer);\n",
       "\t  var Bokeh = get_bokeh(root)\n",
       "\t  if (Bokeh == null || Bokeh.Panel == null) {\n",
       "            console.warn(\"Panel: ERROR: Unable to run Panel code because Bokeh or Panel library is missing\");\n",
       "\t  } else {\n",
       "\t    console.warn(\"Panel: WARNING: Attempting to render but not all required libraries could be resolved.\")\n",
       "\t    embed_document(root)\n",
       "\t  }\n",
       "        }\n",
       "      }\n",
       "    }, 25, root)\n",
       "  }\n",
       "})(window);</script>"
      ],
      "text/plain": [
       ":Histogram   [total_day_charge]   (Count)"
      ]
     },
     "execution_count": 19,
     "metadata": {
      "application/vnd.holoviews_exec.v0+json": {
       "id": "p1136"
      }
     },
     "output_type": "execute_result"
    }
   ],
   "source": [
    "telcom_data_df['total_day_charge'].hvplot(kind='hist', bins=20, title='Total Day Charge')"
   ]
  },
  {
   "cell_type": "code",
   "execution_count": 20,
   "metadata": {},
   "outputs": [
    {
     "data": {},
     "metadata": {},
     "output_type": "display_data"
    },
    {
     "data": {
      "application/vnd.holoviews_exec.v0+json": "",
      "text/html": [
       "<div id='p1202'>\n",
       "  <div id=\"bcfdff58-9ff6-4537-ba38-9131a02fdb0b\" data-root-id=\"p1202\" style=\"display: contents;\"></div>\n",
       "</div>\n",
       "<script type=\"application/javascript\">(function(root) {\n",
       "  var docs_json = {\"c4d96860-0145-46ba-84f1-d61f6cc35672\":{\"version\":\"3.4.1\",\"title\":\"Bokeh Application\",\"roots\":[{\"type\":\"object\",\"name\":\"Row\",\"id\":\"p1202\",\"attributes\":{\"name\":\"Row01261\",\"tags\":[\"embedded\"],\"stylesheets\":[\"\\n:host(.pn-loading):before, .pn-loading:before {\\n  background-color: #c3c3c3;\\n  mask-size: auto calc(min(50%, 400px));\\n  -webkit-mask-size: auto calc(min(50%, 400px));\\n}\",{\"type\":\"object\",\"name\":\"ImportedStyleSheet\",\"id\":\"p1205\",\"attributes\":{\"url\":\"https://cdn.holoviz.org/panel/1.4.4/dist/css/loading.css\"}},{\"type\":\"object\",\"name\":\"ImportedStyleSheet\",\"id\":\"p1261\",\"attributes\":{\"url\":\"https://cdn.holoviz.org/panel/1.4.4/dist/css/listpanel.css\"}},{\"type\":\"object\",\"name\":\"ImportedStyleSheet\",\"id\":\"p1203\",\"attributes\":{\"url\":\"https://cdn.holoviz.org/panel/1.4.4/dist/bundled/theme/default.css\"}},{\"type\":\"object\",\"name\":\"ImportedStyleSheet\",\"id\":\"p1204\",\"attributes\":{\"url\":\"https://cdn.holoviz.org/panel/1.4.4/dist/bundled/theme/native.css\"}}],\"min_width\":700,\"margin\":0,\"sizing_mode\":\"stretch_width\",\"align\":\"start\",\"children\":[{\"type\":\"object\",\"name\":\"Spacer\",\"id\":\"p1206\",\"attributes\":{\"name\":\"HSpacer01268\",\"stylesheets\":[\"\\n:host(.pn-loading):before, .pn-loading:before {\\n  background-color: #c3c3c3;\\n  mask-size: auto calc(min(50%, 400px));\\n  -webkit-mask-size: auto calc(min(50%, 400px));\\n}\",{\"id\":\"p1205\"},{\"id\":\"p1203\"},{\"id\":\"p1204\"}],\"margin\":0,\"sizing_mode\":\"stretch_width\",\"align\":\"start\"}},{\"type\":\"object\",\"name\":\"Figure\",\"id\":\"p1214\",\"attributes\":{\"width\":700,\"height\":300,\"margin\":[5,10],\"sizing_mode\":\"fixed\",\"align\":\"start\",\"x_range\":{\"type\":\"object\",\"name\":\"Range1d\",\"id\":\"p1207\",\"attributes\":{\"tags\":[[[\"number_customer_service_calls\",null]],[]],\"start\":-0.38571428571428573,\"end\":9.385714285714286,\"reset_start\":-0.38571428571428573,\"reset_end\":9.385714285714286}},\"y_range\":{\"type\":\"object\",\"name\":\"Range1d\",\"id\":\"p1208\",\"attributes\":{\"tags\":[[[\"Count\",null]],{\"type\":\"map\",\"entries\":[[\"invert_yaxis\",false],[\"autorange\",false]]}],\"end\":1676.4,\"reset_start\":0.0,\"reset_end\":1676.4}},\"x_scale\":{\"type\":\"object\",\"name\":\"LinearScale\",\"id\":\"p1224\"},\"y_scale\":{\"type\":\"object\",\"name\":\"LinearScale\",\"id\":\"p1225\"},\"title\":{\"type\":\"object\",\"name\":\"Title\",\"id\":\"p1217\",\"attributes\":{\"text\":\"Number of Customer Service Calls\",\"text_color\":\"black\",\"text_font_size\":\"12pt\"}},\"renderers\":[{\"type\":\"object\",\"name\":\"GlyphRenderer\",\"id\":\"p1254\",\"attributes\":{\"data_source\":{\"type\":\"object\",\"name\":\"ColumnDataSource\",\"id\":\"p1245\",\"attributes\":{\"selected\":{\"type\":\"object\",\"name\":\"Selection\",\"id\":\"p1246\",\"attributes\":{\"indices\":[],\"line_indices\":[]}},\"selection_policy\":{\"type\":\"object\",\"name\":\"UnionRenderers\",\"id\":\"p1247\"},\"data\":{\"type\":\"map\",\"entries\":[[\"top\",{\"type\":\"ndarray\",\"array\":{\"type\":\"bytes\",\"data\":\"dgMAAAAAAAD0BQAAAAAAALMDAAAAAAAALgIAAAAAAADRAAAAAAAAAAAAAABRAAAAAAAAABwAAAAAAAAADQAAAAAAAAACAAAAAAAAAAIAAAA=\"},\"shape\":[20],\"dtype\":\"int32\",\"order\":\"little\"}],[\"left\",{\"type\":\"ndarray\",\"array\":{\"type\":\"bytes\",\"data\":\"AAAAAAAAAADNzMzMzMzcP83MzMzMzOw/mpmZmZmZ9T/NzMzMzMz8PwAAAAAAAAJAmpmZmZmZBUAzMzMzMzMJQM3MzMzMzAxAMzMzMzMzEEAAAAAAAAASQM3MzMzMzBNAmpmZmZmZFUBnZmZmZmYXQDMzMzMzMxlAAAAAAAAAG0DNzMzMzMwcQJqZmZmZmR5AMzMzMzMzIECamZmZmRkhQA==\"},\"shape\":[20],\"dtype\":\"float64\",\"order\":\"little\"}],[\"right\",{\"type\":\"ndarray\",\"array\":{\"type\":\"bytes\",\"data\":\"zczMzMzM3D/NzMzMzMzsP5qZmZmZmfU/zczMzMzM/D8AAAAAAAACQJqZmZmZmQVAMzMzMzMzCUDNzMzMzMwMQDMzMzMzMxBAAAAAAAAAEkDNzMzMzMwTQJqZmZmZmRVAZ2ZmZmZmF0AzMzMzMzMZQAAAAAAAABtAzczMzMzMHECamZmZmZkeQDMzMzMzMyBAmpmZmZkZIUAAAAAAAAAiQA==\"},\"shape\":[20],\"dtype\":\"float64\",\"order\":\"little\"}],[\"number_customer_service_calls\",{\"type\":\"ndarray\",\"array\":{\"type\":\"bytes\",\"data\":\"zczMzMzMzD+amZmZmZnlPwAAAAAAAPI/NDMzMzMz+T8zMzMzMzMAQM3MzMzMzANAZmZmZmZmB0AAAAAAAAALQJqZmZmZmQ5AmpmZmZkZEUBmZmZmZuYSQDQzMzMzsxRAAAAAAACAFkDNzMzMzEwYQJqZmZmZGRpAZmZmZmbmG0A0MzMzM7MdQAAAAAAAgB9AZmZmZmamIEDNzMzMzIwhQA==\"},\"shape\":[20],\"dtype\":\"float64\",\"order\":\"little\"}],[\"number_customer_service_calls_count\",{\"type\":\"ndarray\",\"array\":{\"type\":\"bytes\",\"data\":\"dgMAAAAAAAD0BQAAAAAAALMDAAAAAAAALgIAAAAAAADRAAAAAAAAAAAAAABRAAAAAAAAABwAAAAAAAAADQAAAAAAAAACAAAAAAAAAAIAAAA=\"},\"shape\":[20],\"dtype\":\"int32\",\"order\":\"little\"}]]}}},\"view\":{\"type\":\"object\",\"name\":\"CDSView\",\"id\":\"p1255\",\"attributes\":{\"filter\":{\"type\":\"object\",\"name\":\"AllIndices\",\"id\":\"p1256\"}}},\"glyph\":{\"type\":\"object\",\"name\":\"Quad\",\"id\":\"p1251\",\"attributes\":{\"tags\":[\"apply_ranges\"],\"left\":{\"type\":\"field\",\"field\":\"left\"},\"right\":{\"type\":\"field\",\"field\":\"right\"},\"bottom\":{\"type\":\"value\",\"value\":0},\"top\":{\"type\":\"field\",\"field\":\"top\"},\"fill_color\":{\"type\":\"value\",\"value\":\"#30a2da\"},\"hatch_color\":{\"type\":\"value\",\"value\":\"#30a2da\"}}},\"selection_glyph\":{\"type\":\"object\",\"name\":\"Quad\",\"id\":\"p1257\",\"attributes\":{\"tags\":[\"apply_ranges\"],\"left\":{\"type\":\"field\",\"field\":\"left\"},\"right\":{\"type\":\"field\",\"field\":\"right\"},\"bottom\":{\"type\":\"value\",\"value\":0},\"top\":{\"type\":\"field\",\"field\":\"top\"},\"line_color\":{\"type\":\"value\",\"value\":\"black\"},\"line_alpha\":{\"type\":\"value\",\"value\":1.0},\"line_width\":{\"type\":\"value\",\"value\":1},\"line_join\":{\"type\":\"value\",\"value\":\"bevel\"},\"line_cap\":{\"type\":\"value\",\"value\":\"butt\"},\"line_dash\":{\"type\":\"value\",\"value\":[]},\"line_dash_offset\":{\"type\":\"value\",\"value\":0},\"fill_color\":{\"type\":\"value\",\"value\":\"#30a2da\"},\"fill_alpha\":{\"type\":\"value\",\"value\":1.0},\"hatch_color\":{\"type\":\"value\",\"value\":\"#30a2da\"},\"hatch_alpha\":{\"type\":\"value\",\"value\":1.0},\"hatch_scale\":{\"type\":\"value\",\"value\":12.0},\"hatch_pattern\":{\"type\":\"value\",\"value\":null},\"hatch_weight\":{\"type\":\"value\",\"value\":1.0}}},\"nonselection_glyph\":{\"type\":\"object\",\"name\":\"Quad\",\"id\":\"p1252\",\"attributes\":{\"tags\":[\"apply_ranges\"],\"left\":{\"type\":\"field\",\"field\":\"left\"},\"right\":{\"type\":\"field\",\"field\":\"right\"},\"bottom\":{\"type\":\"value\",\"value\":0},\"top\":{\"type\":\"field\",\"field\":\"top\"},\"line_alpha\":{\"type\":\"value\",\"value\":0.1},\"fill_color\":{\"type\":\"value\",\"value\":\"#30a2da\"},\"fill_alpha\":{\"type\":\"value\",\"value\":0.1},\"hatch_color\":{\"type\":\"value\",\"value\":\"#30a2da\"},\"hatch_alpha\":{\"type\":\"value\",\"value\":0.1}}},\"muted_glyph\":{\"type\":\"object\",\"name\":\"Quad\",\"id\":\"p1253\",\"attributes\":{\"tags\":[\"apply_ranges\"],\"left\":{\"type\":\"field\",\"field\":\"left\"},\"right\":{\"type\":\"field\",\"field\":\"right\"},\"bottom\":{\"type\":\"value\",\"value\":0},\"top\":{\"type\":\"field\",\"field\":\"top\"},\"line_alpha\":{\"type\":\"value\",\"value\":0.2},\"fill_color\":{\"type\":\"value\",\"value\":\"#30a2da\"},\"fill_alpha\":{\"type\":\"value\",\"value\":0.2},\"hatch_color\":{\"type\":\"value\",\"value\":\"#30a2da\"},\"hatch_alpha\":{\"type\":\"value\",\"value\":0.2}}}}}],\"toolbar\":{\"type\":\"object\",\"name\":\"Toolbar\",\"id\":\"p1223\",\"attributes\":{\"tools\":[{\"type\":\"object\",\"name\":\"WheelZoomTool\",\"id\":\"p1212\",\"attributes\":{\"tags\":[\"hv_created\"],\"renderers\":\"auto\",\"zoom_together\":\"none\"}},{\"type\":\"object\",\"name\":\"HoverTool\",\"id\":\"p1213\",\"attributes\":{\"tags\":[\"hv_created\"],\"renderers\":[{\"id\":\"p1254\"}],\"tooltips\":[[\"number_customer_service_calls\",\"@{number_customer_service_calls}\"],[\"Count\",\"@{number_customer_service_calls_count}\"]]}},{\"type\":\"object\",\"name\":\"SaveTool\",\"id\":\"p1236\"},{\"type\":\"object\",\"name\":\"PanTool\",\"id\":\"p1237\"},{\"type\":\"object\",\"name\":\"BoxZoomTool\",\"id\":\"p1238\",\"attributes\":{\"overlay\":{\"type\":\"object\",\"name\":\"BoxAnnotation\",\"id\":\"p1239\",\"attributes\":{\"syncable\":false,\"level\":\"overlay\",\"visible\":false,\"left\":{\"type\":\"number\",\"value\":\"nan\"},\"right\":{\"type\":\"number\",\"value\":\"nan\"},\"top\":{\"type\":\"number\",\"value\":\"nan\"},\"bottom\":{\"type\":\"number\",\"value\":\"nan\"},\"left_units\":\"canvas\",\"right_units\":\"canvas\",\"top_units\":\"canvas\",\"bottom_units\":\"canvas\",\"line_color\":\"black\",\"line_alpha\":1.0,\"line_width\":2,\"line_dash\":[4,4],\"fill_color\":\"lightgrey\",\"fill_alpha\":0.5}}}},{\"type\":\"object\",\"name\":\"ResetTool\",\"id\":\"p1244\"}],\"active_drag\":{\"id\":\"p1237\"},\"active_scroll\":{\"id\":\"p1212\"}}},\"left\":[{\"type\":\"object\",\"name\":\"LinearAxis\",\"id\":\"p1231\",\"attributes\":{\"ticker\":{\"type\":\"object\",\"name\":\"BasicTicker\",\"id\":\"p1232\",\"attributes\":{\"mantissas\":[1,2,5]}},\"formatter\":{\"type\":\"object\",\"name\":\"BasicTickFormatter\",\"id\":\"p1233\"},\"axis_label\":\"\",\"major_label_policy\":{\"type\":\"object\",\"name\":\"AllLabels\",\"id\":\"p1234\"}}}],\"below\":[{\"type\":\"object\",\"name\":\"LinearAxis\",\"id\":\"p1226\",\"attributes\":{\"ticker\":{\"type\":\"object\",\"name\":\"BasicTicker\",\"id\":\"p1227\",\"attributes\":{\"mantissas\":[1,2,5]}},\"formatter\":{\"type\":\"object\",\"name\":\"BasicTickFormatter\",\"id\":\"p1228\"},\"axis_label\":\"number_customer_service_calls\",\"major_label_policy\":{\"type\":\"object\",\"name\":\"AllLabels\",\"id\":\"p1229\"}}}],\"center\":[{\"type\":\"object\",\"name\":\"Grid\",\"id\":\"p1230\",\"attributes\":{\"axis\":{\"id\":\"p1226\"},\"grid_line_color\":null}},{\"type\":\"object\",\"name\":\"Grid\",\"id\":\"p1235\",\"attributes\":{\"dimension\":1,\"axis\":{\"id\":\"p1231\"},\"grid_line_color\":null}}],\"min_border_top\":10,\"min_border_bottom\":10,\"min_border_left\":10,\"min_border_right\":10,\"output_backend\":\"webgl\"}},{\"type\":\"object\",\"name\":\"Spacer\",\"id\":\"p1259\",\"attributes\":{\"name\":\"HSpacer01269\",\"stylesheets\":[\"\\n:host(.pn-loading):before, .pn-loading:before {\\n  background-color: #c3c3c3;\\n  mask-size: auto calc(min(50%, 400px));\\n  -webkit-mask-size: auto calc(min(50%, 400px));\\n}\",{\"id\":\"p1205\"},{\"id\":\"p1203\"},{\"id\":\"p1204\"}],\"margin\":0,\"sizing_mode\":\"stretch_width\",\"align\":\"start\"}}]}}],\"defs\":[{\"type\":\"model\",\"name\":\"ReactiveHTML1\"},{\"type\":\"model\",\"name\":\"FlexBox1\",\"properties\":[{\"name\":\"align_content\",\"kind\":\"Any\",\"default\":\"flex-start\"},{\"name\":\"align_items\",\"kind\":\"Any\",\"default\":\"flex-start\"},{\"name\":\"flex_direction\",\"kind\":\"Any\",\"default\":\"row\"},{\"name\":\"flex_wrap\",\"kind\":\"Any\",\"default\":\"wrap\"},{\"name\":\"gap\",\"kind\":\"Any\",\"default\":\"\"},{\"name\":\"justify_content\",\"kind\":\"Any\",\"default\":\"flex-start\"}]},{\"type\":\"model\",\"name\":\"FloatPanel1\",\"properties\":[{\"name\":\"config\",\"kind\":\"Any\",\"default\":{\"type\":\"map\"}},{\"name\":\"contained\",\"kind\":\"Any\",\"default\":true},{\"name\":\"position\",\"kind\":\"Any\",\"default\":\"right-top\"},{\"name\":\"offsetx\",\"kind\":\"Any\",\"default\":null},{\"name\":\"offsety\",\"kind\":\"Any\",\"default\":null},{\"name\":\"theme\",\"kind\":\"Any\",\"default\":\"primary\"},{\"name\":\"status\",\"kind\":\"Any\",\"default\":\"normalized\"}]},{\"type\":\"model\",\"name\":\"GridStack1\",\"properties\":[{\"name\":\"mode\",\"kind\":\"Any\",\"default\":\"warn\"},{\"name\":\"ncols\",\"kind\":\"Any\",\"default\":null},{\"name\":\"nrows\",\"kind\":\"Any\",\"default\":null},{\"name\":\"allow_resize\",\"kind\":\"Any\",\"default\":true},{\"name\":\"allow_drag\",\"kind\":\"Any\",\"default\":true},{\"name\":\"state\",\"kind\":\"Any\",\"default\":[]}]},{\"type\":\"model\",\"name\":\"drag1\",\"properties\":[{\"name\":\"slider_width\",\"kind\":\"Any\",\"default\":5},{\"name\":\"slider_color\",\"kind\":\"Any\",\"default\":\"black\"},{\"name\":\"value\",\"kind\":\"Any\",\"default\":50}]},{\"type\":\"model\",\"name\":\"click1\",\"properties\":[{\"name\":\"terminal_output\",\"kind\":\"Any\",\"default\":\"\"},{\"name\":\"debug_name\",\"kind\":\"Any\",\"default\":\"\"},{\"name\":\"clears\",\"kind\":\"Any\",\"default\":0}]},{\"type\":\"model\",\"name\":\"FastWrapper1\",\"properties\":[{\"name\":\"object\",\"kind\":\"Any\",\"default\":null},{\"name\":\"style\",\"kind\":\"Any\",\"default\":null}]},{\"type\":\"model\",\"name\":\"NotificationAreaBase1\",\"properties\":[{\"name\":\"js_events\",\"kind\":\"Any\",\"default\":{\"type\":\"map\"}},{\"name\":\"position\",\"kind\":\"Any\",\"default\":\"bottom-right\"},{\"name\":\"_clear\",\"kind\":\"Any\",\"default\":0}]},{\"type\":\"model\",\"name\":\"NotificationArea1\",\"properties\":[{\"name\":\"js_events\",\"kind\":\"Any\",\"default\":{\"type\":\"map\"}},{\"name\":\"notifications\",\"kind\":\"Any\",\"default\":[]},{\"name\":\"position\",\"kind\":\"Any\",\"default\":\"bottom-right\"},{\"name\":\"_clear\",\"kind\":\"Any\",\"default\":0},{\"name\":\"types\",\"kind\":\"Any\",\"default\":[{\"type\":\"map\",\"entries\":[[\"type\",\"warning\"],[\"background\",\"#ffc107\"],[\"icon\",{\"type\":\"map\",\"entries\":[[\"className\",\"fas fa-exclamation-triangle\"],[\"tagName\",\"i\"],[\"color\",\"white\"]]}]]},{\"type\":\"map\",\"entries\":[[\"type\",\"info\"],[\"background\",\"#007bff\"],[\"icon\",{\"type\":\"map\",\"entries\":[[\"className\",\"fas fa-info-circle\"],[\"tagName\",\"i\"],[\"color\",\"white\"]]}]]}]}]},{\"type\":\"model\",\"name\":\"Notification\",\"properties\":[{\"name\":\"background\",\"kind\":\"Any\",\"default\":null},{\"name\":\"duration\",\"kind\":\"Any\",\"default\":3000},{\"name\":\"icon\",\"kind\":\"Any\",\"default\":null},{\"name\":\"message\",\"kind\":\"Any\",\"default\":\"\"},{\"name\":\"notification_type\",\"kind\":\"Any\",\"default\":null},{\"name\":\"_destroyed\",\"kind\":\"Any\",\"default\":false}]},{\"type\":\"model\",\"name\":\"TemplateActions1\",\"properties\":[{\"name\":\"open_modal\",\"kind\":\"Any\",\"default\":0},{\"name\":\"close_modal\",\"kind\":\"Any\",\"default\":0}]},{\"type\":\"model\",\"name\":\"BootstrapTemplateActions1\",\"properties\":[{\"name\":\"open_modal\",\"kind\":\"Any\",\"default\":0},{\"name\":\"close_modal\",\"kind\":\"Any\",\"default\":0}]},{\"type\":\"model\",\"name\":\"TemplateEditor1\",\"properties\":[{\"name\":\"layout\",\"kind\":\"Any\",\"default\":[]}]},{\"type\":\"model\",\"name\":\"MaterialTemplateActions1\",\"properties\":[{\"name\":\"open_modal\",\"kind\":\"Any\",\"default\":0},{\"name\":\"close_modal\",\"kind\":\"Any\",\"default\":0}]},{\"type\":\"model\",\"name\":\"copy_to_clipboard1\",\"properties\":[{\"name\":\"fill\",\"kind\":\"Any\",\"default\":\"none\"},{\"name\":\"value\",\"kind\":\"Any\",\"default\":null}]}]}};\n",
       "  var render_items = [{\"docid\":\"c4d96860-0145-46ba-84f1-d61f6cc35672\",\"roots\":{\"p1202\":\"bcfdff58-9ff6-4537-ba38-9131a02fdb0b\"},\"root_ids\":[\"p1202\"]}];\n",
       "  var docs = Object.values(docs_json)\n",
       "  if (!docs) {\n",
       "    return\n",
       "  }\n",
       "  const py_version = docs[0].version.replace('rc', '-rc.').replace('.dev', '-dev.')\n",
       "  async function embed_document(root) {\n",
       "    var Bokeh = get_bokeh(root)\n",
       "    await Bokeh.embed.embed_items_notebook(docs_json, render_items);\n",
       "    for (const render_item of render_items) {\n",
       "      for (const root_id of render_item.root_ids) {\n",
       "\tconst id_el = document.getElementById(root_id)\n",
       "\tif (id_el.children.length && id_el.children[0].hasAttribute('data-root-id')) {\n",
       "\t  const root_el = id_el.children[0]\n",
       "\t  root_el.id = root_el.id + '-rendered'\n",
       "\t  for (const child of root_el.children) {\n",
       "            // Ensure JupyterLab does not capture keyboard shortcuts\n",
       "            // see: https://jupyterlab.readthedocs.io/en/4.1.x/extension/notebook.html#keyboard-interaction-model\n",
       "\t    child.setAttribute('data-lm-suppress-shortcuts', 'true')\n",
       "\t  }\n",
       "\t}\n",
       "      }\n",
       "    }\n",
       "  }\n",
       "  function get_bokeh(root) {\n",
       "    if (root.Bokeh === undefined) {\n",
       "      return null\n",
       "    } else if (root.Bokeh.version !== py_version) {\n",
       "      if (root.Bokeh.versions === undefined || !root.Bokeh.versions.has(py_version)) {\n",
       "\treturn null\n",
       "      }\n",
       "      return root.Bokeh.versions.get(py_version);\n",
       "    } else if (root.Bokeh.version === py_version) {\n",
       "      return root.Bokeh\n",
       "    }\n",
       "    return null\n",
       "  }\n",
       "  function is_loaded(root) {\n",
       "    var Bokeh = get_bokeh(root)\n",
       "    return (Bokeh != null && Bokeh.Panel !== undefined)\n",
       "  }\n",
       "  if (is_loaded(root)) {\n",
       "    embed_document(root);\n",
       "  } else {\n",
       "    var attempts = 0;\n",
       "    var timer = setInterval(function(root) {\n",
       "      if (is_loaded(root)) {\n",
       "        clearInterval(timer);\n",
       "        embed_document(root);\n",
       "      } else if (document.readyState == \"complete\") {\n",
       "        attempts++;\n",
       "        if (attempts > 200) {\n",
       "          clearInterval(timer);\n",
       "\t  var Bokeh = get_bokeh(root)\n",
       "\t  if (Bokeh == null || Bokeh.Panel == null) {\n",
       "            console.warn(\"Panel: ERROR: Unable to run Panel code because Bokeh or Panel library is missing\");\n",
       "\t  } else {\n",
       "\t    console.warn(\"Panel: WARNING: Attempting to render but not all required libraries could be resolved.\")\n",
       "\t    embed_document(root)\n",
       "\t  }\n",
       "        }\n",
       "      }\n",
       "    }, 25, root)\n",
       "  }\n",
       "})(window);</script>"
      ],
      "text/plain": [
       ":Histogram   [number_customer_service_calls]   (Count)"
      ]
     },
     "execution_count": 20,
     "metadata": {
      "application/vnd.holoviews_exec.v0+json": {
       "id": "p1202"
      }
     },
     "output_type": "execute_result"
    }
   ],
   "source": [
    "telcom_data_df['number_customer_service_calls'].hvplot(kind='hist', bins=20, title='Number of Customer Service Calls')\n"
   ]
  },
  {
   "cell_type": "markdown",
   "metadata": {},
   "source": [
    "### Visualizing Data Grouped by State and Churn\n",
    "\n",
    "### Learn\n",
    "\n",
    "Most of the generated histograms were normally distributed, except for a couple of them. The distributions seem to match up with the descriptive statistics that you calculated earlier.\n",
    "\n",
    "In the first PivotTable you created, grouped by state and churn, you might have noticed the difficulty in exploring the data in tabular format. It's often easier to identify certain patterns or explore our data using appropriate visualizations.\n",
    "\n",
    "Continuing from the previous screen, we will create additional visualizations to understand our data better.\n",
    "\n",
    "We will limit the visualizations to the top three states out of the five we identified earlier:\n",
    "\n",
    "- NJ\n",
    "- MN\n",
    "- TX\n",
    "\n",
    "The chart might be too noisy if we use more than three states. However, we recommend you visualize the data for some of the other states as well.\n",
    "\n",
    "### Instructions\n",
    "\n",
    "1. **In a new sheet, create a PivotTable grouping the data.**\n",
    "\n",
    "2. **Add `churn` as Rows, and then `state` as Columns to the PivotTable Fields.**\n",
    "\n",
    "3. **Add the average of `age` as Values.**\n",
    "\n",
    "4. **Filter the table to show only three states, as mentioned above.**\n",
    "   - [Optional] Filter the table by some of the other states.\n",
    "\n",
    "5. **Create a Bar Chart from the above PivotTable.**\n",
    "   - Add the appropriate title, axes labels, and legend (if any) to your chart.\n",
    "   - Maximize the data-ink ratio of your chart by removing any chartjunk.\n",
    "\n",
    "6. **Add some text underneath the chart that briefly describes the chart.**\n",
    "\n",
    "7. **Repeat the above process using the remaining variables in the data.**\n",
    "   - Only use the variables/values that you identified to be relevant to churn during your initial EDA.\n",
    "\n",
    "8. **[Optional] Repeat the above using `area_code` instead of `state`.**"
   ]
  },
  {
   "cell_type": "code",
   "execution_count": 34,
   "metadata": {},
   "outputs": [
    {
     "data": {
      "text/html": [
       "<div>\n",
       "<style scoped>\n",
       "    .dataframe tbody tr th:only-of-type {\n",
       "        vertical-align: middle;\n",
       "    }\n",
       "\n",
       "    .dataframe tbody tr th {\n",
       "        vertical-align: top;\n",
       "    }\n",
       "\n",
       "    .dataframe thead th {\n",
       "        text-align: right;\n",
       "    }\n",
       "</style>\n",
       "<table border=\"1\" class=\"dataframe\">\n",
       "  <thead>\n",
       "    <tr style=\"text-align: right;\">\n",
       "      <th>state</th>\n",
       "      <th>NJ</th>\n",
       "      <th>MN</th>\n",
       "      <th>TX</th>\n",
       "    </tr>\n",
       "    <tr>\n",
       "      <th>churn</th>\n",
       "      <th></th>\n",
       "      <th></th>\n",
       "      <th></th>\n",
       "    </tr>\n",
       "  </thead>\n",
       "  <tbody>\n",
       "    <tr>\n",
       "      <th>0</th>\n",
       "      <td>39.228571</td>\n",
       "      <td>40.359551</td>\n",
       "      <td>40.177215</td>\n",
       "    </tr>\n",
       "    <tr>\n",
       "      <th>1</th>\n",
       "      <td>31.423077</td>\n",
       "      <td>31.000000</td>\n",
       "      <td>28.947368</td>\n",
       "    </tr>\n",
       "  </tbody>\n",
       "</table>\n",
       "</div>"
      ],
      "text/plain": [
       "state         NJ         MN         TX\n",
       "churn                                 \n",
       "0      39.228571  40.359551  40.177215\n",
       "1      31.423077  31.000000  28.947368"
      ]
     },
     "execution_count": 34,
     "metadata": {},
     "output_type": "execute_result"
    }
   ],
   "source": [
    "# create the pivot table\n",
    "telcom_data_pivot = pd.pivot_table(telcom_data_df, \n",
    "                                   values='age', \n",
    "                                   index='churn', \n",
    "                                   columns='state', \n",
    "                                   aggfunc='mean')\n",
    "\n",
    "filtered_pivot_table = telcom_data_pivot[['NJ', 'MN', 'TX']]\n",
    "\n",
    "filtered_pivot_table"
   ]
  },
  {
   "cell_type": "code",
   "execution_count": 35,
   "metadata": {},
   "outputs": [
    {
     "data": {},
     "metadata": {},
     "output_type": "display_data"
    },
    {
     "data": {
      "application/vnd.holoviews_exec.v0+json": "",
      "text/html": [
       "<div id='p1400'>\n",
       "  <div id=\"beac4d13-a44e-4c11-87b2-c737935d8b97\" data-root-id=\"p1400\" style=\"display: contents;\"></div>\n",
       "</div>\n",
       "<script type=\"application/javascript\">(function(root) {\n",
       "  var docs_json = {\"64dc839d-3c15-4fa4-9c69-c87b2c5ff759\":{\"version\":\"3.4.1\",\"title\":\"Bokeh Application\",\"roots\":[{\"type\":\"object\",\"name\":\"Row\",\"id\":\"p1400\",\"attributes\":{\"name\":\"Row01635\",\"tags\":[\"embedded\"],\"stylesheets\":[\"\\n:host(.pn-loading):before, .pn-loading:before {\\n  background-color: #c3c3c3;\\n  mask-size: auto calc(min(50%, 400px));\\n  -webkit-mask-size: auto calc(min(50%, 400px));\\n}\",{\"type\":\"object\",\"name\":\"ImportedStyleSheet\",\"id\":\"p1403\",\"attributes\":{\"url\":\"https://cdn.holoviz.org/panel/1.4.4/dist/css/loading.css\"}},{\"type\":\"object\",\"name\":\"ImportedStyleSheet\",\"id\":\"p1495\",\"attributes\":{\"url\":\"https://cdn.holoviz.org/panel/1.4.4/dist/css/listpanel.css\"}},{\"type\":\"object\",\"name\":\"ImportedStyleSheet\",\"id\":\"p1401\",\"attributes\":{\"url\":\"https://cdn.holoviz.org/panel/1.4.4/dist/bundled/theme/default.css\"}},{\"type\":\"object\",\"name\":\"ImportedStyleSheet\",\"id\":\"p1402\",\"attributes\":{\"url\":\"https://cdn.holoviz.org/panel/1.4.4/dist/bundled/theme/native.css\"}}],\"min_width\":700,\"margin\":0,\"sizing_mode\":\"stretch_width\",\"align\":\"start\",\"children\":[{\"type\":\"object\",\"name\":\"Spacer\",\"id\":\"p1404\",\"attributes\":{\"name\":\"HSpacer01642\",\"stylesheets\":[\"\\n:host(.pn-loading):before, .pn-loading:before {\\n  background-color: #c3c3c3;\\n  mask-size: auto calc(min(50%, 400px));\\n  -webkit-mask-size: auto calc(min(50%, 400px));\\n}\",{\"id\":\"p1403\"},{\"id\":\"p1401\"},{\"id\":\"p1402\"}],\"margin\":0,\"sizing_mode\":\"stretch_width\",\"align\":\"start\"}},{\"type\":\"object\",\"name\":\"Figure\",\"id\":\"p1418\",\"attributes\":{\"width\":700,\"height\":300,\"margin\":[5,10],\"sizing_mode\":\"fixed\",\"align\":\"start\",\"x_range\":{\"type\":\"object\",\"name\":\"Range1d\",\"id\":\"p1405\",\"attributes\":{\"tags\":[[[\"NJ\",null]],[]],\"start\":28.45827490073498,\"end\":40.8486440821154,\"reset_start\":28.45827490073498,\"reset_end\":40.8486440821154}},\"y_range\":{\"type\":\"object\",\"name\":\"Range1d\",\"id\":\"p1406\",\"attributes\":{\"tags\":[[[\"Count\",null]],{\"type\":\"map\",\"entries\":[[\"invert_yaxis\",false],[\"autorange\",false]]}],\"end\":1.1,\"reset_start\":0.0,\"reset_end\":1.1}},\"x_scale\":{\"type\":\"object\",\"name\":\"LinearScale\",\"id\":\"p1428\"},\"y_scale\":{\"type\":\"object\",\"name\":\"LinearScale\",\"id\":\"p1429\"},\"title\":{\"type\":\"object\",\"name\":\"Title\",\"id\":\"p1421\",\"attributes\":{\"text\":\"Average age\",\"text_color\":\"black\",\"text_font_size\":\"12pt\"}},\"renderers\":[{\"type\":\"object\",\"name\":\"GlyphRenderer\",\"id\":\"p1458\",\"attributes\":{\"name\":\"NJ\",\"data_source\":{\"type\":\"object\",\"name\":\"ColumnDataSource\",\"id\":\"p1449\",\"attributes\":{\"selected\":{\"type\":\"object\",\"name\":\"Selection\",\"id\":\"p1450\",\"attributes\":{\"indices\":[],\"line_indices\":[]}},\"selection_policy\":{\"type\":\"object\",\"name\":\"UnionRenderers\",\"id\":\"p1451\"},\"data\":{\"type\":\"map\",\"entries\":[[\"top\",{\"type\":\"ndarray\",\"array\":{\"type\":\"bytes\",\"data\":\"AAAAAAAAAAAAAAAAAAAAAAEAAAAAAAAAAAAAAAAAAAAAAAAAAAAAAAAAAAAAAAAAAAAAAAAAAAAAAAAAAAAAAAAAAAAAAAAAAQAAAAAAAAA=\"},\"shape\":[20],\"dtype\":\"int32\",\"order\":\"little\"}],[\"left\",{\"type\":\"ndarray\",\"array\":{\"type\":\"bytes\",\"data\":\"KK+hvIbyPECANd8smoQ9QNi7HJ2tFj5AMEJaDcGoPkCIyJd91Do/QOBO1e3nzD9AnGoJr30vQEDILShnh3hAQPTwRh+RwUBAILRl15oKQUBMd4SPpFNBQHg6o0eunEFApP3B/7flQUDPwOC3wS5CQPuD/2/Ld0JAJ0ceKNXAQkBTCj3g3glDQH/NW5joUkNAq5B6UPKbQ0DXU5kI/ORDQA==\"},\"shape\":[20],\"dtype\":\"float64\",\"order\":\"little\"}],[\"right\",{\"type\":\"ndarray\",\"array\":{\"type\":\"bytes\",\"data\":\"gDXfLJqEPUDYuxydrRY+QDBCWg3BqD5AiMiXfdQ6P0DgTtXt58w/QJxqCa99L0BAyC0oZ4d4QED08EYfkcFAQCC0ZdeaCkFATHeEj6RTQUB4OqNHrpxBQKT9wf+35UFAz8Dgt8EuQkD7g/9vy3dCQCdHHijVwEJAUwo94N4JQ0B/zVuY6FJDQKuQelDym0NA11OZCPzkQ0ADF7jABS5EQA==\"},\"shape\":[20],\"dtype\":\"float64\",\"order\":\"little\"}],[\"NJ\",{\"type\":\"ndarray\",\"array\":{\"type\":\"bytes\",\"data\":\"VHLAdJA7PUCs+P3ko809QAR/O1W3Xz5AXAV5xcrxPkC0i7Y13oM/QAYJ+tL4CkBAMswYiwJUQEBejzdDDJ1AQIpSVvsV5kBAthV1sx8vQUDi2JNrKXhBQA6csiMzwUFAOl/R2zwKQkBlIvCTRlNCQJHlDkxQnEJAvagtBFrlQkDpa0y8Yy5DQBUva3Rtd0NAQfKJLHfAQ0BttajkgAlEQA==\"},\"shape\":[20],\"dtype\":\"float64\",\"order\":\"little\"}],[\"NJ_count\",{\"type\":\"ndarray\",\"array\":{\"type\":\"bytes\",\"data\":\"AAAAAAAAAAAAAAAAAAAAAAEAAAAAAAAAAAAAAAAAAAAAAAAAAAAAAAAAAAAAAAAAAAAAAAAAAAAAAAAAAAAAAAAAAAAAAAAAAQAAAAAAAAA=\"},\"shape\":[20],\"dtype\":\"int32\",\"order\":\"little\"}],[\"state\",[\"NJ\",\"NJ\",\"NJ\",\"NJ\",\"NJ\",\"NJ\",\"NJ\",\"NJ\",\"NJ\",\"NJ\",\"NJ\",\"NJ\",\"NJ\",\"NJ\",\"NJ\",\"NJ\",\"NJ\",\"NJ\",\"NJ\",\"NJ\"]]]}}},\"view\":{\"type\":\"object\",\"name\":\"CDSView\",\"id\":\"p1459\",\"attributes\":{\"filter\":{\"type\":\"object\",\"name\":\"AllIndices\",\"id\":\"p1460\"}}},\"glyph\":{\"type\":\"object\",\"name\":\"Quad\",\"id\":\"p1455\",\"attributes\":{\"tags\":[\"apply_ranges\"],\"left\":{\"type\":\"field\",\"field\":\"left\"},\"right\":{\"type\":\"field\",\"field\":\"right\"},\"bottom\":{\"type\":\"value\",\"value\":0},\"top\":{\"type\":\"field\",\"field\":\"top\"},\"fill_color\":{\"type\":\"value\",\"value\":\"#30a2da\"},\"hatch_color\":{\"type\":\"value\",\"value\":\"#30a2da\"}}},\"selection_glyph\":{\"type\":\"object\",\"name\":\"Quad\",\"id\":\"p1463\",\"attributes\":{\"tags\":[\"apply_ranges\"],\"left\":{\"type\":\"field\",\"field\":\"left\"},\"right\":{\"type\":\"field\",\"field\":\"right\"},\"bottom\":{\"type\":\"value\",\"value\":0},\"top\":{\"type\":\"field\",\"field\":\"top\"},\"line_color\":{\"type\":\"value\",\"value\":\"black\"},\"line_alpha\":{\"type\":\"value\",\"value\":1.0},\"line_width\":{\"type\":\"value\",\"value\":1},\"line_join\":{\"type\":\"value\",\"value\":\"bevel\"},\"line_cap\":{\"type\":\"value\",\"value\":\"butt\"},\"line_dash\":{\"type\":\"value\",\"value\":[]},\"line_dash_offset\":{\"type\":\"value\",\"value\":0},\"fill_color\":{\"type\":\"value\",\"value\":\"#30a2da\"},\"fill_alpha\":{\"type\":\"value\",\"value\":1.0},\"hatch_color\":{\"type\":\"value\",\"value\":\"#30a2da\"},\"hatch_alpha\":{\"type\":\"value\",\"value\":1.0},\"hatch_scale\":{\"type\":\"value\",\"value\":12.0},\"hatch_pattern\":{\"type\":\"value\",\"value\":null},\"hatch_weight\":{\"type\":\"value\",\"value\":1.0}}},\"nonselection_glyph\":{\"type\":\"object\",\"name\":\"Quad\",\"id\":\"p1456\",\"attributes\":{\"tags\":[\"apply_ranges\"],\"left\":{\"type\":\"field\",\"field\":\"left\"},\"right\":{\"type\":\"field\",\"field\":\"right\"},\"bottom\":{\"type\":\"value\",\"value\":0},\"top\":{\"type\":\"field\",\"field\":\"top\"},\"line_alpha\":{\"type\":\"value\",\"value\":0.1},\"fill_color\":{\"type\":\"value\",\"value\":\"#30a2da\"},\"fill_alpha\":{\"type\":\"value\",\"value\":0.1},\"hatch_color\":{\"type\":\"value\",\"value\":\"#30a2da\"},\"hatch_alpha\":{\"type\":\"value\",\"value\":0.1}}},\"muted_glyph\":{\"type\":\"object\",\"name\":\"Quad\",\"id\":\"p1457\",\"attributes\":{\"tags\":[\"apply_ranges\"],\"left\":{\"type\":\"field\",\"field\":\"left\"},\"right\":{\"type\":\"field\",\"field\":\"right\"},\"bottom\":{\"type\":\"value\",\"value\":0},\"top\":{\"type\":\"field\",\"field\":\"top\"},\"line_alpha\":{\"type\":\"value\",\"value\":0.2},\"fill_color\":{\"type\":\"value\",\"value\":\"#30a2da\"},\"fill_alpha\":{\"type\":\"value\",\"value\":0.2},\"hatch_color\":{\"type\":\"value\",\"value\":\"#30a2da\"},\"hatch_alpha\":{\"type\":\"value\",\"value\":0.2}}}}},{\"type\":\"object\",\"name\":\"GlyphRenderer\",\"id\":\"p1473\",\"attributes\":{\"name\":\"MN\",\"data_source\":{\"type\":\"object\",\"name\":\"ColumnDataSource\",\"id\":\"p1464\",\"attributes\":{\"selected\":{\"type\":\"object\",\"name\":\"Selection\",\"id\":\"p1465\",\"attributes\":{\"indices\":[],\"line_indices\":[]}},\"selection_policy\":{\"type\":\"object\",\"name\":\"UnionRenderers\",\"id\":\"p1466\"},\"data\":{\"type\":\"map\",\"entries\":[[\"top\",{\"type\":\"ndarray\",\"array\":{\"type\":\"bytes\",\"data\":\"AAAAAAAAAAAAAAAAAQAAAAAAAAAAAAAAAAAAAAAAAAAAAAAAAAAAAAAAAAAAAAAAAAAAAAAAAAAAAAAAAAAAAAAAAAAAAAAAAAAAAAEAAAA=\"},\"shape\":[20],\"dtype\":\"int32\",\"order\":\"little\"}],[\"left\",{\"type\":\"ndarray\",\"array\":{\"type\":\"bytes\",\"data\":\"KK+hvIbyPECANd8smoQ9QNi7HJ2tFj5AMEJaDcGoPkCIyJd91Do/QOBO1e3nzD9AnGoJr30vQEDILShnh3hAQPTwRh+RwUBAILRl15oKQUBMd4SPpFNBQHg6o0eunEFApP3B/7flQUDPwOC3wS5CQPuD/2/Ld0JAJ0ceKNXAQkBTCj3g3glDQH/NW5joUkNAq5B6UPKbQ0DXU5kI/ORDQA==\"},\"shape\":[20],\"dtype\":\"float64\",\"order\":\"little\"}],[\"right\",{\"type\":\"ndarray\",\"array\":{\"type\":\"bytes\",\"data\":\"gDXfLJqEPUDYuxydrRY+QDBCWg3BqD5AiMiXfdQ6P0DgTtXt58w/QJxqCa99L0BAyC0oZ4d4QED08EYfkcFAQCC0ZdeaCkFATHeEj6RTQUB4OqNHrpxBQKT9wf+35UFAz8Dgt8EuQkD7g/9vy3dCQCdHHijVwEJAUwo94N4JQ0B/zVuY6FJDQKuQelDym0NA11OZCPzkQ0ADF7jABS5EQA==\"},\"shape\":[20],\"dtype\":\"float64\",\"order\":\"little\"}],[\"MN\",{\"type\":\"ndarray\",\"array\":{\"type\":\"bytes\",\"data\":\"VHLAdJA7PUCs+P3ko809QAR/O1W3Xz5AXAV5xcrxPkC0i7Y13oM/QAYJ+tL4CkBAMswYiwJUQEBejzdDDJ1AQIpSVvsV5kBAthV1sx8vQUDi2JNrKXhBQA6csiMzwUFAOl/R2zwKQkBlIvCTRlNCQJHlDkxQnEJAvagtBFrlQkDpa0y8Yy5DQBUva3Rtd0NAQfKJLHfAQ0BttajkgAlEQA==\"},\"shape\":[20],\"dtype\":\"float64\",\"order\":\"little\"}],[\"MN_count\",{\"type\":\"ndarray\",\"array\":{\"type\":\"bytes\",\"data\":\"AAAAAAAAAAAAAAAAAQAAAAAAAAAAAAAAAAAAAAAAAAAAAAAAAAAAAAAAAAAAAAAAAAAAAAAAAAAAAAAAAAAAAAAAAAAAAAAAAAAAAAEAAAA=\"},\"shape\":[20],\"dtype\":\"int32\",\"order\":\"little\"}],[\"state\",[\"MN\",\"MN\",\"MN\",\"MN\",\"MN\",\"MN\",\"MN\",\"MN\",\"MN\",\"MN\",\"MN\",\"MN\",\"MN\",\"MN\",\"MN\",\"MN\",\"MN\",\"MN\",\"MN\",\"MN\"]]]}}},\"view\":{\"type\":\"object\",\"name\":\"CDSView\",\"id\":\"p1474\",\"attributes\":{\"filter\":{\"type\":\"object\",\"name\":\"AllIndices\",\"id\":\"p1475\"}}},\"glyph\":{\"type\":\"object\",\"name\":\"Quad\",\"id\":\"p1470\",\"attributes\":{\"tags\":[\"apply_ranges\"],\"left\":{\"type\":\"field\",\"field\":\"left\"},\"right\":{\"type\":\"field\",\"field\":\"right\"},\"bottom\":{\"type\":\"value\",\"value\":0},\"top\":{\"type\":\"field\",\"field\":\"top\"},\"fill_color\":{\"type\":\"value\",\"value\":\"#fc4f30\"},\"hatch_color\":{\"type\":\"value\",\"value\":\"#fc4f30\"}}},\"selection_glyph\":{\"type\":\"object\",\"name\":\"Quad\",\"id\":\"p1477\",\"attributes\":{\"tags\":[\"apply_ranges\"],\"left\":{\"type\":\"field\",\"field\":\"left\"},\"right\":{\"type\":\"field\",\"field\":\"right\"},\"bottom\":{\"type\":\"value\",\"value\":0},\"top\":{\"type\":\"field\",\"field\":\"top\"},\"line_color\":{\"type\":\"value\",\"value\":\"black\"},\"line_alpha\":{\"type\":\"value\",\"value\":1.0},\"line_width\":{\"type\":\"value\",\"value\":1},\"line_join\":{\"type\":\"value\",\"value\":\"bevel\"},\"line_cap\":{\"type\":\"value\",\"value\":\"butt\"},\"line_dash\":{\"type\":\"value\",\"value\":[]},\"line_dash_offset\":{\"type\":\"value\",\"value\":0},\"fill_color\":{\"type\":\"value\",\"value\":\"#fc4f30\"},\"fill_alpha\":{\"type\":\"value\",\"value\":1.0},\"hatch_color\":{\"type\":\"value\",\"value\":\"#fc4f30\"},\"hatch_alpha\":{\"type\":\"value\",\"value\":1.0},\"hatch_scale\":{\"type\":\"value\",\"value\":12.0},\"hatch_pattern\":{\"type\":\"value\",\"value\":null},\"hatch_weight\":{\"type\":\"value\",\"value\":1.0}}},\"nonselection_glyph\":{\"type\":\"object\",\"name\":\"Quad\",\"id\":\"p1471\",\"attributes\":{\"tags\":[\"apply_ranges\"],\"left\":{\"type\":\"field\",\"field\":\"left\"},\"right\":{\"type\":\"field\",\"field\":\"right\"},\"bottom\":{\"type\":\"value\",\"value\":0},\"top\":{\"type\":\"field\",\"field\":\"top\"},\"line_alpha\":{\"type\":\"value\",\"value\":0.1},\"fill_color\":{\"type\":\"value\",\"value\":\"#fc4f30\"},\"fill_alpha\":{\"type\":\"value\",\"value\":0.1},\"hatch_color\":{\"type\":\"value\",\"value\":\"#fc4f30\"},\"hatch_alpha\":{\"type\":\"value\",\"value\":0.1}}},\"muted_glyph\":{\"type\":\"object\",\"name\":\"Quad\",\"id\":\"p1472\",\"attributes\":{\"tags\":[\"apply_ranges\"],\"left\":{\"type\":\"field\",\"field\":\"left\"},\"right\":{\"type\":\"field\",\"field\":\"right\"},\"bottom\":{\"type\":\"value\",\"value\":0},\"top\":{\"type\":\"field\",\"field\":\"top\"},\"line_alpha\":{\"type\":\"value\",\"value\":0.2},\"fill_color\":{\"type\":\"value\",\"value\":\"#fc4f30\"},\"fill_alpha\":{\"type\":\"value\",\"value\":0.2},\"hatch_color\":{\"type\":\"value\",\"value\":\"#fc4f30\"},\"hatch_alpha\":{\"type\":\"value\",\"value\":0.2}}}}},{\"type\":\"object\",\"name\":\"GlyphRenderer\",\"id\":\"p1487\",\"attributes\":{\"name\":\"TX\",\"data_source\":{\"type\":\"object\",\"name\":\"ColumnDataSource\",\"id\":\"p1478\",\"attributes\":{\"selected\":{\"type\":\"object\",\"name\":\"Selection\",\"id\":\"p1479\",\"attributes\":{\"indices\":[],\"line_indices\":[]}},\"selection_policy\":{\"type\":\"object\",\"name\":\"UnionRenderers\",\"id\":\"p1480\"},\"data\":{\"type\":\"map\",\"entries\":[[\"top\",{\"type\":\"ndarray\",\"array\":{\"type\":\"bytes\",\"data\":\"AQAAAAAAAAAAAAAAAAAAAAAAAAAAAAAAAAAAAAAAAAAAAAAAAAAAAAAAAAAAAAAAAAAAAAAAAAAAAAAAAAAAAAAAAAAAAAAAAAAAAAEAAAA=\"},\"shape\":[20],\"dtype\":\"int32\",\"order\":\"little\"}],[\"left\",{\"type\":\"ndarray\",\"array\":{\"type\":\"bytes\",\"data\":\"KK+hvIbyPECANd8smoQ9QNi7HJ2tFj5AMEJaDcGoPkCIyJd91Do/QOBO1e3nzD9AnGoJr30vQEDILShnh3hAQPTwRh+RwUBAILRl15oKQUBMd4SPpFNBQHg6o0eunEFApP3B/7flQUDPwOC3wS5CQPuD/2/Ld0JAJ0ceKNXAQkBTCj3g3glDQH/NW5joUkNAq5B6UPKbQ0DXU5kI/ORDQA==\"},\"shape\":[20],\"dtype\":\"float64\",\"order\":\"little\"}],[\"right\",{\"type\":\"ndarray\",\"array\":{\"type\":\"bytes\",\"data\":\"gDXfLJqEPUDYuxydrRY+QDBCWg3BqD5AiMiXfdQ6P0DgTtXt58w/QJxqCa99L0BAyC0oZ4d4QED08EYfkcFAQCC0ZdeaCkFATHeEj6RTQUB4OqNHrpxBQKT9wf+35UFAz8Dgt8EuQkD7g/9vy3dCQCdHHijVwEJAUwo94N4JQ0B/zVuY6FJDQKuQelDym0NA11OZCPzkQ0ADF7jABS5EQA==\"},\"shape\":[20],\"dtype\":\"float64\",\"order\":\"little\"}],[\"TX\",{\"type\":\"ndarray\",\"array\":{\"type\":\"bytes\",\"data\":\"VHLAdJA7PUCs+P3ko809QAR/O1W3Xz5AXAV5xcrxPkC0i7Y13oM/QAYJ+tL4CkBAMswYiwJUQEBejzdDDJ1AQIpSVvsV5kBAthV1sx8vQUDi2JNrKXhBQA6csiMzwUFAOl/R2zwKQkBlIvCTRlNCQJHlDkxQnEJAvagtBFrlQkDpa0y8Yy5DQBUva3Rtd0NAQfKJLHfAQ0BttajkgAlEQA==\"},\"shape\":[20],\"dtype\":\"float64\",\"order\":\"little\"}],[\"TX_count\",{\"type\":\"ndarray\",\"array\":{\"type\":\"bytes\",\"data\":\"AQAAAAAAAAAAAAAAAAAAAAAAAAAAAAAAAAAAAAAAAAAAAAAAAAAAAAAAAAAAAAAAAAAAAAAAAAAAAAAAAAAAAAAAAAAAAAAAAAAAAAEAAAA=\"},\"shape\":[20],\"dtype\":\"int32\",\"order\":\"little\"}],[\"state\",[\"TX\",\"TX\",\"TX\",\"TX\",\"TX\",\"TX\",\"TX\",\"TX\",\"TX\",\"TX\",\"TX\",\"TX\",\"TX\",\"TX\",\"TX\",\"TX\",\"TX\",\"TX\",\"TX\",\"TX\"]]]}}},\"view\":{\"type\":\"object\",\"name\":\"CDSView\",\"id\":\"p1488\",\"attributes\":{\"filter\":{\"type\":\"object\",\"name\":\"AllIndices\",\"id\":\"p1489\"}}},\"glyph\":{\"type\":\"object\",\"name\":\"Quad\",\"id\":\"p1484\",\"attributes\":{\"tags\":[\"apply_ranges\"],\"left\":{\"type\":\"field\",\"field\":\"left\"},\"right\":{\"type\":\"field\",\"field\":\"right\"},\"bottom\":{\"type\":\"value\",\"value\":0},\"top\":{\"type\":\"field\",\"field\":\"top\"},\"fill_color\":{\"type\":\"value\",\"value\":\"#e5ae38\"},\"hatch_color\":{\"type\":\"value\",\"value\":\"#e5ae38\"}}},\"selection_glyph\":{\"type\":\"object\",\"name\":\"Quad\",\"id\":\"p1491\",\"attributes\":{\"tags\":[\"apply_ranges\"],\"left\":{\"type\":\"field\",\"field\":\"left\"},\"right\":{\"type\":\"field\",\"field\":\"right\"},\"bottom\":{\"type\":\"value\",\"value\":0},\"top\":{\"type\":\"field\",\"field\":\"top\"},\"line_color\":{\"type\":\"value\",\"value\":\"black\"},\"line_alpha\":{\"type\":\"value\",\"value\":1.0},\"line_width\":{\"type\":\"value\",\"value\":1},\"line_join\":{\"type\":\"value\",\"value\":\"bevel\"},\"line_cap\":{\"type\":\"value\",\"value\":\"butt\"},\"line_dash\":{\"type\":\"value\",\"value\":[]},\"line_dash_offset\":{\"type\":\"value\",\"value\":0},\"fill_color\":{\"type\":\"value\",\"value\":\"#e5ae38\"},\"fill_alpha\":{\"type\":\"value\",\"value\":1.0},\"hatch_color\":{\"type\":\"value\",\"value\":\"#e5ae38\"},\"hatch_alpha\":{\"type\":\"value\",\"value\":1.0},\"hatch_scale\":{\"type\":\"value\",\"value\":12.0},\"hatch_pattern\":{\"type\":\"value\",\"value\":null},\"hatch_weight\":{\"type\":\"value\",\"value\":1.0}}},\"nonselection_glyph\":{\"type\":\"object\",\"name\":\"Quad\",\"id\":\"p1485\",\"attributes\":{\"tags\":[\"apply_ranges\"],\"left\":{\"type\":\"field\",\"field\":\"left\"},\"right\":{\"type\":\"field\",\"field\":\"right\"},\"bottom\":{\"type\":\"value\",\"value\":0},\"top\":{\"type\":\"field\",\"field\":\"top\"},\"line_alpha\":{\"type\":\"value\",\"value\":0.1},\"fill_color\":{\"type\":\"value\",\"value\":\"#e5ae38\"},\"fill_alpha\":{\"type\":\"value\",\"value\":0.1},\"hatch_color\":{\"type\":\"value\",\"value\":\"#e5ae38\"},\"hatch_alpha\":{\"type\":\"value\",\"value\":0.1}}},\"muted_glyph\":{\"type\":\"object\",\"name\":\"Quad\",\"id\":\"p1486\",\"attributes\":{\"tags\":[\"apply_ranges\"],\"left\":{\"type\":\"field\",\"field\":\"left\"},\"right\":{\"type\":\"field\",\"field\":\"right\"},\"bottom\":{\"type\":\"value\",\"value\":0},\"top\":{\"type\":\"field\",\"field\":\"top\"},\"line_alpha\":{\"type\":\"value\",\"value\":0.2},\"fill_color\":{\"type\":\"value\",\"value\":\"#e5ae38\"},\"fill_alpha\":{\"type\":\"value\",\"value\":0.2},\"hatch_color\":{\"type\":\"value\",\"value\":\"#e5ae38\"},\"hatch_alpha\":{\"type\":\"value\",\"value\":0.2}}}}}],\"toolbar\":{\"type\":\"object\",\"name\":\"Toolbar\",\"id\":\"p1427\",\"attributes\":{\"tools\":[{\"type\":\"object\",\"name\":\"WheelZoomTool\",\"id\":\"p1410\",\"attributes\":{\"tags\":[\"hv_created\"],\"renderers\":\"auto\",\"zoom_together\":\"none\"}},{\"type\":\"object\",\"name\":\"HoverTool\",\"id\":\"p1411\",\"attributes\":{\"tags\":[\"hv_created\"],\"renderers\":[{\"id\":\"p1458\"}],\"tooltips\":[[\"state\",\"@{state}\"],[\"NJ\",\"@{NJ}\"],[\"Count\",\"@{NJ_count}\"]]}},{\"type\":\"object\",\"name\":\"HoverTool\",\"id\":\"p1414\",\"attributes\":{\"tags\":[\"hv_created\"],\"renderers\":[{\"id\":\"p1473\"}],\"tooltips\":[[\"state\",\"@{state}\"],[\"MN\",\"@{MN}\"],[\"Count\",\"@{MN_count}\"]]}},{\"type\":\"object\",\"name\":\"HoverTool\",\"id\":\"p1417\",\"attributes\":{\"tags\":[\"hv_created\"],\"renderers\":[{\"id\":\"p1487\"}],\"tooltips\":[[\"state\",\"@{state}\"],[\"TX\",\"@{TX}\"],[\"Count\",\"@{TX_count}\"]]}},{\"type\":\"object\",\"name\":\"SaveTool\",\"id\":\"p1440\"},{\"type\":\"object\",\"name\":\"PanTool\",\"id\":\"p1441\"},{\"type\":\"object\",\"name\":\"BoxZoomTool\",\"id\":\"p1442\",\"attributes\":{\"overlay\":{\"type\":\"object\",\"name\":\"BoxAnnotation\",\"id\":\"p1443\",\"attributes\":{\"syncable\":false,\"level\":\"overlay\",\"visible\":false,\"left\":{\"type\":\"number\",\"value\":\"nan\"},\"right\":{\"type\":\"number\",\"value\":\"nan\"},\"top\":{\"type\":\"number\",\"value\":\"nan\"},\"bottom\":{\"type\":\"number\",\"value\":\"nan\"},\"left_units\":\"canvas\",\"right_units\":\"canvas\",\"top_units\":\"canvas\",\"bottom_units\":\"canvas\",\"line_color\":\"black\",\"line_alpha\":1.0,\"line_width\":2,\"line_dash\":[4,4],\"fill_color\":\"lightgrey\",\"fill_alpha\":0.5}}}},{\"type\":\"object\",\"name\":\"ResetTool\",\"id\":\"p1448\"}],\"active_drag\":{\"id\":\"p1441\"},\"active_scroll\":{\"id\":\"p1410\"}}},\"left\":[{\"type\":\"object\",\"name\":\"LinearAxis\",\"id\":\"p1435\",\"attributes\":{\"ticker\":{\"type\":\"object\",\"name\":\"BasicTicker\",\"id\":\"p1436\",\"attributes\":{\"mantissas\":[1,2,5]}},\"formatter\":{\"type\":\"object\",\"name\":\"BasicTickFormatter\",\"id\":\"p1437\"},\"axis_label\":\"\",\"major_label_policy\":{\"type\":\"object\",\"name\":\"AllLabels\",\"id\":\"p1438\"}}}],\"right\":[{\"type\":\"object\",\"name\":\"Legend\",\"id\":\"p1461\",\"attributes\":{\"location\":[0,0],\"title\":\"state\",\"click_policy\":\"mute\",\"items\":[{\"type\":\"object\",\"name\":\"LegendItem\",\"id\":\"p1462\",\"attributes\":{\"label\":{\"type\":\"value\",\"value\":\"NJ\"},\"renderers\":[{\"id\":\"p1458\"}]}},{\"type\":\"object\",\"name\":\"LegendItem\",\"id\":\"p1476\",\"attributes\":{\"label\":{\"type\":\"value\",\"value\":\"MN\"},\"renderers\":[{\"id\":\"p1473\"}]}},{\"type\":\"object\",\"name\":\"LegendItem\",\"id\":\"p1490\",\"attributes\":{\"label\":{\"type\":\"value\",\"value\":\"TX\"},\"renderers\":[{\"id\":\"p1487\"}]}}]}}],\"below\":[{\"type\":\"object\",\"name\":\"LinearAxis\",\"id\":\"p1430\",\"attributes\":{\"ticker\":{\"type\":\"object\",\"name\":\"BasicTicker\",\"id\":\"p1431\",\"attributes\":{\"mantissas\":[1,2,5]}},\"formatter\":{\"type\":\"object\",\"name\":\"BasicTickFormatter\",\"id\":\"p1432\"},\"axis_label\":\"NJ\",\"major_label_policy\":{\"type\":\"object\",\"name\":\"AllLabels\",\"id\":\"p1433\"}}}],\"center\":[{\"type\":\"object\",\"name\":\"Grid\",\"id\":\"p1434\",\"attributes\":{\"axis\":{\"id\":\"p1430\"},\"grid_line_color\":null}},{\"type\":\"object\",\"name\":\"Grid\",\"id\":\"p1439\",\"attributes\":{\"dimension\":1,\"axis\":{\"id\":\"p1435\"},\"grid_line_color\":null}}],\"min_border_top\":10,\"min_border_bottom\":10,\"min_border_left\":10,\"min_border_right\":10,\"output_backend\":\"webgl\"}},{\"type\":\"object\",\"name\":\"Spacer\",\"id\":\"p1493\",\"attributes\":{\"name\":\"HSpacer01643\",\"stylesheets\":[\"\\n:host(.pn-loading):before, .pn-loading:before {\\n  background-color: #c3c3c3;\\n  mask-size: auto calc(min(50%, 400px));\\n  -webkit-mask-size: auto calc(min(50%, 400px));\\n}\",{\"id\":\"p1403\"},{\"id\":\"p1401\"},{\"id\":\"p1402\"}],\"margin\":0,\"sizing_mode\":\"stretch_width\",\"align\":\"start\"}}]}}],\"defs\":[{\"type\":\"model\",\"name\":\"ReactiveHTML1\"},{\"type\":\"model\",\"name\":\"FlexBox1\",\"properties\":[{\"name\":\"align_content\",\"kind\":\"Any\",\"default\":\"flex-start\"},{\"name\":\"align_items\",\"kind\":\"Any\",\"default\":\"flex-start\"},{\"name\":\"flex_direction\",\"kind\":\"Any\",\"default\":\"row\"},{\"name\":\"flex_wrap\",\"kind\":\"Any\",\"default\":\"wrap\"},{\"name\":\"gap\",\"kind\":\"Any\",\"default\":\"\"},{\"name\":\"justify_content\",\"kind\":\"Any\",\"default\":\"flex-start\"}]},{\"type\":\"model\",\"name\":\"FloatPanel1\",\"properties\":[{\"name\":\"config\",\"kind\":\"Any\",\"default\":{\"type\":\"map\"}},{\"name\":\"contained\",\"kind\":\"Any\",\"default\":true},{\"name\":\"position\",\"kind\":\"Any\",\"default\":\"right-top\"},{\"name\":\"offsetx\",\"kind\":\"Any\",\"default\":null},{\"name\":\"offsety\",\"kind\":\"Any\",\"default\":null},{\"name\":\"theme\",\"kind\":\"Any\",\"default\":\"primary\"},{\"name\":\"status\",\"kind\":\"Any\",\"default\":\"normalized\"}]},{\"type\":\"model\",\"name\":\"GridStack1\",\"properties\":[{\"name\":\"mode\",\"kind\":\"Any\",\"default\":\"warn\"},{\"name\":\"ncols\",\"kind\":\"Any\",\"default\":null},{\"name\":\"nrows\",\"kind\":\"Any\",\"default\":null},{\"name\":\"allow_resize\",\"kind\":\"Any\",\"default\":true},{\"name\":\"allow_drag\",\"kind\":\"Any\",\"default\":true},{\"name\":\"state\",\"kind\":\"Any\",\"default\":[]}]},{\"type\":\"model\",\"name\":\"drag1\",\"properties\":[{\"name\":\"slider_width\",\"kind\":\"Any\",\"default\":5},{\"name\":\"slider_color\",\"kind\":\"Any\",\"default\":\"black\"},{\"name\":\"value\",\"kind\":\"Any\",\"default\":50}]},{\"type\":\"model\",\"name\":\"click1\",\"properties\":[{\"name\":\"terminal_output\",\"kind\":\"Any\",\"default\":\"\"},{\"name\":\"debug_name\",\"kind\":\"Any\",\"default\":\"\"},{\"name\":\"clears\",\"kind\":\"Any\",\"default\":0}]},{\"type\":\"model\",\"name\":\"FastWrapper1\",\"properties\":[{\"name\":\"object\",\"kind\":\"Any\",\"default\":null},{\"name\":\"style\",\"kind\":\"Any\",\"default\":null}]},{\"type\":\"model\",\"name\":\"NotificationAreaBase1\",\"properties\":[{\"name\":\"js_events\",\"kind\":\"Any\",\"default\":{\"type\":\"map\"}},{\"name\":\"position\",\"kind\":\"Any\",\"default\":\"bottom-right\"},{\"name\":\"_clear\",\"kind\":\"Any\",\"default\":0}]},{\"type\":\"model\",\"name\":\"NotificationArea1\",\"properties\":[{\"name\":\"js_events\",\"kind\":\"Any\",\"default\":{\"type\":\"map\"}},{\"name\":\"notifications\",\"kind\":\"Any\",\"default\":[]},{\"name\":\"position\",\"kind\":\"Any\",\"default\":\"bottom-right\"},{\"name\":\"_clear\",\"kind\":\"Any\",\"default\":0},{\"name\":\"types\",\"kind\":\"Any\",\"default\":[{\"type\":\"map\",\"entries\":[[\"type\",\"warning\"],[\"background\",\"#ffc107\"],[\"icon\",{\"type\":\"map\",\"entries\":[[\"className\",\"fas fa-exclamation-triangle\"],[\"tagName\",\"i\"],[\"color\",\"white\"]]}]]},{\"type\":\"map\",\"entries\":[[\"type\",\"info\"],[\"background\",\"#007bff\"],[\"icon\",{\"type\":\"map\",\"entries\":[[\"className\",\"fas fa-info-circle\"],[\"tagName\",\"i\"],[\"color\",\"white\"]]}]]}]}]},{\"type\":\"model\",\"name\":\"Notification\",\"properties\":[{\"name\":\"background\",\"kind\":\"Any\",\"default\":null},{\"name\":\"duration\",\"kind\":\"Any\",\"default\":3000},{\"name\":\"icon\",\"kind\":\"Any\",\"default\":null},{\"name\":\"message\",\"kind\":\"Any\",\"default\":\"\"},{\"name\":\"notification_type\",\"kind\":\"Any\",\"default\":null},{\"name\":\"_destroyed\",\"kind\":\"Any\",\"default\":false}]},{\"type\":\"model\",\"name\":\"TemplateActions1\",\"properties\":[{\"name\":\"open_modal\",\"kind\":\"Any\",\"default\":0},{\"name\":\"close_modal\",\"kind\":\"Any\",\"default\":0}]},{\"type\":\"model\",\"name\":\"BootstrapTemplateActions1\",\"properties\":[{\"name\":\"open_modal\",\"kind\":\"Any\",\"default\":0},{\"name\":\"close_modal\",\"kind\":\"Any\",\"default\":0}]},{\"type\":\"model\",\"name\":\"TemplateEditor1\",\"properties\":[{\"name\":\"layout\",\"kind\":\"Any\",\"default\":[]}]},{\"type\":\"model\",\"name\":\"MaterialTemplateActions1\",\"properties\":[{\"name\":\"open_modal\",\"kind\":\"Any\",\"default\":0},{\"name\":\"close_modal\",\"kind\":\"Any\",\"default\":0}]},{\"type\":\"model\",\"name\":\"copy_to_clipboard1\",\"properties\":[{\"name\":\"fill\",\"kind\":\"Any\",\"default\":\"none\"},{\"name\":\"value\",\"kind\":\"Any\",\"default\":null}]}]}};\n",
       "  var render_items = [{\"docid\":\"64dc839d-3c15-4fa4-9c69-c87b2c5ff759\",\"roots\":{\"p1400\":\"beac4d13-a44e-4c11-87b2-c737935d8b97\"},\"root_ids\":[\"p1400\"]}];\n",
       "  var docs = Object.values(docs_json)\n",
       "  if (!docs) {\n",
       "    return\n",
       "  }\n",
       "  const py_version = docs[0].version.replace('rc', '-rc.').replace('.dev', '-dev.')\n",
       "  async function embed_document(root) {\n",
       "    var Bokeh = get_bokeh(root)\n",
       "    await Bokeh.embed.embed_items_notebook(docs_json, render_items);\n",
       "    for (const render_item of render_items) {\n",
       "      for (const root_id of render_item.root_ids) {\n",
       "\tconst id_el = document.getElementById(root_id)\n",
       "\tif (id_el.children.length && id_el.children[0].hasAttribute('data-root-id')) {\n",
       "\t  const root_el = id_el.children[0]\n",
       "\t  root_el.id = root_el.id + '-rendered'\n",
       "\t  for (const child of root_el.children) {\n",
       "            // Ensure JupyterLab does not capture keyboard shortcuts\n",
       "            // see: https://jupyterlab.readthedocs.io/en/4.1.x/extension/notebook.html#keyboard-interaction-model\n",
       "\t    child.setAttribute('data-lm-suppress-shortcuts', 'true')\n",
       "\t  }\n",
       "\t}\n",
       "      }\n",
       "    }\n",
       "  }\n",
       "  function get_bokeh(root) {\n",
       "    if (root.Bokeh === undefined) {\n",
       "      return null\n",
       "    } else if (root.Bokeh.version !== py_version) {\n",
       "      if (root.Bokeh.versions === undefined || !root.Bokeh.versions.has(py_version)) {\n",
       "\treturn null\n",
       "      }\n",
       "      return root.Bokeh.versions.get(py_version);\n",
       "    } else if (root.Bokeh.version === py_version) {\n",
       "      return root.Bokeh\n",
       "    }\n",
       "    return null\n",
       "  }\n",
       "  function is_loaded(root) {\n",
       "    var Bokeh = get_bokeh(root)\n",
       "    return (Bokeh != null && Bokeh.Panel !== undefined)\n",
       "  }\n",
       "  if (is_loaded(root)) {\n",
       "    embed_document(root);\n",
       "  } else {\n",
       "    var attempts = 0;\n",
       "    var timer = setInterval(function(root) {\n",
       "      if (is_loaded(root)) {\n",
       "        clearInterval(timer);\n",
       "        embed_document(root);\n",
       "      } else if (document.readyState == \"complete\") {\n",
       "        attempts++;\n",
       "        if (attempts > 200) {\n",
       "          clearInterval(timer);\n",
       "\t  var Bokeh = get_bokeh(root)\n",
       "\t  if (Bokeh == null || Bokeh.Panel == null) {\n",
       "            console.warn(\"Panel: ERROR: Unable to run Panel code because Bokeh or Panel library is missing\");\n",
       "\t  } else {\n",
       "\t    console.warn(\"Panel: WARNING: Attempting to render but not all required libraries could be resolved.\")\n",
       "\t    embed_document(root)\n",
       "\t  }\n",
       "        }\n",
       "      }\n",
       "    }, 25, root)\n",
       "  }\n",
       "})(window);</script>"
      ],
      "text/plain": [
       ":NdOverlay   [state]\n",
       "   :Histogram   [TX]   (Count)"
      ]
     },
     "execution_count": 35,
     "metadata": {
      "application/vnd.holoviews_exec.v0+json": {
       "id": "p1400"
      }
     },
     "output_type": "execute_result"
    }
   ],
   "source": [
    "filtered_pivot_table.hvplot(kind='hist', bins=20, title= 'Average age')"
   ]
  },
  {
   "cell_type": "code",
   "execution_count": 36,
   "metadata": {},
   "outputs": [
    {
     "data": {
      "image/png": "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",
      "text/plain": [
       "<Figure size 1200x600 with 1 Axes>"
      ]
     },
     "metadata": {},
     "output_type": "display_data"
    }
   ],
   "source": [
    "\n",
    "\n",
    "# Create a figure and axis object\n",
    "fig, ax = plt.subplots(figsize=(12, 6))\n",
    "\n",
    "# Plot each state's data as a bar\n",
    "for state in filtered_pivot_table.columns:\n",
    "    ax.bar(filtered_pivot_table.index, filtered_pivot_table[state], label=state)\n",
    "\n",
    "# Customize the chart\n",
    "ax.set_xlabel('Churn Status')\n",
    "ax.set_ylabel('Average Age')\n",
    "ax.set_title('Average Age by Churn Status for Selected States')\n",
    "ax.legend(title='States')\n",
    "\n",
    "# Add value labels on top of each bar\n",
    "for i, state in enumerate(filtered_pivot_table.columns):\n",
    "    for j, value in enumerate(filtered_pivot_table[state]):\n",
    "        ax.text(j, value, f'{value:.2f}', ha='center', va='bottom' if value > 0 else 'top')\n",
    "\n",
    "# Adjust layout and display the plot\n",
    "plt.tight_layout()\n",
    "plt.show()"
   ]
  },
  {
   "cell_type": "code",
   "execution_count": 37,
   "metadata": {},
   "outputs": [
    {
     "data": {
      "image/png": "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",
      "text/plain": [
       "<Figure size 1200x600 with 1 Axes>"
      ]
     },
     "metadata": {},
     "output_type": "display_data"
    }
   ],
   "source": [
    "# Melt the pivot table to long format for easier plotting with seaborn\n",
    "melted_pivot = filtered_pivot_table.reset_index().melt('churn', var_name='state', value_name='average_age')\n",
    "\n",
    "# Create the plot\n",
    "plt.figure(figsize=(12, 6))\n",
    "sns.barplot(x='churn', y='average_age', hue='state', data=melted_pivot)\n",
    "\n",
    "# Customize the plot\n",
    "plt.title('Average Age by Churn Status for Selected States')\n",
    "plt.xlabel('Churn Status')\n",
    "plt.ylabel('Average Age')\n",
    "\n",
    "# Add value labels on top of each bar\n",
    "for i, bar in enumerate(plt.gca().containers):\n",
    "    plt.gca().bar_label(bar, fmt='%.2f', label_type='edge')\n",
    "\n",
    "# Show legend\n",
    "plt.legend(title='States')\n",
    "\n",
    "# Display the plot\n",
    "plt.tight_layout()\n",
    "plt.show()"
   ]
  },
  {
   "cell_type": "code",
   "execution_count": null,
   "metadata": {},
   "outputs": [],
   "source": []
  },
  {
   "cell_type": "code",
   "execution_count": null,
   "metadata": {},
   "outputs": [],
   "source": []
  },
  {
   "cell_type": "code",
   "execution_count": null,
   "metadata": {},
   "outputs": [],
   "source": []
  },
  {
   "cell_type": "code",
   "execution_count": null,
   "metadata": {},
   "outputs": [],
   "source": []
  },
  {
   "cell_type": "markdown",
   "metadata": {},
   "source": [
    "### Exploring and Visualizing Data Grouped by Churn\n",
    "\n",
    "### Learn\n",
    "\n",
    "Finally, we'll explore differences in the data by grouping by `churn`.\n",
    "\n",
    "You'll also have the freedom to identify whichever values you want in your PivotTables.\n",
    "\n",
    "### Instructions\n",
    "\n",
    "1. **In a new sheet, create PivotTables grouping the data by `churn`.**\n",
    "\n",
    "2. **Add and explore Values to each PivotTable that you think might be relevant.**\n",
    "   - For example, you can create a PivotTable to look at the average age of customers grouped by `churn`.\n",
    "\n",
    "3. **If necessary, rename columns of the above PivotTables to make them easier to reference later.**\n",
    "\n",
    "4. **For each PivotTable, create a Bar Chart depicting that group’s relationship.**\n",
    "   - Add the appropriate title, axes labels, and legend to your charts.\n",
    "   - Add appropriate Data Labels to each chart.\n",
    "   - Maximize the data-ink ratio of your charts by removing any chartjunk.\n",
    "\n",
    "5. **Add a brief description underneath each chart that explains the relationship between the `churn` and the corresponding variable.**\n",
    "\n",
    "6. **Do you observe any patterns that either contradict a previous discovery or weren't apparent before?**\n"
   ]
  },
  {
   "cell_type": "code",
   "execution_count": 89,
   "metadata": {},
   "outputs": [
    {
     "name": "stdout",
     "output_type": "stream",
     "text": [
      "             age\n",
      "churn           \n",
      "0      39.993154\n",
      "1      30.086957\n"
     ]
    }
   ],
   "source": [
    "pivot_age_churn = pd.pivot_table(telcom_data_df, \n",
    "                                 values=['age'], \n",
    "                                 index=['churn'], \n",
    "                                 aggfunc={'age': 'mean'})\n",
    "\n",
    "print(pivot_age_churn)"
   ]
  },
  {
   "cell_type": "code",
   "execution_count": 97,
   "metadata": {},
   "outputs": [
    {
     "data": {
      "text/plain": [
       "<Figure size 1000x600 with 0 Axes>"
      ]
     },
     "metadata": {},
     "output_type": "display_data"
    },
    {
     "data": {
      "image/png": "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",
      "text/plain": [
       "<Figure size 640x480 with 1 Axes>"
      ]
     },
     "metadata": {},
     "output_type": "display_data"
    }
   ],
   "source": [
    "# Create the plot\n",
    "plt.figure(figsize=(10, 6))\n",
    "pivot_age_churn.plot(kind='bar')\n",
    "\n",
    "# Customize the plot\n",
    "plt.title('Average Age by Churn Status')\n",
    "plt.xlabel('Churn Status')\n",
    "plt.ylabel('Average Age')\n",
    "\n",
    "# Add value labels on top of each bar\n",
    "for i, v in enumerate(pivot_age_churn['age']):\n",
    "    plt.text(i, v, f'{v:.2f}', ha='center', va='bottom' if v > 0 else 'top')\n",
    "\n",
    "# Display the plot\n",
    "plt.tight_layout()\n",
    "plt.show()"
   ]
  },
  {
   "cell_type": "code",
   "execution_count": 93,
   "metadata": {},
   "outputs": [
    {
     "name": "stdout",
     "output_type": "stream",
     "text": [
      "       total_day_charge\n",
      "churn                  \n",
      "0             29.844948\n",
      "1             35.528679\n"
     ]
    }
   ],
   "source": [
    "pivot_charge_churn = pd.pivot_table(telcom_data_df, \n",
    "                                 values=['total_day_charge'], \n",
    "                                 index=['churn'], \n",
    "                                 aggfunc={'total_day_charge': 'mean'})\n",
    "\n",
    "print(pivot_charge_churn)"
   ]
  },
  {
   "cell_type": "code",
   "execution_count": 99,
   "metadata": {},
   "outputs": [
    {
     "data": {
      "text/plain": [
       "<Figure size 1000x600 with 0 Axes>"
      ]
     },
     "metadata": {},
     "output_type": "display_data"
    },
    {
     "data": {
      "image/png": "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",
      "text/plain": [
       "<Figure size 640x480 with 1 Axes>"
      ]
     },
     "metadata": {},
     "output_type": "display_data"
    }
   ],
   "source": [
    "# Create the plot\n",
    "plt.figure(figsize=(10, 6))\n",
    "pivot_charge_churn.plot(kind='bar')\n",
    "\n",
    "# Customize the plot\n",
    "plt.title('Average Total Day Charge by Churn Status')\n",
    "plt.xlabel('Churn Status')\n",
    "plt.ylabel('Average Total Day Charge')\n",
    "\n",
    "# Add value labels on top of each bar\n",
    "for i, v in enumerate(pivot_charge_churn['total_day_charge']):\n",
    "    plt.text(i, v, f'{v:.2f}', ha='center', va='bottom' if v > 0 else 'top')\n",
    "\n",
    "# Display the plot\n",
    "plt.tight_layout()\n",
    "plt.show()"
   ]
  },
  {
   "cell_type": "code",
   "execution_count": 95,
   "metadata": {},
   "outputs": [
    {
     "name": "stdout",
     "output_type": "stream",
     "text": [
      "       total_day_minutes\n",
      "churn                   \n",
      "0             175.555093\n",
      "1             208.990134\n"
     ]
    }
   ],
   "source": [
    "pivot_total_minutes_churn = pd.pivot_table(telcom_data_df, \n",
    "                                 values=['total_day_minutes'], \n",
    "                                 index=['churn'], \n",
    "                                 aggfunc={'total_day_minutes': 'mean'})\n",
    "\n",
    "print(pivot_total_minutes_churn)"
   ]
  },
  {
   "cell_type": "code",
   "execution_count": 101,
   "metadata": {},
   "outputs": [
    {
     "data": {
      "text/plain": [
       "<Figure size 1000x600 with 0 Axes>"
      ]
     },
     "metadata": {},
     "output_type": "display_data"
    },
    {
     "data": {
      "image/png": "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",
      "text/plain": [
       "<Figure size 640x480 with 1 Axes>"
      ]
     },
     "metadata": {},
     "output_type": "display_data"
    }
   ],
   "source": [
    "# Create the plot\n",
    "plt.figure(figsize=(10, 6))\n",
    "pivot_total_minutes_churn.plot(kind='bar')\n",
    "\n",
    "# Customize the plot\n",
    "plt.title('Average Total Day Minutes by Churn Status')\n",
    "plt.xlabel('Churn Status')\n",
    "plt.ylabel('Average Total Day Minutes')\n",
    "\n",
    "# Add value labels on top of each bar\n",
    "for i, v in enumerate(pivot_total_minutes_churn['total_day_minutes']):\n",
    "    plt.text(i, v, f'{v:.2f}', ha='center', va='bottom' if v > 0 else 'top')\n",
    "\n",
    "# Display the plot\n",
    "plt.tight_layout()\n",
    "plt.show()"
   ]
  },
  {
   "cell_type": "markdown",
   "metadata": {},
   "source": [
    "### Final Report\n",
    "\n",
    "### Learn\n",
    "\n",
    "Excellent work on making it to the end of this project! You applied a variety of data exploration skills to explore and analyze a real-world dataset. There’s one final task remaining.\n",
    "\n",
    "As an analyst, you will often communicate results to stakeholders. One of the project's goals was to create a customer profile that helps identify who would be likely to churn. Next, you will consolidate all the important and relevant insights you have discovered.\n",
    "\n",
    "Communicating your results can often be more important than the exploration. Those results help make data-driven decisions that can positively affect both the business and customers. Plus, it adds great value to your portfolio!\n",
    "\n",
    "### Instructions\n",
    "\n",
    "1. **At the front of your workbook, create a new sheet, and rename it to `Report`.**\n",
    "\n",
    "2. **Inside this sheet, do the following:**\n",
    "   - Copy over two to five tables that contain information most relevant to the customer profile you have identified.\n",
    "   - Underneath each table, briefly describe the table.\n",
    "   - If necessary, highlight the relevant data in the table using accessible colors.\n",
    "   - Copy over five to ten visualizations that you think best help explain the identified profile.\n",
    "   - Make sure each chart has an associated description pointing out its relevance.\n",
    "\n",
    "3. **[Optional] In a Text Box, add your recommendation(s) for what the telecommunication provider could focus on to decrease churn for those customers.**\n",
    "\n",
    "   - This is to only help you better connect your EDA with business needs. It is a very valuable skill to have.\n"
   ]
  },
  {
   "cell_type": "code",
   "execution_count": null,
   "metadata": {},
   "outputs": [],
   "source": []
  },
  {
   "cell_type": "code",
   "execution_count": null,
   "metadata": {},
   "outputs": [],
   "source": []
  },
  {
   "cell_type": "code",
   "execution_count": null,
   "metadata": {},
   "outputs": [],
   "source": []
  },
  {
   "cell_type": "markdown",
   "metadata": {},
   "source": [
    "## Summary\n",
    "\n",
    "In this project, we applied a variety of data exploration and analysis techniques to profile customers who churned. While this project would be a great addition to your portfolio, there's more that you can do to improve your skills.\n",
    "\n",
    "As you know, we modified the original dataset for this project. It has many more variables you could use to improve your analysis and generate better insights to identify customers who are likely to churn:\n",
    "\n",
    "- Do customers spend more time on calls during the day or during the night? How do both relate to churn?\n",
    "- Are customers who have both the voicemail and the international plan more likely to churn because they are being charged too much?\n",
    "- How do the number of months the customer has been with a provider affect their likelihood to churn in relation to other variables?\n",
    "\n",
    "Adding more data to the mix can definitely be a daunting task. Even though more data might not help improve the analysis, you can still get some good practice. So, proceed at your own pace, but definitely aim to extend your analysis even if it's with just one more variable.\n",
    "\n",
    "If you'd like to see what kind of EDA your fellow learners carried out on this project, head over to our Community! You might discover an insight you missed. Or, your feedback could help someone else learn something new. While there, you should share your own project with everyone as well!"
   ]
  },
  {
   "cell_type": "markdown",
   "metadata": {},
   "source": []
  }
 ],
 "metadata": {
  "kernelspec": {
   "display_name": "Python 3 (ipykernel)",
   "language": "python",
   "name": "python3"
  },
  "language_info": {
   "codemirror_mode": {
    "name": "ipython",
    "version": 3
   },
   "file_extension": ".py",
   "mimetype": "text/x-python",
   "name": "python",
   "nbconvert_exporter": "python",
   "pygments_lexer": "ipython3",
   "version": "3.12.4"
  }
 },
 "nbformat": 4,
 "nbformat_minor": 4
}
