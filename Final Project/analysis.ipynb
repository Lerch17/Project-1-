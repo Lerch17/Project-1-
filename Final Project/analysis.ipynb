{
 "cells": [
  {
   "cell_type": "markdown",
   "id": "4f6f735d-f35a-4280-b69c-7ca276f691d6",
   "metadata": {},
   "source": [
    "### Analysis Overview"
   ]
  },
  {
   "cell_type": "code",
   "execution_count": null,
   "id": "477d72a8-be64-4a3f-a9f1-c9664f17bd57",
   "metadata": {},
   "outputs": [],
   "source": [
    "import numpy as np\n",
    "import pandas as pd\n",
    "from pathlib import Path\n",
    "import hvplot.pandas \n",
    "import matplotlib.pyplot as plt\n",
    "import seaborn as sns"
   ]
  },
  {
   "cell_type": "code",
   "execution_count": null,
   "id": "bb9ee805-389c-4e2e-9c58-53fcbfe57397",
   "metadata": {},
   "outputs": [],
   "source": [
    "# import the telcom churn csv data\n",
    "telcom_data_df = pd.read_excel(Path('../resources/telcom_customer_data.xlsx'))"
   ]
  },
  {
   "cell_type": "code",
   "execution_count": null,
   "id": "e108e3f6-9710-4286-b8ef-961d0fbda5f5",
   "metadata": {},
   "outputs": [],
   "source": [
    "# Modify the area_code column by removing the \"area_code_\" part of the string from every entry.\n",
    "telcom_data_df['area_code'] = telcom_data_df['area_code'].str.replace('area_code_', '')\n",
    "# Modify the churn column by replacing the \"yes\" with a 1 and \"no\" with a 0.\n",
    "telcom_data_df['churn'] = telcom_data_df['churn'].replace({'yes': 1, 'no': 0})"
   ]
  },
  {
   "cell_type": "markdown",
   "id": "106d733d-139c-49b7-9eaf-fae0c780e637",
   "metadata": {},
   "source": [
    "### Analyzing Frequency Distributions\n",
    "Here we are creating functions that will later be used to create charts."
   ]
  },
  {
   "cell_type": "code",
   "execution_count": null,
   "id": "e5aa295a-ce58-40f6-ac23-93e1826af699",
   "metadata": {},
   "outputs": [],
   "source": [
    "def pie_label(pct, x):\n",
    "    value = round(pct / 100.*np.sum(x))\n",
    "    return '{:d}\\n({:.0f}%)'.format(value, pct)"
   ]
  },
  {
   "cell_type": "code",
   "execution_count": null,
   "id": "6c5a33a7-f4c3-49d8-b85d-ee0c839dcea1",
   "metadata": {},
   "outputs": [],
   "source": [
    "def save_division(numerator, denumerator):\n",
    "    if numerator == 0  and denumerator == 0:\n",
    "        return 0\n",
    "    elif denumerator == 0:\n",
    "        raise ValueError(\"Division by zero is not allowed\") \n",
    "    else:\n",
    "        return numerator/denumerator"
   ]
  },
  {
   "cell_type": "code",
   "execution_count": null,
   "id": "f4f2ecc5-dfb1-40e5-9922-96a2566c475e",
   "metadata": {},
   "outputs": [],
   "source": [
    "def stacking_bar_label(data):\n",
    "    for idx in data.index:\n",
    "        start = 0\n",
    "        for col in data.columns:\n",
    "            y = data.loc[idx, col]\n",
    "            value = data.loc[idx, col]\n",
    "            total = data.loc[idx, :].sum()\n",
    "            ax.text(\n",
    "                x=idx,\n",
    "                y=(start + y / 2) * 0.95,\n",
    "                s=f'{round(100 * value / total)}%',\n",
    "                fontsize=15,\n",
    "                ha='right',\n",
    "                color='black',\n",
    "                weight='bold'\n",
    "                )\n",
    "            start += y"
   ]
  },
  {
   "cell_type": "code",
   "execution_count": null,
   "id": "de4d4b2e-17a7-45d1-b570-d98df214f64c",
   "metadata": {},
   "outputs": [],
   "source": [
    "def stacking_bar_label(data):\n",
    "    for idx in data.index:\n",
    "        start = 0\n",
    "        for col in data.columns:\n",
    "            y = data.loc[idx, col]\n",
    "            value = data.loc[idx, col]\n",
    "            total = data.loc[idx, :].sum()\n",
    "            ax.text(\n",
    "                x=idx,\n",
    "                y=(start + y / 2) * 0.95,\n",
    "                s=f'{round(100 * value / total)}%',\n",
    "                fontsize=15,\n",
    "                ha='right',\n",
    "                color='black',\n",
    "                weight='bold'\n",
    "                )\n",
    "            start += y"
   ]
  },
  {
   "cell_type": "code",
   "execution_count": null,
   "id": "db26fec5-b7e1-477e-99be-f1ef071442cb",
   "metadata": {},
   "outputs": [],
   "source": [
    "class extract_data():\n",
    "    def __init__(self, chart, interval):\n",
    "        self.chart = chart\n",
    "        self.bin_edges = self.chart.patches\n",
    "        self.interval = interval\n",
    "        self.x_data = [(bin_edge.get_x() + bin_edge.get_width()/2) for bin_edge in self.bin_edges]\n",
    "        self.y_data = [bin_edge.get_height() for bin_edge in self.bin_edges]\n",
    "        self.x_interval = np.array(self.x_data[:interval])\n",
    "        self.y_churn = np.array(self.y_data[:interval])\n",
    "        self.y_total = np.array(self.y_data[:interval]) + np.array(self.y_data[interval:])\n",
    "    \n",
    "    def hist_label(self):\n",
    "        for c, d, e in zip(self.x_interval, self.y_churn, self.y_total):\n",
    "            self.chart.text(\n",
    "                x=c\n",
    "                , y=d\n",
    "                , s=f'{round(100* save_division(d, e))}%'\n",
    "                , fontsize=12\n",
    "                , ha='left'\n",
    "                , va='center'\n",
    "                , color='darkred'\n",
    "                , weight='bold'\n",
    "            )\n",
    "\n",
    "    def line_label(self):\n",
    "        for x, y in zip(self.x_interval, self.y_total):\n",
    "            self.chart.text(\n",
    "                x=x\n",
    "                , y=y\n",
    "                , s='{:.0f}'.format(y)\n",
    "                , fontsize=12\n",
    "                , ha='right'\n",
    "                , va='baseline'\n",
    "                , color='black'\n",
    "                , weight='bold'\n",
    "            )"
   ]
  },
  {
   "cell_type": "code",
   "execution_count": null,
   "id": "3a0e1542-d700-431b-bed2-bc2e787f8857",
   "metadata": {},
   "outputs": [],
   "source": [
    "color_list = [\n",
    "        'lightcoral'\n",
    "        ,'lightseagreen'\n",
    "        , 'springgreen'\n",
    "        , 'deepskyblue'\n",
    "        , 'gray'\n",
    "        , 'violet'\n",
    "        , 'brown'\n",
    "        , 'lightcoral'\n",
    "        , 'deeppink'\n",
    "        , 'peru'\n",
    "        , 'purple'\n",
    "        , 'cyan'\n",
    "        , 'forestgreen'\n",
    "        , 'crimson'\n",
    "        , 'magenta'\n",
    "        ]"
   ]
  },
  {
   "cell_type": "markdown",
   "id": "54e58f68-3a1d-4ee4-97e4-e6f5ab3e4a3c",
   "metadata": {},
   "source": [
    "### Charting"
   ]
  },
  {
   "cell_type": "code",
   "execution_count": null,
   "id": "6dc88157-e18b-47a5-8760-d3b45542f857",
   "metadata": {},
   "outputs": [],
   "source": [
    "telcom_data_df['age'].hvplot(kind='hist', bins=20, title='Age Distribution')"
   ]
  },
  {
   "cell_type": "code",
   "execution_count": null,
   "id": "585e3fc5-040e-4815-9aed-25edec035173",
   "metadata": {},
   "outputs": [],
   "source": [
    "n = 10\n",
    "target_variable = ['number_vmail_messages', 'churn']\n",
    "\n",
    "fig, ax1 = plt.subplots(figsize=(15,7))\n",
    "sns.histplot(data=telcom_data_df, x=target_variable[0], bins=n, stat='count', hue=target_variable[1], multiple='stack', palette=['teal', 'indianred'], ax=ax1)\n",
    "plot = extract_data(ax1, n)\n",
    "plot.hist_label()\n",
    "plot.line_label()\n",
    "sns.lineplot(x=plot.x_interval, y=plot.y_total, marker='o', sort=False, color='royalblue', estimator=None, linewidth=5, ax=ax1)\n",
    "\n",
    "ax1.set_title('Distribution of {} : Customer Churn'.format(target_variable[0]), fontweight='bold', pad=20, fontsize=17)\n",
    "ax1.tick_params(labelsize=12)\n",
    "ax1.set_xlabel('Number mail messages', fontsize=12)\n",
    "ax1.set_ylabel('Frequncy', fontsize=12)\n",
    "ax1.tick_params(labelsize=12)\n",
    "plt.show()"
   ]
  },
  {
   "cell_type": "code",
   "execution_count": null,
   "id": "137e8f52-483c-408f-a65f-04ba86aa65d7",
   "metadata": {},
   "outputs": [],
   "source": [
    "telcom_data_df['total_day_minutes'].hvplot(kind='hist', bins=20, title='Total minutes (day)')"
   ]
  },
  {
   "cell_type": "code",
   "execution_count": null,
   "id": "ad418934-7f4a-427a-928b-e1fa85066ad7",
   "metadata": {},
   "outputs": [],
   "source": [
    "n = 10\n",
    "target_variable = ['total_day_minutes', 'churn']\n",
    "\n",
    "fig, ax1 = plt.subplots(figsize=(15,7))\n",
    "sns.histplot(data=telcom_data_df, x=target_variable[0], bins=n, stat='count', hue=target_variable[1], multiple='stack', palette=['teal', 'indianred'], ax=ax1)\n",
    "plot = extract_data(ax1, n)\n",
    "plot.hist_label()\n",
    "plot.line_label()\n",
    "sns.lineplot(x=plot.x_interval, y=plot.y_total, marker='o', sort=False, color='royalblue', estimator=None, linewidth=5, ax=ax1)\n",
    "\n",
    "ax1.set_title('Distribution of {} : Customer Churn'.format(target_variable[0]), fontweight='bold', pad=20, fontsize=17)\n",
    "ax1.tick_params(labelsize=12)\n",
    "ax1.set_xlabel('Minutes', fontsize=12)\n",
    "ax1.set_ylabel('Frequency', fontsize=12)\n",
    "ax1.tick_params(labelsize=12)\n",
    "\n",
    "plt.show()"
   ]
  },
  {
   "cell_type": "code",
   "execution_count": 75,
   "id": "7dfea1fb-ae88-4893-b380-1507bf7ebf04",
   "metadata": {},
   "outputs": [
    {
     "data": {},
     "metadata": {},
     "output_type": "display_data"
    },
    {
     "data": {
      "application/vnd.holoviews_exec.v0+json": "",
      "text/html": [
       "<div id='p1334'>\n",
       "  <div id=\"bbc186b8-0f02-4b2d-88a7-21dc5fbbf665\" data-root-id=\"p1334\" style=\"display: contents;\"></div>\n",
       "</div>\n",
       "<script type=\"application/javascript\">(function(root) {\n",
       "  var docs_json = {\"79bfee72-1127-4859-8d11-d200c83c95eb\":{\"version\":\"3.3.4\",\"title\":\"Bokeh Application\",\"roots\":[{\"type\":\"object\",\"name\":\"Row\",\"id\":\"p1334\",\"attributes\":{\"name\":\"Row01477\",\"tags\":[\"embedded\"],\"stylesheets\":[\"\\n:host(.pn-loading.pn-arc):before, .pn-loading.pn-arc:before {\\n  background-image: url(\\\"data:image/svg+xml;base64,PHN2ZyB4bWxucz0iaHR0cDovL3d3dy53My5vcmcvMjAwMC9zdmciIHN0eWxlPSJtYXJnaW46IGF1dG87IGJhY2tncm91bmQ6IG5vbmU7IGRpc3BsYXk6IGJsb2NrOyBzaGFwZS1yZW5kZXJpbmc6IGF1dG87IiB2aWV3Qm94PSIwIDAgMTAwIDEwMCIgcHJlc2VydmVBc3BlY3RSYXRpbz0ieE1pZFlNaWQiPiAgPGNpcmNsZSBjeD0iNTAiIGN5PSI1MCIgZmlsbD0ibm9uZSIgc3Ryb2tlPSIjYzNjM2MzIiBzdHJva2Utd2lkdGg9IjEwIiByPSIzNSIgc3Ryb2tlLWRhc2hhcnJheT0iMTY0LjkzMzYxNDMxMzQ2NDE1IDU2Ljk3Nzg3MTQzNzgyMTM4Ij4gICAgPGFuaW1hdGVUcmFuc2Zvcm0gYXR0cmlidXRlTmFtZT0idHJhbnNmb3JtIiB0eXBlPSJyb3RhdGUiIHJlcGVhdENvdW50PSJpbmRlZmluaXRlIiBkdXI9IjFzIiB2YWx1ZXM9IjAgNTAgNTA7MzYwIDUwIDUwIiBrZXlUaW1lcz0iMDsxIj48L2FuaW1hdGVUcmFuc2Zvcm0+ICA8L2NpcmNsZT48L3N2Zz4=\\\");\\n  background-size: auto calc(min(50%, 400px));\\n}\",{\"type\":\"object\",\"name\":\"ImportedStyleSheet\",\"id\":\"p1337\",\"attributes\":{\"url\":\"https://cdn.holoviz.org/panel/1.3.8/dist/css/loading.css\"}},{\"type\":\"object\",\"name\":\"ImportedStyleSheet\",\"id\":\"p1393\",\"attributes\":{\"url\":\"https://cdn.holoviz.org/panel/1.3.8/dist/css/listpanel.css\"}},{\"type\":\"object\",\"name\":\"ImportedStyleSheet\",\"id\":\"p1335\",\"attributes\":{\"url\":\"https://cdn.holoviz.org/panel/1.3.8/dist/bundled/theme/default.css\"}},{\"type\":\"object\",\"name\":\"ImportedStyleSheet\",\"id\":\"p1336\",\"attributes\":{\"url\":\"https://cdn.holoviz.org/panel/1.3.8/dist/bundled/theme/native.css\"}}],\"min_width\":700,\"margin\":0,\"sizing_mode\":\"stretch_width\",\"align\":\"start\",\"children\":[{\"type\":\"object\",\"name\":\"Spacer\",\"id\":\"p1338\",\"attributes\":{\"name\":\"HSpacer01484\",\"stylesheets\":[\"\\n:host(.pn-loading.pn-arc):before, .pn-loading.pn-arc:before {\\n  background-image: url(\\\"data:image/svg+xml;base64,PHN2ZyB4bWxucz0iaHR0cDovL3d3dy53My5vcmcvMjAwMC9zdmciIHN0eWxlPSJtYXJnaW46IGF1dG87IGJhY2tncm91bmQ6IG5vbmU7IGRpc3BsYXk6IGJsb2NrOyBzaGFwZS1yZW5kZXJpbmc6IGF1dG87IiB2aWV3Qm94PSIwIDAgMTAwIDEwMCIgcHJlc2VydmVBc3BlY3RSYXRpbz0ieE1pZFlNaWQiPiAgPGNpcmNsZSBjeD0iNTAiIGN5PSI1MCIgZmlsbD0ibm9uZSIgc3Ryb2tlPSIjYzNjM2MzIiBzdHJva2Utd2lkdGg9IjEwIiByPSIzNSIgc3Ryb2tlLWRhc2hhcnJheT0iMTY0LjkzMzYxNDMxMzQ2NDE1IDU2Ljk3Nzg3MTQzNzgyMTM4Ij4gICAgPGFuaW1hdGVUcmFuc2Zvcm0gYXR0cmlidXRlTmFtZT0idHJhbnNmb3JtIiB0eXBlPSJyb3RhdGUiIHJlcGVhdENvdW50PSJpbmRlZmluaXRlIiBkdXI9IjFzIiB2YWx1ZXM9IjAgNTAgNTA7MzYwIDUwIDUwIiBrZXlUaW1lcz0iMDsxIj48L2FuaW1hdGVUcmFuc2Zvcm0+ICA8L2NpcmNsZT48L3N2Zz4=\\\");\\n  background-size: auto calc(min(50%, 400px));\\n}\",{\"id\":\"p1337\"},{\"id\":\"p1335\"},{\"id\":\"p1336\"}],\"margin\":0,\"sizing_mode\":\"stretch_width\",\"align\":\"start\"}},{\"type\":\"object\",\"name\":\"Figure\",\"id\":\"p1346\",\"attributes\":{\"width\":700,\"height\":300,\"margin\":[5,10],\"sizing_mode\":\"fixed\",\"align\":\"start\",\"x_range\":{\"type\":\"object\",\"name\":\"Range1d\",\"id\":\"p1339\",\"attributes\":{\"tags\":[[[\"total_day_calls\",\"total_day_calls\",null]],[]],\"start\":-7.071428571428571,\"end\":172.07142857142858,\"reset_start\":-7.071428571428571,\"reset_end\":172.07142857142858}},\"y_range\":{\"type\":\"object\",\"name\":\"Range1d\",\"id\":\"p1340\",\"attributes\":{\"tags\":[[[\"total_day_calls_count\",\"Count\",null]],{\"type\":\"map\",\"entries\":[[\"invert_yaxis\",false],[\"autorange\",false]]}],\"end\":826.1,\"reset_start\":0.0,\"reset_end\":826.1}},\"x_scale\":{\"type\":\"object\",\"name\":\"LinearScale\",\"id\":\"p1356\"},\"y_scale\":{\"type\":\"object\",\"name\":\"LinearScale\",\"id\":\"p1357\"},\"title\":{\"type\":\"object\",\"name\":\"Title\",\"id\":\"p1349\",\"attributes\":{\"text\":\"Total Day Calls\",\"text_color\":\"black\",\"text_font_size\":\"12pt\"}},\"renderers\":[{\"type\":\"object\",\"name\":\"GlyphRenderer\",\"id\":\"p1386\",\"attributes\":{\"data_source\":{\"type\":\"object\",\"name\":\"ColumnDataSource\",\"id\":\"p1377\",\"attributes\":{\"selected\":{\"type\":\"object\",\"name\":\"Selection\",\"id\":\"p1378\",\"attributes\":{\"indices\":[],\"line_indices\":[]}},\"selection_policy\":{\"type\":\"object\",\"name\":\"UnionRenderers\",\"id\":\"p1379\"},\"data\":{\"type\":\"map\",\"entries\":[[\"top\",{\"type\":\"ndarray\",\"array\":{\"type\":\"bytes\",\"data\":\"AgAAAAAAAAAAAAAAAQAAAAUAAAASAAAALwAAAG4AAAD1AAAAbAEAABUCAAChAgAA7wIAAFgCAACjAQAA9QAAAI8AAABJAAAADgAAAAcAAAA=\"},\"shape\":[20],\"dtype\":\"int32\",\"order\":\"little\"}],[\"left\",{\"type\":\"ndarray\",\"array\":{\"type\":\"bytes\",\"data\":\"AAAAAAAAAAAAAAAAAIAgQAAAAAAAgDBAAAAAAADAOEAAAAAAAIBAQAAAAAAAoERAAAAAAADASEAAAAAAAOBMQAAAAAAAgFBAAAAAAACQUkAAAAAAAKBUQAAAAAAAsFZAAAAAAADAWEAAAAAAANBaQAAAAAAA4FxAAAAAAADwXkAAAAAAAIBgQAAAAAAAiGFAAAAAAACQYkAAAAAAAJhjQA==\"},\"shape\":[20],\"dtype\":\"float64\",\"order\":\"little\"}],[\"right\",{\"type\":\"ndarray\",\"array\":{\"type\":\"bytes\",\"data\":\"AAAAAACAIEAAAAAAAIAwQAAAAAAAwDhAAAAAAACAQEAAAAAAAKBEQAAAAAAAwEhAAAAAAADgTEAAAAAAAIBQQAAAAAAAkFJAAAAAAACgVEAAAAAAALBWQAAAAAAAwFhAAAAAAADQWkAAAAAAAOBcQAAAAAAA8F5AAAAAAACAYEAAAAAAAIhhQAAAAAAAkGJAAAAAAACYY0AAAAAAAKBkQA==\"},\"shape\":[20],\"dtype\":\"float64\",\"order\":\"little\"}],[\"total_day_calls\",{\"type\":\"ndarray\",\"array\":{\"type\":\"bytes\",\"data\":\"AAAAAACAEEAAAAAAAMAoQAAAAAAAoDRAAAAAAADgPEAAAAAAAJBCQAAAAAAAsEZAAAAAAADQSkAAAAAAAPBOQAAAAAAAiFFAAAAAAACYU0AAAAAAAKhVQAAAAAAAuFdAAAAAAADIWUAAAAAAANhbQAAAAAAA6F1AAAAAAAD4X0AAAAAAAARhQAAAAAAADGJAAAAAAAAUY0AAAAAAABxkQA==\"},\"shape\":[20],\"dtype\":\"float64\",\"order\":\"little\"}],[\"total_day_calls_count\",{\"type\":\"ndarray\",\"array\":{\"type\":\"bytes\",\"data\":\"AgAAAAAAAAAAAAAAAQAAAAUAAAASAAAALwAAAG4AAAD1AAAAbAEAABUCAAChAgAA7wIAAFgCAACjAQAA9QAAAI8AAABJAAAADgAAAAcAAAA=\"},\"shape\":[20],\"dtype\":\"int32\",\"order\":\"little\"}]]}}},\"view\":{\"type\":\"object\",\"name\":\"CDSView\",\"id\":\"p1387\",\"attributes\":{\"filter\":{\"type\":\"object\",\"name\":\"AllIndices\",\"id\":\"p1388\"}}},\"glyph\":{\"type\":\"object\",\"name\":\"Quad\",\"id\":\"p1383\",\"attributes\":{\"tags\":[\"apply_ranges\"],\"left\":{\"type\":\"field\",\"field\":\"left\"},\"right\":{\"type\":\"field\",\"field\":\"right\"},\"bottom\":{\"type\":\"value\",\"value\":0},\"top\":{\"type\":\"field\",\"field\":\"top\"},\"fill_color\":{\"type\":\"value\",\"value\":\"#30a2da\"},\"hatch_color\":{\"type\":\"value\",\"value\":\"#30a2da\"}}},\"selection_glyph\":{\"type\":\"object\",\"name\":\"Quad\",\"id\":\"p1389\",\"attributes\":{\"tags\":[\"apply_ranges\"],\"left\":{\"type\":\"field\",\"field\":\"left\"},\"right\":{\"type\":\"field\",\"field\":\"right\"},\"bottom\":{\"type\":\"value\",\"value\":0},\"top\":{\"type\":\"field\",\"field\":\"top\"},\"line_color\":{\"type\":\"value\",\"value\":\"black\"},\"line_alpha\":{\"type\":\"value\",\"value\":1.0},\"line_width\":{\"type\":\"value\",\"value\":1},\"line_join\":{\"type\":\"value\",\"value\":\"bevel\"},\"line_cap\":{\"type\":\"value\",\"value\":\"butt\"},\"line_dash\":{\"type\":\"value\",\"value\":[]},\"line_dash_offset\":{\"type\":\"value\",\"value\":0},\"fill_color\":{\"type\":\"value\",\"value\":\"#30a2da\"},\"fill_alpha\":{\"type\":\"value\",\"value\":1.0},\"hatch_color\":{\"type\":\"value\",\"value\":\"#30a2da\"},\"hatch_alpha\":{\"type\":\"value\",\"value\":1.0},\"hatch_scale\":{\"type\":\"value\",\"value\":12.0},\"hatch_pattern\":{\"type\":\"value\",\"value\":null},\"hatch_weight\":{\"type\":\"value\",\"value\":1.0}}},\"nonselection_glyph\":{\"type\":\"object\",\"name\":\"Quad\",\"id\":\"p1384\",\"attributes\":{\"tags\":[\"apply_ranges\"],\"left\":{\"type\":\"field\",\"field\":\"left\"},\"right\":{\"type\":\"field\",\"field\":\"right\"},\"bottom\":{\"type\":\"value\",\"value\":0},\"top\":{\"type\":\"field\",\"field\":\"top\"},\"line_alpha\":{\"type\":\"value\",\"value\":0.1},\"fill_color\":{\"type\":\"value\",\"value\":\"#30a2da\"},\"fill_alpha\":{\"type\":\"value\",\"value\":0.1},\"hatch_color\":{\"type\":\"value\",\"value\":\"#30a2da\"},\"hatch_alpha\":{\"type\":\"value\",\"value\":0.1}}},\"muted_glyph\":{\"type\":\"object\",\"name\":\"Quad\",\"id\":\"p1385\",\"attributes\":{\"tags\":[\"apply_ranges\"],\"left\":{\"type\":\"field\",\"field\":\"left\"},\"right\":{\"type\":\"field\",\"field\":\"right\"},\"bottom\":{\"type\":\"value\",\"value\":0},\"top\":{\"type\":\"field\",\"field\":\"top\"},\"line_alpha\":{\"type\":\"value\",\"value\":0.2},\"fill_color\":{\"type\":\"value\",\"value\":\"#30a2da\"},\"fill_alpha\":{\"type\":\"value\",\"value\":0.2},\"hatch_color\":{\"type\":\"value\",\"value\":\"#30a2da\"},\"hatch_alpha\":{\"type\":\"value\",\"value\":0.2}}}}}],\"toolbar\":{\"type\":\"object\",\"name\":\"Toolbar\",\"id\":\"p1355\",\"attributes\":{\"tools\":[{\"type\":\"object\",\"name\":\"WheelZoomTool\",\"id\":\"p1344\",\"attributes\":{\"tags\":[\"hv_created\"],\"renderers\":\"auto\",\"zoom_together\":\"none\"}},{\"type\":\"object\",\"name\":\"HoverTool\",\"id\":\"p1345\",\"attributes\":{\"tags\":[\"hv_created\"],\"renderers\":[{\"id\":\"p1386\"}],\"tooltips\":[[\"total_day_calls\",\"@{total_day_calls}\"],[\"Count\",\"@{total_day_calls_count}\"]]}},{\"type\":\"object\",\"name\":\"SaveTool\",\"id\":\"p1368\"},{\"type\":\"object\",\"name\":\"PanTool\",\"id\":\"p1369\"},{\"type\":\"object\",\"name\":\"BoxZoomTool\",\"id\":\"p1370\",\"attributes\":{\"overlay\":{\"type\":\"object\",\"name\":\"BoxAnnotation\",\"id\":\"p1371\",\"attributes\":{\"syncable\":false,\"level\":\"overlay\",\"visible\":false,\"left\":{\"type\":\"number\",\"value\":\"nan\"},\"right\":{\"type\":\"number\",\"value\":\"nan\"},\"top\":{\"type\":\"number\",\"value\":\"nan\"},\"bottom\":{\"type\":\"number\",\"value\":\"nan\"},\"left_units\":\"canvas\",\"right_units\":\"canvas\",\"top_units\":\"canvas\",\"bottom_units\":\"canvas\",\"line_color\":\"black\",\"line_alpha\":1.0,\"line_width\":2,\"line_dash\":[4,4],\"fill_color\":\"lightgrey\",\"fill_alpha\":0.5}}}},{\"type\":\"object\",\"name\":\"ResetTool\",\"id\":\"p1376\"}],\"active_drag\":{\"id\":\"p1369\"},\"active_scroll\":{\"id\":\"p1344\"}}},\"left\":[{\"type\":\"object\",\"name\":\"LinearAxis\",\"id\":\"p1363\",\"attributes\":{\"ticker\":{\"type\":\"object\",\"name\":\"BasicTicker\",\"id\":\"p1364\",\"attributes\":{\"mantissas\":[1,2,5]}},\"formatter\":{\"type\":\"object\",\"name\":\"BasicTickFormatter\",\"id\":\"p1365\"},\"axis_label\":\"\",\"major_label_policy\":{\"type\":\"object\",\"name\":\"AllLabels\",\"id\":\"p1366\"}}}],\"below\":[{\"type\":\"object\",\"name\":\"LinearAxis\",\"id\":\"p1358\",\"attributes\":{\"ticker\":{\"type\":\"object\",\"name\":\"BasicTicker\",\"id\":\"p1359\",\"attributes\":{\"mantissas\":[1,2,5]}},\"formatter\":{\"type\":\"object\",\"name\":\"BasicTickFormatter\",\"id\":\"p1360\"},\"axis_label\":\"total_day_calls\",\"major_label_policy\":{\"type\":\"object\",\"name\":\"AllLabels\",\"id\":\"p1361\"}}}],\"center\":[{\"type\":\"object\",\"name\":\"Grid\",\"id\":\"p1362\",\"attributes\":{\"axis\":{\"id\":\"p1358\"},\"grid_line_color\":null}},{\"type\":\"object\",\"name\":\"Grid\",\"id\":\"p1367\",\"attributes\":{\"dimension\":1,\"axis\":{\"id\":\"p1363\"},\"grid_line_color\":null}}],\"min_border_top\":10,\"min_border_bottom\":10,\"min_border_left\":10,\"min_border_right\":10,\"output_backend\":\"webgl\"}},{\"type\":\"object\",\"name\":\"Spacer\",\"id\":\"p1391\",\"attributes\":{\"name\":\"HSpacer01485\",\"stylesheets\":[\"\\n:host(.pn-loading.pn-arc):before, .pn-loading.pn-arc:before {\\n  background-image: url(\\\"data:image/svg+xml;base64,PHN2ZyB4bWxucz0iaHR0cDovL3d3dy53My5vcmcvMjAwMC9zdmciIHN0eWxlPSJtYXJnaW46IGF1dG87IGJhY2tncm91bmQ6IG5vbmU7IGRpc3BsYXk6IGJsb2NrOyBzaGFwZS1yZW5kZXJpbmc6IGF1dG87IiB2aWV3Qm94PSIwIDAgMTAwIDEwMCIgcHJlc2VydmVBc3BlY3RSYXRpbz0ieE1pZFlNaWQiPiAgPGNpcmNsZSBjeD0iNTAiIGN5PSI1MCIgZmlsbD0ibm9uZSIgc3Ryb2tlPSIjYzNjM2MzIiBzdHJva2Utd2lkdGg9IjEwIiByPSIzNSIgc3Ryb2tlLWRhc2hhcnJheT0iMTY0LjkzMzYxNDMxMzQ2NDE1IDU2Ljk3Nzg3MTQzNzgyMTM4Ij4gICAgPGFuaW1hdGVUcmFuc2Zvcm0gYXR0cmlidXRlTmFtZT0idHJhbnNmb3JtIiB0eXBlPSJyb3RhdGUiIHJlcGVhdENvdW50PSJpbmRlZmluaXRlIiBkdXI9IjFzIiB2YWx1ZXM9IjAgNTAgNTA7MzYwIDUwIDUwIiBrZXlUaW1lcz0iMDsxIj48L2FuaW1hdGVUcmFuc2Zvcm0+ICA8L2NpcmNsZT48L3N2Zz4=\\\");\\n  background-size: auto calc(min(50%, 400px));\\n}\",{\"id\":\"p1337\"},{\"id\":\"p1335\"},{\"id\":\"p1336\"}],\"margin\":0,\"sizing_mode\":\"stretch_width\",\"align\":\"start\"}}]}}],\"defs\":[{\"type\":\"model\",\"name\":\"ReactiveHTML1\"},{\"type\":\"model\",\"name\":\"FlexBox1\",\"properties\":[{\"name\":\"align_content\",\"kind\":\"Any\",\"default\":\"flex-start\"},{\"name\":\"align_items\",\"kind\":\"Any\",\"default\":\"flex-start\"},{\"name\":\"flex_direction\",\"kind\":\"Any\",\"default\":\"row\"},{\"name\":\"flex_wrap\",\"kind\":\"Any\",\"default\":\"wrap\"},{\"name\":\"justify_content\",\"kind\":\"Any\",\"default\":\"flex-start\"}]},{\"type\":\"model\",\"name\":\"FloatPanel1\",\"properties\":[{\"name\":\"config\",\"kind\":\"Any\",\"default\":{\"type\":\"map\"}},{\"name\":\"contained\",\"kind\":\"Any\",\"default\":true},{\"name\":\"position\",\"kind\":\"Any\",\"default\":\"right-top\"},{\"name\":\"offsetx\",\"kind\":\"Any\",\"default\":null},{\"name\":\"offsety\",\"kind\":\"Any\",\"default\":null},{\"name\":\"theme\",\"kind\":\"Any\",\"default\":\"primary\"},{\"name\":\"status\",\"kind\":\"Any\",\"default\":\"normalized\"}]},{\"type\":\"model\",\"name\":\"GridStack1\",\"properties\":[{\"name\":\"mode\",\"kind\":\"Any\",\"default\":\"warn\"},{\"name\":\"ncols\",\"kind\":\"Any\",\"default\":null},{\"name\":\"nrows\",\"kind\":\"Any\",\"default\":null},{\"name\":\"allow_resize\",\"kind\":\"Any\",\"default\":true},{\"name\":\"allow_drag\",\"kind\":\"Any\",\"default\":true},{\"name\":\"state\",\"kind\":\"Any\",\"default\":[]}]},{\"type\":\"model\",\"name\":\"drag1\",\"properties\":[{\"name\":\"slider_width\",\"kind\":\"Any\",\"default\":5},{\"name\":\"slider_color\",\"kind\":\"Any\",\"default\":\"black\"},{\"name\":\"value\",\"kind\":\"Any\",\"default\":50}]},{\"type\":\"model\",\"name\":\"click1\",\"properties\":[{\"name\":\"terminal_output\",\"kind\":\"Any\",\"default\":\"\"},{\"name\":\"debug_name\",\"kind\":\"Any\",\"default\":\"\"},{\"name\":\"clears\",\"kind\":\"Any\",\"default\":0}]},{\"type\":\"model\",\"name\":\"copy_to_clipboard1\",\"properties\":[{\"name\":\"fill\",\"kind\":\"Any\",\"default\":\"none\"},{\"name\":\"value\",\"kind\":\"Any\",\"default\":null}]},{\"type\":\"model\",\"name\":\"FastWrapper1\",\"properties\":[{\"name\":\"object\",\"kind\":\"Any\",\"default\":null},{\"name\":\"style\",\"kind\":\"Any\",\"default\":null}]},{\"type\":\"model\",\"name\":\"NotificationAreaBase1\",\"properties\":[{\"name\":\"js_events\",\"kind\":\"Any\",\"default\":{\"type\":\"map\"}},{\"name\":\"position\",\"kind\":\"Any\",\"default\":\"bottom-right\"},{\"name\":\"_clear\",\"kind\":\"Any\",\"default\":0}]},{\"type\":\"model\",\"name\":\"NotificationArea1\",\"properties\":[{\"name\":\"js_events\",\"kind\":\"Any\",\"default\":{\"type\":\"map\"}},{\"name\":\"notifications\",\"kind\":\"Any\",\"default\":[]},{\"name\":\"position\",\"kind\":\"Any\",\"default\":\"bottom-right\"},{\"name\":\"_clear\",\"kind\":\"Any\",\"default\":0},{\"name\":\"types\",\"kind\":\"Any\",\"default\":[{\"type\":\"map\",\"entries\":[[\"type\",\"warning\"],[\"background\",\"#ffc107\"],[\"icon\",{\"type\":\"map\",\"entries\":[[\"className\",\"fas fa-exclamation-triangle\"],[\"tagName\",\"i\"],[\"color\",\"white\"]]}]]},{\"type\":\"map\",\"entries\":[[\"type\",\"info\"],[\"background\",\"#007bff\"],[\"icon\",{\"type\":\"map\",\"entries\":[[\"className\",\"fas fa-info-circle\"],[\"tagName\",\"i\"],[\"color\",\"white\"]]}]]}]}]},{\"type\":\"model\",\"name\":\"Notification\",\"properties\":[{\"name\":\"background\",\"kind\":\"Any\",\"default\":null},{\"name\":\"duration\",\"kind\":\"Any\",\"default\":3000},{\"name\":\"icon\",\"kind\":\"Any\",\"default\":null},{\"name\":\"message\",\"kind\":\"Any\",\"default\":\"\"},{\"name\":\"notification_type\",\"kind\":\"Any\",\"default\":null},{\"name\":\"_destroyed\",\"kind\":\"Any\",\"default\":false}]},{\"type\":\"model\",\"name\":\"TemplateActions1\",\"properties\":[{\"name\":\"open_modal\",\"kind\":\"Any\",\"default\":0},{\"name\":\"close_modal\",\"kind\":\"Any\",\"default\":0}]},{\"type\":\"model\",\"name\":\"BootstrapTemplateActions1\",\"properties\":[{\"name\":\"open_modal\",\"kind\":\"Any\",\"default\":0},{\"name\":\"close_modal\",\"kind\":\"Any\",\"default\":0}]},{\"type\":\"model\",\"name\":\"MaterialTemplateActions1\",\"properties\":[{\"name\":\"open_modal\",\"kind\":\"Any\",\"default\":0},{\"name\":\"close_modal\",\"kind\":\"Any\",\"default\":0}]}]}};\n",
       "  var render_items = [{\"docid\":\"79bfee72-1127-4859-8d11-d200c83c95eb\",\"roots\":{\"p1334\":\"bbc186b8-0f02-4b2d-88a7-21dc5fbbf665\"},\"root_ids\":[\"p1334\"]}];\n",
       "  var docs = Object.values(docs_json)\n",
       "  if (!docs) {\n",
       "    return\n",
       "  }\n",
       "  const py_version = docs[0].version.replace('rc', '-rc.').replace('.dev', '-dev.')\n",
       "  function embed_document(root) {\n",
       "    var Bokeh = get_bokeh(root)\n",
       "    Bokeh.embed.embed_items_notebook(docs_json, render_items);\n",
       "    for (const render_item of render_items) {\n",
       "      for (const root_id of render_item.root_ids) {\n",
       "\tconst id_el = document.getElementById(root_id)\n",
       "\tif (id_el.children.length && (id_el.children[0].className === 'bk-root')) {\n",
       "\t  const root_el = id_el.children[0]\n",
       "\t  root_el.id = root_el.id + '-rendered'\n",
       "\t}\n",
       "      }\n",
       "    }\n",
       "  }\n",
       "  function get_bokeh(root) {\n",
       "    if (root.Bokeh === undefined) {\n",
       "      return null\n",
       "    } else if (root.Bokeh.version !== py_version) {\n",
       "      if (root.Bokeh.versions === undefined || !root.Bokeh.versions.has(py_version)) {\n",
       "\treturn null\n",
       "      }\n",
       "      return root.Bokeh.versions.get(py_version);\n",
       "    } else if (root.Bokeh.version === py_version) {\n",
       "      return root.Bokeh\n",
       "    }\n",
       "    return null\n",
       "  }\n",
       "  function is_loaded(root) {\n",
       "    var Bokeh = get_bokeh(root)\n",
       "    return (Bokeh != null && Bokeh.Panel !== undefined)\n",
       "  }\n",
       "  if (is_loaded(root)) {\n",
       "    embed_document(root);\n",
       "  } else {\n",
       "    var attempts = 0;\n",
       "    var timer = setInterval(function(root) {\n",
       "      if (is_loaded(root)) {\n",
       "        clearInterval(timer);\n",
       "        embed_document(root);\n",
       "      } else if (document.readyState == \"complete\") {\n",
       "        attempts++;\n",
       "        if (attempts > 200) {\n",
       "          clearInterval(timer);\n",
       "\t  var Bokeh = get_bokeh(root)\n",
       "\t  if (Bokeh == null || Bokeh.Panel == null) {\n",
       "            console.warn(\"Panel: ERROR: Unable to run Panel code because Bokeh or Panel library is missing\");\n",
       "\t  } else {\n",
       "\t    console.warn(\"Panel: WARNING: Attempting to render but not all required libraries could be resolved.\")\n",
       "\t    embed_document(root)\n",
       "\t  }\n",
       "        }\n",
       "      }\n",
       "    }, 25, root)\n",
       "  }\n",
       "})(window);</script>"
      ],
      "text/plain": [
       ":Histogram   [total_day_calls]   (total_day_calls_count)"
      ]
     },
     "execution_count": 75,
     "metadata": {
      "application/vnd.holoviews_exec.v0+json": {
       "id": "p1334"
      }
     },
     "output_type": "execute_result"
    }
   ],
   "source": [
    "telcom_data_df['total_day_calls'].hvplot(kind='hist', bins=20, title='Total Day Calls')"
   ]
  },
  {
   "cell_type": "code",
   "execution_count": 76,
   "id": "bee8634f-333b-4ab9-85ac-9c4960de4c5c",
   "metadata": {},
   "outputs": [
    {
     "data": {},
     "metadata": {},
     "output_type": "display_data"
    },
    {
     "data": {
      "application/vnd.holoviews_exec.v0+json": "",
      "text/html": [
       "<div id='p1400'>\n",
       "  <div id=\"d27cc36e-ada6-4c66-b8ca-33c6aeac16a7\" data-root-id=\"p1400\" style=\"display: contents;\"></div>\n",
       "</div>\n",
       "<script type=\"application/javascript\">(function(root) {\n",
       "  var docs_json = {\"2d3088d1-2ff2-432b-b919-50e8560425c7\":{\"version\":\"3.3.4\",\"title\":\"Bokeh Application\",\"roots\":[{\"type\":\"object\",\"name\":\"Row\",\"id\":\"p1400\",\"attributes\":{\"name\":\"Row01585\",\"tags\":[\"embedded\"],\"stylesheets\":[\"\\n:host(.pn-loading.pn-arc):before, .pn-loading.pn-arc:before {\\n  background-image: url(\\\"data:image/svg+xml;base64,PHN2ZyB4bWxucz0iaHR0cDovL3d3dy53My5vcmcvMjAwMC9zdmciIHN0eWxlPSJtYXJnaW46IGF1dG87IGJhY2tncm91bmQ6IG5vbmU7IGRpc3BsYXk6IGJsb2NrOyBzaGFwZS1yZW5kZXJpbmc6IGF1dG87IiB2aWV3Qm94PSIwIDAgMTAwIDEwMCIgcHJlc2VydmVBc3BlY3RSYXRpbz0ieE1pZFlNaWQiPiAgPGNpcmNsZSBjeD0iNTAiIGN5PSI1MCIgZmlsbD0ibm9uZSIgc3Ryb2tlPSIjYzNjM2MzIiBzdHJva2Utd2lkdGg9IjEwIiByPSIzNSIgc3Ryb2tlLWRhc2hhcnJheT0iMTY0LjkzMzYxNDMxMzQ2NDE1IDU2Ljk3Nzg3MTQzNzgyMTM4Ij4gICAgPGFuaW1hdGVUcmFuc2Zvcm0gYXR0cmlidXRlTmFtZT0idHJhbnNmb3JtIiB0eXBlPSJyb3RhdGUiIHJlcGVhdENvdW50PSJpbmRlZmluaXRlIiBkdXI9IjFzIiB2YWx1ZXM9IjAgNTAgNTA7MzYwIDUwIDUwIiBrZXlUaW1lcz0iMDsxIj48L2FuaW1hdGVUcmFuc2Zvcm0+ICA8L2NpcmNsZT48L3N2Zz4=\\\");\\n  background-size: auto calc(min(50%, 400px));\\n}\",{\"type\":\"object\",\"name\":\"ImportedStyleSheet\",\"id\":\"p1403\",\"attributes\":{\"url\":\"https://cdn.holoviz.org/panel/1.3.8/dist/css/loading.css\"}},{\"type\":\"object\",\"name\":\"ImportedStyleSheet\",\"id\":\"p1459\",\"attributes\":{\"url\":\"https://cdn.holoviz.org/panel/1.3.8/dist/css/listpanel.css\"}},{\"type\":\"object\",\"name\":\"ImportedStyleSheet\",\"id\":\"p1401\",\"attributes\":{\"url\":\"https://cdn.holoviz.org/panel/1.3.8/dist/bundled/theme/default.css\"}},{\"type\":\"object\",\"name\":\"ImportedStyleSheet\",\"id\":\"p1402\",\"attributes\":{\"url\":\"https://cdn.holoviz.org/panel/1.3.8/dist/bundled/theme/native.css\"}}],\"min_width\":700,\"margin\":0,\"sizing_mode\":\"stretch_width\",\"align\":\"start\",\"children\":[{\"type\":\"object\",\"name\":\"Spacer\",\"id\":\"p1404\",\"attributes\":{\"name\":\"HSpacer01592\",\"stylesheets\":[\"\\n:host(.pn-loading.pn-arc):before, .pn-loading.pn-arc:before {\\n  background-image: url(\\\"data:image/svg+xml;base64,PHN2ZyB4bWxucz0iaHR0cDovL3d3dy53My5vcmcvMjAwMC9zdmciIHN0eWxlPSJtYXJnaW46IGF1dG87IGJhY2tncm91bmQ6IG5vbmU7IGRpc3BsYXk6IGJsb2NrOyBzaGFwZS1yZW5kZXJpbmc6IGF1dG87IiB2aWV3Qm94PSIwIDAgMTAwIDEwMCIgcHJlc2VydmVBc3BlY3RSYXRpbz0ieE1pZFlNaWQiPiAgPGNpcmNsZSBjeD0iNTAiIGN5PSI1MCIgZmlsbD0ibm9uZSIgc3Ryb2tlPSIjYzNjM2MzIiBzdHJva2Utd2lkdGg9IjEwIiByPSIzNSIgc3Ryb2tlLWRhc2hhcnJheT0iMTY0LjkzMzYxNDMxMzQ2NDE1IDU2Ljk3Nzg3MTQzNzgyMTM4Ij4gICAgPGFuaW1hdGVUcmFuc2Zvcm0gYXR0cmlidXRlTmFtZT0idHJhbnNmb3JtIiB0eXBlPSJyb3RhdGUiIHJlcGVhdENvdW50PSJpbmRlZmluaXRlIiBkdXI9IjFzIiB2YWx1ZXM9IjAgNTAgNTA7MzYwIDUwIDUwIiBrZXlUaW1lcz0iMDsxIj48L2FuaW1hdGVUcmFuc2Zvcm0+ICA8L2NpcmNsZT48L3N2Zz4=\\\");\\n  background-size: auto calc(min(50%, 400px));\\n}\",{\"id\":\"p1403\"},{\"id\":\"p1401\"},{\"id\":\"p1402\"}],\"margin\":0,\"sizing_mode\":\"stretch_width\",\"align\":\"start\"}},{\"type\":\"object\",\"name\":\"Figure\",\"id\":\"p1412\",\"attributes\":{\"width\":700,\"height\":300,\"margin\":[5,10],\"sizing_mode\":\"fixed\",\"align\":\"start\",\"x_range\":{\"type\":\"object\",\"name\":\"Range1d\",\"id\":\"p1405\",\"attributes\":{\"tags\":[[[\"total_day_charge\",\"total_day_charge\",null]],[]],\"start\":-2.561142857142857,\"end\":62.32114285714285,\"reset_start\":-2.561142857142857,\"reset_end\":62.32114285714285}},\"y_range\":{\"type\":\"object\",\"name\":\"Range1d\",\"id\":\"p1406\",\"attributes\":{\"tags\":[[[\"total_day_charge_count\",\"Count\",null]],{\"type\":\"map\",\"entries\":[[\"invert_yaxis\",false],[\"autorange\",false]]}],\"end\":612.0,\"reset_start\":0.0,\"reset_end\":612.0}},\"x_scale\":{\"type\":\"object\",\"name\":\"LinearScale\",\"id\":\"p1422\"},\"y_scale\":{\"type\":\"object\",\"name\":\"LinearScale\",\"id\":\"p1423\"},\"title\":{\"type\":\"object\",\"name\":\"Title\",\"id\":\"p1415\",\"attributes\":{\"text\":\"Total Day Charge\",\"text_color\":\"black\",\"text_font_size\":\"12pt\"}},\"renderers\":[{\"type\":\"object\",\"name\":\"GlyphRenderer\",\"id\":\"p1452\",\"attributes\":{\"data_source\":{\"type\":\"object\",\"name\":\"ColumnDataSource\",\"id\":\"p1443\",\"attributes\":{\"selected\":{\"type\":\"object\",\"name\":\"Selection\",\"id\":\"p1444\",\"attributes\":{\"indices\":[],\"line_indices\":[]}},\"selection_policy\":{\"type\":\"object\",\"name\":\"UnionRenderers\",\"id\":\"p1445\"},\"data\":{\"type\":\"map\",\"entries\":[[\"top\",{\"type\":\"ndarray\",\"array\":{\"type\":\"bytes\",\"data\":\"BwAAAAcAAAAYAAAAOQAAAGEAAACeAAAA+AAAAIEBAADpAQAA8wEAAC0CAAD0AQAAuQEAADgBAAC+AAAAlwAAAEMAAAAjAAAAEwAAAAcAAAA=\"},\"shape\":[20],\"dtype\":\"int32\",\"order\":\"little\"}],[\"left\",{\"type\":\"ndarray\",\"array\":{\"type\":\"bytes\",\"data\":\"AAAAAAAAAACBlUOLbOcHQIGVQ4ts5xdAIbByaJHtIUCBlUOLbOcnQOF6FK5H4S1AIbByaJHtMUDRItv5fuo0QIGVQ4ts5zdAMQisHFrkOkDhehSuR+E9QMl2vp8ab0BAIbByaJHtQUB56SYxCGxDQNEi2/l+6kRAKVyPwvVoRkCBlUOLbOdHQNnO91PjZUlAMQisHFrkSkCJQWDl0GJMQA==\"},\"shape\":[20],\"dtype\":\"float64\",\"order\":\"little\"}],[\"right\",{\"type\":\"ndarray\",\"array\":{\"type\":\"bytes\",\"data\":\"gZVDi2znB0CBlUOLbOcXQCGwcmiR7SFAgZVDi2znJ0DhehSuR+EtQCGwcmiR7TFA0SLb+X7qNECBlUOLbOc3QDEIrBxa5DpA4XoUrkfhPUDJdr6fGm9AQCGwcmiR7UFAeekmMQhsQ0DRItv5fupEQClcj8L1aEZAgZVDi2znR0DZzvdT42VJQDEIrBxa5EpAiUFg5dBiTEDhehSuR+FNQA==\"},\"shape\":[20],\"dtype\":\"float64\",\"order\":\"little\"}],[\"total_day_charge\",{\"type\":\"ndarray\",\"array\":{\"type\":\"bytes\",\"data\":\"gZVDi2zn9z8hsHJoke0RQOJ6FK5H4R1A0SLb+X7qJEAxCKwcWuQqQMl2vp8abzBAeekmMQhsM0ApXI/C9Wg2QNnO91PjZTlAiUFg5dBiPEA6tMh2vl8/QHWTGARWLkFAzczMzMysQkAlBoGVQytEQH0/NV66qUVA1XjpJjEoR0Atsp3vp6ZIQIXrUbgeJUpA3SQGgZWjS0A1XrpJDCJNQA==\"},\"shape\":[20],\"dtype\":\"float64\",\"order\":\"little\"}],[\"total_day_charge_count\",{\"type\":\"ndarray\",\"array\":{\"type\":\"bytes\",\"data\":\"BwAAAAcAAAAYAAAAOQAAAGEAAACeAAAA+AAAAIEBAADpAQAA8wEAAC0CAAD0AQAAuQEAADgBAAC+AAAAlwAAAEMAAAAjAAAAEwAAAAcAAAA=\"},\"shape\":[20],\"dtype\":\"int32\",\"order\":\"little\"}]]}}},\"view\":{\"type\":\"object\",\"name\":\"CDSView\",\"id\":\"p1453\",\"attributes\":{\"filter\":{\"type\":\"object\",\"name\":\"AllIndices\",\"id\":\"p1454\"}}},\"glyph\":{\"type\":\"object\",\"name\":\"Quad\",\"id\":\"p1449\",\"attributes\":{\"tags\":[\"apply_ranges\"],\"left\":{\"type\":\"field\",\"field\":\"left\"},\"right\":{\"type\":\"field\",\"field\":\"right\"},\"bottom\":{\"type\":\"value\",\"value\":0},\"top\":{\"type\":\"field\",\"field\":\"top\"},\"fill_color\":{\"type\":\"value\",\"value\":\"#30a2da\"},\"hatch_color\":{\"type\":\"value\",\"value\":\"#30a2da\"}}},\"selection_glyph\":{\"type\":\"object\",\"name\":\"Quad\",\"id\":\"p1455\",\"attributes\":{\"tags\":[\"apply_ranges\"],\"left\":{\"type\":\"field\",\"field\":\"left\"},\"right\":{\"type\":\"field\",\"field\":\"right\"},\"bottom\":{\"type\":\"value\",\"value\":0},\"top\":{\"type\":\"field\",\"field\":\"top\"},\"line_color\":{\"type\":\"value\",\"value\":\"black\"},\"line_alpha\":{\"type\":\"value\",\"value\":1.0},\"line_width\":{\"type\":\"value\",\"value\":1},\"line_join\":{\"type\":\"value\",\"value\":\"bevel\"},\"line_cap\":{\"type\":\"value\",\"value\":\"butt\"},\"line_dash\":{\"type\":\"value\",\"value\":[]},\"line_dash_offset\":{\"type\":\"value\",\"value\":0},\"fill_color\":{\"type\":\"value\",\"value\":\"#30a2da\"},\"fill_alpha\":{\"type\":\"value\",\"value\":1.0},\"hatch_color\":{\"type\":\"value\",\"value\":\"#30a2da\"},\"hatch_alpha\":{\"type\":\"value\",\"value\":1.0},\"hatch_scale\":{\"type\":\"value\",\"value\":12.0},\"hatch_pattern\":{\"type\":\"value\",\"value\":null},\"hatch_weight\":{\"type\":\"value\",\"value\":1.0}}},\"nonselection_glyph\":{\"type\":\"object\",\"name\":\"Quad\",\"id\":\"p1450\",\"attributes\":{\"tags\":[\"apply_ranges\"],\"left\":{\"type\":\"field\",\"field\":\"left\"},\"right\":{\"type\":\"field\",\"field\":\"right\"},\"bottom\":{\"type\":\"value\",\"value\":0},\"top\":{\"type\":\"field\",\"field\":\"top\"},\"line_alpha\":{\"type\":\"value\",\"value\":0.1},\"fill_color\":{\"type\":\"value\",\"value\":\"#30a2da\"},\"fill_alpha\":{\"type\":\"value\",\"value\":0.1},\"hatch_color\":{\"type\":\"value\",\"value\":\"#30a2da\"},\"hatch_alpha\":{\"type\":\"value\",\"value\":0.1}}},\"muted_glyph\":{\"type\":\"object\",\"name\":\"Quad\",\"id\":\"p1451\",\"attributes\":{\"tags\":[\"apply_ranges\"],\"left\":{\"type\":\"field\",\"field\":\"left\"},\"right\":{\"type\":\"field\",\"field\":\"right\"},\"bottom\":{\"type\":\"value\",\"value\":0},\"top\":{\"type\":\"field\",\"field\":\"top\"},\"line_alpha\":{\"type\":\"value\",\"value\":0.2},\"fill_color\":{\"type\":\"value\",\"value\":\"#30a2da\"},\"fill_alpha\":{\"type\":\"value\",\"value\":0.2},\"hatch_color\":{\"type\":\"value\",\"value\":\"#30a2da\"},\"hatch_alpha\":{\"type\":\"value\",\"value\":0.2}}}}}],\"toolbar\":{\"type\":\"object\",\"name\":\"Toolbar\",\"id\":\"p1421\",\"attributes\":{\"tools\":[{\"type\":\"object\",\"name\":\"WheelZoomTool\",\"id\":\"p1410\",\"attributes\":{\"tags\":[\"hv_created\"],\"renderers\":\"auto\",\"zoom_together\":\"none\"}},{\"type\":\"object\",\"name\":\"HoverTool\",\"id\":\"p1411\",\"attributes\":{\"tags\":[\"hv_created\"],\"renderers\":[{\"id\":\"p1452\"}],\"tooltips\":[[\"total_day_charge\",\"@{total_day_charge}\"],[\"Count\",\"@{total_day_charge_count}\"]]}},{\"type\":\"object\",\"name\":\"SaveTool\",\"id\":\"p1434\"},{\"type\":\"object\",\"name\":\"PanTool\",\"id\":\"p1435\"},{\"type\":\"object\",\"name\":\"BoxZoomTool\",\"id\":\"p1436\",\"attributes\":{\"overlay\":{\"type\":\"object\",\"name\":\"BoxAnnotation\",\"id\":\"p1437\",\"attributes\":{\"syncable\":false,\"level\":\"overlay\",\"visible\":false,\"left\":{\"type\":\"number\",\"value\":\"nan\"},\"right\":{\"type\":\"number\",\"value\":\"nan\"},\"top\":{\"type\":\"number\",\"value\":\"nan\"},\"bottom\":{\"type\":\"number\",\"value\":\"nan\"},\"left_units\":\"canvas\",\"right_units\":\"canvas\",\"top_units\":\"canvas\",\"bottom_units\":\"canvas\",\"line_color\":\"black\",\"line_alpha\":1.0,\"line_width\":2,\"line_dash\":[4,4],\"fill_color\":\"lightgrey\",\"fill_alpha\":0.5}}}},{\"type\":\"object\",\"name\":\"ResetTool\",\"id\":\"p1442\"}],\"active_drag\":{\"id\":\"p1435\"},\"active_scroll\":{\"id\":\"p1410\"}}},\"left\":[{\"type\":\"object\",\"name\":\"LinearAxis\",\"id\":\"p1429\",\"attributes\":{\"ticker\":{\"type\":\"object\",\"name\":\"BasicTicker\",\"id\":\"p1430\",\"attributes\":{\"mantissas\":[1,2,5]}},\"formatter\":{\"type\":\"object\",\"name\":\"BasicTickFormatter\",\"id\":\"p1431\"},\"axis_label\":\"\",\"major_label_policy\":{\"type\":\"object\",\"name\":\"AllLabels\",\"id\":\"p1432\"}}}],\"below\":[{\"type\":\"object\",\"name\":\"LinearAxis\",\"id\":\"p1424\",\"attributes\":{\"ticker\":{\"type\":\"object\",\"name\":\"BasicTicker\",\"id\":\"p1425\",\"attributes\":{\"mantissas\":[1,2,5]}},\"formatter\":{\"type\":\"object\",\"name\":\"BasicTickFormatter\",\"id\":\"p1426\"},\"axis_label\":\"total_day_charge\",\"major_label_policy\":{\"type\":\"object\",\"name\":\"AllLabels\",\"id\":\"p1427\"}}}],\"center\":[{\"type\":\"object\",\"name\":\"Grid\",\"id\":\"p1428\",\"attributes\":{\"axis\":{\"id\":\"p1424\"},\"grid_line_color\":null}},{\"type\":\"object\",\"name\":\"Grid\",\"id\":\"p1433\",\"attributes\":{\"dimension\":1,\"axis\":{\"id\":\"p1429\"},\"grid_line_color\":null}}],\"min_border_top\":10,\"min_border_bottom\":10,\"min_border_left\":10,\"min_border_right\":10,\"output_backend\":\"webgl\"}},{\"type\":\"object\",\"name\":\"Spacer\",\"id\":\"p1457\",\"attributes\":{\"name\":\"HSpacer01593\",\"stylesheets\":[\"\\n:host(.pn-loading.pn-arc):before, .pn-loading.pn-arc:before {\\n  background-image: url(\\\"data:image/svg+xml;base64,PHN2ZyB4bWxucz0iaHR0cDovL3d3dy53My5vcmcvMjAwMC9zdmciIHN0eWxlPSJtYXJnaW46IGF1dG87IGJhY2tncm91bmQ6IG5vbmU7IGRpc3BsYXk6IGJsb2NrOyBzaGFwZS1yZW5kZXJpbmc6IGF1dG87IiB2aWV3Qm94PSIwIDAgMTAwIDEwMCIgcHJlc2VydmVBc3BlY3RSYXRpbz0ieE1pZFlNaWQiPiAgPGNpcmNsZSBjeD0iNTAiIGN5PSI1MCIgZmlsbD0ibm9uZSIgc3Ryb2tlPSIjYzNjM2MzIiBzdHJva2Utd2lkdGg9IjEwIiByPSIzNSIgc3Ryb2tlLWRhc2hhcnJheT0iMTY0LjkzMzYxNDMxMzQ2NDE1IDU2Ljk3Nzg3MTQzNzgyMTM4Ij4gICAgPGFuaW1hdGVUcmFuc2Zvcm0gYXR0cmlidXRlTmFtZT0idHJhbnNmb3JtIiB0eXBlPSJyb3RhdGUiIHJlcGVhdENvdW50PSJpbmRlZmluaXRlIiBkdXI9IjFzIiB2YWx1ZXM9IjAgNTAgNTA7MzYwIDUwIDUwIiBrZXlUaW1lcz0iMDsxIj48L2FuaW1hdGVUcmFuc2Zvcm0+ICA8L2NpcmNsZT48L3N2Zz4=\\\");\\n  background-size: auto calc(min(50%, 400px));\\n}\",{\"id\":\"p1403\"},{\"id\":\"p1401\"},{\"id\":\"p1402\"}],\"margin\":0,\"sizing_mode\":\"stretch_width\",\"align\":\"start\"}}]}}],\"defs\":[{\"type\":\"model\",\"name\":\"ReactiveHTML1\"},{\"type\":\"model\",\"name\":\"FlexBox1\",\"properties\":[{\"name\":\"align_content\",\"kind\":\"Any\",\"default\":\"flex-start\"},{\"name\":\"align_items\",\"kind\":\"Any\",\"default\":\"flex-start\"},{\"name\":\"flex_direction\",\"kind\":\"Any\",\"default\":\"row\"},{\"name\":\"flex_wrap\",\"kind\":\"Any\",\"default\":\"wrap\"},{\"name\":\"justify_content\",\"kind\":\"Any\",\"default\":\"flex-start\"}]},{\"type\":\"model\",\"name\":\"FloatPanel1\",\"properties\":[{\"name\":\"config\",\"kind\":\"Any\",\"default\":{\"type\":\"map\"}},{\"name\":\"contained\",\"kind\":\"Any\",\"default\":true},{\"name\":\"position\",\"kind\":\"Any\",\"default\":\"right-top\"},{\"name\":\"offsetx\",\"kind\":\"Any\",\"default\":null},{\"name\":\"offsety\",\"kind\":\"Any\",\"default\":null},{\"name\":\"theme\",\"kind\":\"Any\",\"default\":\"primary\"},{\"name\":\"status\",\"kind\":\"Any\",\"default\":\"normalized\"}]},{\"type\":\"model\",\"name\":\"GridStack1\",\"properties\":[{\"name\":\"mode\",\"kind\":\"Any\",\"default\":\"warn\"},{\"name\":\"ncols\",\"kind\":\"Any\",\"default\":null},{\"name\":\"nrows\",\"kind\":\"Any\",\"default\":null},{\"name\":\"allow_resize\",\"kind\":\"Any\",\"default\":true},{\"name\":\"allow_drag\",\"kind\":\"Any\",\"default\":true},{\"name\":\"state\",\"kind\":\"Any\",\"default\":[]}]},{\"type\":\"model\",\"name\":\"drag1\",\"properties\":[{\"name\":\"slider_width\",\"kind\":\"Any\",\"default\":5},{\"name\":\"slider_color\",\"kind\":\"Any\",\"default\":\"black\"},{\"name\":\"value\",\"kind\":\"Any\",\"default\":50}]},{\"type\":\"model\",\"name\":\"click1\",\"properties\":[{\"name\":\"terminal_output\",\"kind\":\"Any\",\"default\":\"\"},{\"name\":\"debug_name\",\"kind\":\"Any\",\"default\":\"\"},{\"name\":\"clears\",\"kind\":\"Any\",\"default\":0}]},{\"type\":\"model\",\"name\":\"copy_to_clipboard1\",\"properties\":[{\"name\":\"fill\",\"kind\":\"Any\",\"default\":\"none\"},{\"name\":\"value\",\"kind\":\"Any\",\"default\":null}]},{\"type\":\"model\",\"name\":\"FastWrapper1\",\"properties\":[{\"name\":\"object\",\"kind\":\"Any\",\"default\":null},{\"name\":\"style\",\"kind\":\"Any\",\"default\":null}]},{\"type\":\"model\",\"name\":\"NotificationAreaBase1\",\"properties\":[{\"name\":\"js_events\",\"kind\":\"Any\",\"default\":{\"type\":\"map\"}},{\"name\":\"position\",\"kind\":\"Any\",\"default\":\"bottom-right\"},{\"name\":\"_clear\",\"kind\":\"Any\",\"default\":0}]},{\"type\":\"model\",\"name\":\"NotificationArea1\",\"properties\":[{\"name\":\"js_events\",\"kind\":\"Any\",\"default\":{\"type\":\"map\"}},{\"name\":\"notifications\",\"kind\":\"Any\",\"default\":[]},{\"name\":\"position\",\"kind\":\"Any\",\"default\":\"bottom-right\"},{\"name\":\"_clear\",\"kind\":\"Any\",\"default\":0},{\"name\":\"types\",\"kind\":\"Any\",\"default\":[{\"type\":\"map\",\"entries\":[[\"type\",\"warning\"],[\"background\",\"#ffc107\"],[\"icon\",{\"type\":\"map\",\"entries\":[[\"className\",\"fas fa-exclamation-triangle\"],[\"tagName\",\"i\"],[\"color\",\"white\"]]}]]},{\"type\":\"map\",\"entries\":[[\"type\",\"info\"],[\"background\",\"#007bff\"],[\"icon\",{\"type\":\"map\",\"entries\":[[\"className\",\"fas fa-info-circle\"],[\"tagName\",\"i\"],[\"color\",\"white\"]]}]]}]}]},{\"type\":\"model\",\"name\":\"Notification\",\"properties\":[{\"name\":\"background\",\"kind\":\"Any\",\"default\":null},{\"name\":\"duration\",\"kind\":\"Any\",\"default\":3000},{\"name\":\"icon\",\"kind\":\"Any\",\"default\":null},{\"name\":\"message\",\"kind\":\"Any\",\"default\":\"\"},{\"name\":\"notification_type\",\"kind\":\"Any\",\"default\":null},{\"name\":\"_destroyed\",\"kind\":\"Any\",\"default\":false}]},{\"type\":\"model\",\"name\":\"TemplateActions1\",\"properties\":[{\"name\":\"open_modal\",\"kind\":\"Any\",\"default\":0},{\"name\":\"close_modal\",\"kind\":\"Any\",\"default\":0}]},{\"type\":\"model\",\"name\":\"BootstrapTemplateActions1\",\"properties\":[{\"name\":\"open_modal\",\"kind\":\"Any\",\"default\":0},{\"name\":\"close_modal\",\"kind\":\"Any\",\"default\":0}]},{\"type\":\"model\",\"name\":\"MaterialTemplateActions1\",\"properties\":[{\"name\":\"open_modal\",\"kind\":\"Any\",\"default\":0},{\"name\":\"close_modal\",\"kind\":\"Any\",\"default\":0}]}]}};\n",
       "  var render_items = [{\"docid\":\"2d3088d1-2ff2-432b-b919-50e8560425c7\",\"roots\":{\"p1400\":\"d27cc36e-ada6-4c66-b8ca-33c6aeac16a7\"},\"root_ids\":[\"p1400\"]}];\n",
       "  var docs = Object.values(docs_json)\n",
       "  if (!docs) {\n",
       "    return\n",
       "  }\n",
       "  const py_version = docs[0].version.replace('rc', '-rc.').replace('.dev', '-dev.')\n",
       "  function embed_document(root) {\n",
       "    var Bokeh = get_bokeh(root)\n",
       "    Bokeh.embed.embed_items_notebook(docs_json, render_items);\n",
       "    for (const render_item of render_items) {\n",
       "      for (const root_id of render_item.root_ids) {\n",
       "\tconst id_el = document.getElementById(root_id)\n",
       "\tif (id_el.children.length && (id_el.children[0].className === 'bk-root')) {\n",
       "\t  const root_el = id_el.children[0]\n",
       "\t  root_el.id = root_el.id + '-rendered'\n",
       "\t}\n",
       "      }\n",
       "    }\n",
       "  }\n",
       "  function get_bokeh(root) {\n",
       "    if (root.Bokeh === undefined) {\n",
       "      return null\n",
       "    } else if (root.Bokeh.version !== py_version) {\n",
       "      if (root.Bokeh.versions === undefined || !root.Bokeh.versions.has(py_version)) {\n",
       "\treturn null\n",
       "      }\n",
       "      return root.Bokeh.versions.get(py_version);\n",
       "    } else if (root.Bokeh.version === py_version) {\n",
       "      return root.Bokeh\n",
       "    }\n",
       "    return null\n",
       "  }\n",
       "  function is_loaded(root) {\n",
       "    var Bokeh = get_bokeh(root)\n",
       "    return (Bokeh != null && Bokeh.Panel !== undefined)\n",
       "  }\n",
       "  if (is_loaded(root)) {\n",
       "    embed_document(root);\n",
       "  } else {\n",
       "    var attempts = 0;\n",
       "    var timer = setInterval(function(root) {\n",
       "      if (is_loaded(root)) {\n",
       "        clearInterval(timer);\n",
       "        embed_document(root);\n",
       "      } else if (document.readyState == \"complete\") {\n",
       "        attempts++;\n",
       "        if (attempts > 200) {\n",
       "          clearInterval(timer);\n",
       "\t  var Bokeh = get_bokeh(root)\n",
       "\t  if (Bokeh == null || Bokeh.Panel == null) {\n",
       "            console.warn(\"Panel: ERROR: Unable to run Panel code because Bokeh or Panel library is missing\");\n",
       "\t  } else {\n",
       "\t    console.warn(\"Panel: WARNING: Attempting to render but not all required libraries could be resolved.\")\n",
       "\t    embed_document(root)\n",
       "\t  }\n",
       "        }\n",
       "      }\n",
       "    }, 25, root)\n",
       "  }\n",
       "})(window);</script>"
      ],
      "text/plain": [
       ":Histogram   [total_day_charge]   (total_day_charge_count)"
      ]
     },
     "execution_count": 76,
     "metadata": {
      "application/vnd.holoviews_exec.v0+json": {
       "id": "p1400"
      }
     },
     "output_type": "execute_result"
    }
   ],
   "source": [
    "telcom_data_df['total_day_charge'].hvplot(kind='hist', bins=20, title='Total Day Charge')"
   ]
  },
  {
   "cell_type": "code",
   "execution_count": 77,
   "id": "65cddee0-ee7d-4b0a-84dc-b25227c0e62d",
   "metadata": {},
   "outputs": [
    {
     "name": "stderr",
     "output_type": "stream",
     "text": [
      "C:\\Users\\owner\\anaconda3\\Lib\\site-packages\\seaborn\\_oldcore.py:1119: FutureWarning: use_inf_as_na option is deprecated and will be removed in a future version. Convert inf values to NaN before operating instead.\n",
      "  with pd.option_context('mode.use_inf_as_na', True):\n",
      "C:\\Users\\owner\\anaconda3\\Lib\\site-packages\\seaborn\\_oldcore.py:1119: FutureWarning: use_inf_as_na option is deprecated and will be removed in a future version. Convert inf values to NaN before operating instead.\n",
      "  with pd.option_context('mode.use_inf_as_na', True):\n",
      "C:\\Users\\owner\\anaconda3\\Lib\\site-packages\\seaborn\\_oldcore.py:1119: FutureWarning: use_inf_as_na option is deprecated and will be removed in a future version. Convert inf values to NaN before operating instead.\n",
      "  with pd.option_context('mode.use_inf_as_na', True):\n"
     ]
    },
    {
     "data": {
      "image/png": "[encoded data removed]",
      "text/plain": [
       "<Figure size 1500x700 with 1 Axes>"
      ]
     },
     "metadata": {},
     "output_type": "display_data"
    }
   ],
   "source": [
    "n = 10\n",
    "target_variable = ['total_day_charge', 'churn']\n",
    "\n",
    "fig, ax1 = plt.subplots(figsize=(15,7))\n",
    "sns.histplot(data=telcom_data_df, x=target_variable[0], bins=n, stat='count', hue=target_variable[1], multiple='stack', palette=['teal', 'indianred'], ax=ax1)\n",
    "plot = extract_data(ax1, n)\n",
    "plot.hist_label()\n",
    "plot.line_label()\n",
    "sns.lineplot(x=plot.x_interval, y=plot.y_total, marker='o', sort=False, color='royalblue', estimator=None, linewidth=5, ax=ax1)\n",
    "\n",
    "ax1.set_title('Distribution of {} : Customer Churn'.format(target_variable[0]), fontweight='bold', pad=20, fontsize=17)\n",
    "ax1.tick_params(labelsize=12)\n",
    "ax1.set_xlabel('Charge', fontsize=12)\n",
    "ax1.set_ylabel('Frequency', fontsize=12)\n",
    "ax1.tick_params(labelsize=12)\n",
    "plt.show()"
   ]
  },
  {
   "cell_type": "code",
   "execution_count": 78,
   "id": "504ada68-8086-498a-9923-a73cf501bd83",
   "metadata": {},
   "outputs": [
    {
     "data": {},
     "metadata": {},
     "output_type": "display_data"
    },
    {
     "data": {
      "application/vnd.holoviews_exec.v0+json": "",
      "text/html": [
       "<div id='p1466'>\n",
       "  <div id=\"e03ef31c-c06c-4838-bdbf-eef9f93f43e6\" data-root-id=\"p1466\" style=\"display: contents;\"></div>\n",
       "</div>\n",
       "<script type=\"application/javascript\">(function(root) {\n",
       "  var docs_json = {\"895c1232-450c-4ca7-9119-f9d5affe9efa\":{\"version\":\"3.3.4\",\"title\":\"Bokeh Application\",\"roots\":[{\"type\":\"object\",\"name\":\"Row\",\"id\":\"p1466\",\"attributes\":{\"name\":\"Row01693\",\"tags\":[\"embedded\"],\"stylesheets\":[\"\\n:host(.pn-loading.pn-arc):before, .pn-loading.pn-arc:before {\\n  background-image: url(\\\"data:image/svg+xml;base64,PHN2ZyB4bWxucz0iaHR0cDovL3d3dy53My5vcmcvMjAwMC9zdmciIHN0eWxlPSJtYXJnaW46IGF1dG87IGJhY2tncm91bmQ6IG5vbmU7IGRpc3BsYXk6IGJsb2NrOyBzaGFwZS1yZW5kZXJpbmc6IGF1dG87IiB2aWV3Qm94PSIwIDAgMTAwIDEwMCIgcHJlc2VydmVBc3BlY3RSYXRpbz0ieE1pZFlNaWQiPiAgPGNpcmNsZSBjeD0iNTAiIGN5PSI1MCIgZmlsbD0ibm9uZSIgc3Ryb2tlPSIjYzNjM2MzIiBzdHJva2Utd2lkdGg9IjEwIiByPSIzNSIgc3Ryb2tlLWRhc2hhcnJheT0iMTY0LjkzMzYxNDMxMzQ2NDE1IDU2Ljk3Nzg3MTQzNzgyMTM4Ij4gICAgPGFuaW1hdGVUcmFuc2Zvcm0gYXR0cmlidXRlTmFtZT0idHJhbnNmb3JtIiB0eXBlPSJyb3RhdGUiIHJlcGVhdENvdW50PSJpbmRlZmluaXRlIiBkdXI9IjFzIiB2YWx1ZXM9IjAgNTAgNTA7MzYwIDUwIDUwIiBrZXlUaW1lcz0iMDsxIj48L2FuaW1hdGVUcmFuc2Zvcm0+ICA8L2NpcmNsZT48L3N2Zz4=\\\");\\n  background-size: auto calc(min(50%, 400px));\\n}\",{\"type\":\"object\",\"name\":\"ImportedStyleSheet\",\"id\":\"p1469\",\"attributes\":{\"url\":\"https://cdn.holoviz.org/panel/1.3.8/dist/css/loading.css\"}},{\"type\":\"object\",\"name\":\"ImportedStyleSheet\",\"id\":\"p1525\",\"attributes\":{\"url\":\"https://cdn.holoviz.org/panel/1.3.8/dist/css/listpanel.css\"}},{\"type\":\"object\",\"name\":\"ImportedStyleSheet\",\"id\":\"p1467\",\"attributes\":{\"url\":\"https://cdn.holoviz.org/panel/1.3.8/dist/bundled/theme/default.css\"}},{\"type\":\"object\",\"name\":\"ImportedStyleSheet\",\"id\":\"p1468\",\"attributes\":{\"url\":\"https://cdn.holoviz.org/panel/1.3.8/dist/bundled/theme/native.css\"}}],\"min_width\":700,\"margin\":0,\"sizing_mode\":\"stretch_width\",\"align\":\"start\",\"children\":[{\"type\":\"object\",\"name\":\"Spacer\",\"id\":\"p1470\",\"attributes\":{\"name\":\"HSpacer01700\",\"stylesheets\":[\"\\n:host(.pn-loading.pn-arc):before, .pn-loading.pn-arc:before {\\n  background-image: url(\\\"data:image/svg+xml;base64,PHN2ZyB4bWxucz0iaHR0cDovL3d3dy53My5vcmcvMjAwMC9zdmciIHN0eWxlPSJtYXJnaW46IGF1dG87IGJhY2tncm91bmQ6IG5vbmU7IGRpc3BsYXk6IGJsb2NrOyBzaGFwZS1yZW5kZXJpbmc6IGF1dG87IiB2aWV3Qm94PSIwIDAgMTAwIDEwMCIgcHJlc2VydmVBc3BlY3RSYXRpbz0ieE1pZFlNaWQiPiAgPGNpcmNsZSBjeD0iNTAiIGN5PSI1MCIgZmlsbD0ibm9uZSIgc3Ryb2tlPSIjYzNjM2MzIiBzdHJva2Utd2lkdGg9IjEwIiByPSIzNSIgc3Ryb2tlLWRhc2hhcnJheT0iMTY0LjkzMzYxNDMxMzQ2NDE1IDU2Ljk3Nzg3MTQzNzgyMTM4Ij4gICAgPGFuaW1hdGVUcmFuc2Zvcm0gYXR0cmlidXRlTmFtZT0idHJhbnNmb3JtIiB0eXBlPSJyb3RhdGUiIHJlcGVhdENvdW50PSJpbmRlZmluaXRlIiBkdXI9IjFzIiB2YWx1ZXM9IjAgNTAgNTA7MzYwIDUwIDUwIiBrZXlUaW1lcz0iMDsxIj48L2FuaW1hdGVUcmFuc2Zvcm0+ICA8L2NpcmNsZT48L3N2Zz4=\\\");\\n  background-size: auto calc(min(50%, 400px));\\n}\",{\"id\":\"p1469\"},{\"id\":\"p1467\"},{\"id\":\"p1468\"}],\"margin\":0,\"sizing_mode\":\"stretch_width\",\"align\":\"start\"}},{\"type\":\"object\",\"name\":\"Figure\",\"id\":\"p1478\",\"attributes\":{\"width\":700,\"height\":300,\"margin\":[5,10],\"sizing_mode\":\"fixed\",\"align\":\"start\",\"x_range\":{\"type\":\"object\",\"name\":\"Range1d\",\"id\":\"p1471\",\"attributes\":{\"tags\":[[[\"number_customer_service_calls\",\"number_customer_service_calls\",null]],[]],\"start\":-0.38571428571428573,\"end\":9.385714285714286,\"reset_start\":-0.38571428571428573,\"reset_end\":9.385714285714286}},\"y_range\":{\"type\":\"object\",\"name\":\"Range1d\",\"id\":\"p1472\",\"attributes\":{\"tags\":[[[\"number_customer_service_calls_count\",\"Count\",null]],{\"type\":\"map\",\"entries\":[[\"invert_yaxis\",false],[\"autorange\",false]]}],\"end\":1676.4,\"reset_start\":0.0,\"reset_end\":1676.4}},\"x_scale\":{\"type\":\"object\",\"name\":\"LinearScale\",\"id\":\"p1488\"},\"y_scale\":{\"type\":\"object\",\"name\":\"LinearScale\",\"id\":\"p1489\"},\"title\":{\"type\":\"object\",\"name\":\"Title\",\"id\":\"p1481\",\"attributes\":{\"text\":\"Number of Customer Service Calls\",\"text_color\":\"black\",\"text_font_size\":\"12pt\"}},\"renderers\":[{\"type\":\"object\",\"name\":\"GlyphRenderer\",\"id\":\"p1518\",\"attributes\":{\"data_source\":{\"type\":\"object\",\"name\":\"ColumnDataSource\",\"id\":\"p1509\",\"attributes\":{\"selected\":{\"type\":\"object\",\"name\":\"Selection\",\"id\":\"p1510\",\"attributes\":{\"indices\":[],\"line_indices\":[]}},\"selection_policy\":{\"type\":\"object\",\"name\":\"UnionRenderers\",\"id\":\"p1511\"},\"data\":{\"type\":\"map\",\"entries\":[[\"top\",{\"type\":\"ndarray\",\"array\":{\"type\":\"bytes\",\"data\":\"dgMAAAAAAAD0BQAAAAAAALMDAAAAAAAALgIAAAAAAADRAAAAAAAAAAAAAABRAAAAAAAAABwAAAAAAAAADQAAAAAAAAACAAAAAAAAAAIAAAA=\"},\"shape\":[20],\"dtype\":\"int32\",\"order\":\"little\"}],[\"left\",{\"type\":\"ndarray\",\"array\":{\"type\":\"bytes\",\"data\":\"AAAAAAAAAADNzMzMzMzcP83MzMzMzOw/mpmZmZmZ9T/NzMzMzMz8PwAAAAAAAAJAmpmZmZmZBUAzMzMzMzMJQM3MzMzMzAxAMzMzMzMzEEAAAAAAAAASQM3MzMzMzBNAmpmZmZmZFUBnZmZmZmYXQDMzMzMzMxlAAAAAAAAAG0DNzMzMzMwcQJqZmZmZmR5AMzMzMzMzIECamZmZmRkhQA==\"},\"shape\":[20],\"dtype\":\"float64\",\"order\":\"little\"}],[\"right\",{\"type\":\"ndarray\",\"array\":{\"type\":\"bytes\",\"data\":\"zczMzMzM3D/NzMzMzMzsP5qZmZmZmfU/zczMzMzM/D8AAAAAAAACQJqZmZmZmQVAMzMzMzMzCUDNzMzMzMwMQDMzMzMzMxBAAAAAAAAAEkDNzMzMzMwTQJqZmZmZmRVAZ2ZmZmZmF0AzMzMzMzMZQAAAAAAAABtAzczMzMzMHECamZmZmZkeQDMzMzMzMyBAmpmZmZkZIUAAAAAAAAAiQA==\"},\"shape\":[20],\"dtype\":\"float64\",\"order\":\"little\"}],[\"number_customer_service_calls\",{\"type\":\"ndarray\",\"array\":{\"type\":\"bytes\",\"data\":\"zczMzMzMzD+amZmZmZnlPwAAAAAAAPI/NDMzMzMz+T8zMzMzMzMAQM3MzMzMzANAZmZmZmZmB0AAAAAAAAALQJqZmZmZmQ5AmpmZmZkZEUBmZmZmZuYSQDQzMzMzsxRAAAAAAACAFkDNzMzMzEwYQJqZmZmZGRpAZmZmZmbmG0A0MzMzM7MdQAAAAAAAgB9AZmZmZmamIEDNzMzMzIwhQA==\"},\"shape\":[20],\"dtype\":\"float64\",\"order\":\"little\"}],[\"number_customer_service_calls_count\",{\"type\":\"ndarray\",\"array\":{\"type\":\"bytes\",\"data\":\"dgMAAAAAAAD0BQAAAAAAALMDAAAAAAAALgIAAAAAAADRAAAAAAAAAAAAAABRAAAAAAAAABwAAAAAAAAADQAAAAAAAAACAAAAAAAAAAIAAAA=\"},\"shape\":[20],\"dtype\":\"int32\",\"order\":\"little\"}]]}}},\"view\":{\"type\":\"object\",\"name\":\"CDSView\",\"id\":\"p1519\",\"attributes\":{\"filter\":{\"type\":\"object\",\"name\":\"AllIndices\",\"id\":\"p1520\"}}},\"glyph\":{\"type\":\"object\",\"name\":\"Quad\",\"id\":\"p1515\",\"attributes\":{\"tags\":[\"apply_ranges\"],\"left\":{\"type\":\"field\",\"field\":\"left\"},\"right\":{\"type\":\"field\",\"field\":\"right\"},\"bottom\":{\"type\":\"value\",\"value\":0},\"top\":{\"type\":\"field\",\"field\":\"top\"},\"fill_color\":{\"type\":\"value\",\"value\":\"#30a2da\"},\"hatch_color\":{\"type\":\"value\",\"value\":\"#30a2da\"}}},\"selection_glyph\":{\"type\":\"object\",\"name\":\"Quad\",\"id\":\"p1521\",\"attributes\":{\"tags\":[\"apply_ranges\"],\"left\":{\"type\":\"field\",\"field\":\"left\"},\"right\":{\"type\":\"field\",\"field\":\"right\"},\"bottom\":{\"type\":\"value\",\"value\":0},\"top\":{\"type\":\"field\",\"field\":\"top\"},\"line_color\":{\"type\":\"value\",\"value\":\"black\"},\"line_alpha\":{\"type\":\"value\",\"value\":1.0},\"line_width\":{\"type\":\"value\",\"value\":1},\"line_join\":{\"type\":\"value\",\"value\":\"bevel\"},\"line_cap\":{\"type\":\"value\",\"value\":\"butt\"},\"line_dash\":{\"type\":\"value\",\"value\":[]},\"line_dash_offset\":{\"type\":\"value\",\"value\":0},\"fill_color\":{\"type\":\"value\",\"value\":\"#30a2da\"},\"fill_alpha\":{\"type\":\"value\",\"value\":1.0},\"hatch_color\":{\"type\":\"value\",\"value\":\"#30a2da\"},\"hatch_alpha\":{\"type\":\"value\",\"value\":1.0},\"hatch_scale\":{\"type\":\"value\",\"value\":12.0},\"hatch_pattern\":{\"type\":\"value\",\"value\":null},\"hatch_weight\":{\"type\":\"value\",\"value\":1.0}}},\"nonselection_glyph\":{\"type\":\"object\",\"name\":\"Quad\",\"id\":\"p1516\",\"attributes\":{\"tags\":[\"apply_ranges\"],\"left\":{\"type\":\"field\",\"field\":\"left\"},\"right\":{\"type\":\"field\",\"field\":\"right\"},\"bottom\":{\"type\":\"value\",\"value\":0},\"top\":{\"type\":\"field\",\"field\":\"top\"},\"line_alpha\":{\"type\":\"value\",\"value\":0.1},\"fill_color\":{\"type\":\"value\",\"value\":\"#30a2da\"},\"fill_alpha\":{\"type\":\"value\",\"value\":0.1},\"hatch_color\":{\"type\":\"value\",\"value\":\"#30a2da\"},\"hatch_alpha\":{\"type\":\"value\",\"value\":0.1}}},\"muted_glyph\":{\"type\":\"object\",\"name\":\"Quad\",\"id\":\"p1517\",\"attributes\":{\"tags\":[\"apply_ranges\"],\"left\":{\"type\":\"field\",\"field\":\"left\"},\"right\":{\"type\":\"field\",\"field\":\"right\"},\"bottom\":{\"type\":\"value\",\"value\":0},\"top\":{\"type\":\"field\",\"field\":\"top\"},\"line_alpha\":{\"type\":\"value\",\"value\":0.2},\"fill_color\":{\"type\":\"value\",\"value\":\"#30a2da\"},\"fill_alpha\":{\"type\":\"value\",\"value\":0.2},\"hatch_color\":{\"type\":\"value\",\"value\":\"#30a2da\"},\"hatch_alpha\":{\"type\":\"value\",\"value\":0.2}}}}}],\"toolbar\":{\"type\":\"object\",\"name\":\"Toolbar\",\"id\":\"p1487\",\"attributes\":{\"tools\":[{\"type\":\"object\",\"name\":\"WheelZoomTool\",\"id\":\"p1476\",\"attributes\":{\"tags\":[\"hv_created\"],\"renderers\":\"auto\",\"zoom_together\":\"none\"}},{\"type\":\"object\",\"name\":\"HoverTool\",\"id\":\"p1477\",\"attributes\":{\"tags\":[\"hv_created\"],\"renderers\":[{\"id\":\"p1518\"}],\"tooltips\":[[\"number_customer_service_calls\",\"@{number_customer_service_calls}\"],[\"Count\",\"@{number_customer_service_calls_count}\"]]}},{\"type\":\"object\",\"name\":\"SaveTool\",\"id\":\"p1500\"},{\"type\":\"object\",\"name\":\"PanTool\",\"id\":\"p1501\"},{\"type\":\"object\",\"name\":\"BoxZoomTool\",\"id\":\"p1502\",\"attributes\":{\"overlay\":{\"type\":\"object\",\"name\":\"BoxAnnotation\",\"id\":\"p1503\",\"attributes\":{\"syncable\":false,\"level\":\"overlay\",\"visible\":false,\"left\":{\"type\":\"number\",\"value\":\"nan\"},\"right\":{\"type\":\"number\",\"value\":\"nan\"},\"top\":{\"type\":\"number\",\"value\":\"nan\"},\"bottom\":{\"type\":\"number\",\"value\":\"nan\"},\"left_units\":\"canvas\",\"right_units\":\"canvas\",\"top_units\":\"canvas\",\"bottom_units\":\"canvas\",\"line_color\":\"black\",\"line_alpha\":1.0,\"line_width\":2,\"line_dash\":[4,4],\"fill_color\":\"lightgrey\",\"fill_alpha\":0.5}}}},{\"type\":\"object\",\"name\":\"ResetTool\",\"id\":\"p1508\"}],\"active_drag\":{\"id\":\"p1501\"},\"active_scroll\":{\"id\":\"p1476\"}}},\"left\":[{\"type\":\"object\",\"name\":\"LinearAxis\",\"id\":\"p1495\",\"attributes\":{\"ticker\":{\"type\":\"object\",\"name\":\"BasicTicker\",\"id\":\"p1496\",\"attributes\":{\"mantissas\":[1,2,5]}},\"formatter\":{\"type\":\"object\",\"name\":\"BasicTickFormatter\",\"id\":\"p1497\"},\"axis_label\":\"\",\"major_label_policy\":{\"type\":\"object\",\"name\":\"AllLabels\",\"id\":\"p1498\"}}}],\"below\":[{\"type\":\"object\",\"name\":\"LinearAxis\",\"id\":\"p1490\",\"attributes\":{\"ticker\":{\"type\":\"object\",\"name\":\"BasicTicker\",\"id\":\"p1491\",\"attributes\":{\"mantissas\":[1,2,5]}},\"formatter\":{\"type\":\"object\",\"name\":\"BasicTickFormatter\",\"id\":\"p1492\"},\"axis_label\":\"number_customer_service_calls\",\"major_label_policy\":{\"type\":\"object\",\"name\":\"AllLabels\",\"id\":\"p1493\"}}}],\"center\":[{\"type\":\"object\",\"name\":\"Grid\",\"id\":\"p1494\",\"attributes\":{\"axis\":{\"id\":\"p1490\"},\"grid_line_color\":null}},{\"type\":\"object\",\"name\":\"Grid\",\"id\":\"p1499\",\"attributes\":{\"dimension\":1,\"axis\":{\"id\":\"p1495\"},\"grid_line_color\":null}}],\"min_border_top\":10,\"min_border_bottom\":10,\"min_border_left\":10,\"min_border_right\":10,\"output_backend\":\"webgl\"}},{\"type\":\"object\",\"name\":\"Spacer\",\"id\":\"p1523\",\"attributes\":{\"name\":\"HSpacer01701\",\"stylesheets\":[\"\\n:host(.pn-loading.pn-arc):before, .pn-loading.pn-arc:before {\\n  background-image: url(\\\"data:image/svg+xml;base64,PHN2ZyB4bWxucz0iaHR0cDovL3d3dy53My5vcmcvMjAwMC9zdmciIHN0eWxlPSJtYXJnaW46IGF1dG87IGJhY2tncm91bmQ6IG5vbmU7IGRpc3BsYXk6IGJsb2NrOyBzaGFwZS1yZW5kZXJpbmc6IGF1dG87IiB2aWV3Qm94PSIwIDAgMTAwIDEwMCIgcHJlc2VydmVBc3BlY3RSYXRpbz0ieE1pZFlNaWQiPiAgPGNpcmNsZSBjeD0iNTAiIGN5PSI1MCIgZmlsbD0ibm9uZSIgc3Ryb2tlPSIjYzNjM2MzIiBzdHJva2Utd2lkdGg9IjEwIiByPSIzNSIgc3Ryb2tlLWRhc2hhcnJheT0iMTY0LjkzMzYxNDMxMzQ2NDE1IDU2Ljk3Nzg3MTQzNzgyMTM4Ij4gICAgPGFuaW1hdGVUcmFuc2Zvcm0gYXR0cmlidXRlTmFtZT0idHJhbnNmb3JtIiB0eXBlPSJyb3RhdGUiIHJlcGVhdENvdW50PSJpbmRlZmluaXRlIiBkdXI9IjFzIiB2YWx1ZXM9IjAgNTAgNTA7MzYwIDUwIDUwIiBrZXlUaW1lcz0iMDsxIj48L2FuaW1hdGVUcmFuc2Zvcm0+ICA8L2NpcmNsZT48L3N2Zz4=\\\");\\n  background-size: auto calc(min(50%, 400px));\\n}\",{\"id\":\"p1469\"},{\"id\":\"p1467\"},{\"id\":\"p1468\"}],\"margin\":0,\"sizing_mode\":\"stretch_width\",\"align\":\"start\"}}]}}],\"defs\":[{\"type\":\"model\",\"name\":\"ReactiveHTML1\"},{\"type\":\"model\",\"name\":\"FlexBox1\",\"properties\":[{\"name\":\"align_content\",\"kind\":\"Any\",\"default\":\"flex-start\"},{\"name\":\"align_items\",\"kind\":\"Any\",\"default\":\"flex-start\"},{\"name\":\"flex_direction\",\"kind\":\"Any\",\"default\":\"row\"},{\"name\":\"flex_wrap\",\"kind\":\"Any\",\"default\":\"wrap\"},{\"name\":\"justify_content\",\"kind\":\"Any\",\"default\":\"flex-start\"}]},{\"type\":\"model\",\"name\":\"FloatPanel1\",\"properties\":[{\"name\":\"config\",\"kind\":\"Any\",\"default\":{\"type\":\"map\"}},{\"name\":\"contained\",\"kind\":\"Any\",\"default\":true},{\"name\":\"position\",\"kind\":\"Any\",\"default\":\"right-top\"},{\"name\":\"offsetx\",\"kind\":\"Any\",\"default\":null},{\"name\":\"offsety\",\"kind\":\"Any\",\"default\":null},{\"name\":\"theme\",\"kind\":\"Any\",\"default\":\"primary\"},{\"name\":\"status\",\"kind\":\"Any\",\"default\":\"normalized\"}]},{\"type\":\"model\",\"name\":\"GridStack1\",\"properties\":[{\"name\":\"mode\",\"kind\":\"Any\",\"default\":\"warn\"},{\"name\":\"ncols\",\"kind\":\"Any\",\"default\":null},{\"name\":\"nrows\",\"kind\":\"Any\",\"default\":null},{\"name\":\"allow_resize\",\"kind\":\"Any\",\"default\":true},{\"name\":\"allow_drag\",\"kind\":\"Any\",\"default\":true},{\"name\":\"state\",\"kind\":\"Any\",\"default\":[]}]},{\"type\":\"model\",\"name\":\"drag1\",\"properties\":[{\"name\":\"slider_width\",\"kind\":\"Any\",\"default\":5},{\"name\":\"slider_color\",\"kind\":\"Any\",\"default\":\"black\"},{\"name\":\"value\",\"kind\":\"Any\",\"default\":50}]},{\"type\":\"model\",\"name\":\"click1\",\"properties\":[{\"name\":\"terminal_output\",\"kind\":\"Any\",\"default\":\"\"},{\"name\":\"debug_name\",\"kind\":\"Any\",\"default\":\"\"},{\"name\":\"clears\",\"kind\":\"Any\",\"default\":0}]},{\"type\":\"model\",\"name\":\"copy_to_clipboard1\",\"properties\":[{\"name\":\"fill\",\"kind\":\"Any\",\"default\":\"none\"},{\"name\":\"value\",\"kind\":\"Any\",\"default\":null}]},{\"type\":\"model\",\"name\":\"FastWrapper1\",\"properties\":[{\"name\":\"object\",\"kind\":\"Any\",\"default\":null},{\"name\":\"style\",\"kind\":\"Any\",\"default\":null}]},{\"type\":\"model\",\"name\":\"NotificationAreaBase1\",\"properties\":[{\"name\":\"js_events\",\"kind\":\"Any\",\"default\":{\"type\":\"map\"}},{\"name\":\"position\",\"kind\":\"Any\",\"default\":\"bottom-right\"},{\"name\":\"_clear\",\"kind\":\"Any\",\"default\":0}]},{\"type\":\"model\",\"name\":\"NotificationArea1\",\"properties\":[{\"name\":\"js_events\",\"kind\":\"Any\",\"default\":{\"type\":\"map\"}},{\"name\":\"notifications\",\"kind\":\"Any\",\"default\":[]},{\"name\":\"position\",\"kind\":\"Any\",\"default\":\"bottom-right\"},{\"name\":\"_clear\",\"kind\":\"Any\",\"default\":0},{\"name\":\"types\",\"kind\":\"Any\",\"default\":[{\"type\":\"map\",\"entries\":[[\"type\",\"warning\"],[\"background\",\"#ffc107\"],[\"icon\",{\"type\":\"map\",\"entries\":[[\"className\",\"fas fa-exclamation-triangle\"],[\"tagName\",\"i\"],[\"color\",\"white\"]]}]]},{\"type\":\"map\",\"entries\":[[\"type\",\"info\"],[\"background\",\"#007bff\"],[\"icon\",{\"type\":\"map\",\"entries\":[[\"className\",\"fas fa-info-circle\"],[\"tagName\",\"i\"],[\"color\",\"white\"]]}]]}]}]},{\"type\":\"model\",\"name\":\"Notification\",\"properties\":[{\"name\":\"background\",\"kind\":\"Any\",\"default\":null},{\"name\":\"duration\",\"kind\":\"Any\",\"default\":3000},{\"name\":\"icon\",\"kind\":\"Any\",\"default\":null},{\"name\":\"message\",\"kind\":\"Any\",\"default\":\"\"},{\"name\":\"notification_type\",\"kind\":\"Any\",\"default\":null},{\"name\":\"_destroyed\",\"kind\":\"Any\",\"default\":false}]},{\"type\":\"model\",\"name\":\"TemplateActions1\",\"properties\":[{\"name\":\"open_modal\",\"kind\":\"Any\",\"default\":0},{\"name\":\"close_modal\",\"kind\":\"Any\",\"default\":0}]},{\"type\":\"model\",\"name\":\"BootstrapTemplateActions1\",\"properties\":[{\"name\":\"open_modal\",\"kind\":\"Any\",\"default\":0},{\"name\":\"close_modal\",\"kind\":\"Any\",\"default\":0}]},{\"type\":\"model\",\"name\":\"MaterialTemplateActions1\",\"properties\":[{\"name\":\"open_modal\",\"kind\":\"Any\",\"default\":0},{\"name\":\"close_modal\",\"kind\":\"Any\",\"default\":0}]}]}};\n",
       "  var render_items = [{\"docid\":\"895c1232-450c-4ca7-9119-f9d5affe9efa\",\"roots\":{\"p1466\":\"e03ef31c-c06c-4838-bdbf-eef9f93f43e6\"},\"root_ids\":[\"p1466\"]}];\n",
       "  var docs = Object.values(docs_json)\n",
       "  if (!docs) {\n",
       "    return\n",
       "  }\n",
       "  const py_version = docs[0].version.replace('rc', '-rc.').replace('.dev', '-dev.')\n",
       "  function embed_document(root) {\n",
       "    var Bokeh = get_bokeh(root)\n",
       "    Bokeh.embed.embed_items_notebook(docs_json, render_items);\n",
       "    for (const render_item of render_items) {\n",
       "      for (const root_id of render_item.root_ids) {\n",
       "\tconst id_el = document.getElementById(root_id)\n",
       "\tif (id_el.children.length && (id_el.children[0].className === 'bk-root')) {\n",
       "\t  const root_el = id_el.children[0]\n",
       "\t  root_el.id = root_el.id + '-rendered'\n",
       "\t}\n",
       "      }\n",
       "    }\n",
       "  }\n",
       "  function get_bokeh(root) {\n",
       "    if (root.Bokeh === undefined) {\n",
       "      return null\n",
       "    } else if (root.Bokeh.version !== py_version) {\n",
       "      if (root.Bokeh.versions === undefined || !root.Bokeh.versions.has(py_version)) {\n",
       "\treturn null\n",
       "      }\n",
       "      return root.Bokeh.versions.get(py_version);\n",
       "    } else if (root.Bokeh.version === py_version) {\n",
       "      return root.Bokeh\n",
       "    }\n",
       "    return null\n",
       "  }\n",
       "  function is_loaded(root) {\n",
       "    var Bokeh = get_bokeh(root)\n",
       "    return (Bokeh != null && Bokeh.Panel !== undefined)\n",
       "  }\n",
       "  if (is_loaded(root)) {\n",
       "    embed_document(root);\n",
       "  } else {\n",
       "    var attempts = 0;\n",
       "    var timer = setInterval(function(root) {\n",
       "      if (is_loaded(root)) {\n",
       "        clearInterval(timer);\n",
       "        embed_document(root);\n",
       "      } else if (document.readyState == \"complete\") {\n",
       "        attempts++;\n",
       "        if (attempts > 200) {\n",
       "          clearInterval(timer);\n",
       "\t  var Bokeh = get_bokeh(root)\n",
       "\t  if (Bokeh == null || Bokeh.Panel == null) {\n",
       "            console.warn(\"Panel: ERROR: Unable to run Panel code because Bokeh or Panel library is missing\");\n",
       "\t  } else {\n",
       "\t    console.warn(\"Panel: WARNING: Attempting to render but not all required libraries could be resolved.\")\n",
       "\t    embed_document(root)\n",
       "\t  }\n",
       "        }\n",
       "      }\n",
       "    }, 25, root)\n",
       "  }\n",
       "})(window);</script>"
      ],
      "text/plain": [
       ":Histogram   [number_customer_service_calls]   (number_customer_service_calls_count)"
      ]
     },
     "execution_count": 78,
     "metadata": {
      "application/vnd.holoviews_exec.v0+json": {
       "id": "p1466"
      }
     },
     "output_type": "execute_result"
    }
   ],
   "source": [
    "telcom_data_df['number_customer_service_calls'].hvplot(kind='hist', bins=20, title='Number of Customer Service Calls')"
   ]
  },
  {
   "cell_type": "code",
   "execution_count": 79,
   "id": "5adf3f16-d257-4e1d-bcaa-46bba856d30e",
   "metadata": {},
   "outputs": [
    {
     "ename": "NameError",
     "evalue": "name 'df' is not defined",
     "output_type": "error",
     "traceback": [
      "\u001b[1;31m---------------------------------------------------------------------------\u001b[0m",
      "\u001b[1;31mNameError\u001b[0m                                 Traceback (most recent call last)",
      "Cell \u001b[1;32mIn[79], line 5\u001b[0m\n\u001b[0;32m      2\u001b[0m target_variable \u001b[38;5;241m=\u001b[39m [\u001b[38;5;124m'\u001b[39m\u001b[38;5;124mnumber_customer_service_calls\u001b[39m\u001b[38;5;124m'\u001b[39m, \u001b[38;5;124m'\u001b[39m\u001b[38;5;124mchurn\u001b[39m\u001b[38;5;124m'\u001b[39m]\n\u001b[0;32m      4\u001b[0m fig, ax1 \u001b[38;5;241m=\u001b[39m plt\u001b[38;5;241m.\u001b[39msubplots(figsize\u001b[38;5;241m=\u001b[39m(\u001b[38;5;241m15\u001b[39m,\u001b[38;5;241m7\u001b[39m))\n\u001b[1;32m----> 5\u001b[0m sns\u001b[38;5;241m.\u001b[39mhistplot(data\u001b[38;5;241m=\u001b[39mdf, x\u001b[38;5;241m=\u001b[39mtarget_variable[\u001b[38;5;241m0\u001b[39m], bins\u001b[38;5;241m=\u001b[39mn, stat\u001b[38;5;241m=\u001b[39m\u001b[38;5;124m'\u001b[39m\u001b[38;5;124mcount\u001b[39m\u001b[38;5;124m'\u001b[39m, hue\u001b[38;5;241m=\u001b[39mtarget_variable[\u001b[38;5;241m1\u001b[39m], multiple\u001b[38;5;241m=\u001b[39m\u001b[38;5;124m'\u001b[39m\u001b[38;5;124mstack\u001b[39m\u001b[38;5;124m'\u001b[39m, palette\u001b[38;5;241m=\u001b[39m[\u001b[38;5;124m'\u001b[39m\u001b[38;5;124mteal\u001b[39m\u001b[38;5;124m'\u001b[39m, \u001b[38;5;124m'\u001b[39m\u001b[38;5;124mindianred\u001b[39m\u001b[38;5;124m'\u001b[39m], ax\u001b[38;5;241m=\u001b[39max1)\n\u001b[0;32m      6\u001b[0m plot \u001b[38;5;241m=\u001b[39m extract_data(ax1, n)\n\u001b[0;32m      7\u001b[0m plot\u001b[38;5;241m.\u001b[39mhist_label()\n",
      "\u001b[1;31mNameError\u001b[0m: name 'df' is not defined"
     ]
    },
    {
     "data": {
      "image/png": "[encoded data removed]",
      "text/plain": [
       "<Figure size 1500x700 with 1 Axes>"
      ]
     },
     "metadata": {},
     "output_type": "display_data"
    }
   ],
   "source": [
    "n = 10\n",
    "target_variable = ['number_customer_service_calls', 'churn']\n",
    "\n",
    "fig, ax1 = plt.subplots(figsize=(15,7))\n",
    "sns.histplot(data=df, x=target_variable[0], bins=n, stat='count', hue=target_variable[1], multiple='stack', palette=['teal', 'indianred'], ax=ax1)\n",
    "plot = extract_data(ax1, n)\n",
    "plot.hist_label()\n",
    "plot.line_label()\n",
    "sns.lineplot(x=plot.x_interval, y=plot.y_total, marker='o', sort=False, color='royalblue', estimator=None, linewidth=5, ax=ax1)\n",
    "\n",
    "ax1.set_title('Distribution of {} : Customer Churn'.format(target_variable[0]), fontweight='bold', pad=20, fontsize=17)\n",
    "ax1.tick_params(labelsize=12)\n",
    "ax1.set_xlabel('Number customer service calls', fontsize=12)\n",
    "ax1.set_ylabel('Frequency', fontsize=12)\n",
    "ax1.tick_params(labelsize=12)\n",
    "plt.show()"
   ]
  },
  {
   "cell_type": "code",
   "execution_count": null,
   "id": "59fb2899-f488-4f57-9754-53f330da548a",
   "metadata": {},
   "outputs": [],
   "source": [
    "# create the pivot table\n",
    "telcom_data_pivot = pd.pivot_table(telcom_data_df, \n",
    "                                   values='age', \n",
    "                                   index='churn', \n",
    "                                   columns='state', \n",
    "                                   aggfunc='mean')\n",
    "\n",
    "filtered_pivot_table = telcom_data_pivot[['NJ', 'MN', 'TX']]\n",
    "\n",
    "filtered_pivot_table"
   ]
  },
  {
   "cell_type": "code",
   "execution_count": null,
   "id": "4f4c5f87-c346-4831-955e-72e91c44479f",
   "metadata": {},
   "outputs": [],
   "source": [
    "filtered_pivot_table.hvplot(kind='hist', bins=20, title= 'Average age')"
   ]
  },
  {
   "cell_type": "code",
   "execution_count": null,
   "id": "493aa506-ca1e-46f7-9dd3-f02a3cf1b4b5",
   "metadata": {},
   "outputs": [],
   "source": [
    "# Create a figure and axis object\n",
    "fig, ax = plt.subplots(figsize=(12, 6))\n",
    "\n",
    "# Plot each state's data as a bar\n",
    "for state in filtered_pivot_table.columns:\n",
    "    ax.bar(filtered_pivot_table.index, filtered_pivot_table[state], label=state)\n",
    "\n",
    "# Customize the chart\n",
    "ax.set_xlabel('Churn Status')\n",
    "ax.set_ylabel('Average Age')\n",
    "ax.set_title('Average Age by Churn Status for Selected States')\n",
    "ax.legend(title='States')\n",
    "\n",
    "# Add value labels on top of each bar\n",
    "for i, state in enumerate(filtered_pivot_table.columns):\n",
    "    for j, value in enumerate(filtered_pivot_table[state]):\n",
    "        ax.text(j, value, f'{value:.2f}', ha='center', va='bottom' if value > 0 else 'top')\n",
    "\n",
    "# Adjust layout and display the plot\n",
    "plt.tight_layout()\n",
    "plt.show()"
   ]
  },
  {
   "cell_type": "code",
   "execution_count": null,
   "id": "3fe2484c-8ec2-4433-99de-d3b0354c6e44",
   "metadata": {},
   "outputs": [],
   "source": [
    "# Melt the pivot table to long format for easier plotting with seaborn\n",
    "melted_pivot = filtered_pivot_table.reset_index().melt('churn', var_name='state', value_name='average_age')\n",
    "\n",
    "# Create the plot\n",
    "plt.figure(figsize=(12, 6))\n",
    "sns.barplot(x='churn', y='average_age', hue='state', data=melted_pivot)\n",
    "\n",
    "# Customize the plot\n",
    "plt.title('Average Age by Churn Status for Selected States')\n",
    "plt.xlabel('Churn Status')\n",
    "plt.ylabel('Average Age')\n",
    "\n",
    "# Add value labels on top of each bar\n",
    "for i, bar in enumerate(plt.gca().containers):\n",
    "    plt.gca().bar_label(bar, fmt='%.2f', label_type='edge')\n",
    "\n",
    "# Show legend\n",
    "plt.legend(title='States')\n",
    "\n",
    "# Display the plot\n",
    "plt.tight_layout()\n",
    "plt.show()"
   ]
  },
  {
   "cell_type": "code",
   "execution_count": null,
   "id": "c688e3c8-1475-4e3f-a7fe-7ecf6649c768",
   "metadata": {},
   "outputs": [],
   "source": [
    "pivot_age_churn = pd.pivot_table(telcom_data_df, \n",
    "                                 values=['age'], \n",
    "                                 index=['churn'], \n",
    "                                 aggfunc={'age': 'mean'})\n",
    "\n",
    "print(pivot_age_churn)"
   ]
  },
  {
   "cell_type": "code",
   "execution_count": null,
   "id": "2610aca5-5b22-44dd-aa55-3a8a0afd3ae3",
   "metadata": {},
   "outputs": [],
   "source": [
    "# Create the plot\n",
    "plt.figure(figsize=(10, 6))\n",
    "pivot_age_churn.plot(kind='box')\n",
    "\n",
    "# Customize the plot\n",
    "plt.title('Average age by Churn Status')\n",
    "plt.xlabel('Churn Status')\n",
    "plt.ylabel('Average age')\n",
    "\n",
    "# Add value labels on top of each bar\n",
    "for i, v in enumerate(pivot_age_churn['age']):\n",
    "    plt.text(i, v, f'{v:.2f}', ha='center', va='bottom' if v > 0 else 'top')\n",
    "\n",
    "# Display the plot\n",
    "plt.tight_layout()\n",
    "plt.show()"
   ]
  },
  {
   "cell_type": "code",
   "execution_count": null,
   "id": "f3587086-e62d-451e-ade4-25f9961d8d93",
   "metadata": {},
   "outputs": [],
   "source": [
    "# Create the plot\n",
    "plt.figure(figsize=(10, 6))\n",
    "pivot_age_churn.plot(kind='bar')\n",
    "\n",
    "# Customize the plot\n",
    "plt.title('Average age by Churn Status')\n",
    "plt.xlabel('Churn Status')\n",
    "plt.ylabel('Average age')\n",
    "\n",
    "# Add value labels on top of each bar\n",
    "for i, v in enumerate(pivot_age_churn['age']):\n",
    "    plt.text(i, v, f'{v:.2f}', ha='center', va='bottom' if v > 0 else 'top')\n",
    "\n",
    "# Display the plot\n",
    "plt.tight_layout()\n",
    "plt.show()"
   ]
  },
  {
   "cell_type": "code",
   "execution_count": null,
   "id": "b4ae3f3f-54c6-4362-a771-eca8b46fb95a",
   "metadata": {},
   "outputs": [],
   "source": [
    "pivot_charge_churn = pd.pivot_table(telcom_data_df, \n",
    "                                 values=['total_day_charge'], \n",
    "                                 index=['churn'], \n",
    "                                 aggfunc={'total_day_charge': 'mean'})\n",
    "\n",
    "print(pivot_age_churn)"
   ]
  },
  {
   "cell_type": "code",
   "execution_count": null,
   "id": "a06c8c7c-25dc-4be9-9fef-b65e1a88099e",
   "metadata": {},
   "outputs": [],
   "source": [
    "# Create the plot\n",
    "plt.figure(figsize=(10, 6))\n",
    "pivot_charge_churn.plot(kind='bar')\n",
    "\n",
    "# Customize the plot\n",
    "plt.title('Average Total Day Charge by Churn Status')\n",
    "plt.xlabel('Churn Status')\n",
    "plt.ylabel('Average Total Day Charge')\n",
    "\n",
    "# Add value labels on top of each bar\n",
    "for i, v in enumerate(pivot_charge_churn['total_day_charge']):\n",
    "    plt.text(i, v, f'{v:.2f}', ha='center', va='bottom' if v > 0 else 'top')\n",
    "\n",
    "# Display the plot\n",
    "plt.tight_layout()\n",
    "plt.show()"
   ]
  },
  {
   "cell_type": "code",
   "execution_count": null,
   "id": "dc8c0eff-59e6-440f-abda-7146cd659591",
   "metadata": {},
   "outputs": [],
   "source": [
    "pivot_number_vmail_messages_churn = pd.pivot_table(telcom_data_df, \n",
    "                                 values=['number_vmail_messages'], \n",
    "                                 index=['churn'], \n",
    "                                 aggfunc={'number_vmail_messages': 'mean'})\n",
    "\n",
    "print(pivot_number_vmail_messages_churn)"
   ]
  },
  {
   "cell_type": "code",
   "execution_count": null,
   "id": "3a048f66-dfd6-4d52-b530-07602ab93a68",
   "metadata": {},
   "outputs": [],
   "source": [
    "# Create the plot\n",
    "plt.figure(figsize=(10, 6))\n",
    "pivot_charge_churn.plot(kind='bar')\n",
    "\n",
    "# Customize the plot\n",
    "plt.title('Average Total Day Charge by Churn Status')\n",
    "plt.xlabel('Churn Status')\n",
    "plt.ylabel('Average Total Day Charge')\n",
    "\n",
    "# Add value labels on top of each bar\n",
    "for i, v in enumerate(pivot_charge_churn['total_day_charge']):\n",
    "    plt.text(i, v, f'{v:.2f}', ha='center', va='bottom' if v > 0 else 'top')\n",
    "\n",
    "# Display the plot\n",
    "plt.tight_layout()\n",
    "plt.show()"
   ]
  },
  {
   "cell_type": "code",
   "execution_count": null,
   "id": "0ce99b66-4c9b-426c-a48f-28f94a004efc",
   "metadata": {},
   "outputs": [],
   "source": [
    "# Create the plot\n",
    "plt.figure(figsize=(10, 6))\n",
    "pivot_total_minutes_churn.plot(kind='bar')\n",
    "\n",
    "# Customize the plot\n",
    "plt.title('Average Total Day Minutes by Churn Status')\n",
    "plt.xlabel('Churn Status')\n",
    "plt.ylabel('Average Total Day Minutes')\n",
    "\n",
    "# Add value labels on top of each bar\n",
    "for i, v in enumerate(pivot_total_minutes_churn['total_day_minutes']):\n",
    "    plt.text(i, v, f'{v:.2f}', ha='center', va='bottom' if v > 0 else 'top')\n",
    "\n",
    "# Display the plot\n",
    "plt.tight_layout()\n",
    "plt.show()"
   ]
  },
  {
   "cell_type": "code",
   "execution_count": null,
   "id": "a6bfd920-630b-4422-ad86-c9be9ba3dc63",
   "metadata": {},
   "outputs": [],
   "source": [
    "pivot_total_minutes_churn = pd.pivot_table(telcom_data_df, \n",
    "                                 values=['total_day_minutes'], \n",
    "                                 index=['churn'], \n",
    "                                 aggfunc={'total_day_minutes': 'mean'})\n",
    "\n",
    "print(pivot_total_minutes_churn)"
   ]
  },
  {
   "cell_type": "code",
   "execution_count": null,
   "id": "df68a309-1fb2-4061-923b-5ab0e38270f2",
   "metadata": {},
   "outputs": [],
   "source": [
    "import pandas as pd\n",
    "from sklearn.model_selection import train_test_split\n",
    "from sklearn.linear_model import LogisticRegression\n",
    "from sklearn.metrics import accuracy_score, confusion_matrix\n",
    "\n",
    "# Convert data to DataFrame\n",
    "df = telcom_data_df\n",
    "# Features (X) and target (y)\n",
    "X = df[['age', 'total_day_charge']]\n",
    "y = df['churn']\n",
    "# Split the data into training and test sets\n",
    "X_train, X_test, y_train, y_test = train_test_split(X, y, test_size=0.2, random_state=42)"
   ]
  },
  {
   "cell_type": "markdown",
   "id": "6f08b216-962a-4260-9555-0a0733227872",
   "metadata": {},
   "source": [
    "### Logistic Regression\n",
    "Here we created a logistic regression to show how accurate our model was at predicting churn"
   ]
  },
  {
   "cell_type": "code",
   "execution_count": null,
   "id": "655e9952-1638-4120-bb62-5e94acddddb7",
   "metadata": {},
   "outputs": [],
   "source": [
    "# Initialize Logistic Regression model\n",
    "model = LogisticRegression()\n",
    "# Fit the model to the training data\n",
    "model.fit(X_train, y_train)\n",
    "# Make predictions on the test set\n",
    "y_pred = model.predict(X_test)"
   ]
  },
  {
   "cell_type": "code",
   "execution_count": null,
   "id": "31b54e49-e51f-4725-94f0-01e59f71c3a3",
   "metadata": {},
   "outputs": [],
   "source": [
    "# Accuracy\n",
    "accuracy = accuracy_score(y_test, y_pred)\n",
    "print(f\"Accuracy: {accuracy * 100:.2f}%\")\n",
    "# Confusion Matrix\n",
    "conf_matrix = confusion_matrix(y_test, y_pred)\n",
    "print(\"Confusion Matrix:\")\n",
    "print(conf_matrix)"
   ]
  },
  {
   "cell_type": "code",
   "execution_count": null,
   "id": "27b93bfb-9761-4248-9681-9139ad32befb",
   "metadata": {},
   "outputs": [],
   "source": [
    "from sklearn.metrics import classification_report\n",
    "# Generate the classification report\n",
    "report = classification_report(y_test, y_pred)\n",
    "# Print the classification report\n",
    "print(\"Classification Report:\")\n",
    "print(report)"
   ]
  },
  {
   "cell_type": "code",
   "execution_count": null,
   "id": "b506b28c-fd16-4916-84e4-499b127e22d6",
   "metadata": {},
   "outputs": [],
   "source": [
    "# Plot the actual vs. predicted values\n",
    "plt.figure(figsize=(10, 6))\n",
    "# Scatter plot for actual values\n",
    "sc_actual = plt.scatter(X_test['age'], X_test['total_day_charge'], c=y_test, marker='o', label='Actual', edgecolor='k')\n",
    "# Scatter plot for predicted values\n",
    "sc_pred = plt.scatter(X_test['age'], X_test['total_day_charge'], c=y_pred, marker='x', label='Predicted', edgecolor='r')\n",
    "# Adding the plot details\n",
    "plt.title('Logistic Regression: Actual vs. Predicted')\n",
    "plt.xlabel('age')\n",
    "plt.ylabel('total_day_charge')\n",
    "plt.legend()\n",
    "plt.grid(True)\n",
    "plt.colorbar(sc_pred, label='Predicted Value')\n",
    "# plt.colorbar(sc_actual, label='Actual Value')\n",
    "plt.show()"
   ]
  },
  {
   "cell_type": "code",
   "execution_count": null,
   "id": "47e769dc-9515-40e3-aa79-9c5db5f01fc9",
   "metadata": {},
   "outputs": [],
   "source": [
    "from sklearn.linear_model import LogisticRegression\n",
    "LR = LogisticRegression()\n",
    "LR.fit(X_train, y_train)\n",
    "y_pred = LR.predict(X_test)\n",
    "evaluation(y_test, y_pred, LR, 'LogisticRegression()')"
   ]
  },
  {
   "cell_type": "code",
   "execution_count": null,
   "id": "1fdfc042-a838-434c-9bf4-21ff97726f4c",
   "metadata": {},
   "outputs": [],
   "source": [
    "import re"
   ]
  },
  {
   "cell_type": "code",
   "execution_count": null,
   "id": "86cff616-f712-4bb0-859d-6be51f2272ca",
   "metadata": {},
   "outputs": [],
   "source": [
    "num_column = df.describe().columns.values\n",
    "fig = plt.figure(figsize=[20,60])\n",
    "for i ,col in enumerate(num_column):\n",
    "    ax = fig.add_subplot(7, 4, i+1)\n",
    "    ax = sns.histplot(df[col], bins=10, color=color_list[i])\n",
    "    ax.bar_label(ax.containers[0], fontsize=10)\n",
    "    ax.set_xlabel(col, fontsize=10)\n",
    "    ax.set_ylabel('total', fontsize=10)\n",
    "    ax.tick_params(labelsize=10)\n",
    "    title = re.sub('_', ' ', col.title())\n",
    "    ax.set_title('Distribution of {}'.format(title), fontweight='bold', fontsize=12, pad=10)"
   ]
  },
  {
   "cell_type": "code",
   "execution_count": null,
   "id": "6cdb50f7-9b98-47a9-93bd-7f93bc823351",
   "metadata": {},
   "outputs": [],
   "source": [
    "fig = plt.figure(figsize=[35,60])\n",
    "for i ,col in enumerate(num_column):\n",
    "    ax = fig.add_subplot(7, 4, i+1)\n",
    "    ax = sns.kdeplot(data = df, x=col, hue='churn',  palette=['teal', 'indianred'])\n",
    "    ax.set_xlabel(col, fontsize=12)\n",
    "    ax.set_ylabel('Density', fontsize=12)\n",
    "    ax.tick_params(labelsize=12)\n",
    "    title = re.sub('_', ' ', col.title())\n",
    "    ax.set_title('Density of Churn in {}'.format(title), fontweight='bold', fontsize=14, pad=10)"
   ]
  },
  {
   "cell_type": "code",
   "execution_count": null,
   "id": "3f8b99bc-70ca-4ebc-8f34-308787d7f6f5",
   "metadata": {},
   "outputs": [],
   "source": [
    "telcom_data_df.head()"
   ]
  },
  {
   "cell_type": "code",
   "execution_count": null,
   "id": "1d6beeaf-2e02-429d-9b7a-c341445a859c",
   "metadata": {},
   "outputs": [],
   "source": [
    "colour = ['lightcoral','lightseagreen', 'springgreen', 'deepskyblue', 'gray', 'violet', 'brown', 'lightcoral', 'deeppink', 'peru',\n",
    "          'purple', 'cyan', 'forestgreen', 'crimson', 'magenta']\n",
    "fig = plt.figure(figsize=[20,50])\n",
    "for i ,col in enumerate(num_column):\n",
    "    ax = fig.add_subplot(7,4, i+1)\n",
    "    ax = sns.boxplot(data = df, x=col, color=color_list[i])\n",
    "    title = re.sub('_', ' ', col.title())\n",
    "    ax.set_title(title)\n",
    "    ax.set_xlabel(col)"
   ]
  },
  {
   "cell_type": "code",
   "execution_count": null,
   "id": "33fad43a-694d-4655-8eda-e7aa486fb1b4",
   "metadata": {},
   "outputs": [],
   "source": [
    "exclude_column = ['state', 'area_code', 'churn_rate_per_state']"
   ]
  },
  {
   "cell_type": "code",
   "execution_count": null,
   "id": "1b7f89de-44ef-4cce-b75a-5b967a7e18b5",
   "metadata": {},
   "outputs": [],
   "source": [
    "churn_corr = df.drop(columns=exclude_column).corr()['churn'].sort_values(ascending=False)[1:].reset_index().rename(columns={'index':'variable', 'churn':'correlation'})\n",
    "churn_corr['color'] = ['positive' if value > 0 else 'negative' for value in churn_corr['correlation']]\n",
    "palette = {'positive':'indianred', 'negative':'teal'}\n",
    "\n",
    "plt.figure(figsize=(30,15))\n",
    "ax = sns.barplot(data=churn_corr, y='variable', x='correlation', hue='color', palette=palette, dodge=False)\n",
    "ax.bar_label(ax.containers[0], fontsize=20, fmt='%.3f')\n",
    "ax.bar_label(ax.containers[1], fontsize=20, fmt='%.3f')\n",
    "ax.set_xlabel('Correlations')\n",
    "ax.set_ylabel('Columns (variables)')\n",
    "ax.set_title('Correlation Churn with All Columns (variable)', fontweight='bold', fontsize=30, pad=20)\n",
    "plt.legend()\n",
    "plt.show()"
   ]
  },
  {
   "cell_type": "code",
   "execution_count": null,
   "id": "a1f07172-d5eb-48ea-a06e-336a71da2054",
   "metadata": {},
   "outputs": [],
   "source": [
    "from matplotlib.colors import LinearSegmentedColormap\n",
    "colors = [(0, 'teal'), (0.5, 'white'), (1, 'indianred')]\n",
    "cmap = LinearSegmentedColormap.from_list('custom_cmap', colors)\n",
    "plt.figure(figsize=(20,10))\n",
    "ax = sns.heatmap(df.drop(columns=exclude_column).corr(), annot=True, cmap=cmap, vmin=-1, vmax=1)\n",
    "ax.set_title('Correlation Heatmap', fontdict={'fontsize':40}, pad=30)\n",
    "plt.show()"
   ]
  }
 ],
 "metadata": {
  "kernelspec": {
   "display_name": "Python 3 (ipykernel)",
   "language": "python",
   "name": "python3"
  },
  "language_info": {
   "codemirror_mode": {
    "name": "ipython",
    "version": 3
   },
   "file_extension": ".py",
   "mimetype": "text/x-python",
   "name": "python",
   "nbconvert_exporter": "python",
   "pygments_lexer": "ipython3",
   "version": "3.11.7"
  }
 },
 "nbformat": 4,
 "nbformat_minor": 5
}
