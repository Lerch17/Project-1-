{
 "cells": [
  {
   "cell_type": "code",
   "execution_count": null,
   "id": "477d72a8-be64-4a3f-a9f1-c9664f17bd57",
   "metadata": {},
   "outputs": [],
   "source": [
    "import numpy as np\n",
    "import pandas as pd\n",
    "from pathlib import Path\n",
    "import hvplot.pandas \n",
    "import matplotlib.pyplot as plt\n",
    "import seaborn as sns"
   ]
  },
  {
   "cell_type": "code",
   "execution_count": null,
   "id": "bb9ee805-389c-4e2e-9c58-53fcbfe57397",
   "metadata": {},
   "outputs": [],
   "source": [
    "# import the telcom churn csv data\n",
    "telcom_data_df = pd.read_excel(Path('resources/telcom_customer_data.xlsx'))"
   ]
  },
  {
   "cell_type": "code",
   "execution_count": null,
   "id": "e108e3f6-9710-4286-b8ef-961d0fbda5f5",
   "metadata": {},
   "outputs": [],
   "source": [
    "# Modify the area_code column by removing the \"area_code_\" part of the string from every entry.\n",
    "telcom_data_df['area_code'] = telcom_data_df['area_code'].str.replace('area_code_', '')\n",
    "# Modify the churn column by replacing the \"yes\" with a 1 and \"no\" with a 0.\n",
    "telcom_data_df['churn'] = telcom_data_df['churn'].replace({'yes': 1, 'no': 0})"
   ]
  },
  {
   "cell_type": "code",
   "execution_count": null,
   "id": "e5aa295a-ce58-40f6-ac23-93e1826af699",
   "metadata": {},
   "outputs": [],
   "source": [
    "def pie_label(pct, x):\n",
    "    value = round(pct / 100.*np.sum(x))\n",
    "    return '{:d}\\n({:.0f}%)'.format(value, pct)"
   ]
  },
  {
   "cell_type": "code",
   "execution_count": null,
   "id": "6c5a33a7-f4c3-49d8-b85d-ee0c839dcea1",
   "metadata": {},
   "outputs": [],
   "source": [
    "def save_division(numerator, denumerator):\n",
    "    if numerator == 0  and denumerator == 0:\n",
    "        return 0\n",
    "    elif denumerator == 0:\n",
    "        raise ValueError(\"Division by zero is not allowed\") \n",
    "    else:\n",
    "        return numerator/denumerator"
   ]
  },
  {
   "cell_type": "code",
   "execution_count": null,
   "id": "f4f2ecc5-dfb1-40e5-9922-96a2566c475e",
   "metadata": {},
   "outputs": [],
   "source": [
    "def stacking_bar_label(data):\n",
    "    for idx in data.index:\n",
    "        start = 0\n",
    "        for col in data.columns:\n",
    "            y = data.loc[idx, col]\n",
    "            value = data.loc[idx, col]\n",
    "            total = data.loc[idx, :].sum()\n",
    "            ax.text(\n",
    "                x=idx,\n",
    "                y=(start + y / 2) * 0.95,\n",
    "                s=f'{round(100 * value / total)}%',\n",
    "                fontsize=15,\n",
    "                ha='right',\n",
    "                color='black',\n",
    "                weight='bold'\n",
    "                )\n",
    "            start += y"
   ]
  },
  {
   "cell_type": "code",
   "execution_count": null,
   "id": "de4d4b2e-17a7-45d1-b570-d98df214f64c",
   "metadata": {},
   "outputs": [],
   "source": [
    "def stacking_bar_label(data):\n",
    "    for idx in data.index:\n",
    "        start = 0\n",
    "        for col in data.columns:\n",
    "            y = data.loc[idx, col]\n",
    "            value = data.loc[idx, col]\n",
    "            total = data.loc[idx, :].sum()\n",
    "            ax.text(\n",
    "                x=idx,\n",
    "                y=(start + y / 2) * 0.95,\n",
    "                s=f'{round(100 * value / total)}%',\n",
    "                fontsize=15,\n",
    "                ha='right',\n",
    "                color='black',\n",
    "                weight='bold'\n",
    "                )\n",
    "            start += y"
   ]
  },
  {
   "cell_type": "code",
   "execution_count": null,
   "id": "db26fec5-b7e1-477e-99be-f1ef071442cb",
   "metadata": {},
   "outputs": [],
   "source": [
    "class extract_data():\n",
    "    def __init__(self, chart, interval):\n",
    "        self.chart = chart\n",
    "        self.bin_edges = self.chart.patches\n",
    "        self.interval = interval\n",
    "        self.x_data = [(bin_edge.get_x() + bin_edge.get_width()/2) for bin_edge in self.bin_edges]\n",
    "        self.y_data = [bin_edge.get_height() for bin_edge in self.bin_edges]\n",
    "        self.x_interval = np.array(self.x_data[:interval])\n",
    "        self.y_churn = np.array(self.y_data[:interval])\n",
    "        self.y_total = np.array(self.y_data[:interval]) + np.array(self.y_data[interval:])\n",
    "    \n",
    "    def hist_label(self):\n",
    "        for c, d, e in zip(self.x_interval, self.y_churn, self.y_total):\n",
    "            self.chart.text(\n",
    "                x=c\n",
    "                , y=d\n",
    "                , s=f'{round(100* save_division(d, e))}%'\n",
    "                , fontsize=12\n",
    "                , ha='left'\n",
    "                , va='center'\n",
    "                , color='darkred'\n",
    "                , weight='bold'\n",
    "            )\n",
    "\n",
    "    def line_label(self):\n",
    "        for x, y in zip(self.x_interval, self.y_total):\n",
    "            self.chart.text(\n",
    "                x=x\n",
    "                , y=y\n",
    "                , s='{:.0f}'.format(y)\n",
    "                , fontsize=12\n",
    "                , ha='right'\n",
    "                , va='baseline'\n",
    "                , color='black'\n",
    "                , weight='bold'\n",
    "            )"
   ]
  },
  {
   "cell_type": "code",
   "execution_count": null,
   "id": "3a0e1542-d700-431b-bed2-bc2e787f8857",
   "metadata": {},
   "outputs": [],
   "source": [
    "color_list = [\n",
    "        'lightcoral'\n",
    "        ,'lightseagreen'\n",
    "        , 'springgreen'\n",
    "        , 'deepskyblue'\n",
    "        , 'gray'\n",
    "        , 'violet'\n",
    "        , 'brown'\n",
    "        , 'lightcoral'\n",
    "        , 'deeppink'\n",
    "        , 'peru'\n",
    "        , 'purple'\n",
    "        , 'cyan'\n",
    "        , 'forestgreen'\n",
    "        , 'crimson'\n",
    "        , 'magenta'\n",
    "        ]"
   ]
  },
  {
   "cell_type": "code",
   "execution_count": null,
   "id": "6dc88157-e18b-47a5-8760-d3b45542f857",
   "metadata": {},
   "outputs": [],
   "source": [
    "telcom_data_df['age'].hvplot(kind='hist', bins=20, title='Age Distribution')"
   ]
  },
  {
   "cell_type": "code",
   "execution_count": null,
   "id": "585e3fc5-040e-4815-9aed-25edec035173",
   "metadata": {},
   "outputs": [],
   "source": [
    "n = 10\n",
    "target_variable = ['number_vmail_messages', 'churn']\n",
    "\n",
    "fig, ax1 = plt.subplots(figsize=(15,7))\n",
    "sns.histplot(data=telcom_data_df, x=target_variable[0], bins=n, stat='count', hue=target_variable[1], multiple='stack', palette=['teal', 'indianred'], ax=ax1)\n",
    "plot = extract_data(ax1, n)\n",
    "plot.hist_label()\n",
    "plot.line_label()\n",
    "sns.lineplot(x=plot.x_interval, y=plot.y_total, marker='o', sort=False, color='royalblue', estimator=None, linewidth=5, ax=ax1)\n",
    "\n",
    "ax1.set_title('Distribution of {} : Customer Churn'.format(target_variable[0]), fontweight='bold', pad=20, fontsize=17)\n",
    "ax1.tick_params(labelsize=12)\n",
    "ax1.set_xlabel('Number mail messages', fontsize=12)\n",
    "ax1.set_ylabel('Frequncy', fontsize=12)\n",
    "ax1.tick_params(labelsize=12)\n",
    "plt.show()"
   ]
  },
  {
   "cell_type": "code",
   "execution_count": null,
   "id": "137e8f52-483c-408f-a65f-04ba86aa65d7",
   "metadata": {},
   "outputs": [],
   "source": [
    "telcom_data_df['total_day_minutes'].hvplot(kind='hist', bins=20, title='Total minutes (day)')"
   ]
  },
  {
   "cell_type": "code",
   "execution_count": null,
   "id": "ad418934-7f4a-427a-928b-e1fa85066ad7",
   "metadata": {},
   "outputs": [],
   "source": [
    "n = 10\n",
    "target_variable = ['total_day_minutes', 'churn']\n",
    "\n",
    "fig, ax1 = plt.subplots(figsize=(15,7))\n",
    "sns.histplot(data=telcom_data_df, x=target_variable[0], bins=n, stat='count', hue=target_variable[1], multiple='stack', palette=['teal', 'indianred'], ax=ax1)\n",
    "plot = extract_data(ax1, n)\n",
    "plot.hist_label()\n",
    "plot.line_label()\n",
    "sns.lineplot(x=plot.x_interval, y=plot.y_total, marker='o', sort=False, color='royalblue', estimator=None, linewidth=5, ax=ax1)\n",
    "\n",
    "ax1.set_title('Distribution of {} : Customer Churn'.format(target_variable[0]), fontweight='bold', pad=20, fontsize=17)\n",
    "ax1.tick_params(labelsize=12)\n",
    "ax1.set_xlabel('Minutes', fontsize=12)\n",
    "ax1.set_ylabel('Frequency', fontsize=12)\n",
    "ax1.tick_params(labelsize=12)\n",
    "\n",
    "plt.show()"
   ]
  },
  {
   "cell_type": "code",
   "execution_count": null,
   "id": "7dfea1fb-ae88-4893-b380-1507bf7ebf04",
   "metadata": {},
   "outputs": [],
   "source": [
    "telcom_data_df['total_day_calls'].hvplot(kind='hist', bins=20, title='Total Day Calls')"
   ]
  },
  {
   "cell_type": "code",
   "execution_count": null,
   "id": "bee8634f-333b-4ab9-85ac-9c4960de4c5c",
   "metadata": {},
   "outputs": [],
   "source": [
    "telcom_data_df['total_day_charge'].hvplot(kind='hist', bins=20, title='Total Day Charge')"
   ]
  },
  {
   "cell_type": "code",
   "execution_count": null,
   "id": "65cddee0-ee7d-4b0a-84dc-b25227c0e62d",
   "metadata": {},
   "outputs": [],
   "source": [
    "n = 10\n",
    "target_variable = ['total_day_charge', 'churn']\n",
    "\n",
    "fig, ax1 = plt.subplots(figsize=(15,7))\n",
    "sns.histplot(data=telcom_data_df, x=target_variable[0], bins=n, stat='count', hue=target_variable[1], multiple='stack', palette=['teal', 'indianred'], ax=ax1)\n",
    "plot = extract_data(ax1, n)\n",
    "plot.hist_label()\n",
    "plot.line_label()\n",
    "sns.lineplot(x=plot.x_interval, y=plot.y_total, marker='o', sort=False, color='royalblue', estimator=None, linewidth=5, ax=ax1)\n",
    "\n",
    "ax1.set_title('Distribution of {} : Customer Churn'.format(target_variable[0]), fontweight='bold', pad=20, fontsize=17)\n",
    "ax1.tick_params(labelsize=12)\n",
    "ax1.set_xlabel('Charge', fontsize=12)\n",
    "ax1.set_ylabel('Frequency', fontsize=12)\n",
    "ax1.tick_params(labelsize=12)\n",
    "plt.show()"
   ]
  },
  {
   "cell_type": "code",
   "execution_count": null,
   "id": "504ada68-8086-498a-9923-a73cf501bd83",
   "metadata": {},
   "outputs": [],
   "source": [
    "telcom_data_df['number_customer_service_calls'].hvplot(kind='hist', bins=20, title='Number of Customer Service Calls')"
   ]
  },
  {
   "cell_type": "code",
   "execution_count": null,
   "id": "5adf3f16-d257-4e1d-bcaa-46bba856d30e",
   "metadata": {},
   "outputs": [],
   "source": [
    "n = 10\n",
    "target_variable = ['number_customer_service_calls', 'churn']\n",
    "\n",
    "fig, ax1 = plt.subplots(figsize=(15,7))\n",
    "sns.histplot(data=df, x=target_variable[0], bins=n, stat='count', hue=target_variable[1], multiple='stack', palette=['teal', 'indianred'], ax=ax1)\n",
    "plot = extract_data(ax1, n)\n",
    "plot.hist_label()\n",
    "plot.line_label()\n",
    "sns.lineplot(x=plot.x_interval, y=plot.y_total, marker='o', sort=False, color='royalblue', estimator=None, linewidth=5, ax=ax1)\n",
    "\n",
    "ax1.set_title('Distribution of {} : Customer Churn'.format(target_variable[0]), fontweight='bold', pad=20, fontsize=17)\n",
    "ax1.tick_params(labelsize=12)\n",
    "ax1.set_xlabel('Number customer service calls', fontsize=12)\n",
    "ax1.set_ylabel('Frequency', fontsize=12)\n",
    "ax1.tick_params(labelsize=12)\n",
    "plt.show()"
   ]
  },
  {
   "cell_type": "code",
   "execution_count": null,
   "id": "59fb2899-f488-4f57-9754-53f330da548a",
   "metadata": {},
   "outputs": [],
   "source": [
    "# create the pivot table\n",
    "telcom_data_pivot = pd.pivot_table(telcom_data_df, \n",
    "                                   values='age', \n",
    "                                   index='churn', \n",
    "                                   columns='state', \n",
    "                                   aggfunc='mean')\n",
    "\n",
    "filtered_pivot_table = telcom_data_pivot[['NJ', 'MN', 'TX']]\n",
    "\n",
    "filtered_pivot_table"
   ]
  },
  {
   "cell_type": "code",
   "execution_count": null,
   "id": "4f4c5f87-c346-4831-955e-72e91c44479f",
   "metadata": {},
   "outputs": [],
   "source": [
    "filtered_pivot_table.hvplot(kind='hist', bins=20, title= 'Average age')"
   ]
  },
  {
   "cell_type": "code",
   "execution_count": null,
   "id": "493aa506-ca1e-46f7-9dd3-f02a3cf1b4b5",
   "metadata": {},
   "outputs": [],
   "source": [
    "# Create a figure and axis object\n",
    "fig, ax = plt.subplots(figsize=(12, 6))\n",
    "\n",
    "# Plot each state's data as a bar\n",
    "for state in filtered_pivot_table.columns:\n",
    "    ax.bar(filtered_pivot_table.index, filtered_pivot_table[state], label=state)\n",
    "\n",
    "# Customize the chart\n",
    "ax.set_xlabel('Churn Status')\n",
    "ax.set_ylabel('Average Age')\n",
    "ax.set_title('Average Age by Churn Status for Selected States')\n",
    "ax.legend(title='States')\n",
    "\n",
    "# Add value labels on top of each bar\n",
    "for i, state in enumerate(filtered_pivot_table.columns):\n",
    "    for j, value in enumerate(filtered_pivot_table[state]):\n",
    "        ax.text(j, value, f'{value:.2f}', ha='center', va='bottom' if value > 0 else 'top')\n",
    "\n",
    "# Adjust layout and display the plot\n",
    "plt.tight_layout()\n",
    "plt.show()"
   ]
  },
  {
   "cell_type": "code",
   "execution_count": null,
   "id": "3fe2484c-8ec2-4433-99de-d3b0354c6e44",
   "metadata": {},
   "outputs": [],
   "source": [
    "# Melt the pivot table to long format for easier plotting with seaborn\n",
    "melted_pivot = filtered_pivot_table.reset_index().melt('churn', var_name='state', value_name='average_age')\n",
    "\n",
    "# Create the plot\n",
    "plt.figure(figsize=(12, 6))\n",
    "sns.barplot(x='churn', y='average_age', hue='state', data=melted_pivot)\n",
    "\n",
    "# Customize the plot\n",
    "plt.title('Average Age by Churn Status for Selected States')\n",
    "plt.xlabel('Churn Status')\n",
    "plt.ylabel('Average Age')\n",
    "\n",
    "# Add value labels on top of each bar\n",
    "for i, bar in enumerate(plt.gca().containers):\n",
    "    plt.gca().bar_label(bar, fmt='%.2f', label_type='edge')\n",
    "\n",
    "# Show legend\n",
    "plt.legend(title='States')\n",
    "\n",
    "# Display the plot\n",
    "plt.tight_layout()\n",
    "plt.show()"
   ]
  },
  {
   "cell_type": "code",
   "execution_count": null,
   "id": "c688e3c8-1475-4e3f-a7fe-7ecf6649c768",
   "metadata": {},
   "outputs": [],
   "source": [
    "pivot_age_churn = pd.pivot_table(telcom_data_df, \n",
    "                                 values=['age'], \n",
    "                                 index=['churn'], \n",
    "                                 aggfunc={'age': 'mean'})\n",
    "\n",
    "print(pivot_age_churn)"
   ]
  },
  {
   "cell_type": "code",
   "execution_count": null,
   "id": "2610aca5-5b22-44dd-aa55-3a8a0afd3ae3",
   "metadata": {},
   "outputs": [],
   "source": [
    "# Create the plot\n",
    "plt.figure(figsize=(10, 6))\n",
    "pivot_age_churn.plot(kind='box')\n",
    "\n",
    "# Customize the plot\n",
    "plt.title('Average age by Churn Status')\n",
    "plt.xlabel('Churn Status')\n",
    "plt.ylabel('Average age')\n",
    "\n",
    "# Add value labels on top of each bar\n",
    "for i, v in enumerate(pivot_age_churn['age']):\n",
    "    plt.text(i, v, f'{v:.2f}', ha='center', va='bottom' if v > 0 else 'top')\n",
    "\n",
    "# Display the plot\n",
    "plt.tight_layout()\n",
    "plt.show()"
   ]
  },
  {
   "cell_type": "code",
   "execution_count": null,
   "id": "f3587086-e62d-451e-ade4-25f9961d8d93",
   "metadata": {},
   "outputs": [],
   "source": [
    "# Create the plot\n",
    "plt.figure(figsize=(10, 6))\n",
    "pivot_age_churn.plot(kind='bar')\n",
    "\n",
    "# Customize the plot\n",
    "plt.title('Average age by Churn Status')\n",
    "plt.xlabel('Churn Status')\n",
    "plt.ylabel('Average age')\n",
    "\n",
    "# Add value labels on top of each bar\n",
    "for i, v in enumerate(pivot_age_churn['age']):\n",
    "    plt.text(i, v, f'{v:.2f}', ha='center', va='bottom' if v > 0 else 'top')\n",
    "\n",
    "# Display the plot\n",
    "plt.tight_layout()\n",
    "plt.show()"
   ]
  },
  {
   "cell_type": "code",
   "execution_count": null,
   "id": "b4ae3f3f-54c6-4362-a771-eca8b46fb95a",
   "metadata": {},
   "outputs": [],
   "source": [
    "pivot_charge_churn = pd.pivot_table(telcom_data_df, \n",
    "                                 values=['total_day_charge'], \n",
    "                                 index=['churn'], \n",
    "                                 aggfunc={'total_day_charge': 'mean'})\n",
    "\n",
    "print(pivot_age_churn)"
   ]
  },
  {
   "cell_type": "code",
   "execution_count": null,
   "id": "a06c8c7c-25dc-4be9-9fef-b65e1a88099e",
   "metadata": {},
   "outputs": [],
   "source": [
    "# Create the plot\n",
    "plt.figure(figsize=(10, 6))\n",
    "pivot_charge_churn.plot(kind='bar')\n",
    "\n",
    "# Customize the plot\n",
    "plt.title('Average Total Day Charge by Churn Status')\n",
    "plt.xlabel('Churn Status')\n",
    "plt.ylabel('Average Total Day Charge')\n",
    "\n",
    "# Add value labels on top of each bar\n",
    "for i, v in enumerate(pivot_charge_churn['total_day_charge']):\n",
    "    plt.text(i, v, f'{v:.2f}', ha='center', va='bottom' if v > 0 else 'top')\n",
    "\n",
    "# Display the plot\n",
    "plt.tight_layout()\n",
    "plt.show()"
   ]
  },
  {
   "cell_type": "code",
   "execution_count": null,
   "id": "dc8c0eff-59e6-440f-abda-7146cd659591",
   "metadata": {},
   "outputs": [],
   "source": [
    "pivot_number_vmail_messages_churn = pd.pivot_table(telcom_data_df, \n",
    "                                 values=['number_vmail_messages'], \n",
    "                                 index=['churn'], \n",
    "                                 aggfunc={'number_vmail_messages': 'mean'})\n",
    "\n",
    "print(pivot_number_vmail_messages_churn)"
   ]
  },
  {
   "cell_type": "code",
   "execution_count": null,
   "id": "0ce99b66-4c9b-426c-a48f-28f94a004efc",
   "metadata": {},
   "outputs": [],
   "source": [
    "# Create the plot\n",
    "plt.figure(figsize=(10, 6))\n",
    "pivot_age_churn.plot(kind='bar')\n",
    "\n",
    "# Customize the plot\n",
    "plt.title('Average age by Churn Status')\n",
    "plt.xlabel('Churn Status')\n",
    "plt.ylabel('Average_number')\n",
    "\n",
    "# Add value labels on top of each bar\n",
    "for i, v in enumerate(pivot_age_churn['age']):\n",
    "    plt.text(i, v, f'{v:.2f}', ha='center', va='bottom' if v > 0 else 'top')\n",
    "\n",
    "# Display the plot\n",
    "plt.tight_layout()\n",
    "plt.show()"
   ]
  },
  {
   "cell_type": "code",
   "execution_count": null,
   "id": "a6bfd920-630b-4422-ad86-c9be9ba3dc63",
   "metadata": {},
   "outputs": [],
   "source": [
    "# Create the plot\n",
    "plt.figure(figsize=(10, 6))\n",
    "pivot_total_minutes_churn.plot(kind='bar')\n",
    "\n",
    "# Customize the plot\n",
    "plt.title('Average Total Day Minutes by Churn Status')\n",
    "plt.xlabel('Churn Status')\n",
    "plt.ylabel('Average Total Day Minutes')\n",
    "\n",
    "# Add value labels on top of each bar\n",
    "for i, v in enumerate(pivot_total_minutes_churn['total_day_minutes']):\n",
    "    plt.text(i, v, f'{v:.2f}', ha='center', va='bottom' if v > 0 else 'top')\n",
    "\n",
    "# Display the plot\n",
    "plt.tight_layout()\n",
    "plt.show()"
   ]
  },
  {
   "cell_type": "code",
   "execution_count": null,
   "id": "df68a309-1fb2-4061-923b-5ab0e38270f2",
   "metadata": {},
   "outputs": [],
   "source": []
  }
 ],
 "metadata": {
  "kernelspec": {
   "display_name": "Python 3 (ipykernel)",
   "language": "python",
   "name": "python3"
  },
  "language_info": {
   "codemirror_mode": {
    "name": "ipython",
    "version": 3
   },
   "file_extension": ".py",
   "mimetype": "text/x-python",
   "name": "python",
   "nbconvert_exporter": "python",
   "pygments_lexer": "ipython3",
   "version": "3.11.7"
  }
 },
 "nbformat": 4,
 "nbformat_minor": 5
}
