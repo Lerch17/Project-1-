{
 "cells": [
  {
   "cell_type": "code",
   "execution_count": 2,
   "metadata": {},
   "outputs": [],
   "source": [
    "import numpy as np\n",
    "import pandas as pd\n",
    "from pathlib import Path"
   ]
  },
  {
   "cell_type": "code",
   "execution_count": 4,
   "metadata": {},
   "outputs": [],
   "source": [
    "# using Path import the data\n",
    "# test_df = pd.read_csv(Path('test.csv'))\n",
    "# sample_df = pd.read_csv(Path('sampleSubmission.csv'))\n",
    "# train_df = pd.read_csv(Path('train.csv'))"
   ]
  },
  {
   "cell_type": "markdown",
   "metadata": {},
   "source": [
    "# Telcom Churn Data Import"
   ]
  },
  {
   "cell_type": "code",
   "execution_count": 18,
   "metadata": {},
   "outputs": [
    {
     "data": {
      "text/html": [
       "<div>\n",
       "<style scoped>\n",
       "    .dataframe tbody tr th:only-of-type {\n",
       "        vertical-align: middle;\n",
       "    }\n",
       "\n",
       "    .dataframe tbody tr th {\n",
       "        vertical-align: top;\n",
       "    }\n",
       "\n",
       "    .dataframe thead th {\n",
       "        text-align: right;\n",
       "    }\n",
       "</style>\n",
       "<table border=\"1\" class=\"dataframe\">\n",
       "  <thead>\n",
       "    <tr style=\"text-align: right;\">\n",
       "      <th></th>\n",
       "      <th>state</th>\n",
       "      <th>age</th>\n",
       "      <th>area_code</th>\n",
       "      <th>voice_mail_plan</th>\n",
       "      <th>number_vmail_messages</th>\n",
       "      <th>total_day_minutes</th>\n",
       "      <th>total_day_calls</th>\n",
       "      <th>total_day_charge</th>\n",
       "      <th>number_customer_service_calls</th>\n",
       "      <th>churn</th>\n",
       "    </tr>\n",
       "  </thead>\n",
       "  <tbody>\n",
       "    <tr>\n",
       "      <th>0</th>\n",
       "      <td>OH</td>\n",
       "      <td>42</td>\n",
       "      <td>area_code_415</td>\n",
       "      <td>1</td>\n",
       "      <td>26</td>\n",
       "      <td>161.6</td>\n",
       "      <td>123</td>\n",
       "      <td>27.47</td>\n",
       "      <td>1</td>\n",
       "      <td>no</td>\n",
       "    </tr>\n",
       "    <tr>\n",
       "      <th>1</th>\n",
       "      <td>NJ</td>\n",
       "      <td>36</td>\n",
       "      <td>area_code_415</td>\n",
       "      <td>0</td>\n",
       "      <td>0</td>\n",
       "      <td>243.4</td>\n",
       "      <td>114</td>\n",
       "      <td>41.38</td>\n",
       "      <td>0</td>\n",
       "      <td>no</td>\n",
       "    </tr>\n",
       "    <tr>\n",
       "      <th>2</th>\n",
       "      <td>OH</td>\n",
       "      <td>39</td>\n",
       "      <td>area_code_408</td>\n",
       "      <td>0</td>\n",
       "      <td>0</td>\n",
       "      <td>299.4</td>\n",
       "      <td>71</td>\n",
       "      <td>50.90</td>\n",
       "      <td>2</td>\n",
       "      <td>no</td>\n",
       "    </tr>\n",
       "    <tr>\n",
       "      <th>3</th>\n",
       "      <td>OK</td>\n",
       "      <td>41</td>\n",
       "      <td>area_code_415</td>\n",
       "      <td>0</td>\n",
       "      <td>0</td>\n",
       "      <td>166.7</td>\n",
       "      <td>113</td>\n",
       "      <td>28.34</td>\n",
       "      <td>3</td>\n",
       "      <td>no</td>\n",
       "    </tr>\n",
       "    <tr>\n",
       "      <th>4</th>\n",
       "      <td>MA</td>\n",
       "      <td>34</td>\n",
       "      <td>area_code_510</td>\n",
       "      <td>1</td>\n",
       "      <td>24</td>\n",
       "      <td>218.2</td>\n",
       "      <td>88</td>\n",
       "      <td>37.09</td>\n",
       "      <td>3</td>\n",
       "      <td>no</td>\n",
       "    </tr>\n",
       "  </tbody>\n",
       "</table>\n",
       "</div>"
      ],
      "text/plain": [
       "  state  age      area_code  voice_mail_plan  number_vmail_messages  \\\n",
       "0    OH   42  area_code_415                1                     26   \n",
       "1    NJ   36  area_code_415                0                      0   \n",
       "2    OH   39  area_code_408                0                      0   \n",
       "3    OK   41  area_code_415                0                      0   \n",
       "4    MA   34  area_code_510                1                     24   \n",
       "\n",
       "   total_day_minutes  total_day_calls  total_day_charge  \\\n",
       "0              161.6              123             27.47   \n",
       "1              243.4              114             41.38   \n",
       "2              299.4               71             50.90   \n",
       "3              166.7              113             28.34   \n",
       "4              218.2               88             37.09   \n",
       "\n",
       "   number_customer_service_calls churn  \n",
       "0                              1    no  \n",
       "1                              0    no  \n",
       "2                              2    no  \n",
       "3                              3    no  \n",
       "4                              3    no  "
      ]
     },
     "execution_count": 18,
     "metadata": {},
     "output_type": "execute_result"
    }
   ],
   "source": [
    "# import the telcom churn csv data\n",
    "telcom_data_df = pd.read_excel(Path('resources/telcom_customer_data.xlsx'))\n",
    "telcom_data_df.shape # (4250, 10)\n",
    "telcom_data_df.head()"
   ]
  },
  {
   "cell_type": "code",
   "execution_count": 27,
   "metadata": {},
   "outputs": [
    {
     "name": "stderr",
     "output_type": "stream",
     "text": [
      "/var/folders/lm/m30l6sjs0t313txr8qlsj2480000gn/T/ipykernel_57277/386215360.py:4: FutureWarning: Downcasting behavior in `replace` is deprecated and will be removed in a future version. To retain the old behavior, explicitly call `result.infer_objects(copy=False)`. To opt-in to the future behavior, set `pd.set_option('future.no_silent_downcasting', True)`\n",
      "  telcom_data_df['churn'] = telcom_data_df['churn'].replace({'yes': 1, 'no': 0})\n"
     ]
    },
    {
     "data": {
      "text/html": [
       "<div>\n",
       "<style scoped>\n",
       "    .dataframe tbody tr th:only-of-type {\n",
       "        vertical-align: middle;\n",
       "    }\n",
       "\n",
       "    .dataframe tbody tr th {\n",
       "        vertical-align: top;\n",
       "    }\n",
       "\n",
       "    .dataframe thead th {\n",
       "        text-align: right;\n",
       "    }\n",
       "</style>\n",
       "<table border=\"1\" class=\"dataframe\">\n",
       "  <thead>\n",
       "    <tr style=\"text-align: right;\">\n",
       "      <th></th>\n",
       "      <th>state</th>\n",
       "      <th>age</th>\n",
       "      <th>area_code</th>\n",
       "      <th>voice_mail_plan</th>\n",
       "      <th>number_vmail_messages</th>\n",
       "      <th>total_day_minutes</th>\n",
       "      <th>total_day_calls</th>\n",
       "      <th>total_day_charge</th>\n",
       "      <th>number_customer_service_calls</th>\n",
       "      <th>churn</th>\n",
       "    </tr>\n",
       "  </thead>\n",
       "  <tbody>\n",
       "    <tr>\n",
       "      <th>0</th>\n",
       "      <td>OH</td>\n",
       "      <td>42</td>\n",
       "      <td>415</td>\n",
       "      <td>1</td>\n",
       "      <td>26</td>\n",
       "      <td>161.6</td>\n",
       "      <td>123</td>\n",
       "      <td>27.47</td>\n",
       "      <td>1</td>\n",
       "      <td>0</td>\n",
       "    </tr>\n",
       "    <tr>\n",
       "      <th>1</th>\n",
       "      <td>NJ</td>\n",
       "      <td>36</td>\n",
       "      <td>415</td>\n",
       "      <td>0</td>\n",
       "      <td>0</td>\n",
       "      <td>243.4</td>\n",
       "      <td>114</td>\n",
       "      <td>41.38</td>\n",
       "      <td>0</td>\n",
       "      <td>0</td>\n",
       "    </tr>\n",
       "    <tr>\n",
       "      <th>2</th>\n",
       "      <td>OH</td>\n",
       "      <td>39</td>\n",
       "      <td>408</td>\n",
       "      <td>0</td>\n",
       "      <td>0</td>\n",
       "      <td>299.4</td>\n",
       "      <td>71</td>\n",
       "      <td>50.90</td>\n",
       "      <td>2</td>\n",
       "      <td>0</td>\n",
       "    </tr>\n",
       "    <tr>\n",
       "      <th>3</th>\n",
       "      <td>OK</td>\n",
       "      <td>41</td>\n",
       "      <td>415</td>\n",
       "      <td>0</td>\n",
       "      <td>0</td>\n",
       "      <td>166.7</td>\n",
       "      <td>113</td>\n",
       "      <td>28.34</td>\n",
       "      <td>3</td>\n",
       "      <td>0</td>\n",
       "    </tr>\n",
       "    <tr>\n",
       "      <th>4</th>\n",
       "      <td>MA</td>\n",
       "      <td>34</td>\n",
       "      <td>510</td>\n",
       "      <td>1</td>\n",
       "      <td>24</td>\n",
       "      <td>218.2</td>\n",
       "      <td>88</td>\n",
       "      <td>37.09</td>\n",
       "      <td>3</td>\n",
       "      <td>0</td>\n",
       "    </tr>\n",
       "  </tbody>\n",
       "</table>\n",
       "</div>"
      ],
      "text/plain": [
       "  state  age area_code  voice_mail_plan  number_vmail_messages  \\\n",
       "0    OH   42       415                1                     26   \n",
       "1    NJ   36       415                0                      0   \n",
       "2    OH   39       408                0                      0   \n",
       "3    OK   41       415                0                      0   \n",
       "4    MA   34       510                1                     24   \n",
       "\n",
       "   total_day_minutes  total_day_calls  total_day_charge  \\\n",
       "0              161.6              123             27.47   \n",
       "1              243.4              114             41.38   \n",
       "2              299.4               71             50.90   \n",
       "3              166.7              113             28.34   \n",
       "4              218.2               88             37.09   \n",
       "\n",
       "   number_customer_service_calls  churn  \n",
       "0                              1      0  \n",
       "1                              0      0  \n",
       "2                              2      0  \n",
       "3                              3      0  \n",
       "4                              3      0  "
      ]
     },
     "execution_count": 27,
     "metadata": {},
     "output_type": "execute_result"
    }
   ],
   "source": [
    "# Modify the area_code column by removing the \"area_code_\" part of the string from every entry.\n",
    "telcom_data_df['area_code'] = telcom_data_df['area_code'].str.replace('area_code_', '')\n",
    "# Modify the churn column by replacing the \"yes\" with a 1 and \"no\" with a 0.\n",
    "telcom_data_df['churn'] = telcom_data_df['churn'].replace({'yes': 1, 'no': 0})\n",
    "telcom_data_df.head()"
   ]
  },
  {
   "cell_type": "markdown",
   "metadata": {},
   "source": [
    "Now that the churn column contains numerical values, we can calculate the churn rate. It’s a business metric that gives us the percentage of people who stopped using the product during a given time period. We can calculate this metric for our data as follows:\n",
    "\n",
    " $$Churn Rate = (churned / total customers) ∗ 100$$\n",
    "Please note that all our rows correspond to customer data from the same time period. The formula above reflects that as well.\n",
    "\n",
    "The above metric can present us with a good overview of the percentage of user churn. As a business, of course, the goal is to minimize churn.\n",
    "\n",
    "Instructions\n",
    "In an empty cell, calculate the churn rate.\n",
    "In a Text Box, briefly describe whether you think the churn rate is high or not.\n",
    "Keep in mind that different industries have different average churn rates.\n",
    "We encourage you to look up articles or reports online that can help you interpret your calculated churn rate."
   ]
  },
  {
   "cell_type": "code",
   "execution_count": 31,
   "metadata": {},
   "outputs": [
    {
     "data": {
      "text/plain": [
       "14.070588235294117"
      ]
     },
     "execution_count": 31,
     "metadata": {},
     "output_type": "execute_result"
    }
   ],
   "source": [
    "# In an empty cell, calculate the churn rate.\n",
    "churn_rate = telcom_data_df['churn'].value_counts()[1] / telcom_data_df['churn'].count()\n",
    "\n",
    "# convert to percentage\n",
    "churn_rate = churn_rate * 100\n",
    "churn_rate"
   ]
  },
  {
   "cell_type": "markdown",
   "metadata": {},
   "source": [
    "# Initial EDA\n",
    "\n",
    "### The overall churn rate is about ~14%.\n",
    "\n",
    "We will now calculate some descriptive statistics and start investigating the types of customers who churn.\n",
    "\n",
    "Let's start with using the COUNTBLANK function to check if there are any missing values in our data. Since we are working with an already-cleaned dataset, there should be no missing values. However, it’s always a good idea to check for them when working with any dataset."
   ]
  },
  {
   "cell_type": "code",
   "execution_count": null,
   "metadata": {},
   "outputs": [],
   "source": [
    "# In a Text Box, briefly describe whether you think the churn rate is high or not.\n",
    "# Keep in mind that different industries have different average churn rates.\n",
    "# We encourage you to look up articles or reports online that can help you interpret your calculated churn rate."
   ]
  },
  {
   "cell_type": "markdown",
   "metadata": {},
   "source": [
    "## Initial Data Exploration\n",
    "\n",
    "### Instructions\n",
    "\n",
    "1. **Copy and paste all of the numerical columns from the telco_churn sheet to a new sheet.**\n",
    "\n",
    "2. **For each column, calculate the following using Excel functions:**\n",
    "   - Number of NULL or blank values\n",
    "   - The mean of the column\n",
    "   - The median of the column\n",
    "   - The standard deviation of the column\n",
    "   - The minimum value of the column\n",
    "   - The maximum value of the column\n",
    "\n",
    "3. **Using these calculated values, create a separate table in the same sheet with the following:**\n",
    "   - The column names are the names of the columns from the dataset.\n",
    "   - Each row has a label corresponding to the statistic calculated in the previous step.\n",
    "\n",
    "4. **Insert a Text Box underneath the table, and add answers to the following questions:**\n",
    "   - Which columns have the most variation?\n",
    "   - Which columns have the largest difference between their mean and median values?\n",
    "   - What does the above indicate?"
   ]
  },
  {
   "cell_type": "code",
   "execution_count": null,
   "metadata": {},
   "outputs": [],
   "source": []
  },
  {
   "cell_type": "code",
   "execution_count": null,
   "metadata": {},
   "outputs": [],
   "source": []
  },
  {
   "cell_type": "code",
   "execution_count": null,
   "metadata": {},
   "outputs": [],
   "source": []
  },
  {
   "cell_type": "code",
   "execution_count": null,
   "metadata": {},
   "outputs": [],
   "source": []
  },
  {
   "cell_type": "markdown",
   "metadata": {},
   "source": [
    "## Exploring Data Grouped by State and Churn\n",
    "\n",
    "### Learn\n",
    "\n",
    "In the previous step, you discovered the following:\n",
    "\n",
    "- `churn` and `voice_mail_plan` are qualitative variables, so their corresponding descriptive statistics aren’t particularly helpful.\n",
    "- For most variables, the mean and the median are quite similar except for `number_vmail_messages`.\n",
    "- Some columns, like `total_day_calls` and `total_day_minutes`, have high variance.\n",
    "- When considered independently, these variables don’t help us draw any further conclusions.\n",
    "\n",
    "Let’s look at summary statistics by different segments to see if we can gather additional insights.\n",
    "\n",
    "### Instructions\n",
    "\n",
    "1. **In a new sheet, create a PivotTable grouping the data.**\n",
    "\n",
    "2. **Add `state` and then `churn` as Rows to the PivotTable Fields.**\n",
    "\n",
    "3. **Add the following as Values to the PivotTable Fields:**\n",
    "   - Average of `age`\n",
    "   - Sum of `voice_mail_plan`\n",
    "   - Sum of `number_vmail_messages`\n",
    "   - Average of `total_day_minutes`\n",
    "   - Count of `total_day_calls`\n",
    "   - Sum of `number_customer_service_calls`\n",
    "   - `Churn rate`\n",
    "\n",
    "4. **If necessary, rename any column of the above PivotTable to make it easier to reference later.**\n",
    "\n",
    "5. **Sort the above PivotTable by the “Churn rate” value in descending order.**\n",
    "\n",
    "6. **For the five states with the highest churn rate, compare the values corresponding to customers who have churned vs. those who haven’t.**\n",
    "\n",
    "7. **In a Text Box, briefly describe any patterns you notice between the values and the customers who churned in these five states.**\n",
    "   - For example, do churned customers in these states make more calls than those who didn't churn?\n",
    "\n",
    "8. **[Optional] Explore the above using the remaining columns.**\n",
    "\n",
    "9. **[Optional] Explore and identify patterns by grouping the data by `area_code` and `churn`.**"
   ]
  },
  {
   "cell_type": "code",
   "execution_count": null,
   "metadata": {},
   "outputs": [],
   "source": []
  },
  {
   "cell_type": "code",
   "execution_count": null,
   "metadata": {},
   "outputs": [],
   "source": []
  },
  {
   "cell_type": "code",
   "execution_count": null,
   "metadata": {},
   "outputs": [],
   "source": []
  },
  {
   "cell_type": "code",
   "execution_count": null,
   "metadata": {},
   "outputs": [],
   "source": []
  },
  {
   "cell_type": "code",
   "execution_count": null,
   "metadata": {},
   "outputs": [],
   "source": []
  },
  {
   "cell_type": "code",
   "execution_count": null,
   "metadata": {},
   "outputs": [],
   "source": []
  },
  {
   "cell_type": "code",
   "execution_count": null,
   "metadata": {},
   "outputs": [],
   "source": []
  },
  {
   "cell_type": "code",
   "execution_count": null,
   "metadata": {},
   "outputs": [],
   "source": []
  },
  {
   "cell_type": "code",
   "execution_count": null,
   "metadata": {},
   "outputs": [],
   "source": []
  },
  {
   "cell_type": "markdown",
   "metadata": {},
   "source": [
    "### Exploring Data Grouped by `voice_mail_plan` and `churn`\n",
    "\n",
    "### Learn\n",
    "\n",
    "In the PivotTable you created, you might have discovered that New Jersey (NJ) contributes the most to churn with 4.35% of all churned customers. You might also have noticed upon further exploration that those who churn have the following characteristics:\n",
    "\n",
    "- Younger than people who didn't churn\n",
    "- Make fewer daily calls\n",
    "- Are being charged more per day\n",
    "\n",
    "You can see there is a pattern emerging as we explore the data, and you might find more! If you didn’t discover much so far, don’t worry! We will continue to dig deeper.\n",
    "\n",
    "Next, we will group our data by the `voice_mail_plan` field.\n",
    "\n",
    "### Instructions\n",
    "\n",
    "1. **In a new sheet, create a PivotTable grouping the data.**\n",
    "\n",
    "2. **Add `voice_mail_plan` and then `churn` as Rows to the PivotTable Fields.**\n",
    "\n",
    "3. **Add the following as Values:**\n",
    "   - Average of `age`\n",
    "   - Sum of `number_vmail_messages`\n",
    "   - Sum of `total_day_minutes`\n",
    "   - Average of `total_day_charge`\n",
    "   - `Churn rate`\n",
    "\n",
    "4. **If necessary, rename any column of the above PivotTable to make it easier to reference later.**\n",
    "\n",
    "5. **In a Text Box, briefly describe any patterns you notice between the values and the customers who churned.**\n",
    "   - For example, you might notice a couple of 0s when you sum the `number_vmail_messages` column. Why do you think the sum would be 0?\n",
    "   - Feel free to point out any other interesting patterns you notice in the PivotTable.\n",
    "\n",
    "6. **[Optional] Explore the above using the remaining columns.**"
   ]
  },
  {
   "cell_type": "code",
   "execution_count": null,
   "metadata": {},
   "outputs": [],
   "source": []
  },
  {
   "cell_type": "code",
   "execution_count": null,
   "metadata": {},
   "outputs": [],
   "source": []
  },
  {
   "cell_type": "code",
   "execution_count": null,
   "metadata": {},
   "outputs": [],
   "source": []
  },
  {
   "cell_type": "code",
   "execution_count": null,
   "metadata": {},
   "outputs": [],
   "source": []
  },
  {
   "cell_type": "code",
   "execution_count": null,
   "metadata": {},
   "outputs": [],
   "source": []
  },
  {
   "cell_type": "code",
   "execution_count": null,
   "metadata": {},
   "outputs": [],
   "source": []
  },
  {
   "cell_type": "markdown",
   "metadata": {},
   "source": [
    "### Analyzing Frequency Distributions\n",
    "\n",
    "### Learn\n",
    "\n",
    "In the previous step, we discovered that 86.3% of people who churned didn't have a voicemail plan. For that segment, we can also see that they have the following characteristics:\n",
    "\n",
    "- Younger than those who didn't churn\n",
    "- Spend relatively less time on calls\n",
    "- Were spending more per day compared to the ones who didn’t churn and didn’t have a voicemail plan\n",
    "\n",
    "By now, you should have a good idea of what variables to look at to identify relevant patterns.\n",
    "\n",
    "We can now move on to exploring these relationships via appropriate visualizations. We'll first look at the individual distributions of our numerical columns for a broader understanding of our dataset.\n",
    "\n",
    "### Instructions\n",
    "\n",
    "1. **Copy the following numerical columns to a new sheet:**\n",
    "   - `age`\n",
    "   - `number_vmail_messages`\n",
    "   - `total_day_minutes`\n",
    "   - `total_day_calls`\n",
    "   - `total_day_charge`\n",
    "   - `number_service_calls`\n",
    "\n",
    "2. **For each column, create a histogram:**\n",
    "   - Add the appropriate title, axes labels, and legend (if any) to your charts.\n",
    "   - Maximize the data-ink ratio of your charts by removing any chartjunk.\n",
    "\n",
    "3. **For each chart, add a Text Box that briefly describes the chart.**\n",
    "   - For example, for `age`, you can specify the data’s distribution as well as the range within which the majority of the values lie.\n",
    "\n",
    "4. **Compare and contrast your histograms with the mean, median, and standard deviation values that you calculated during your initial EDA.**\n",
    "   - Do those values seem to match?\n",
    "   - [Optional] Or do you think you need to adjust the bins of any particular histogram?\n",
    "   - [Optional] In an empty cell, briefly explain any such observations you make."
   ]
  },
  {
   "cell_type": "code",
   "execution_count": null,
   "metadata": {},
   "outputs": [],
   "source": []
  },
  {
   "cell_type": "code",
   "execution_count": null,
   "metadata": {},
   "outputs": [],
   "source": []
  },
  {
   "cell_type": "code",
   "execution_count": null,
   "metadata": {},
   "outputs": [],
   "source": []
  },
  {
   "cell_type": "code",
   "execution_count": null,
   "metadata": {},
   "outputs": [],
   "source": []
  },
  {
   "cell_type": "markdown",
   "metadata": {},
   "source": []
  },
  {
   "cell_type": "markdown",
   "metadata": {},
   "source": [
    "### Visualizing Data Grouped by State and Churn\n",
    "\n",
    "### Learn\n",
    "\n",
    "Most of the generated histograms were normally distributed, except for a couple of them. The distributions seem to match up with the descriptive statistics that you calculated earlier.\n",
    "\n",
    "In the first PivotTable you created, grouped by state and churn, you might have noticed the difficulty in exploring the data in tabular format. It's often easier to identify certain patterns or explore our data using appropriate visualizations.\n",
    "\n",
    "Continuing from the previous screen, we will create additional visualizations to understand our data better.\n",
    "\n",
    "We will limit the visualizations to the top three states out of the five we identified earlier:\n",
    "\n",
    "- NJ\n",
    "- MN\n",
    "- TX\n",
    "\n",
    "The chart might be too noisy if we use more than three states. However, we recommend you visualize the data for some of the other states as well.\n",
    "\n",
    "### Instructions\n",
    "\n",
    "1. **In a new sheet, create a PivotTable grouping the data.**\n",
    "\n",
    "2. **Add `churn` as Rows, and then `state` as Columns to the PivotTable Fields.**\n",
    "\n",
    "3. **Add the average of `age` as Values.**\n",
    "\n",
    "4. **Filter the table to show only three states, as mentioned above.**\n",
    "   - [Optional] Filter the table by some of the other states.\n",
    "\n",
    "5. **Create a Bar Chart from the above PivotTable.**\n",
    "   - Add the appropriate title, axes labels, and legend (if any) to your chart.\n",
    "   - Maximize the data-ink ratio of your chart by removing any chartjunk.\n",
    "\n",
    "6. **Add some text underneath the chart that briefly describes the chart.**\n",
    "\n",
    "7. **Repeat the above process using the remaining variables in the data.**\n",
    "   - Only use the variables/values that you identified to be relevant to churn during your initial EDA.\n",
    "\n",
    "8. **[Optional] Repeat the above using `area_code` instead of `state`.**"
   ]
  },
  {
   "cell_type": "code",
   "execution_count": null,
   "metadata": {},
   "outputs": [],
   "source": []
  },
  {
   "cell_type": "code",
   "execution_count": null,
   "metadata": {},
   "outputs": [],
   "source": []
  },
  {
   "cell_type": "code",
   "execution_count": null,
   "metadata": {},
   "outputs": [],
   "source": []
  },
  {
   "cell_type": "code",
   "execution_count": null,
   "metadata": {},
   "outputs": [],
   "source": []
  },
  {
   "cell_type": "code",
   "execution_count": null,
   "metadata": {},
   "outputs": [],
   "source": []
  },
  {
   "cell_type": "code",
   "execution_count": null,
   "metadata": {},
   "outputs": [],
   "source": []
  },
  {
   "cell_type": "code",
   "execution_count": null,
   "metadata": {},
   "outputs": [],
   "source": []
  },
  {
   "cell_type": "code",
   "execution_count": null,
   "metadata": {},
   "outputs": [],
   "source": []
  },
  {
   "cell_type": "markdown",
   "metadata": {},
   "source": [
    "### Exploring and Visualizing Data Grouped by Churn\n",
    "\n",
    "### Learn\n",
    "\n",
    "Finally, we'll explore differences in the data by grouping by `churn`.\n",
    "\n",
    "You'll also have the freedom to identify whichever values you want in your PivotTables.\n",
    "\n",
    "### Instructions\n",
    "\n",
    "1. **In a new sheet, create PivotTables grouping the data by `churn`.**\n",
    "\n",
    "2. **Add and explore Values to each PivotTable that you think might be relevant.**\n",
    "   - For example, you can create a PivotTable to look at the average age of customers grouped by `churn`.\n",
    "\n",
    "3. **If necessary, rename columns of the above PivotTables to make them easier to reference later.**\n",
    "\n",
    "4. **For each PivotTable, create a Bar Chart depicting that group’s relationship.**\n",
    "   - Add the appropriate title, axes labels, and legend to your charts.\n",
    "   - Add appropriate Data Labels to each chart.\n",
    "   - Maximize the data-ink ratio of your charts by removing any chartjunk.\n",
    "\n",
    "5. **Add a brief description underneath each chart that explains the relationship between the `churn` and the corresponding variable.**\n",
    "\n",
    "6. **Do you observe any patterns that either contradict a previous discovery or weren't apparent before?**\n"
   ]
  },
  {
   "cell_type": "code",
   "execution_count": null,
   "metadata": {},
   "outputs": [],
   "source": []
  },
  {
   "cell_type": "code",
   "execution_count": null,
   "metadata": {},
   "outputs": [],
   "source": []
  },
  {
   "cell_type": "code",
   "execution_count": null,
   "metadata": {},
   "outputs": [],
   "source": []
  },
  {
   "cell_type": "code",
   "execution_count": null,
   "metadata": {},
   "outputs": [],
   "source": []
  },
  {
   "cell_type": "code",
   "execution_count": null,
   "metadata": {},
   "outputs": [],
   "source": []
  },
  {
   "cell_type": "code",
   "execution_count": null,
   "metadata": {},
   "outputs": [],
   "source": []
  },
  {
   "cell_type": "markdown",
   "metadata": {},
   "source": [
    "### Final Report\n",
    "\n",
    "### Learn\n",
    "\n",
    "Excellent work on making it to the end of this project! You applied a variety of data exploration skills to explore and analyze a real-world dataset. There’s one final task remaining.\n",
    "\n",
    "As an analyst, you will often communicate results to stakeholders. One of the project's goals was to create a customer profile that helps identify who would be likely to churn. Next, you will consolidate all the important and relevant insights you have discovered.\n",
    "\n",
    "Communicating your results can often be more important than the exploration. Those results help make data-driven decisions that can positively affect both the business and customers. Plus, it adds great value to your portfolio!\n",
    "\n",
    "### Instructions\n",
    "\n",
    "1. **At the front of your workbook, create a new sheet, and rename it to `Report`.**\n",
    "\n",
    "2. **Inside this sheet, do the following:**\n",
    "   - Copy over two to five tables that contain information most relevant to the customer profile you have identified.\n",
    "   - Underneath each table, briefly describe the table.\n",
    "   - If necessary, highlight the relevant data in the table using accessible colors.\n",
    "   - Copy over five to ten visualizations that you think best help explain the identified profile.\n",
    "   - Make sure each chart has an associated description pointing out its relevance.\n",
    "\n",
    "3. **[Optional] In a Text Box, add your recommendation(s) for what the telecommunication provider could focus on to decrease churn for those customers.**\n",
    "\n",
    "   - This is to only help you better connect your EDA with business needs. It is a very valuable skill to have.\n"
   ]
  },
  {
   "cell_type": "code",
   "execution_count": null,
   "metadata": {},
   "outputs": [],
   "source": []
  },
  {
   "cell_type": "code",
   "execution_count": null,
   "metadata": {},
   "outputs": [],
   "source": []
  },
  {
   "cell_type": "code",
   "execution_count": null,
   "metadata": {},
   "outputs": [],
   "source": []
  },
  {
   "cell_type": "markdown",
   "metadata": {},
   "source": [
    "## Summary\n",
    "\n",
    "In this project, we applied a variety of data exploration and analysis techniques to profile customers who churned. While this project would be a great addition to your portfolio, there's more that you can do to improve your skills.\n",
    "\n",
    "As you know, we modified the original dataset for this project. It has many more variables you could use to improve your analysis and generate better insights to identify customers who are likely to churn:\n",
    "\n",
    "- Do customers spend more time on calls during the day or during the night? How do both relate to churn?\n",
    "- Are customers who have both the voicemail and the international plan more likely to churn because they are being charged too much?\n",
    "- How do the number of months the customer has been with a provider affect their likelihood to churn in relation to other variables?\n",
    "\n",
    "Adding more data to the mix can definitely be a daunting task. Even though more data might not help improve the analysis, you can still get some good practice. So, proceed at your own pace, but definitely aim to extend your analysis even if it's with just one more variable.\n",
    "\n",
    "If you'd like to see what kind of EDA your fellow learners carried out on this project, head over to our Community! You might discover an insight you missed. Or, your feedback could help someone else learn something new. While there, you should share your own project with everyone as well!"
   ]
  },
  {
   "cell_type": "markdown",
   "metadata": {},
   "source": []
  }
 ],
 "metadata": {
  "kernelspec": {
   "display_name": "base",
   "language": "python",
   "name": "python3"
  },
  "language_info": {
   "codemirror_mode": {
    "name": "ipython",
    "version": 3
   },
   "file_extension": ".py",
   "mimetype": "text/x-python",
   "name": "python",
   "nbconvert_exporter": "python",
   "pygments_lexer": "ipython3",
   "version": "3.12.4"
  }
 },
 "nbformat": 4,
 "nbformat_minor": 2
}
